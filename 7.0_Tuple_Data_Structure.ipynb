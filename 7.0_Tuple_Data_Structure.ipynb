{
 "cells": [
  {
   "cell_type": "code",
   "execution_count": 3,
   "id": "8b259786-a023-4c69-ae2b-541ab02472ee",
   "metadata": {},
   "outputs": [
    {
     "data": {
      "text/plain": [
       "(10, 20, 30, 40, 50)"
      ]
     },
     "execution_count": 3,
     "metadata": {},
     "output_type": "execute_result"
    }
   ],
   "source": [
    "t1=(10,20,30,40,50)\n",
    "t1"
   ]
  },
  {
   "cell_type": "code",
   "execution_count": 4,
   "id": "ff44c2b6-d9da-4bbc-bb55-107e17287baa",
   "metadata": {},
   "outputs": [
    {
     "data": {
      "text/plain": [
       "tuple"
      ]
     },
     "execution_count": 4,
     "metadata": {},
     "output_type": "execute_result"
    }
   ],
   "source": [
    "type(t1)"
   ]
  },
  {
   "cell_type": "code",
   "execution_count": 5,
   "id": "0950337e-b692-4d6d-9ce4-d835bce79424",
   "metadata": {},
   "outputs": [
    {
     "data": {
      "text/plain": [
       "tuple"
      ]
     },
     "execution_count": 5,
     "metadata": {},
     "output_type": "execute_result"
    }
   ],
   "source": [
    "t=(10,)\n",
    "type(t)"
   ]
  },
  {
   "cell_type": "code",
   "execution_count": 7,
   "id": "1c3fc556-b89f-4721-8732-ad6fcc3ff215",
   "metadata": {},
   "outputs": [
    {
     "data": {
      "text/plain": [
       "(15,)"
      ]
     },
     "execution_count": 7,
     "metadata": {},
     "output_type": "execute_result"
    }
   ],
   "source": [
    "t2=(15,)\n",
    "t2"
   ]
  },
  {
   "cell_type": "code",
   "execution_count": 11,
   "id": "559d5680-6ea5-4880-b9c3-41274a413072",
   "metadata": {},
   "outputs": [
    {
     "name": "stdout",
     "output_type": "stream",
     "text": [
      "20\n",
      "(50, 70)\n"
     ]
    },
    {
     "data": {
      "text/plain": [
       "tuple"
      ]
     },
     "execution_count": 11,
     "metadata": {},
     "output_type": "execute_result"
    }
   ],
   "source": [
    "t3=(20,40,50,70,90)\n",
    "print(t3[0])\n",
    "print(t3[2:4])\n",
    "type(t3)"
   ]
  },
  {
   "cell_type": "code",
   "execution_count": 13,
   "id": "ea88e87b-d578-4e4f-b0a7-151a03b8e6f1",
   "metadata": {},
   "outputs": [
    {
     "ename": "TypeError",
     "evalue": "'tuple' object does not support item assignment",
     "output_type": "error",
     "traceback": [
      "\u001b[1;31m---------------------------------------------------------------------------\u001b[0m",
      "\u001b[1;31mTypeError\u001b[0m                                 Traceback (most recent call last)",
      "Cell \u001b[1;32mIn[13], line 2\u001b[0m\n\u001b[0;32m      1\u001b[0m t4\u001b[38;5;241m=\u001b[39m(\u001b[38;5;241m56\u001b[39m,\u001b[38;5;241m84\u001b[39m,\u001b[38;5;241m62\u001b[39m)\n\u001b[1;32m----> 2\u001b[0m \u001b[43mt4\u001b[49m\u001b[43m[\u001b[49m\u001b[38;5;241;43m0\u001b[39;49m\u001b[43m]\u001b[49m\u001b[38;5;241m=\u001b[39m\u001b[38;5;241m34\u001b[39m\n\u001b[0;32m      3\u001b[0m \u001b[38;5;28mtype\u001b[39m(t4)\n",
      "\u001b[1;31mTypeError\u001b[0m: 'tuple' object does not support item assignment"
     ]
    }
   ],
   "source": [
    "t4=(56,84,62)\n",
    "t4[0]=34\n",
    "type(t4)"
   ]
  },
  {
   "cell_type": "code",
   "execution_count": 14,
   "id": "377f4a40-a347-41bf-958a-609af8077aef",
   "metadata": {},
   "outputs": [
    {
     "data": {
      "text/plain": [
       "(4, 6, 7, 7, 3, 2)"
      ]
     },
     "execution_count": 14,
     "metadata": {},
     "output_type": "execute_result"
    }
   ],
   "source": [
    "t5=(4,6,7)\n",
    "t6=(7,3,2)\n",
    "t5+t6"
   ]
  },
  {
   "cell_type": "code",
   "execution_count": 15,
   "id": "b9a3c97d-b0f7-4abd-bfe5-8034ff1aec5c",
   "metadata": {},
   "outputs": [
    {
     "data": {
      "text/plain": [
       "(4, 5, 6, 4, 5, 6, 4, 5, 6)"
      ]
     },
     "execution_count": 15,
     "metadata": {},
     "output_type": "execute_result"
    }
   ],
   "source": [
    "t7=(4,5,6)\n",
    "t7*3"
   ]
  },
  {
   "cell_type": "code",
   "execution_count": 17,
   "id": "7bebb1d1-a27f-45ee-927f-e7d63bcdd710",
   "metadata": {},
   "outputs": [
    {
     "name": "stdout",
     "output_type": "stream",
     "text": [
      "6\n",
      "2\n",
      "4\n"
     ]
    }
   ],
   "source": [
    "t8=(39,56,3,3,7,9)\n",
    "print(len(t8))\n",
    "print(t8.count(3))\n",
    "print(t8.index(7))"
   ]
  },
  {
   "cell_type": "code",
   "execution_count": 20,
   "id": "ce42aa1d-512d-4768-b0ba-77bc69aa5d24",
   "metadata": {},
   "outputs": [
    {
     "name": "stdout",
     "output_type": "stream",
     "text": [
      "[18, 25, 34, 74]\n",
      "(34, 25, 74, 18)\n"
     ]
    }
   ],
   "source": [
    "t9=(34,25,74,18)\n",
    "print(sorted(t9))\n",
    "print(t9)"
   ]
  },
  {
   "cell_type": "code",
   "execution_count": 21,
   "id": "731be4e1-7862-4ee3-9cec-4965b60cb632",
   "metadata": {},
   "outputs": [
    {
     "name": "stdout",
     "output_type": "stream",
     "text": [
      "(20, 30, 40)\n"
     ]
    }
   ],
   "source": [
    "a=20\n",
    "b=30\n",
    "c=40\n",
    "t10=a,b,c\n",
    "print(t10)"
   ]
  },
  {
   "cell_type": "code",
   "execution_count": 23,
   "id": "8c069dc6-c2ca-4aa5-847b-d25c877d96c6",
   "metadata": {},
   "outputs": [
    {
     "name": "stdout",
     "output_type": "stream",
     "text": [
      "a= 2 b= 5 c= 7 d= 8\n"
     ]
    }
   ],
   "source": [
    "t11=(2,5,7,8)\n",
    "a,b,c,d=t11\n",
    "print(\"a=\",a,\"b=\",b,\"c=\",c,\"d=\",d)"
   ]
  },
  {
   "cell_type": "code",
   "execution_count": 24,
   "id": "da03a43d-59ae-434b-bd33-662f30266bcd",
   "metadata": {},
   "outputs": [
    {
     "name": "stdout",
     "output_type": "stream",
     "text": [
      "<generator object <genexpr> at 0x000001DBABDE5630>\n"
     ]
    }
   ],
   "source": [
    "t12=(x*2 for x in range(5,10))\n",
    "print(t12)"
   ]
  },
  {
   "cell_type": "code",
   "execution_count": 25,
   "id": "111576a3-335a-40cc-acc9-a4aae95476c2",
   "metadata": {},
   "outputs": [
    {
     "name": "stdout",
     "output_type": "stream",
     "text": [
      "10\n",
      "12\n",
      "14\n",
      "16\n",
      "18\n"
     ]
    }
   ],
   "source": [
    "for y in t12:\n",
    "    print(y)\n"
   ]
  },
  {
   "cell_type": "code",
   "execution_count": null,
   "id": "0516b747-8c22-4da4-8d79-4e1eece44f8d",
   "metadata": {},
   "outputs": [],
   "source": []
  }
 ],
 "metadata": {
  "kernelspec": {
   "display_name": "Python 3 (ipykernel)",
   "language": "python",
   "name": "python3"
  },
  "language_info": {
   "codemirror_mode": {
    "name": "ipython",
    "version": 3
   },
   "file_extension": ".py",
   "mimetype": "text/x-python",
   "name": "python",
   "nbconvert_exporter": "python",
   "pygments_lexer": "ipython3",
   "version": "3.11.4"
  }
 },
 "nbformat": 4,
 "nbformat_minor": 5
}
