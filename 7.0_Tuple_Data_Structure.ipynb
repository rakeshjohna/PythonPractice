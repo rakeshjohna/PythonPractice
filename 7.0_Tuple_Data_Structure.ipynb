{
 "cells": [
  {
   "cell_type": "code",
   "execution_count": 3,
   "id": "8b259786-a023-4c69-ae2b-541ab02472ee",
   "metadata": {},
   "outputs": [
    {
     "data": {
      "text/plain": [
       "(10, 20, 30, 40, 50)"
      ]
     },
     "execution_count": 3,
     "metadata": {},
     "output_type": "execute_result"
    }
   ],
   "source": [
    "t1=(10,20,30,40,50)\n",
    "t1"
   ]
  },
  {
   "cell_type": "code",
   "execution_count": 4,
   "id": "ff44c2b6-d9da-4bbc-bb55-107e17287baa",
   "metadata": {},
   "outputs": [
    {
     "data": {
      "text/plain": [
       "tuple"
      ]
     },
     "execution_count": 4,
     "metadata": {},
     "output_type": "execute_result"
    }
   ],
   "source": [
    "type(t1)"
   ]
  },
  {
   "cell_type": "code",
   "execution_count": 5,
   "id": "0950337e-b692-4d6d-9ce4-d835bce79424",
   "metadata": {},
   "outputs": [
    {
     "data": {
      "text/plain": [
       "tuple"
      ]
     },
     "execution_count": 5,
     "metadata": {},
     "output_type": "execute_result"
    }
   ],
   "source": [
    "t=(10,)\n",
    "type(t)"
   ]
  },
  {
   "cell_type": "code",
   "execution_count": 7,
   "id": "1c3fc556-b89f-4721-8732-ad6fcc3ff215",
   "metadata": {},
   "outputs": [
    {
     "data": {
      "text/plain": [
       "(15,)"
      ]
     },
     "execution_count": 7,
     "metadata": {},
     "output_type": "execute_result"
    }
   ],
   "source": [
    "t2=(15,)\n",
    "t2"
   ]
  },
  {
   "cell_type": "code",
   "execution_count": 11,
   "id": "559d5680-6ea5-4880-b9c3-41274a413072",
   "metadata": {},
   "outputs": [
    {
     "name": "stdout",
     "output_type": "stream",
     "text": [
      "20\n",
      "(50, 70)\n"
     ]
    },
    {
     "data": {
      "text/plain": [
       "tuple"
      ]
     },
     "execution_count": 11,
     "metadata": {},
     "output_type": "execute_result"
    }
   ],
   "source": [
    "t3=(20,40,50,70,90)\n",
    "print(t3[0])\n",
    "print(t3[2:4])\n",
    "type(t3)"
   ]
  },
  {
   "cell_type": "code",
   "execution_count": 13,
   "id": "ea88e87b-d578-4e4f-b0a7-151a03b8e6f1",
   "metadata": {},
   "outputs": [
    {
     "ename": "TypeError",
     "evalue": "'tuple' object does not support item assignment",
     "output_type": "error",
     "traceback": [
      "\u001b[1;31m---------------------------------------------------------------------------\u001b[0m",
      "\u001b[1;31mTypeError\u001b[0m                                 Traceback (most recent call last)",
      "Cell \u001b[1;32mIn[13], line 2\u001b[0m\n\u001b[0;32m      1\u001b[0m t4\u001b[38;5;241m=\u001b[39m(\u001b[38;5;241m56\u001b[39m,\u001b[38;5;241m84\u001b[39m,\u001b[38;5;241m62\u001b[39m)\n\u001b[1;32m----> 2\u001b[0m \u001b[43mt4\u001b[49m\u001b[43m[\u001b[49m\u001b[38;5;241;43m0\u001b[39;49m\u001b[43m]\u001b[49m\u001b[38;5;241m=\u001b[39m\u001b[38;5;241m34\u001b[39m\n\u001b[0;32m      3\u001b[0m \u001b[38;5;28mtype\u001b[39m(t4)\n",
      "\u001b[1;31mTypeError\u001b[0m: 'tuple' object does not support item assignment"
     ]
    }
   ],
   "source": [
    "t4=(56,84,62)\n",
    "t4[0]=34\n",
    "type(t4)"
   ]
  },
  {
   "cell_type": "code",
   "execution_count": 14,
   "id": "377f4a40-a347-41bf-958a-609af8077aef",
   "metadata": {},
   "outputs": [
    {
     "data": {
      "text/plain": [
       "(4, 6, 7, 7, 3, 2)"
      ]
     },
     "execution_count": 14,
     "metadata": {},
     "output_type": "execute_result"
    }
   ],
   "source": [
    "t5=(4,6,7)\n",
    "t6=(7,3,2)\n",
    "t5+t6"
   ]
  },
  {
   "cell_type": "code",
   "execution_count": 15,
   "id": "b9a3c97d-b0f7-4abd-bfe5-8034ff1aec5c",
   "metadata": {},
   "outputs": [
    {
     "data": {
      "text/plain": [
       "(4, 5, 6, 4, 5, 6, 4, 5, 6)"
      ]
     },
     "execution_count": 15,
     "metadata": {},
     "output_type": "execute_result"
    }
   ],
   "source": [
    "t7=(4,5,6)\n",
    "t7*3"
   ]
  },
  {
   "cell_type": "code",
   "execution_count": 17,
   "id": "7bebb1d1-a27f-45ee-927f-e7d63bcdd710",
   "metadata": {},
   "outputs": [
    {
     "name": "stdout",
     "output_type": "stream",
     "text": [
      "6\n",
      "2\n",
      "4\n"
     ]
    }
   ],
   "source": [
    "t8=(39,56,3,3,7,9)\n",
    "print(len(t8))\n",
    "print(t8.count(3))\n",
    "print(t8.index(7))"
   ]
  },
  {
   "cell_type": "code",
   "execution_count": 20,
   "id": "ce42aa1d-512d-4768-b0ba-77bc69aa5d24",
   "metadata": {},
   "outputs": [
    {
     "name": "stdout",
     "output_type": "stream",
     "text": [
      "[18, 25, 34, 74]\n",
      "(34, 25, 74, 18)\n"
     ]
    }
   ],
   "source": [
    "t9=(34,25,74,18)\n",
    "print(sorted(t9))\n",
    "print(t9)"
   ]
  },
  {
   "cell_type": "code",
   "execution_count": 21,
   "id": "731be4e1-7862-4ee3-9cec-4965b60cb632",
   "metadata": {},
   "outputs": [
    {
     "name": "stdout",
     "output_type": "stream",
     "text": [
      "(20, 30, 40)\n"
     ]
    }
   ],
   "source": [
    "a=20\n",
    "b=30\n",
    "c=40\n",
    "t10=a,b,c\n",
    "print(t10)"
   ]
  },
  {
   "cell_type": "code",
   "execution_count": 23,
   "id": "8c069dc6-c2ca-4aa5-847b-d25c877d96c6",
   "metadata": {},
   "outputs": [
    {
     "name": "stdout",
     "output_type": "stream",
     "text": [
      "a= 2 b= 5 c= 7 d= 8\n"
     ]
    }
   ],
   "source": [
    "t11=(2,5,7,8)\n",
    "a,b,c,d=t11\n",
    "print(\"a=\",a,\"b=\",b,\"c=\",c,\"d=\",d)"
   ]
  },
  {
   "cell_type": "code",
   "execution_count": 24,
   "id": "da03a43d-59ae-434b-bd33-662f30266bcd",
   "metadata": {},
   "outputs": [
    {
     "name": "stdout",
     "output_type": "stream",
     "text": [
      "<generator object <genexpr> at 0x000001DBABDE5630>\n"
     ]
    }
   ],
   "source": [
    "t12=(x*2 for x in range(5,10))\n",
    "print(t12)"
   ]
  },
  {
   "cell_type": "code",
   "execution_count": 25,
   "id": "111576a3-335a-40cc-acc9-a4aae95476c2",
   "metadata": {},
   "outputs": [
    {
     "name": "stdout",
     "output_type": "stream",
     "text": [
      "10\n",
      "12\n",
      "14\n",
      "16\n",
      "18\n"
     ]
    }
   ],
   "source": [
    "for y in t12:\n",
    "    print(y)\n"
   ]
  },
  {
   "cell_type": "markdown",
   "id": "a470acd5-5f04-4833-bd9a-0a2dc3583ec6",
   "metadata": {},
   "source": [
    "W3RESOURCES"
   ]
  },
  {
   "cell_type": "code",
   "execution_count": 1,
   "id": "2314c651-e6a3-461f-9eaf-60c592873400",
   "metadata": {},
   "outputs": [
    {
     "name": "stdout",
     "output_type": "stream",
     "text": [
      "()\n"
     ]
    }
   ],
   "source": [
    "t1=()\n",
    "print(x)"
   ]
  },
  {
   "cell_type": "code",
   "execution_count": 2,
   "id": "f3a2f845-3997-4769-99a1-d834d35a18f4",
   "metadata": {},
   "outputs": [
    {
     "name": "stdout",
     "output_type": "stream",
     "text": [
      "()\n"
     ]
    }
   ],
   "source": [
    "t2=tuple()\n",
    "print(t2)"
   ]
  },
  {
   "cell_type": "code",
   "execution_count": 4,
   "id": "6ffa6218-c49e-49ed-910f-5f7b65ca64f0",
   "metadata": {},
   "outputs": [
    {
     "name": "stdout",
     "output_type": "stream",
     "text": [
      "('rakesh', 2, 3.4, (10+5j), True)\n"
     ]
    }
   ],
   "source": [
    "t3=(\"rakesh\",2,3.4,10+5j,True)\n",
    "print(t3)"
   ]
  },
  {
   "cell_type": "code",
   "execution_count": 5,
   "id": "7e8ca7d1-d9d1-48a5-8c75-cd02aad979b3",
   "metadata": {},
   "outputs": [
    {
     "data": {
      "text/plain": [
       "(5, 10, 15, 20, 25)"
      ]
     },
     "execution_count": 5,
     "metadata": {},
     "output_type": "execute_result"
    }
   ],
   "source": [
    "t4=5,10,15,20,25\n",
    "t4"
   ]
  },
  {
   "cell_type": "code",
   "execution_count": 8,
   "id": "92719aad-caba-4f23-88f5-072863a995da",
   "metadata": {},
   "outputs": [
    {
     "data": {
      "text/plain": [
       "(5,)"
      ]
     },
     "execution_count": 8,
     "metadata": {},
     "output_type": "execute_result"
    }
   ],
   "source": [
    "t5=5,\n",
    "t5"
   ]
  },
  {
   "cell_type": "code",
   "execution_count": 17,
   "id": "0530801b-113e-4e56-8ffa-230d2e1912da",
   "metadata": {},
   "outputs": [
    {
     "name": "stdout",
     "output_type": "stream",
     "text": [
      "(5, 7, 9)\n"
     ]
    }
   ],
   "source": [
    "t6=(5,7,9)\n",
    "print(t6)"
   ]
  },
  {
   "cell_type": "code",
   "execution_count": 21,
   "id": "c7cf91e4-bd1c-4d82-aed5-99a36378d606",
   "metadata": {},
   "outputs": [
    {
     "name": "stdout",
     "output_type": "stream",
     "text": [
      "5 7 9\n"
     ]
    }
   ],
   "source": [
    "a,b,c=t6\n",
    "print(a,b,c)"
   ]
  },
  {
   "cell_type": "code",
   "execution_count": 22,
   "id": "3e0b79c8-7aa0-4888-be77-3a00b650fb35",
   "metadata": {},
   "outputs": [
    {
     "data": {
      "text/plain": [
       "(7, 8, 9)"
      ]
     },
     "execution_count": 22,
     "metadata": {},
     "output_type": "execute_result"
    }
   ],
   "source": [
    "t7=(7,8,9)\n",
    "t7"
   ]
  },
  {
   "cell_type": "code",
   "execution_count": 32,
   "id": "d13108fc-0de8-41f1-a011-c3bc066c68a8",
   "metadata": {},
   "outputs": [
    {
     "name": "stdout",
     "output_type": "stream",
     "text": [
      "2552332869696\n"
     ]
    }
   ],
   "source": [
    "t7=t7+(10,)\n",
    "t7\n",
    "print(id(t7))"
   ]
  },
  {
   "cell_type": "code",
   "execution_count": 30,
   "id": "af7e7ad9-fc80-4aca-befa-88c705f81cc6",
   "metadata": {},
   "outputs": [
    {
     "name": "stdout",
     "output_type": "stream",
     "text": [
      "2552332867264\n"
     ]
    }
   ],
   "source": [
    "t7=t7+(11,)\n",
    "t7\n",
    "print(id(t7))"
   ]
  },
  {
   "cell_type": "code",
   "execution_count": 33,
   "id": "5d362c4f-90ef-4f9f-8309-c9774465ee1a",
   "metadata": {},
   "outputs": [
    {
     "data": {
      "text/plain": [
       "(4, 6, 2, 8, 3, 1)"
      ]
     },
     "execution_count": 33,
     "metadata": {},
     "output_type": "execute_result"
    }
   ],
   "source": [
    "t8=(4,6,2,8,3,1)\n",
    "t8"
   ]
  },
  {
   "cell_type": "code",
   "execution_count": 36,
   "id": "dc11a3ad-d749-4e6f-991f-728659f3193e",
   "metadata": {},
   "outputs": [
    {
     "name": "stdout",
     "output_type": "stream",
     "text": [
      "(4, 6, 2, 15, 20, 25, 4, 6, 2, 8, 3, 1)\n"
     ]
    }
   ],
   "source": [
    "t9=t8[:3]+(15,20,25)+t8[:6]\n",
    "print(t9)"
   ]
  },
  {
   "cell_type": "code",
   "execution_count": 38,
   "id": "64122cbe-19d7-4ef0-b5cf-b23468288835",
   "metadata": {},
   "outputs": [
    {
     "name": "stdout",
     "output_type": "stream",
     "text": [
      "[4, 6, 2, 15, 20, 25, 4, 6, 2, 8, 3, 1]\n"
     ]
    }
   ],
   "source": [
    "list9=list(t9)\n",
    "print(list9)"
   ]
  },
  {
   "cell_type": "code",
   "execution_count": 39,
   "id": "f5c03976-2b29-41e5-8a6f-50962e69bc50",
   "metadata": {},
   "outputs": [
    {
     "data": {
      "text/plain": [
       "[4, 6, 2, 15, 20, 25, 4, 6, 2, 8, 3, 1, 40]"
      ]
     },
     "execution_count": 39,
     "metadata": {},
     "output_type": "execute_result"
    }
   ],
   "source": [
    "list9.append(40)\n",
    "list9"
   ]
  },
  {
   "cell_type": "code",
   "execution_count": 40,
   "id": "39024d2c-93c9-4ac0-8cbe-325d7de4782b",
   "metadata": {},
   "outputs": [
    {
     "data": {
      "text/plain": [
       "(4, 6, 2, 15, 20, 25, 4, 6, 2, 8, 3, 1, 40)"
      ]
     },
     "execution_count": 40,
     "metadata": {},
     "output_type": "execute_result"
    }
   ],
   "source": [
    "t10=tuple(list9)\n",
    "t10"
   ]
  },
  {
   "cell_type": "code",
   "execution_count": 41,
   "id": "5d68cddd-fa2a-4918-9a1c-f5722d648508",
   "metadata": {},
   "outputs": [
    {
     "name": "stdout",
     "output_type": "stream",
     "text": [
      "exercises\n"
     ]
    }
   ],
   "source": [
    "t11=('e','x','e','r','c','i','s','e','s')\n",
    "string=''.join(t11)\n",
    "print(string)"
   ]
  },
  {
   "cell_type": "code",
   "execution_count": 44,
   "id": "eadb7fe0-725a-4b8d-865b-4dbfecf033fd",
   "metadata": {},
   "outputs": [
    {
     "name": "stdout",
     "output_type": "stream",
     "text": [
      "('w', 3, 'r', 'e', 's', 'o', 'u', 'r', 'c', 'e')\n",
      "e\n",
      "u\n"
     ]
    }
   ],
   "source": [
    "t12= (\"w\", 3, \"r\", \"e\", \"s\", \"o\", \"u\", \"r\", \"c\", \"e\")\n",
    "print(t12)\n",
    "print(t12[3])\n",
    "print(t12[-4])"
   ]
  },
  {
   "cell_type": "code",
   "execution_count": 47,
   "id": "80032e5e-66dd-4221-9f82-407f2f2de01b",
   "metadata": {},
   "outputs": [
    {
     "name": "stdout",
     "output_type": "stream",
     "text": [
      "('HELLO', 5, [], True)\n",
      "('HELLO', 5, [50], True)\n",
      "('HELLO', 5, [], True)\n"
     ]
    }
   ],
   "source": [
    "from copy import deepcopy\n",
    "t13=(\"HELLO\",5,[],True)\n",
    "print(t13)\n",
    "t13c=deepcopy(t13)\n",
    "t13c[2].append(50)\n",
    "print(t13c)\n",
    "print(t13)"
   ]
  },
  {
   "cell_type": "code",
   "execution_count": 49,
   "id": "6896e5d7-7230-4d92-bdd7-73a31d47e43b",
   "metadata": {},
   "outputs": [
    {
     "name": "stdout",
     "output_type": "stream",
     "text": [
      "(4, 6, 7, 8, 8, 8, 9, 9, 9)\n",
      "3\n"
     ]
    }
   ],
   "source": [
    "t14=(4,6,7,8,8,8,9,9,9)\n",
    "print(t14)\n",
    "count=t14.count(8)\n",
    "print(count)"
   ]
  },
  {
   "cell_type": "code",
   "execution_count": 50,
   "id": "ac8adb17-520c-4297-bae2-d3fbbf339ac3",
   "metadata": {},
   "outputs": [
    {
     "name": "stdout",
     "output_type": "stream",
     "text": [
      "(4, 7, 'r', 'k')\n",
      "True\n"
     ]
    }
   ],
   "source": [
    "t15=(4,7,\"r\",\"k\")\n",
    "print(t15)\n",
    "print(\"r\" in t15)"
   ]
  },
  {
   "cell_type": "code",
   "execution_count": null,
   "id": "142f63e1-b95b-40a3-846e-cdf9d3740dfe",
   "metadata": {},
   "outputs": [],
   "source": []
  },
  {
   "cell_type": "code",
   "execution_count": null,
   "id": "841a611c-a044-4fc2-9b8f-7b5e6699df77",
   "metadata": {},
   "outputs": [],
   "source": []
  },
  {
   "cell_type": "code",
   "execution_count": null,
   "id": "8cfbbdee-fd7e-4ca8-90dc-c819b629a78e",
   "metadata": {},
   "outputs": [],
   "source": []
  },
  {
   "cell_type": "code",
   "execution_count": null,
   "id": "d049b53f-b271-41e1-9d63-b01db9cff653",
   "metadata": {},
   "outputs": [],
   "source": []
  },
  {
   "cell_type": "code",
   "execution_count": null,
   "id": "e4ea3a8f-0fac-43ed-b174-98c34f78a3c7",
   "metadata": {},
   "outputs": [],
   "source": []
  }
 ],
 "metadata": {
  "kernelspec": {
   "display_name": "Python 3 (ipykernel)",
   "language": "python",
   "name": "python3"
  },
  "language_info": {
   "codemirror_mode": {
    "name": "ipython",
    "version": 3
   },
   "file_extension": ".py",
   "mimetype": "text/x-python",
   "name": "python",
   "nbconvert_exporter": "python",
   "pygments_lexer": "ipython3",
   "version": "3.11.4"
  }
 },
 "nbformat": 4,
 "nbformat_minor": 5
}
