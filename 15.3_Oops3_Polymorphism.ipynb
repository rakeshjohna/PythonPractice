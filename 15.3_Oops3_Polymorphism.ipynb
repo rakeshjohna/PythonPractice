{
 "cells": [
  {
   "cell_type": "markdown",
   "id": "e36a642e-cb3f-4be5-bd15-65fd228094b0",
   "metadata": {},
   "source": [
    "### Polymorphism:Many Forms"
   ]
  },
  {
   "cell_type": "markdown",
   "id": "0bda846b-1f48-4299-95a9-7d8db4d50b83",
   "metadata": {},
   "source": [
    "1.Duck typing philosophy of python\n",
    "2.Overloading\n",
    "Operator Overloading\n",
    "Method Overloading(not supported)\n",
    "Constructor Overloading(not supported)\n",
    "3.Overriding\n",
    "Method Overriding\n",
    "Constructor Overriding"
   ]
  },
  {
   "cell_type": "markdown",
   "id": "4f9c98b9-7d4c-4f79-8eac-eb9951b0e3ff",
   "metadata": {},
   "source": [
    "# Ex1: car view : front, top, back"
   ]
  },
  {
   "cell_type": "markdown",
   "id": "75727b4a-ac1e-42cd-a15a-f86bdae13b25",
   "metadata": {},
   "source": [
    "# Ex2: + operator acts as concatenation and arithmetic addition"
   ]
  },
  {
   "cell_type": "code",
   "execution_count": 2,
   "id": "feb6c1bc-200c-47ef-8578-0b7f50ff4dbc",
   "metadata": {},
   "outputs": [
    {
     "data": {
      "text/plain": [
       "'rakeshkumar'"
      ]
     },
     "execution_count": 2,
     "metadata": {},
     "output_type": "execute_result"
    }
   ],
   "source": [
    "\"rakesh\"+\"kumar\""
   ]
  },
  {
   "cell_type": "code",
   "execution_count": 3,
   "id": "2571cb5d-2946-4554-b66a-506b7c687492",
   "metadata": {},
   "outputs": [
    {
     "data": {
      "text/plain": [
       "5"
      ]
     },
     "execution_count": 3,
     "metadata": {},
     "output_type": "execute_result"
    }
   ],
   "source": [
    "3+2"
   ]
  },
  {
   "cell_type": "markdown",
   "id": "3f182237-2747-4b34-b163-ed07cef6f3fb",
   "metadata": {},
   "source": [
    "### Ex3: * operator acts as multiplication and repetition operator"
   ]
  },
  {
   "cell_type": "code",
   "execution_count": 4,
   "id": "3ee30d5c-e40e-4cb7-a4dc-3056400a5804",
   "metadata": {},
   "outputs": [
    {
     "data": {
      "text/plain": [
       "'rakeshrakeshrakesh'"
      ]
     },
     "execution_count": 4,
     "metadata": {},
     "output_type": "execute_result"
    }
   ],
   "source": [
    "\"rakesh\"*3"
   ]
  },
  {
   "cell_type": "code",
   "execution_count": 5,
   "id": "8d4d8929-dc1a-45ba-8531-674b7eecbd00",
   "metadata": {},
   "outputs": [
    {
     "data": {
      "text/plain": [
       "12"
      ]
     },
     "execution_count": 5,
     "metadata": {},
     "output_type": "execute_result"
    }
   ],
   "source": [
    "3*4"
   ]
  },
  {
   "cell_type": "markdown",
   "id": "9a33fc8c-7e3b-4a55-9f00-cd0ac9a5eee3",
   "metadata": {},
   "source": [
    "## Ex4: The Same method with different implementations in Parent class and child classes.(overriding)"
   ]
  },
  {
   "cell_type": "markdown",
   "id": "b7e1ee78-a6af-410f-b392-0669ec25362f",
   "metadata": {},
   "source": [
    "## 1. Duck Typing Philosophy of Python:"
   ]
  },
  {
   "cell_type": "code",
   "execution_count": 7,
   "id": "b7ffa82d-2b57-46e4-bf84-079012e516d8",
   "metadata": {},
   "outputs": [
    {
     "ename": "SyntaxError",
     "evalue": "invalid syntax (4012081023.py, line 1)",
     "output_type": "error",
     "traceback": [
      "\u001b[1;36m  Cell \u001b[1;32mIn[7], line 1\u001b[1;36m\u001b[0m\n\u001b[1;33m    In Python we cannot specify the type explicitly.\u001b[0m\n\u001b[1;37m       ^\u001b[0m\n\u001b[1;31mSyntaxError\u001b[0m\u001b[1;31m:\u001b[0m invalid syntax\n"
     ]
    }
   ],
   "source": [
    "#In Python we cannot specify the type explicitly. \n",
    "#Based on provided value at runtime the type will be considered automatically. \n",
    "#Hence Python is considered as Dynamically Typed Programming Language.\n",
    "#def f1(obj): obj.talk()"
   ]
  },
  {
   "cell_type": "markdown",
   "id": "17302ca2-8085-4827-8347-005ed47a73b2",
   "metadata": {},
   "source": [
    "### What is the type of obj? We cannot decide at the beginning. At runtime we can pass any type.Then how we can decide the type?"
   ]
  },
  {
   "cell_type": "code",
   "execution_count": 8,
   "id": "f6a366ff-abc7-4837-b4cd-a07d2ce8ad2b",
   "metadata": {},
   "outputs": [],
   "source": [
    "#At runtime if 'it walks like a duck and talks like a duck,it must be duck'. \n",
    "#Python follows this principle. \n",
    "#This is called Duck Typing Philosophy of Python.\n",
    "#Duck Typing is a type system used in dynamic languages"
   ]
  },
  {
   "cell_type": "code",
   "execution_count": 9,
   "id": "4a988f82-cf89-4eb0-b58e-573468c97118",
   "metadata": {},
   "outputs": [
    {
     "name": "stdout",
     "output_type": "stream",
     "text": [
      "21\n"
     ]
    }
   ],
   "source": [
    "class Specialstring:\n",
    "    def __len__(self):\n",
    "        return 21\n",
    "    \n",
    "if __name__ == \"__main__\":\n",
    "    str = Specialstring()\n",
    "    print(len(str))"
   ]
  },
  {
   "cell_type": "code",
   "execution_count": 10,
   "id": "bafefb92-e8d7-49ac-a6d9-e1026b4c71a7",
   "metadata": {},
   "outputs": [
    {
     "name": "stdout",
     "output_type": "stream",
     "text": [
      "Quack Quack\n",
      "Bow Bow\n",
      "Meow Meow\n",
      "may may\n"
     ]
    }
   ],
   "source": [
    "class Duck:\n",
    "    def talk(self):\n",
    "        print(\"Quack Quack\")\n",
    "        \n",
    "class Dog:\n",
    "    def talk(self):\n",
    "        print(\"Bow Bow\")\n",
    "        \n",
    "class Cat:\n",
    "    def talk(self):\n",
    "        print(\"Meow Meow\")\n",
    "        \n",
    "class Goat:\n",
    "    def talk(self):\n",
    "        print(\"may may\")\n",
    "        \n",
    "def f1(obj):\n",
    "    obj.talk()\n",
    "    \n",
    "d=[Duck(), Dog(), Cat(), Goat()]\n",
    "for i in d:\n",
    "   f1(i)"
   ]
  },
  {
   "cell_type": "markdown",
   "id": "f7217529-da04-4210-8b63-01f08d348ed6",
   "metadata": {},
   "source": [
    "### if the object does not contains talk() method then we will get Attribute error"
   ]
  },
  {
   "cell_type": "code",
   "execution_count": 11,
   "id": "1b42d697-4644-44df-8f33-a9ed95715f0c",
   "metadata": {},
   "outputs": [],
   "source": [
    "class Duck:\n",
    "    def talk(self):\n",
    "        print(\"Quack Quack\")\n",
    "        \n",
    "class Dog:\n",
    "    def bark(self):\n",
    "        print(\"Bow Bow\")\n",
    "        \n",
    "def f1(obj):\n",
    "    obj.talk()\n",
    "\n",
    "d=[Duck(), Dog()]\n",
    "#for i in d:\n",
    "    #f1(i)\n",
    "    \n",
    "#AttributeError: 'Dog' object has no attribute 'talk'"
   ]
  },
  {
   "cell_type": "markdown",
   "id": "631b184a-c288-4f23-9e04-50152cab5ab4",
   "metadata": {},
   "source": [
    "### Solution: hasattr(obj, \"attributename\") function"
   ]
  },
  {
   "cell_type": "code",
   "execution_count": 12,
   "id": "3feb4aa8-fc5b-4049-8a04-a42b936c6ce1",
   "metadata": {},
   "outputs": [
    {
     "name": "stdout",
     "output_type": "stream",
     "text": [
      "Quack Quack\n",
      "Bow Bow\n",
      "Hi Hello\n"
     ]
    }
   ],
   "source": [
    "class Duck:\n",
    "    def talk(self):\n",
    "        print(\"Quack Quack\")\n",
    "        \n",
    "class Dog:\n",
    "    def bark(self):\n",
    "        print(\"Bow Bow\")\n",
    "        \n",
    "class Human:\n",
    "    def talk(self):\n",
    "        print(\"Hi Hello\")\n",
    "\n",
    "def f1(obj):\n",
    "    if hasattr(obj,\"talk\"):\n",
    "        obj.talk()\n",
    "        \n",
    "    elif hasattr(obj,\"bark\"):\n",
    "        obj.bark()\n",
    "        \n",
    "d=Duck()\n",
    "f1(d)\n",
    "\n",
    "g=Dog()\n",
    "f1(g)\n",
    "\n",
    "h=Human()\n",
    "f1(h)"
   ]
  },
  {
   "cell_type": "code",
   "execution_count": 13,
   "id": "07ae6785-18fc-44de-9779-e4ee7ffedf2b",
   "metadata": {},
   "outputs": [],
   "source": [
    "class Bird: \n",
    "    def fly(self): \n",
    "        print(\"fly with wings\") \n",
    "\n",
    "class Airplane: \n",
    "    def fly(self): \n",
    "        print(\"fly with fuel\") \n",
    "\n",
    "class Fish: \n",
    "    def swim(self): \n",
    "        print(\"fish swim in sea\") \n",
    "        \n",
    "#for obj in Bird(), Airplane(), Fish(): \n",
    "    #obj.fly()"
   ]
  },
  {
   "cell_type": "markdown",
   "id": "89cbe43d-f7f3-4488-ad69-b97e00fb65ba",
   "metadata": {},
   "source": [
    "### Overloading:- writing two or more methods in a same class with different args"
   ]
  },
  {
   "cell_type": "code",
   "execution_count": 14,
   "id": "97a0d85b-7994-4042-b775-d4f5d51c3b05",
   "metadata": {},
   "outputs": [],
   "source": [
    "#Operator Overloading\n",
    "#Method Overloading\n",
    "#Constructor overloading"
   ]
  },
  {
   "cell_type": "code",
   "execution_count": 3,
   "id": "638c5b24-0b81-47a5-a51f-e645b5a81682",
   "metadata": {},
   "outputs": [],
   "source": [
    "# 1.Operatpr Overloading:"
   ]
  },
  {
   "cell_type": "code",
   "execution_count": 5,
   "id": "4e2c3639-4145-438f-8f99-531bc35f333b",
   "metadata": {},
   "outputs": [],
   "source": [
    "#'+' operator acts as addition and concatenation\n",
    "#what happens when we add two objects it gives TypeError: unsupported operand type(s) for +: 'Book' and 'Book"
   ]
  },
  {
   "cell_type": "code",
   "execution_count": 9,
   "id": "3f3f1fc4-f704-4dbb-bbf6-82aa4945dbd6",
   "metadata": {},
   "outputs": [
    {
     "ename": "TypeError",
     "evalue": "unsupported operand type(s) for +: 'Book' and 'Book'",
     "output_type": "error",
     "traceback": [
      "\u001b[1;31m---------------------------------------------------------------------------\u001b[0m",
      "\u001b[1;31mTypeError\u001b[0m                                 Traceback (most recent call last)",
      "Cell \u001b[1;32mIn[9], line 6\u001b[0m\n\u001b[0;32m      4\u001b[0m b1\u001b[38;5;241m=\u001b[39mBook(\u001b[38;5;241m100\u001b[39m)\n\u001b[0;32m      5\u001b[0m b2\u001b[38;5;241m=\u001b[39mBook(\u001b[38;5;241m200\u001b[39m)\n\u001b[1;32m----> 6\u001b[0m \u001b[38;5;28mprint\u001b[39m(\u001b[43mb1\u001b[49m\u001b[38;5;241;43m+\u001b[39;49m\u001b[43mb2\u001b[49m)\n",
      "\u001b[1;31mTypeError\u001b[0m: unsupported operand type(s) for +: 'Book' and 'Book'"
     ]
    }
   ],
   "source": [
    "class Book:\n",
    "    def __init__(self,pages):\n",
    "        self.pages=pages\n",
    "b1=Book(100)\n",
    "b2=Book(200)\n",
    "print(b1+b2)"
   ]
  },
  {
   "cell_type": "code",
   "execution_count": 10,
   "id": "02ca4930-8045-46b6-b056-040ac572d54e",
   "metadata": {},
   "outputs": [],
   "source": [
    "# Demo program to overload '+' operator for our Book class objects:"
   ]
  },
  {
   "cell_type": "code",
   "execution_count": 13,
   "id": "a63c3493-dbc7-4410-9e08-775224b59881",
   "metadata": {},
   "outputs": [],
   "source": [
    "#1.We can overload + operator to work with Book objects also. i.e Python supports Operator Overloading\n",
    "#2.for every operator magic methods are available. to overload any operator we have to override that method in our class.\n",
    "#3.Internally + operator is implemented by using add() method.This method is called magic method for + operator. We have to override this method in our class."
   ]
  },
  {
   "cell_type": "code",
   "execution_count": 14,
   "id": "02d716f2-dcda-43ab-a0ab-2b1bec116986",
   "metadata": {},
   "outputs": [
    {
     "name": "stdout",
     "output_type": "stream",
     "text": [
      "300\n"
     ]
    }
   ],
   "source": [
    "class Book:\n",
    "    def __init__(self,pages):\n",
    "        self.pages=pages\n",
    "\n",
    "    def __add__(self,other):\n",
    "        return self.pages+other.pages      #return type is int\n",
    "b1=Book(100)\n",
    "b2=Book(200)\n",
    "print(b1+b2)"
   ]
  },
  {
   "cell_type": "code",
   "execution_count": 17,
   "id": "a5ced030-5fee-4312-bc05-f86839211ddd",
   "metadata": {},
   "outputs": [
    {
     "name": "stdout",
     "output_type": "stream",
     "text": [
      "<class 'int'>\n",
      "<class 'int'>\n",
      "<__main__.Book object at 0x00000222F955E610>\n",
      "<class 'int'>\n",
      "300\n",
      "<class 'int'>\n",
      "600\n"
     ]
    }
   ],
   "source": [
    "class Book:\n",
    "    def __init__(self,pages):\n",
    "        self.pages=pages\n",
    "\n",
    "    def __add__(self,other):\n",
    "        a=self.pages+other.pages\n",
    "        print(type(a))\n",
    "        return Book(a)\n",
    "\n",
    "b1=Book(100)\n",
    "b2=Book(200)\n",
    "b3=Book(300)\n",
    "print(b1+b2+b3)     # here we are using + for two times so __ add __ calling two times\n",
    "b=b1+b2\n",
    "print(b.pages)\n",
    "bb=b+b3\n",
    "print(bb.pages)"
   ]
  },
  {
   "cell_type": "code",
   "execution_count": 18,
   "id": "91ae96d7-6422-4098-a7b1-0acf9325ebeb",
   "metadata": {},
   "outputs": [],
   "source": [
    "# Whenever we are printing obj ref. internally _str__() will be called"
   ]
  },
  {
   "cell_type": "code",
   "execution_count": 22,
   "id": "8420e9fe-a50f-4566-be74-d3983c6a09db",
   "metadata": {},
   "outputs": [
    {
     "name": "stdout",
     "output_type": "stream",
     "text": [
      "name:pavan and company:Infosys\n",
      "name:rakesh and company:centific\n"
     ]
    }
   ],
   "source": [
    "#understanding about string....str():\n",
    "class Employee:\n",
    "    def __init__(self,name,company):\n",
    "        self.name=name\n",
    "        self.company=company\n",
    "\n",
    "    def __str__(self):\n",
    "        return \"name:{} and company:{}\".format(self.name,self.company)\n",
    "\n",
    "e1=Employee(\"pavan\",\"Infosys\")\n",
    "e2=Employee(\"rakesh\",\"centific\")\n",
    "print(e1)     # To print the values of an object we have to override the _str_() method\n",
    "print(e2)"
   ]
  },
  {
   "cell_type": "code",
   "execution_count": 24,
   "id": "a47fd1e2-6e87-4fa0-a170-3a1079eb937e",
   "metadata": {},
   "outputs": [
    {
     "name": "stdout",
     "output_type": "stream",
     "text": [
      "Book1 object: str method\n",
      "100\n",
      "<class 'int'>\n",
      "Book1+Book2 object: str method\n",
      "300\n",
      "<class 'int'>\n",
      "<class 'int'>\n",
      "Book1+Book2+Book3 object: str method\n",
      "600\n",
      "<class 'int'>\n",
      "<class 'int'>\n",
      "<class 'int'>\n",
      "str method\n",
      "650\n"
     ]
    }
   ],
   "source": [
    "class Book:\n",
    "    def __init__(self,pages):\n",
    "        self.pages = pages\n",
    "        \n",
    "    def __add__(self,other):\n",
    "        a =  self.pages+other.pages\n",
    "        print(type(a))\n",
    "        return Book(a)\n",
    "    \n",
    "    def __str__(self):\n",
    "        print(\"str method\")\n",
    "        return str(self.pages)\n",
    "    \n",
    "b1 = Book(100)\n",
    "b2 = Book(200)\n",
    "b3 = Book(300)\n",
    "b4 = Book(50)\n",
    "print(\"Book1 object:\",b1)             # whenever we are printing obj ref. it calls _str__() and returns pages in string type \n",
    "print(\"Book1+Book2 object:\",b1+b2)    # _add_() --> _str_() --> returns pages in string type \n",
    "print(\"Book1+Book2+Book3 object:\",b1+b2+b3) # 2 times __add_() --> _str_() --> returns pages in string type\n",
    "print(b1+b2+b3+b4)                         # 3 times __add_() --> _str_() --> returns pages in string type"
   ]
  },
  {
   "cell_type": "code",
   "execution_count": 25,
   "id": "8410aadc-6c0c-437d-9ca2-7a77a10f0413",
   "metadata": {},
   "outputs": [],
   "source": [
    "#Overloading > and <= operators for Student class objects:"
   ]
  },
  {
   "cell_type": "code",
   "execution_count": 26,
   "id": "b596a990-eaf0-423f-9ad1-4983da19fff6",
   "metadata": {},
   "outputs": [
    {
     "name": "stdout",
     "output_type": "stream",
     "text": [
      "10>20: False\n",
      "s1>s2 True\n",
      "s1<s2 False\n"
     ]
    }
   ],
   "source": [
    "class Student:\n",
    "    def __init__(self,name,marks):\n",
    "        self.name=name\n",
    "        self.marks=marks\n",
    "        \n",
    "    def __gt__(self,other):\n",
    "        return self.marks>=other.marks\n",
    "    def __le__(self,other):\n",
    "        return self.marks<=other.marks\n",
    "\n",
    "print(\"10>20:\",10>20)\n",
    "s1=Student(\"pawan\",95)\n",
    "s2=Student(\"prem\",80)\n",
    "print(\"s1>s2\",s1>s2)\n",
    "print(\"s1<s2\",s1<s2)"
   ]
  },
  {
   "cell_type": "code",
   "execution_count": 27,
   "id": "e5bc4e41-83e9-4ea8-9311-1b3e33a26cad",
   "metadata": {},
   "outputs": [
    {
     "name": "stdout",
     "output_type": "stream",
     "text": [
      "total salary for a month: 3000\n"
     ]
    }
   ],
   "source": [
    "class Employee:\n",
    "    def __init__(self,name,salary):\n",
    "        self.name=name\n",
    "        self.salary=salary\n",
    "        \n",
    "    def __mul__(self,other):\n",
    "        return self.salary*other.days\n",
    "    \n",
    "    \n",
    "class Timesheet:\n",
    "    def __init__(self,name,days):\n",
    "        self.name=name\n",
    "        self.days=days\n",
    "        \n",
    "e=Employee(\"pawan\",100)\n",
    "t=Timesheet(\"Pawan\",30)\n",
    "print(\"total salary for a month:\",e*t)"
   ]
  },
  {
   "cell_type": "markdown",
   "id": "6bbf84ee-6fa6-4a23-bc91-67f789400803",
   "metadata": {},
   "source": [
    "### 2.method overloading:"
   ]
  },
  {
   "cell_type": "markdown",
   "id": "464826cb-f34e-4b63-8390-4db631cc0493",
   "metadata": {},
   "source": [
    "1.writing two or more methods with same name but different type of arguments in same class\r",
    "2.\n",
    "m1(10)3.\r\n",
    "m1(10,20,30)"
   ]
  },
  {
   "cell_type": "markdown",
   "id": "9af76a45-c1ff-4b09-9c93-aae8515b8c13",
   "metadata": {},
   "source": [
    "#### But in Python Method overloading is not possible\n",
    "#### \n",
    "If we are trying to declare multiple methods with same name and different number of arguments then Python will always consider only last method"
   ]
  },
  {
   "cell_type": "markdown",
   "id": "0c0ec5e3-8cb6-445a-958e-f6f189b1c163",
   "metadata": {},
   "source": [
    "class Test:\n",
    "    def m1(self):\n",
    "        print(\"no-arg method\")\n",
    "        \n",
    "    def m1(self,a):\n",
    "        print(\"one-arg method\")\n",
    "        \n",
    "    def m1(self,a,b):\n",
    "        print(\"two arg method\")\n",
    "        \n",
    "t=Test()\n",
    "#t.m1()      #TypeError: m1() missing 2 required positional arguments: 'a' and 'b'\n",
    "#t.m1(10)   #TypeError: m1() missing 1 required positional argument: 'b'\n",
    "t.m1(10,20)"
   ]
  },
  {
   "cell_type": "markdown",
   "id": "eeaf92a9-01eb-4de7-ab9f-d8b7a5e24403",
   "metadata": {},
   "source": [
    "## To overcome this we use default arguments or variable no. of arguments"
   ]
  },
  {
   "cell_type": "markdown",
   "id": "a4af6592-8f55-4b55-85a0-f654b979b54d",
   "metadata": {},
   "source": [
    "#### Demo Program with Default Arguments:"
   ]
  },
  {
   "cell_type": "code",
   "execution_count": 31,
   "id": "d7e98ca5-31b2-4833-8c09-2b88bbce7ddf",
   "metadata": {},
   "outputs": [
    {
     "name": "stdout",
     "output_type": "stream",
     "text": [
      "please provide 2 or 3 args\n",
      "the number is: 10\n",
      "sum of 2 numbers is: 30\n",
      "sum of 3 numbers is: 40\n"
     ]
    }
   ],
   "source": [
    "class Test:\n",
    "    def sum(self,a=None,b=None,c=None):\n",
    "        if a!=None and b!=None and c!=None:\n",
    "            print(\"sum of 3 numbers is:\",a+b+c)\n",
    "        elif a!=None and b!=None:\n",
    "            print(\"sum of 2 numbers is:\",a+b)\n",
    "        elif a!=None:\n",
    "            print(\"the number is:\",a)\n",
    "        else:\n",
    "            print(\"please provide 2 or 3 args\")\n",
    "            \n",
    "t=Test()\n",
    "t.sum()\n",
    "t.sum(10)\n",
    "t.sum(10,20)\n",
    "t.sum(10,20,10)"
   ]
  },
  {
   "cell_type": "markdown",
   "id": "dbc1dc87-5ce2-404d-af94-435280a987fe",
   "metadata": {},
   "source": [
    "####  Demo Program with Variable Number of Arguments:"
   ]
  },
  {
   "cell_type": "code",
   "execution_count": 32,
   "id": "eb8b6f3f-9fea-4b60-8e04-f2f0a6389a5a",
   "metadata": {},
   "outputs": [
    {
     "name": "stdout",
     "output_type": "stream",
     "text": [
      "total sum is: 0\n",
      "total sum is: 10\n",
      "total sum is: 30\n",
      "total sum is: 60\n"
     ]
    }
   ],
   "source": [
    "class Test:\n",
    "    def sum(self,*a):             # variable arguments store the values internally in the form of tuple\n",
    "        total=0\n",
    "        for x in a:\n",
    "            total=total+x\n",
    "        print(\"total sum is:\",total)\n",
    "        \n",
    "t=Test()\n",
    "t.sum()\n",
    "t.sum(10)\n",
    "t.sum(10,20)\n",
    "t.sum(10,20,30)"
   ]
  },
  {
   "cell_type": "markdown",
   "id": "1e8d1563-9d54-409b-9221-b9305b9da6c8",
   "metadata": {},
   "source": [
    "#### 3. Constructor overloading"
   ]
  },
  {
   "cell_type": "markdown",
   "id": "96c4c7e3-8cde-4e53-87d4-1929074e413f",
   "metadata": {},
   "source": [
    "######### Constructor overloading is not possible in Python\n",
    "#########\n",
    "If we define multiple constructors then the last constructor will be considered.."
   ]
  },
  {
   "cell_type": "code",
   "execution_count": 33,
   "id": "932532c3-9603-4cd7-bf24-6d866b9c191e",
   "metadata": {},
   "outputs": [
    {
     "name": "stdout",
     "output_type": "stream",
     "text": [
      "two arg method\n"
     ]
    }
   ],
   "source": [
    "class Test:\n",
    "    def __init__(self):\n",
    "        print(\"no-arg method\")\n",
    "        \n",
    "    def __init__(self,a):\n",
    "        print(\"one-arg method\")\n",
    "        \n",
    "    def __init__(self,a,b):\n",
    "        print(\"two arg method\")\n",
    "        \n",
    "#t=Test()  #TypeError: __init__() missing 2 required positional arguments: 'a' and 'b'\n",
    "#t=Test(10)  #TypeError: __init__() missing 1 required positional argument: 'b'\n",
    "t=Test(10,20)"
   ]
  },
  {
   "cell_type": "markdown",
   "id": "1e4a580d-b6cb-4974-867b-a2286de52151",
   "metadata": {},
   "source": [
    "##### To overcome this we use default arguments or variable no. of arguments"
   ]
  },
  {
   "cell_type": "markdown",
   "id": "c173da2c-8e98-45b4-b2eb-1793d9cfb025",
   "metadata": {},
   "source": [
    "### Constructor with Default Arguments:"
   ]
  },
  {
   "cell_type": "code",
   "execution_count": 34,
   "id": "997b836a-9a0c-47df-94d1-edfbaf1a2254",
   "metadata": {},
   "outputs": [
    {
     "name": "stdout",
     "output_type": "stream",
     "text": [
      "constructor with 1 or 2 or 3 args\n",
      "constructor with 1 or 2 or 3 args\n",
      "constructor with 1 or 2 or 3 args\n",
      "constructor with 1 or 2 or 3 args\n"
     ]
    }
   ],
   "source": [
    "class Test:\n",
    "    def __init__(self,a=None,b=None,c=None):\n",
    "        print(\"constructor with 1 or 2 or 3 args\")\n",
    "        \n",
    "t=Test()\n",
    "t1=Test(10)\n",
    "t2=Test(10,20)\n",
    "t3=Test(10,20,30)"
   ]
  },
  {
   "cell_type": "markdown",
   "id": "ca253be3-6109-40b0-9cbc-fab19b8c405f",
   "metadata": {},
   "source": [
    "#### Constructor with Variable Number of Arguments:"
   ]
  },
  {
   "cell_type": "code",
   "execution_count": 35,
   "id": "b2874abe-912b-4d08-97c8-1924aee5c97e",
   "metadata": {},
   "outputs": [
    {
     "name": "stdout",
     "output_type": "stream",
     "text": [
      "constructor with 1 or 2 or 3 args\n",
      "constructor with 1 or 2 or 3 args\n",
      "constructor with 1 or 2 or 3 args\n",
      "constructor with 1 or 2 or 3 args\n",
      "constructor with 1 or 2 or 3 args\n"
     ]
    }
   ],
   "source": [
    "class Test:\n",
    "    def __init__(self,*a):\n",
    "        print(\"constructor with 1 or 2 or 3 args\")\n",
    "\n",
    "t=Test()\n",
    "t1=Test(10)\n",
    "t2=Test(10,20)\n",
    "t3=Test(10,20,30)\n",
    "t4=Test(10,3,4,5,6,7)"
   ]
  },
  {
   "cell_type": "markdown",
   "id": "b72e5427-53f9-4f79-9cc7-a268c6077e08",
   "metadata": {},
   "source": [
    "# Method overriding:"
   ]
  },
  {
   "cell_type": "markdown",
   "id": "433df800-224f-4d45-8201-c8714531740d",
   "metadata": {},
   "source": [
    "1.What ever members available in the parent class are by default available to the child class through inheritance.\r",
    "2.\n",
    "If the child class not satisfied with parent class implementation then child class is allowed to redefine that method in the child class based on its requirement. This concept is called overriding.3.\r\n",
    "writing two or more methods in two different classes with same name and arg4.s\r\n",
    "Overriding concept applicable for both methods and constructors."
   ]
  },
  {
   "cell_type": "code",
   "execution_count": 36,
   "id": "6b8e5985-cfb3-45fc-8983-14800cf8841e",
   "metadata": {},
   "outputs": [
    {
     "name": "stdout",
     "output_type": "stream",
     "text": [
      "Asserts from parents\n",
      "Exporting fishes and prawns\n"
     ]
    }
   ],
   "source": [
    "class P:\n",
    "    def property(self):\n",
    "        print(\"Asserts from parents\")\n",
    "    def business(self):\n",
    "        print('Real estate and Construction..')\n",
    "        \n",
    "class C(P):\n",
    "    def business(self):\n",
    "        print('Exporting fishes and prawns')\n",
    "        \n",
    "c=C()\n",
    "c.property()\n",
    "c.business()"
   ]
  },
  {
   "cell_type": "markdown",
   "id": "eec83d15-fbb9-43f9-a874-a1ce2a813905",
   "metadata": {},
   "source": [
    "### From Overriding method of child class,we can call parent class method also by using super() method."
   ]
  },
  {
   "cell_type": "markdown",
   "id": "9f3ba965-94aa-486d-bb1e-3c28f4e9c375",
   "metadata": {},
   "source": [
    "class P:\n",
    "    def property(self):\n",
    "        print(\"Asserts from parents\")\n",
    "    def business(self):\n",
    "        print('Real estate and Construction..')\n",
    "        \n",
    "class C(P):\n",
    "    def business(self):\n",
    "        super().business()\n",
    "        print('Exporting fishes and prawns')\n",
    "        \n",
    "c=C()\n",
    "c.property()\n",
    "c.business()"
   ]
  },
  {
   "cell_type": "markdown",
   "id": "b1d52bd3-4b6f-4fc8-8173-80b7a24f805a",
   "metadata": {},
   "source": [
    "## 2.Demo Program for Constructor overriding:"
   ]
  },
  {
   "cell_type": "code",
   "execution_count": 40,
   "id": "fe5f4ee5-ccfb-4b1d-940b-15b7aa1d84b5",
   "metadata": {},
   "outputs": [
    {
     "name": "stdout",
     "output_type": "stream",
     "text": [
      "child constructor..\n"
     ]
    }
   ],
   "source": [
    "class P:\n",
    "    def __init__(self):\n",
    "        print(\"parent constructor..\")\n",
    "        \n",
    "class C(P):\n",
    "    def __init__(self):\n",
    "        print(\"child constructor..\")\n",
    "        \n",
    "c=C()"
   ]
  },
  {
   "cell_type": "markdown",
   "id": "fd1ffc5c-f8c9-40ea-a49e-241cc780ae33",
   "metadata": {},
   "source": [
    "####  In the above example,if child class does not contain constructor then parent class constructor will be executed\n",
    "- From child class constuctor we can call parent class constructor by using super() method."
   ]
  },
  {
   "cell_type": "code",
   "execution_count": 42,
   "id": "6d094a9d-243b-4cbe-9b8f-475a03d9538a",
   "metadata": {},
   "outputs": [
    {
     "name": "stdout",
     "output_type": "stream",
     "text": [
      "parent constructor..\n",
      "child constructor..\n"
     ]
    }
   ],
   "source": [
    "class P:\n",
    "    def __init__(self):\n",
    "        print(\"parent constructor..\")\n",
    "        \n",
    "class C(P):\n",
    "    def __init__(self):\n",
    "        super().__init__()\n",
    "        print(\"child constructor..\")\n",
    "        \n",
    "c=C()"
   ]
  },
  {
   "cell_type": "code",
   "execution_count": 43,
   "id": "86cec75c-f517-4acb-9edf-08b980a16878",
   "metadata": {},
   "outputs": [
    {
     "name": "stdout",
     "output_type": "stream",
     "text": [
      "parent constructor..\n"
     ]
    }
   ],
   "source": [
    "class P:\n",
    "    def __init__(self):\n",
    "        print(\"parent constructor..\")\n",
    "        \n",
    "class C(P):\n",
    "    pass\n",
    "        \n",
    "c=C()"
   ]
  },
  {
   "cell_type": "code",
   "execution_count": null,
   "id": "1d075515-0902-4b69-8abc-c40d74622095",
   "metadata": {},
   "outputs": [],
   "source": []
  },
  {
   "cell_type": "code",
   "execution_count": null,
   "id": "2cd79efe-b626-48b9-8bdd-e2a292442596",
   "metadata": {},
   "outputs": [],
   "source": []
  },
  {
   "cell_type": "code",
   "execution_count": null,
   "id": "a02bf0aa-b4b2-4388-bb55-04890a702bb9",
   "metadata": {},
   "outputs": [],
   "source": []
  },
  {
   "cell_type": "code",
   "execution_count": null,
   "id": "494082c4-b646-42bb-96c3-148ade394598",
   "metadata": {},
   "outputs": [],
   "source": []
  }
 ],
 "metadata": {
  "kernelspec": {
   "display_name": "Python 3 (ipykernel)",
   "language": "python",
   "name": "python3"
  },
  "language_info": {
   "codemirror_mode": {
    "name": "ipython",
    "version": 3
   },
   "file_extension": ".py",
   "mimetype": "text/x-python",
   "name": "python",
   "nbconvert_exporter": "python",
   "pygments_lexer": "ipython3",
   "version": "3.11.4"
  }
 },
 "nbformat": 4,
 "nbformat_minor": 5
}
