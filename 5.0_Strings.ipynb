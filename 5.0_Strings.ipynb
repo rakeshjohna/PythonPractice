{
 "cells": [
  {
   "cell_type": "code",
   "execution_count": 1,
   "id": "72d454c0-e0e9-49bb-b8a4-ba48a7ece4a2",
   "metadata": {},
   "outputs": [
    {
     "name": "stdout",
     "output_type": "stream",
     "text": [
      "rakesh\n",
      "<class 'str'>\n"
     ]
    }
   ],
   "source": [
    "s1=\"rakesh\"\n",
    "print(s1)\n",
    "print(type(s1))"
   ]
  },
  {
   "cell_type": "code",
   "execution_count": 2,
   "id": "23f3107e-69d2-477a-8736-dac86793b325",
   "metadata": {},
   "outputs": [
    {
     "name": "stdout",
     "output_type": "stream",
     "text": [
      "rakesh\n",
      "    kumar\n",
      "    yarlagadda\n"
     ]
    }
   ],
   "source": [
    "s2=\"\"\"rakesh\n",
    "    kumar\n",
    "    yarlagadda\"\"\"\n",
    "print(s2)"
   ]
  },
  {
   "cell_type": "code",
   "execution_count": 11,
   "id": "a4f25d8e-97b2-42d1-acc1-fac5aa0c86a8",
   "metadata": {},
   "outputs": [
    {
     "name": "stdout",
     "output_type": "stream",
     "text": [
      "hi'how are you\n",
      "hi\" how are you\n",
      "hi' how are you\n",
      "hi how are you\n"
     ]
    }
   ],
   "source": [
    "s3='hi\\'how are you'\n",
    "print(s3)\n",
    "s4='hi\" how are you'\n",
    "print(s4)\n",
    "s5=\"hi' how are you\"\n",
    "print(s5)\n",
    "s6=\"\"\"hi how are you\"\"\"\n",
    "print(s6)"
   ]
  },
  {
   "cell_type": "code",
   "execution_count": 12,
   "id": "b3af4b39-2279-4c38-a2f5-36f4d30b139e",
   "metadata": {},
   "outputs": [
    {
     "name": "stdout",
     "output_type": "stream",
     "text": [
      "2200511686704\n",
      "2200511913008\n"
     ]
    }
   ],
   "source": [
    "s7=\"rakesh\"\n",
    "s8=\"kumar\"\n",
    "print(id(s7))\n",
    "print(id(s8))"
   ]
  },
  {
   "cell_type": "code",
   "execution_count": 13,
   "id": "b84185bd-dfdd-46d7-b486-1dca86699c56",
   "metadata": {},
   "outputs": [
    {
     "name": "stdout",
     "output_type": "stream",
     "text": [
      "2200511909104\n"
     ]
    }
   ],
   "source": [
    "s9=s7+s8\n",
    "print(id(s9))"
   ]
  },
  {
   "cell_type": "code",
   "execution_count": 14,
   "id": "f0c6c498-fcf9-45fc-88ba-7a207cf9e5ba",
   "metadata": {},
   "outputs": [
    {
     "data": {
      "text/plain": [
       "'rakeshkumar'"
      ]
     },
     "execution_count": 14,
     "metadata": {},
     "output_type": "execute_result"
    }
   ],
   "source": [
    "s9"
   ]
  },
  {
   "cell_type": "code",
   "execution_count": 20,
   "id": "b33affed-75d8-435c-8723-18221c0d6d80",
   "metadata": {},
   "outputs": [
    {
     "name": "stdout",
     "output_type": "stream",
     "text": [
      "r\n",
      "m\n"
     ]
    },
    {
     "ename": "IndexError",
     "evalue": "string index out of range",
     "output_type": "error",
     "traceback": [
      "\u001b[1;31m---------------------------------------------------------------------------\u001b[0m",
      "\u001b[1;31mIndexError\u001b[0m                                Traceback (most recent call last)",
      "Cell \u001b[1;32mIn[20], line 4\u001b[0m\n\u001b[0;32m      2\u001b[0m \u001b[38;5;28mprint\u001b[39m(s10[\u001b[38;5;241m0\u001b[39m])\n\u001b[0;32m      3\u001b[0m \u001b[38;5;28mprint\u001b[39m(s10[\u001b[38;5;241m9\u001b[39m])\n\u001b[1;32m----> 4\u001b[0m \u001b[38;5;28mprint\u001b[39m(\u001b[43ms10\u001b[49m\u001b[43m[\u001b[49m\u001b[38;5;241;43m20\u001b[39;49m\u001b[43m]\u001b[49m)\n",
      "\u001b[1;31mIndexError\u001b[0m: string index out of range"
     ]
    }
   ],
   "source": [
    "s10=\"rakesh kumar\"\n",
    "print(s10[0])\n",
    "print(s10[9])\n",
    "print(s10[20])"
   ]
  },
  {
   "cell_type": "code",
   "execution_count": 23,
   "id": "5dce0d5e-09f8-485c-92c3-1c056a1a4321",
   "metadata": {},
   "outputs": [
    {
     "name": "stdin",
     "output_type": "stream",
     "text": [
      "enter some string: rakesh\n"
     ]
    },
    {
     "name": "stdout",
     "output_type": "stream",
     "text": [
      "positive index 0 and negative index -6 is r\n",
      "positive index 1 and negative index -5 is a\n",
      "positive index 2 and negative index -4 is k\n",
      "positive index 3 and negative index -3 is e\n",
      "positive index 4 and negative index -2 is s\n",
      "positive index 5 and negative index -1 is h\n"
     ]
    }
   ],
   "source": [
    "s11=input(\"enter some string:\")\n",
    "i=0\n",
    "for x in s11:\n",
    "    print(\"positive index {} and negative index {} is {}\".format(i,i-len(s11),x))\n",
    "    i=i+1"
   ]
  },
  {
   "cell_type": "code",
   "execution_count": 30,
   "id": "7ae5595b-e18c-46fa-a6dd-6c62e0bf9afa",
   "metadata": {},
   "outputs": [
    {
     "data": {
      "text/plain": [
       "'rks'"
      ]
     },
     "execution_count": 30,
     "metadata": {},
     "output_type": "execute_result"
    }
   ],
   "source": [
    "s12=\"rakesh\"\n",
    "s12[0:7:2]"
   ]
  },
  {
   "cell_type": "code",
   "execution_count": 32,
   "id": "08512947-121e-41cd-bcd6-5555d53f0d9b",
   "metadata": {},
   "outputs": [
    {
     "data": {
      "text/plain": [
       "'rakesh'"
      ]
     },
     "execution_count": 32,
     "metadata": {},
     "output_type": "execute_result"
    }
   ],
   "source": [
    "s12[::]"
   ]
  },
  {
   "cell_type": "code",
   "execution_count": 33,
   "id": "71355a33-6d61-4bd0-8deb-6fd25b231834",
   "metadata": {},
   "outputs": [
    {
     "data": {
      "text/plain": [
       "'hsekar'"
      ]
     },
     "execution_count": 33,
     "metadata": {},
     "output_type": "execute_result"
    }
   ],
   "source": [
    "s12[::-1]"
   ]
  },
  {
   "cell_type": "code",
   "execution_count": 34,
   "id": "c0257496-1d91-455b-9e37-e3d17217fd69",
   "metadata": {},
   "outputs": [
    {
     "data": {
      "text/plain": [
       "'hea'"
      ]
     },
     "execution_count": 34,
     "metadata": {},
     "output_type": "execute_result"
    }
   ],
   "source": [
    "s12[::-2]"
   ]
  },
  {
   "cell_type": "code",
   "execution_count": 37,
   "id": "a89bec60-ed99-4182-9947-f392ac3e33b2",
   "metadata": {},
   "outputs": [
    {
     "data": {
      "text/plain": [
       "'rakeshkumar'"
      ]
     },
     "execution_count": 37,
     "metadata": {},
     "output_type": "execute_result"
    }
   ],
   "source": [
    "\"rakesh\"+\"kumar\""
   ]
  },
  {
   "cell_type": "code",
   "execution_count": 38,
   "id": "3f4fb559-95a7-4553-ac58-138ccb8b9bc1",
   "metadata": {},
   "outputs": [
    {
     "data": {
      "text/plain": [
       "12"
      ]
     },
     "execution_count": 38,
     "metadata": {},
     "output_type": "execute_result"
    }
   ],
   "source": [
    "s13=\"rakesh kumar\"\n",
    "len(s13)"
   ]
  },
  {
   "cell_type": "code",
   "execution_count": 39,
   "id": "e8eae3aa-f648-4f8d-ac05-86c2749905a4",
   "metadata": {},
   "outputs": [
    {
     "data": {
      "text/plain": [
       "'rakesh kumar'"
      ]
     },
     "execution_count": 39,
     "metadata": {},
     "output_type": "execute_result"
    }
   ],
   "source": [
    "s13[:]"
   ]
  },
  {
   "cell_type": "code",
   "execution_count": null,
   "id": "9d7f1e4f-ca40-4026-8591-db5cbcde052a",
   "metadata": {},
   "outputs": [],
   "source": []
  },
  {
   "cell_type": "code",
   "execution_count": null,
   "id": "a54dad0f-b73a-4ede-9be9-be2110a46df0",
   "metadata": {},
   "outputs": [],
   "source": []
  },
  {
   "cell_type": "code",
   "execution_count": null,
   "id": "3d1da096-d308-4be1-a125-55c72205795f",
   "metadata": {},
   "outputs": [],
   "source": []
  },
  {
   "cell_type": "code",
   "execution_count": null,
   "id": "17dea299-9bba-4eb7-8963-ba03fdceeb72",
   "metadata": {},
   "outputs": [],
   "source": []
  },
  {
   "cell_type": "code",
   "execution_count": null,
   "id": "d0f8a334-4175-4ad4-a733-cec40b650da8",
   "metadata": {},
   "outputs": [],
   "source": []
  },
  {
   "cell_type": "code",
   "execution_count": null,
   "id": "41333d26-e328-41fb-a799-50cf99c51987",
   "metadata": {},
   "outputs": [],
   "source": []
  },
  {
   "cell_type": "code",
   "execution_count": null,
   "id": "a95071e2-6f02-476a-bbd8-2539d89100f0",
   "metadata": {},
   "outputs": [],
   "source": []
  }
 ],
 "metadata": {
  "kernelspec": {
   "display_name": "Python 3 (ipykernel)",
   "language": "python",
   "name": "python3"
  },
  "language_info": {
   "codemirror_mode": {
    "name": "ipython",
    "version": 3
   },
   "file_extension": ".py",
   "mimetype": "text/x-python",
   "name": "python",
   "nbconvert_exporter": "python",
   "pygments_lexer": "ipython3",
   "version": "3.11.4"
  }
 },
 "nbformat": 4,
 "nbformat_minor": 5
}
