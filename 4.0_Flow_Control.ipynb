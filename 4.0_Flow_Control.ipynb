{
 "cells": [
  {
   "cell_type": "code",
   "execution_count": 4,
   "id": "00a013e1-4bcc-4f52-b4f8-9e80f94fedd6",
   "metadata": {},
   "outputs": [
    {
     "name": "stdin",
     "output_type": "stream",
     "text": [
      "enter your name rajesh\n"
     ]
    },
    {
     "name": "stdout",
     "output_type": "stream",
     "text": [
      "hi rajesh\n"
     ]
    }
   ],
   "source": [
    "name=input(\"enter your name\")\n",
    "if name==\"rakesh\":\n",
    "    print(\"hi\",name,\"good morning\")\n",
    "    print(\"how are you\",name,\"?\")\n",
    "print(\"hi\",name)"
   ]
  },
  {
   "cell_type": "code",
   "execution_count": 6,
   "id": "a9acaeba-3874-427e-8ef2-eb0d342356bb",
   "metadata": {},
   "outputs": [
    {
     "name": "stdin",
     "output_type": "stream",
     "text": [
      "enter your name rajesh\n"
     ]
    },
    {
     "name": "stdout",
     "output_type": "stream",
     "text": [
      "invalid credentials\n"
     ]
    }
   ],
   "source": [
    "name=input(\"enter your name\")\n",
    "if name==\"rakesh\":\n",
    "    print(\"hi\",name,\"good morning\")\n",
    "    print(\"how are you\",name,\"?\")\n",
    "else:\n",
    "    print(\"invalid credentials\")"
   ]
  },
  {
   "cell_type": "code",
   "execution_count": 8,
   "id": "3c1147eb-61fe-4561-addf-faa96821ac9d",
   "metadata": {},
   "outputs": [
    {
     "name": "stdin",
     "output_type": "stream",
     "text": [
      "enter your name ramesh\n"
     ]
    },
    {
     "name": "stdout",
     "output_type": "stream",
     "text": [
      "hi ramesh\n"
     ]
    }
   ],
   "source": [
    "name=input(\"enter your name\")\n",
    "if name==\"rakesh\":\n",
    "    print(\"hi\",name,\"good morning\")\n",
    "    print(\"how are you\",name,\"?\")\n",
    "elif name==\"ramesh\":\n",
    "    print(\"hi\",name)\n",
    "else:\n",
    "    print(\"invalid credentials\")"
   ]
  },
  {
   "cell_type": "code",
   "execution_count": 15,
   "id": "cd4f0908-ab2a-4b0e-8962-341946a70a10",
   "metadata": {},
   "outputs": [
    {
     "name": "stdin",
     "output_type": "stream",
     "text": [
      "enter first number 10\n",
      "enter second number 5\n"
     ]
    },
    {
     "name": "stdout",
     "output_type": "stream",
     "text": [
      "<class 'int'>\n",
      "n1 is larger\n"
     ]
    }
   ],
   "source": [
    "n1=int(input(\"enter first number\"))\n",
    "n2=int(input(\"enter second number\"))\n",
    "print(type(n1))\n",
    "if n1>n2:\n",
    "    print(\"n1 is larger\")\n",
    "else:\n",
    "    print(\"n2 is larger\")"
   ]
  },
  {
   "cell_type": "code",
   "execution_count": 16,
   "id": "d7f3a2ea-c03b-4082-9c43-d48bad9d889b",
   "metadata": {},
   "outputs": [
    {
     "name": "stdin",
     "output_type": "stream",
     "text": [
      "enter first number 10\n",
      "enter second number 20\n",
      "enter third number 30\n"
     ]
    },
    {
     "name": "stdout",
     "output_type": "stream",
     "text": [
      "<class 'int'>\n",
      "n3 is larger\n"
     ]
    }
   ],
   "source": [
    "n1=int(input(\"enter first number\"))\n",
    "n2=int(input(\"enter second number\"))\n",
    "n3=int(input(\"enter third number\"))\n",
    "print(type(n1))\n",
    "if n1>n2>n3:\n",
    "    print(\"n1 is larger\")\n",
    "elif n2>n1>n2:\n",
    "    print(\"n2 is larger\")\n",
    "else:\n",
    "    print(\"n3 is larger\")"
   ]
  },
  {
   "cell_type": "code",
   "execution_count": 17,
   "id": "e3d7ba64-9e29-40ce-9215-be3d82a08bdc",
   "metadata": {},
   "outputs": [
    {
     "name": "stdin",
     "output_type": "stream",
     "text": [
      "enter first number 10\n",
      "enter second number 20\n"
     ]
    },
    {
     "name": "stdout",
     "output_type": "stream",
     "text": [
      "<class 'int'>\n",
      "n1 is smaller\n"
     ]
    }
   ],
   "source": [
    "n1=int(input(\"enter first number\"))\n",
    "n2=int(input(\"enter second number\"))\n",
    "print(type(n1))\n",
    "if n1<n2:\n",
    "    print(\"n1 is smaller\")\n",
    "else:\n",
    "    print(\"n2 is smaller\")"
   ]
  },
  {
   "cell_type": "code",
   "execution_count": 18,
   "id": "90543e41-c6a2-47cd-a689-534d7e7d2175",
   "metadata": {},
   "outputs": [
    {
     "name": "stdin",
     "output_type": "stream",
     "text": [
      "enter first number 20\n",
      "enter second number 30\n",
      "enter third number 50\n"
     ]
    },
    {
     "name": "stdout",
     "output_type": "stream",
     "text": [
      "<class 'int'>\n",
      "n1 is smaller\n"
     ]
    }
   ],
   "source": [
    "n1=int(input(\"enter first number\"))\n",
    "n2=int(input(\"enter second number\"))\n",
    "n3=int(input(\"enter third number\"))\n",
    "print(type(n1))\n",
    "if n1<n2<n3:\n",
    "    print(\"n1 is smaller\")\n",
    "elif n2<n1<n2:\n",
    "    print(\"n2 is smaller\")\n",
    "else:\n",
    "    print(\"n3 is smaller\")"
   ]
  },
  {
   "cell_type": "code",
   "execution_count": 19,
   "id": "9df0e011-e657-4c5d-bae6-54e682735697",
   "metadata": {},
   "outputs": [
    {
     "name": "stdin",
     "output_type": "stream",
     "text": [
      "enter the number 10\n"
     ]
    },
    {
     "name": "stdout",
     "output_type": "stream",
     "text": [
      "n is a even number\n"
     ]
    }
   ],
   "source": [
    "n=int(input(\"enter the number\"))\n",
    "if n%2==0:\n",
    "    print(\"n is a even number\")\n",
    "else:\n",
    "    print(\"n is odd number\")"
   ]
  },
  {
   "cell_type": "code",
   "execution_count": 21,
   "id": "3cce5c11-4cac-4eee-9d62-ee52f6ad8efa",
   "metadata": {},
   "outputs": [
    {
     "name": "stdin",
     "output_type": "stream",
     "text": [
      "enter number 0\n"
     ]
    },
    {
     "name": "stdout",
     "output_type": "stream",
     "text": [
      "n is not within 1 to 100\n"
     ]
    }
   ],
   "source": [
    "n=int(input(\"enter number\"))\n",
    "if n>=1 and n<=100:\n",
    "    print(\"n is within 1 to 100\")\n",
    "else:\n",
    "    print(\"n is not within 1 to 100\")"
   ]
  },
  {
   "cell_type": "code",
   "execution_count": 22,
   "id": "ae914270-7c9a-443a-bd22-9090dfa5832d",
   "metadata": {},
   "outputs": [
    {
     "name": "stdout",
     "output_type": "stream",
     "text": [
      "r\n",
      "a\n",
      "k\n",
      "e\n",
      "s\n",
      "h\n"
     ]
    }
   ],
   "source": [
    "f1=\"rakesh\"\n",
    "for i in f1:\n",
    "    print(i)"
   ]
  },
  {
   "cell_type": "code",
   "execution_count": 23,
   "id": "c16e11d7-2048-47fd-b61f-62b05cc910cd",
   "metadata": {},
   "outputs": [
    {
     "name": "stdin",
     "output_type": "stream",
     "text": [
      "enter some string rakesh\n"
     ]
    },
    {
     "name": "stdout",
     "output_type": "stream",
     "text": [
      "the character present at  0 index is r\n",
      "the character present at  1 index is a\n",
      "the character present at  2 index is k\n",
      "the character present at  3 index is e\n",
      "the character present at  4 index is s\n",
      "the character present at  5 index is h\n"
     ]
    }
   ],
   "source": [
    "f2=input(\"enter some string\")\n",
    "i=0\n",
    "for x in f2:\n",
    "    print(\"the character present at \",i,\"index is\",x)\n",
    "    i=i+1"
   ]
  },
  {
   "cell_type": "code",
   "execution_count": 24,
   "id": "01eae482-f4dd-4241-a9cc-2a6cf781e74a",
   "metadata": {},
   "outputs": [
    {
     "name": "stdout",
     "output_type": "stream",
     "text": [
      "hello\n",
      "hello\n",
      "hello\n",
      "hello\n",
      "hello\n"
     ]
    }
   ],
   "source": [
    "for x in range(5):\n",
    "    print(\"hello\")"
   ]
  },
  {
   "cell_type": "code",
   "execution_count": 25,
   "id": "015b5a36-7539-42b5-a74d-744079f27ff3",
   "metadata": {},
   "outputs": [
    {
     "name": "stdout",
     "output_type": "stream",
     "text": [
      "0\n",
      "1\n",
      "2\n",
      "3\n",
      "4\n"
     ]
    }
   ],
   "source": [
    "for x in range(5):\n",
    "    print(x)\n"
   ]
  },
  {
   "cell_type": "code",
   "execution_count": 26,
   "id": "6d15a5df-6a97-492b-a580-78c7acffb06d",
   "metadata": {},
   "outputs": [
    {
     "name": "stdout",
     "output_type": "stream",
     "text": [
      "1\n",
      "3\n",
      "5\n",
      "7\n",
      "9\n",
      "11\n",
      "13\n",
      "15\n",
      "17\n",
      "19\n"
     ]
    }
   ],
   "source": [
    "for x in range(0,20):\n",
    "    if x%2!=0:\n",
    "        print(x)"
   ]
  },
  {
   "cell_type": "code",
   "execution_count": 27,
   "id": "26e04d28-3909-42bf-94ea-d4be51a7070e",
   "metadata": {},
   "outputs": [
    {
     "name": "stdout",
     "output_type": "stream",
     "text": [
      "10\n",
      "9\n",
      "8\n",
      "7\n",
      "6\n",
      "5\n",
      "4\n",
      "3\n",
      "2\n",
      "1\n"
     ]
    }
   ],
   "source": [
    "for i in range(10,0,-1):\n",
    "    print(i)"
   ]
  },
  {
   "cell_type": "code",
   "execution_count": 29,
   "id": "5ceb99d9-dec0-4111-aa06-33a854638231",
   "metadata": {},
   "outputs": [
    {
     "name": "stdout",
     "output_type": "stream",
     "text": [
      "28\n"
     ]
    }
   ],
   "source": [
    "list=[1,2,3,4,5,6,7]\n",
    "sum=0\n",
    "for i in list:\n",
    "    sum=sum+i\n",
    "print(sum)"
   ]
  },
  {
   "cell_type": "code",
   "execution_count": 31,
   "id": "b5735e42-4c25-4572-b429-2a221bd3187b",
   "metadata": {},
   "outputs": [
    {
     "name": "stdin",
     "output_type": "stream",
     "text": [
      "enter list [10,20,30]\n"
     ]
    },
    {
     "name": "stdout",
     "output_type": "stream",
     "text": [
      "60\n"
     ]
    }
   ],
   "source": [
    "lst=eval(input(\"enter list\"))\n",
    "sum=0\n",
    "for i in lst:\n",
    "    sum=sum+i\n",
    "print(sum)"
   ]
  },
  {
   "cell_type": "code",
   "execution_count": 32,
   "id": "bdf1bf00-3d2b-4075-b3bc-5619a46ac6a6",
   "metadata": {},
   "outputs": [
    {
     "name": "stdout",
     "output_type": "stream",
     "text": [
      "1\n",
      "2\n",
      "3\n",
      "4\n",
      "5\n",
      "6\n",
      "7\n",
      "8\n",
      "9\n",
      "10\n"
     ]
    }
   ],
   "source": [
    "x=1\n",
    "while x<=10:\n",
    "    print(x)\n",
    "    x=x+1"
   ]
  },
  {
   "cell_type": "code",
   "execution_count": 6,
   "id": "64e8f6df-138f-4ae6-8456-1c405ad081a9",
   "metadata": {},
   "outputs": [
    {
     "name": "stdin",
     "output_type": "stream",
     "text": [
      "enter the number 5\n"
     ]
    },
    {
     "name": "stdout",
     "output_type": "stream",
     "text": [
      "the sum of first 5 number is: 15\n"
     ]
    }
   ],
   "source": [
    "n=int(input(\"enter the number\"))\n",
    "sum=0\n",
    "i=1\n",
    "while i<=n:\n",
    "    sum=sum+i\n",
    "    i=i+1\n",
    "print(\"the sum of first\",n,\"number is:\",sum)"
   ]
  },
  {
   "cell_type": "code",
   "execution_count": 7,
   "id": "cf133055-3b28-427a-9bdd-c082a4292ad4",
   "metadata": {},
   "outputs": [
    {
     "name": "stdin",
     "output_type": "stream",
     "text": [
      "enter number 5\n"
     ]
    },
    {
     "name": "stdout",
     "output_type": "stream",
     "text": [
      "sum of first 5 numbers is: 15\n"
     ]
    }
   ],
   "source": [
    "n=int(input(\"enter number\"))\n",
    "sum=0\n",
    "i=1\n",
    "while i<=n:\n",
    "    sum=sum+i\n",
    "    i=i+1\n",
    "print(\"sum of first\",n,\"numbers is:\",sum)"
   ]
  },
  {
   "cell_type": "code",
   "execution_count": 8,
   "id": "40005368-a32b-45e7-8bc5-54d49cff8efb",
   "metadata": {},
   "outputs": [
    {
     "name": "stdin",
     "output_type": "stream",
     "text": [
      "enter your name rajesh\n",
      "enter your name rakesh\n"
     ]
    },
    {
     "name": "stdout",
     "output_type": "stream",
     "text": [
      "thanks for confirmation\n"
     ]
    }
   ],
   "source": [
    "name=\"\"\n",
    "while name!=\"rakesh\":\n",
    "    name=input(\"enter your name\")\n",
    "print(\"thanks for confirmation\")"
   ]
  },
  {
   "cell_type": "code",
   "execution_count": 10,
   "id": "cfc6c2b4-53aa-4372-bc40-1716fc04f882",
   "metadata": {},
   "outputs": [
    {
     "name": "stdout",
     "output_type": "stream",
     "text": [
      "i= 0 j= 0\n",
      "i= 0 j= 1\n",
      "i= 0 j= 2\n",
      "i= 0 j= 3\n",
      "i= 0 j= 4\n",
      "i= 0 j= 5\n",
      "i= 0 j= 6\n",
      "i= 1 j= 0\n",
      "i= 1 j= 1\n",
      "i= 1 j= 2\n",
      "i= 1 j= 3\n",
      "i= 1 j= 4\n",
      "i= 1 j= 5\n",
      "i= 1 j= 6\n",
      "i= 2 j= 0\n",
      "i= 2 j= 1\n",
      "i= 2 j= 2\n",
      "i= 2 j= 3\n",
      "i= 2 j= 4\n",
      "i= 2 j= 5\n",
      "i= 2 j= 6\n",
      "i= 3 j= 0\n",
      "i= 3 j= 1\n",
      "i= 3 j= 2\n",
      "i= 3 j= 3\n",
      "i= 3 j= 4\n",
      "i= 3 j= 5\n",
      "i= 3 j= 6\n"
     ]
    }
   ],
   "source": [
    "for i in range(4):\n",
    "    for j in range(7):\n",
    "        print(\"i=\",i,\"j=\",j)"
   ]
  },
  {
   "cell_type": "code",
   "execution_count": 12,
   "id": "28066163-9adb-4236-9668-5026bfd8a3ad",
   "metadata": {},
   "outputs": [
    {
     "name": "stdin",
     "output_type": "stream",
     "text": [
      "enter number of rows 5\n"
     ]
    },
    {
     "name": "stdout",
     "output_type": "stream",
     "text": [
      "*\n",
      "**\n",
      "***\n",
      "****\n",
      "*****\n"
     ]
    }
   ],
   "source": [
    "n=int(input(\"enter number of rows\"))\n",
    "for i in range(1,n+1):\n",
    "    for j in range(1,i+1):\n",
    "        print(\"*\",end='')\n",
    "    print()"
   ]
  },
  {
   "cell_type": "code",
   "execution_count": 17,
   "id": "571ab0ee-5d58-41f6-806e-40aefe135ab3",
   "metadata": {},
   "outputs": [
    {
     "name": "stdin",
     "output_type": "stream",
     "text": [
      "enter no of rows 5\n"
     ]
    },
    {
     "name": "stdout",
     "output_type": "stream",
     "text": [
      "*\n",
      "**\n",
      "***\n",
      "****\n",
      "*****\n"
     ]
    }
   ],
   "source": [
    "n=int(input(\"enter no of rows\"))\n",
    "for i in range(1,n+1):\n",
    "    print(\"*\" * i)"
   ]
  },
  {
   "cell_type": "code",
   "execution_count": 21,
   "id": "cb388f14-99ea-4680-a8e1-9cea2d5124c5",
   "metadata": {},
   "outputs": [
    {
     "name": "stdin",
     "output_type": "stream",
     "text": [
      "enter noof rows 5\n"
     ]
    },
    {
     "name": "stdout",
     "output_type": "stream",
     "text": [
      "    * \n",
      "   * * \n",
      "  * * * \n",
      " * * * * \n",
      "* * * * * \n"
     ]
    }
   ],
   "source": [
    "n=int(input(\"enter noof rows\"))\n",
    "for i in range(1,n+1):\n",
    "    print(\" \" * (n-i),end=\"\")\n",
    "    print(\"* \"*i)"
   ]
  },
  {
   "cell_type": "code",
   "execution_count": 25,
   "id": "3b2a8f7b-5497-4bb5-8ff9-44b2d94752f4",
   "metadata": {},
   "outputs": [
    {
     "name": "stdout",
     "output_type": "stream",
     "text": [
      "0\n",
      "1\n",
      "2\n",
      "3\n",
      "4\n",
      "5\n",
      "6\n",
      "7\n",
      "8\n",
      "9\n"
     ]
    }
   ],
   "source": [
    "for i in range(10):\n",
    "    if i ==11:\n",
    "        print(\"processing is enough\")\n",
    "        break\n",
    "    print(i)"
   ]
  },
  {
   "cell_type": "code",
   "execution_count": 28,
   "id": "6bfe8bf2-98f4-41d8-9ba2-4b9427c0c941",
   "metadata": {},
   "outputs": [
    {
     "name": "stdout",
     "output_type": "stream",
     "text": [
      "100\n",
      "300\n",
      "600\n",
      "insurance is required for this item\n"
     ]
    }
   ],
   "source": [
    "cart=[100,300,600,1200]\n",
    "for item in cart:\n",
    "    if item>1000:\n",
    "        print(\"insurance is required for this item\")\n",
    "        break\n",
    "    print(item)"
   ]
  },
  {
   "cell_type": "code",
   "execution_count": 30,
   "id": "40c7b3cc-e92d-465e-a4ec-8456b0da3957",
   "metadata": {},
   "outputs": [
    {
     "name": "stdout",
     "output_type": "stream",
     "text": [
      "0\n",
      "2\n",
      "4\n",
      "6\n",
      "8\n"
     ]
    }
   ],
   "source": [
    "for i in range(10):\n",
    "    if i%2!=0:\n",
    "        continue\n",
    "    print(i)"
   ]
  },
  {
   "cell_type": "code",
   "execution_count": 32,
   "id": "5ee97f09-7af0-4c1f-9880-00b9af6ac624",
   "metadata": {},
   "outputs": [
    {
     "name": "stdout",
     "output_type": "stream",
     "text": [
      "100\n",
      "300\n",
      "600\n",
      "we cannpot process this item\n",
      "400\n"
     ]
    }
   ],
   "source": [
    "cart=[100,300,600,1200,400]\n",
    "for item in cart:\n",
    "    if item>1000:\n",
    "        print(\"we cannpot process this item\")\n",
    "        continue\n",
    "    print(item)"
   ]
  },
  {
   "cell_type": "code",
   "execution_count": 33,
   "id": "fa59ecd1-f115-4b7d-a5ec-6714c12408c9",
   "metadata": {},
   "outputs": [
    {
     "name": "stdout",
     "output_type": "stream",
     "text": [
      "100/10=10.0\n",
      "100/20=5.0\n",
      "we cant divide with zero\n",
      "100/40=2.5\n",
      "100/50=2.0\n",
      "we cant divide with zero\n",
      "100/60=1.6666666666666667\n"
     ]
    }
   ],
   "source": [
    "numbers=[10,20,0,40,50,0,60]\n",
    "for n in numbers:\n",
    "    if n==0:\n",
    "        print(\"we cant divide with zero\")\n",
    "        continue\n",
    "    print(\"100/{}={}\".format(n,100/n))"
   ]
  },
  {
   "cell_type": "code",
   "execution_count": 37,
   "id": "932566e6-1ef0-44b2-ba48-b0c60bf89c70",
   "metadata": {},
   "outputs": [
    {
     "name": "stdout",
     "output_type": "stream",
     "text": [
      "10\n",
      "20\n",
      "we cannot process this order\n"
     ]
    }
   ],
   "source": [
    "cart=[10,20,505,40,50]\n",
    "for item in cart:\n",
    "    if item>500:\n",
    "        print(\"we cannot process this order\")\n",
    "        break\n",
    "    print(item)\n",
    "else:\n",
    "    print(\"all items are processed successfully\")"
   ]
  },
  {
   "cell_type": "code",
   "execution_count": 38,
   "id": "3ada6737-92b1-4edc-b27b-ea55811f8b2e",
   "metadata": {},
   "outputs": [
    {
     "name": "stdout",
     "output_type": "stream",
     "text": [
      "10\n",
      "20\n",
      "we cannot process this order\n",
      "40\n",
      "50\n",
      "all items are processed successfully\n"
     ]
    }
   ],
   "source": [
    "cart=[10,20,505,40,50]\n",
    "for item in cart:\n",
    "    if item>=\n",
    "    500:\n",
    "        print(\"we cannot process this order\")\n",
    "        continue\n",
    "    print(item)\n",
    "else:\n",
    "    print(\"all items are processed successfully\")"
   ]
  },
  {
   "cell_type": "code",
   "execution_count": 41,
   "id": "15cb5c26-a9f4-4b1f-9118-d3cb37ca6668",
   "metadata": {},
   "outputs": [
    {
     "name": "stdout",
     "output_type": "stream",
     "text": [
      "[30, 50]\n"
     ]
    }
   ],
   "source": [
    "a=[10,30,50]\n",
    "del a[0]\n",
    "print(a)"
   ]
  },
  {
   "cell_type": "code",
   "execution_count": 42,
   "id": "dbe3edc3-db67-47fd-8be2-4031c2b9e9a3",
   "metadata": {},
   "outputs": [
    {
     "data": {
      "text/plain": [
       "[30, 50]"
      ]
     },
     "execution_count": 42,
     "metadata": {},
     "output_type": "execute_result"
    }
   ],
   "source": [
    "a"
   ]
  },
  {
   "cell_type": "code",
   "execution_count": 43,
   "id": "4e118436-88f3-4f8c-bbb1-308bff9a62ca",
   "metadata": {},
   "outputs": [
    {
     "name": "stdout",
     "output_type": "stream",
     "text": [
      "None\n"
     ]
    }
   ],
   "source": [
    "a=[10,30,50]\n",
    "a=None\n",
    "print(a)"
   ]
  },
  {
   "cell_type": "code",
   "execution_count": null,
   "id": "b6d7f805-ec80-4292-8e3e-faadf0f612c4",
   "metadata": {},
   "outputs": [],
   "source": []
  },
  {
   "cell_type": "code",
   "execution_count": null,
   "id": "200fd021-856d-409f-a5c8-3c65e5748b7c",
   "metadata": {},
   "outputs": [],
   "source": []
  },
  {
   "cell_type": "code",
   "execution_count": null,
   "id": "fb0968b5-7bf7-4fc3-b97e-7c1f81137072",
   "metadata": {},
   "outputs": [],
   "source": []
  },
  {
   "cell_type": "code",
   "execution_count": null,
   "id": "b25d1850-5f11-4a8a-9653-82ca4c421d0a",
   "metadata": {},
   "outputs": [],
   "source": []
  },
  {
   "cell_type": "code",
   "execution_count": null,
   "id": "12d27f9f-e179-4aa0-acab-760c6457b3d2",
   "metadata": {},
   "outputs": [],
   "source": []
  },
  {
   "cell_type": "code",
   "execution_count": null,
   "id": "acf38fe5-a5c7-4b4c-b4a7-819b79dfb510",
   "metadata": {},
   "outputs": [],
   "source": []
  },
  {
   "cell_type": "code",
   "execution_count": null,
   "id": "0f68807a-3cd7-468e-be5d-340261083c63",
   "metadata": {},
   "outputs": [],
   "source": []
  },
  {
   "cell_type": "code",
   "execution_count": null,
   "id": "30530d66-e6b1-455e-b4d7-9c37b5d6dc87",
   "metadata": {},
   "outputs": [],
   "source": []
  },
  {
   "cell_type": "code",
   "execution_count": null,
   "id": "a19dd5ae-c091-406c-af03-a0339626d66d",
   "metadata": {},
   "outputs": [],
   "source": []
  },
  {
   "cell_type": "code",
   "execution_count": null,
   "id": "f0972dda-0fc5-4c02-8f31-d86c3012f7cf",
   "metadata": {},
   "outputs": [],
   "source": []
  },
  {
   "cell_type": "code",
   "execution_count": null,
   "id": "8e09fede-3dd6-41e5-958c-e3a8e27297c3",
   "metadata": {},
   "outputs": [],
   "source": []
  },
  {
   "cell_type": "code",
   "execution_count": null,
   "id": "1ea40e6e-4183-4713-8e88-4177ad9fcdfc",
   "metadata": {},
   "outputs": [],
   "source": []
  },
  {
   "cell_type": "code",
   "execution_count": null,
   "id": "dd2c75c1-6ee2-4d0a-8a7e-fd3ae52fa2e5",
   "metadata": {},
   "outputs": [],
   "source": []
  },
  {
   "cell_type": "code",
   "execution_count": null,
   "id": "8ebdd04c-f5bd-47a4-8603-7bef4cd3c803",
   "metadata": {},
   "outputs": [],
   "source": []
  },
  {
   "cell_type": "code",
   "execution_count": null,
   "id": "d5ca1aea-1344-4f08-ad32-9d7276cd4995",
   "metadata": {},
   "outputs": [],
   "source": []
  },
  {
   "cell_type": "code",
   "execution_count": null,
   "id": "4789f608-0a7c-43d2-858c-a5d377a7ab7c",
   "metadata": {},
   "outputs": [],
   "source": []
  }
 ],
 "metadata": {
  "kernelspec": {
   "display_name": "Python 3 (ipykernel)",
   "language": "python",
   "name": "python3"
  },
  "language_info": {
   "codemirror_mode": {
    "name": "ipython",
    "version": 3
   },
   "file_extension": ".py",
   "mimetype": "text/x-python",
   "name": "python",
   "nbconvert_exporter": "python",
   "pygments_lexer": "ipython3",
   "version": "3.11.4"
  }
 },
 "nbformat": 4,
 "nbformat_minor": 5
}
