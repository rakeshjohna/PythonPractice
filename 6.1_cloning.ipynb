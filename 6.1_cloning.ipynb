{
 "cells": [
  {
   "cell_type": "code",
   "execution_count": 1,
   "id": "6a6732e9-a2fa-4a2a-81df-1c68c7755b0d",
   "metadata": {},
   "outputs": [
    {
     "name": "stdout",
     "output_type": "stream",
     "text": [
      "2610691663040\n",
      "2610691663040\n"
     ]
    }
   ],
   "source": [
    "x=[10,20,30,40]\n",
    "y=x\n",
    "print(id(x))\n",
    "print(id(y))"
   ]
  },
  {
   "cell_type": "code",
   "execution_count": 3,
   "id": "3ed46518-98d9-409a-a5e0-c9d15b631149",
   "metadata": {},
   "outputs": [
    {
     "name": "stdout",
     "output_type": "stream",
     "text": [
      "[10, 777, 30, 40]\n",
      "[10, 777, 30, 40]\n",
      "2610691667328\n",
      "2610691667328\n"
     ]
    }
   ],
   "source": [
    "x=[10,20,30,40]\n",
    "y=x\n",
    "y[1]=777\n",
    "print(x)\n",
    "print(y)\n",
    "print(id(x))\n",
    "print(id(y))"
   ]
  },
  {
   "cell_type": "code",
   "execution_count": 4,
   "id": "7a07d47b-e61c-4833-ae9d-decfc2d5166c",
   "metadata": {},
   "outputs": [],
   "source": [
    "x=[10,20,30,40]\n",
    "y=x[:]"
   ]
  },
  {
   "cell_type": "code",
   "execution_count": 5,
   "id": "2d49db2b-2203-484e-bba3-52beebcbdbcf",
   "metadata": {},
   "outputs": [],
   "source": [
    "y[1]=777"
   ]
  },
  {
   "cell_type": "code",
   "execution_count": 6,
   "id": "2284f4f1-e6bc-43c6-bc62-8da92ffa769e",
   "metadata": {},
   "outputs": [
    {
     "name": "stdout",
     "output_type": "stream",
     "text": [
      "[10, 20, 30, 40]\n",
      "[10, 777, 30, 40]\n",
      "2610691659328\n",
      "2610691660800\n"
     ]
    }
   ],
   "source": [
    "print(x)\n",
    "print(y)\n",
    "print(id(x))\n",
    "print(id(y))"
   ]
  },
  {
   "cell_type": "code",
   "execution_count": null,
   "id": "85728b75-9082-4f2c-9cc7-39a5a8e99c0a",
   "metadata": {},
   "outputs": [],
   "source": [
    "x=[10,20,30,40]\n",
    "y=x.copy()"
   ]
  },
  {
   "cell_type": "code",
   "execution_count": 7,
   "id": "97d900a3-e71b-438b-a5fd-4d9c15515ab5",
   "metadata": {},
   "outputs": [
    {
     "name": "stdout",
     "output_type": "stream",
     "text": [
      "[10, 20, 30, 40]\n",
      "[10, 777, 333, 40]\n",
      "2610691659328\n",
      "2610691660800\n"
     ]
    }
   ],
   "source": [
    "y[2]=333\n",
    "print(x)\n",
    "print(y)\n",
    "print(id(x))\n",
    "print(id(y))\n",
    "print(id(x[2]))\n",
    "print(id"
   ]
  },
  {
   "cell_type": "code",
   "execution_count": 8,
   "id": "bc2faf90-3f80-4619-8924-85f7d81b0748",
   "metadata": {},
   "outputs": [
    {
     "name": "stdout",
     "output_type": "stream",
     "text": [
      "2610691521024\n",
      "2610691546048\n",
      "[10, 20, 30, 40]\n",
      "[10, 20, 300, 40]\n"
     ]
    }
   ],
   "source": [
    "a=[10,20,30,40]\n",
    "b=list(a)\n",
    "print(id(a))\n",
    "print(id(b))\n",
    "b[2]=300\n",
    "print(a)\n",
    "print(b)"
   ]
  },
  {
   "cell_type": "code",
   "execution_count": null,
   "id": "668d78c6-ec94-4657-8b19-5aef8a3ab178",
   "metadata": {},
   "outputs": [],
   "source": []
  },
  {
   "cell_type": "code",
   "execution_count": null,
   "id": "77da4785-50a7-4799-a966-85f9ae9574df",
   "metadata": {},
   "outputs": [],
   "source": []
  },
  {
   "cell_type": "code",
   "execution_count": null,
   "id": "7f75596e-82fd-46b3-afab-a0e0e12a0ac1",
   "metadata": {},
   "outputs": [],
   "source": []
  },
  {
   "cell_type": "code",
   "execution_count": null,
   "id": "d3ee5b14-fdb5-4fa8-bf4a-da5ed2e9c213",
   "metadata": {},
   "outputs": [],
   "source": []
  },
  {
   "cell_type": "code",
   "execution_count": null,
   "id": "f263f4b2-9a1d-44f3-aa1c-319128253241",
   "metadata": {},
   "outputs": [],
   "source": []
  },
  {
   "cell_type": "code",
   "execution_count": null,
   "id": "68fecd74-0ac7-4da1-8961-942c2d41758c",
   "metadata": {},
   "outputs": [],
   "source": []
  },
  {
   "cell_type": "code",
   "execution_count": null,
   "id": "447b2046-dc41-495e-a592-09972f946f1a",
   "metadata": {},
   "outputs": [],
   "source": []
  },
  {
   "cell_type": "code",
   "execution_count": null,
   "id": "8669adc6-5792-4f77-b943-70545204d6a4",
   "metadata": {},
   "outputs": [],
   "source": []
  },
  {
   "cell_type": "code",
   "execution_count": null,
   "id": "bc848d1e-39af-426b-83f8-55faa600e789",
   "metadata": {},
   "outputs": [],
   "source": []
  },
  {
   "cell_type": "code",
   "execution_count": null,
   "id": "3703469e-35cb-4e54-bb36-7c516a3e822f",
   "metadata": {},
   "outputs": [],
   "source": []
  },
  {
   "cell_type": "code",
   "execution_count": 9,
   "id": "99a2072b-c14c-4e24-b334-2c5cfdcda6f7",
   "metadata": {},
   "outputs": [
    {
     "name": "stdout",
     "output_type": "stream",
     "text": [
      "2610691608128\n",
      "2610691658944\n",
      "['a', 'b', ['ab', 'ba']] ['a', 'b', ['ab', 'ba']]\n"
     ]
    }
   ],
   "source": [
    "from copy import deepcopy\n",
    "\n",
    "lst1 = ['a','b',['ab','ba']]\n",
    "lst2 = deepcopy(lst1)\n",
    "\n",
    "print(id(lst1))\n",
    "print(id(lst2))\n",
    "print(lst1, lst2)"
   ]
  },
  {
   "cell_type": "code",
   "execution_count": 10,
   "id": "f959645c-75ab-4b4b-b0f8-48b52a9ae71a",
   "metadata": {},
   "outputs": [
    {
     "name": "stdout",
     "output_type": "stream",
     "text": [
      "['a', 'b', ['ab', 'ba']] ['c', 'b', ['ab', 'ba']]\n"
     ]
    }
   ],
   "source": [
    "lst2[0] = 'c'\n",
    "print(lst1, lst2)"
   ]
  },
  {
   "cell_type": "code",
   "execution_count": 11,
   "id": "c425b1be-05ce-4bb4-b4e2-228c2ee413d7",
   "metadata": {},
   "outputs": [
    {
     "name": "stdout",
     "output_type": "stream",
     "text": [
      "['a', 'b', ['ab', 'ba']] ['c', 'b', ['ab', 'd']]\n"
     ]
    }
   ],
   "source": [
    "lst2[2][1]='d'\n",
    "print(lst1, lst2)"
   ]
  },
  {
   "cell_type": "code",
   "execution_count": 12,
   "id": "0e0b0a3a-a328-40bf-8ac4-fa508ac840b6",
   "metadata": {},
   "outputs": [
    {
     "name": "stdout",
     "output_type": "stream",
     "text": [
      "140716367185344\n",
      "140716366894088\n"
     ]
    }
   ],
   "source": [
    "print(id(lst1[0]))\n",
    "print(id(lst2[0]))"
   ]
  },
  {
   "cell_type": "code",
   "execution_count": 13,
   "id": "dd72a1fe-b06d-41ef-af2c-f52cdb094875",
   "metadata": {},
   "outputs": [
    {
     "name": "stdout",
     "output_type": "stream",
     "text": [
      "140716366878544\n",
      "140716366878544\n"
     ]
    }
   ],
   "source": [
    "print(id(lst1[1]))\n",
    "print(id(lst2[1]))"
   ]
  },
  {
   "cell_type": "code",
   "execution_count": 14,
   "id": "2066522d-0156-4bd8-93e8-927638769d88",
   "metadata": {},
   "outputs": [
    {
     "name": "stdout",
     "output_type": "stream",
     "text": [
      "2610691666496\n",
      "2610691663040\n"
     ]
    }
   ],
   "source": [
    "print(id(lst1[2]))\n",
    "print(id(lst2[2]))"
   ]
  },
  {
   "cell_type": "code",
   "execution_count": 2,
   "id": "80c432ec-d9dc-463f-9621-7455fd5b3076",
   "metadata": {},
   "outputs": [
    {
     "name": "stdout",
     "output_type": "stream",
     "text": [
      "[10, 22, 33, 44, 55]\n",
      "[10, 22, 33, 44, 55]\n"
     ]
    }
   ],
   "source": [
    "ol=[10,22,33,44,55]\n",
    "nl=list(ol)\n",
    "print(ol)\n",
    "print(nl)"
   ]
  },
  {
   "cell_type": "code",
   "execution_count": 8,
   "id": "3d8b266c-6f35-4fb0-bf18-ac67189d3faa",
   "metadata": {},
   "outputs": [
    {
     "name": "stdout",
     "output_type": "stream",
     "text": [
      "oroginal list [1, [2, 3, 4]]\n",
      "\n",
      "copy of said list or original list\n",
      "[1, [2, 3, 4]]\n",
      "\n",
      " change the vlaue of element of original list:\n",
      "[1, [2, 7, 4]]\n",
      "\n",
      "second list\n",
      "[1, [2, 7, 4]]\n",
      "\n",
      "original list\n",
      "[[1], [2]]\n",
      "\n",
      "copy of said list or original list\n",
      "[[1], [2]]\n",
      "\n",
      "chamge the value of element of original element\n",
      "\n",
      "first list\n",
      "[[0], [2]]\n",
      "\n",
      "second list\n",
      "[[0], [2]]\n"
     ]
    }
   ],
   "source": [
    "#shallow copy\n",
    "import copy\n",
    "nums_x=[1,[2,3,4]]\n",
    "print(\"oroginal list\",nums_x)\n",
    "nums_y=copy.copy(nums_x)\n",
    "print(\"\\ncopy of said list or original list\")\n",
    "print(nums_y)\n",
    "print(\"\\n change the vlaue of element of original list:\")\n",
    "nums_x[1][1]=7\n",
    "print(nums_x)\n",
    "print(\"\\nsecond list\")\n",
    "print(nums_y)\n",
    "NUMS=[[1],[2]]\n",
    "NUMS_copy=copy.copy(NUMS)\n",
    "print(\"\\noriginal list\")\n",
    "print(NUMS)\n",
    "print(\"\\ncopy of said list or original list\")\n",
    "print(NUMS_copy)\n",
    "print(\"\\nchamge the value of element of original element\")\n",
    "NUMS_copy[0][0]=0\n",
    "print(\"\\nfirst list\")\n",
    "print(NUMS)\n",
    "print(\"\\nsecond list\")\n",
    "print(NUMS_copy)"
   ]
  },
  {
   "cell_type": "code",
   "execution_count": 9,
   "id": "31fffb32-16ee-423d-a1ce-8d456e28d916",
   "metadata": {},
   "outputs": [
    {
     "name": "stdout",
     "output_type": "stream",
     "text": [
      "Original list:  [1, [2, 3, 4]]\n",
      "\n",
      "Deep copy of the said list:\n",
      "[1, [2, 3, 4]]\n",
      "\n",
      "Change the value of an element of the original list:\n",
      "[1, [2, 10, 4]]\n",
      "\n",
      "Copy of the second list (Deep copy):\n",
      "[1, [2, 3, 4]]\n",
      "\n",
      "Original list:\n",
      "[[1, 2, 3], [4, 5, 6]]\n",
      "\n",
      "Deep copy of the said list:\n",
      "[[1, 2, 3], [4, 5, 6]]\n",
      "\n",
      "Change the value of some elements of the original list:\n",
      "\n",
      "Original list:\n",
      "[[1, 2, 55], [4, 77, 6]]\n",
      "\n",
      "Second list (Deep copy):\n",
      "[[1, 2, 3], [4, 5, 6]]\n"
     ]
    }
   ],
   "source": [
    "#deep copy\n",
    "import copy\n",
    "nums_x = [1, [2, 3, 4]]\n",
    "print(\"Original list: \", nums_x)\n",
    "nums_y = copy.deepcopy(nums_x)\n",
    "print(\"\\nDeep copy of the said list:\")\n",
    "print(nums_y)\n",
    "print(\"\\nChange the value of an element of the original list:\")\n",
    "nums_x[1][1] = 10\n",
    "print(nums_x)\n",
    "print(\"\\nCopy of the second list (Deep copy):\")\n",
    "print(nums_y)\n",
    "nums = [[1, 2, 3], [4, 5, 6]]\n",
    "deep_copy = copy.deepcopy(nums)\n",
    "print(\"\\nOriginal list:\")\n",
    "print(nums)\n",
    "print(\"\\nDeep copy of the said list:\")\n",
    "print(deep_copy)\n",
    "print(\"\\nChange the value of some elements of the original list:\")\n",
    "nums[0][2] = 55\n",
    "nums[1][1] = 77\n",
    "print(\"\\nOriginal list:\")\n",
    "print(nums)\n",
    "print(\"\\nSecond list (Deep copy):\")\n",
    "print(deep_copy)"
   ]
  },
  {
   "cell_type": "code",
   "execution_count": 10,
   "id": "983ee4e0-09ab-4fac-b1ab-35dae3558831",
   "metadata": {},
   "outputs": [
    {
     "name": "stdout",
     "output_type": "stream",
     "text": [
      "[1, 2, 3, 4]\n",
      "[1, 2, 3, 4]\n"
     ]
    }
   ],
   "source": [
    "a=[1,2,3,4]\n",
    "b=copy.copy(a)\n",
    "print(a)\n",
    "print(b)"
   ]
  },
  {
   "cell_type": "code",
   "execution_count": 11,
   "id": "e549978a-abbc-46fa-a790-f202f786a53d",
   "metadata": {},
   "outputs": [
    {
     "name": "stdout",
     "output_type": "stream",
     "text": [
      "[1, 2, 5, 4]\n",
      "[1, 2, 3, 4]\n"
     ]
    }
   ],
   "source": [
    "a[2]=5\n",
    "print(a)\n",
    "print(b)"
   ]
  },
  {
   "cell_type": "code",
   "execution_count": 12,
   "id": "5c8ca428-6eb1-4e8d-9b46-e4cc0837aa2d",
   "metadata": {},
   "outputs": [
    {
     "name": "stdout",
     "output_type": "stream",
     "text": [
      "[1, 2, 3, 4]\n",
      "[1, 2, 3, 4]\n"
     ]
    }
   ],
   "source": [
    "a=[1,2,3,4]\n",
    "b=copy.deepcopy(a)\n",
    "print(a)\n",
    "print(b)"
   ]
  },
  {
   "cell_type": "code",
   "execution_count": 13,
   "id": "01d3a327-acf5-4998-9985-c79c1b6be13c",
   "metadata": {},
   "outputs": [
    {
     "name": "stdout",
     "output_type": "stream",
     "text": [
      "[1, 2, 5, 4]\n",
      "[1, 2, 3, 4]\n"
     ]
    }
   ],
   "source": [
    "a[2]=5\n",
    "print(a)\n",
    "print(b)"
   ]
  },
  {
   "cell_type": "code",
   "execution_count": 17,
   "id": "b8f16295-18b8-4b6b-9c60-b8e3ac5330e9",
   "metadata": {},
   "outputs": [
    {
     "name": "stdout",
     "output_type": "stream",
     "text": [
      "[10, 20, 30]\n",
      "[10, 20, 30]\n",
      "[10, 50, 30]\n",
      "[10, 20, 30]\n",
      "2405979381824\n",
      "2405979393152\n"
     ]
    }
   ],
   "source": [
    "x=[10,20,30]\n",
    "y=copy.copy(x)\n",
    "print(y)\n",
    "print(x)\n",
    "x[1]=50\n",
    "print(x)\n",
    "print(y)\n",
    "print(id(x))\n",
    "print(id(y))\n",
    "print(id(x("
   ]
  },
  {
   "cell_type": "code",
   "execution_count": 16,
   "id": "db7917b6-95ed-404c-957a-6592ca56f0f6",
   "metadata": {},
   "outputs": [
    {
     "name": "stdout",
     "output_type": "stream",
     "text": [
      "[10, 20, 30]\n",
      "[10, 20, 30]\n",
      "[10, 50, 30]\n",
      "[10, 20, 30]\n"
     ]
    }
   ],
   "source": [
    "x=[10,20,30]\n",
    "y=copy.deepcopy(x)\n",
    "print(y)\n",
    "print(x)\n",
    "x[1]=50\n",
    "print(x)\n",
    "print(y)"
   ]
  },
  {
   "cell_type": "code",
   "execution_count": null,
   "id": "c1b5a968-8b9c-4946-9508-0f4bca81d4b5",
   "metadata": {},
   "outputs": [],
   "source": []
  },
  {
   "cell_type": "code",
   "execution_count": null,
   "id": "cbeb1339-5a59-4744-84a8-a6a446e11782",
   "metadata": {},
   "outputs": [],
   "source": []
  },
  {
   "cell_type": "code",
   "execution_count": null,
   "id": "3d5de4b4-0920-43e3-aead-0611abfa259a",
   "metadata": {},
   "outputs": [],
   "source": []
  }
 ],
 "metadata": {
  "kernelspec": {
   "display_name": "Python 3 (ipykernel)",
   "language": "python",
   "name": "python3"
  },
  "language_info": {
   "codemirror_mode": {
    "name": "ipython",
    "version": 3
   },
   "file_extension": ".py",
   "mimetype": "text/x-python",
   "name": "python",
   "nbconvert_exporter": "python",
   "pygments_lexer": "ipython3",
   "version": "3.11.4"
  }
 },
 "nbformat": 4,
 "nbformat_minor": 5
}
