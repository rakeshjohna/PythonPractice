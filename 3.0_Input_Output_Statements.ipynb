{
 "cells": [
  {
   "cell_type": "code",
   "execution_count": 3,
   "id": "181e2df5-e834-4c41-a390-19261ffcc948",
   "metadata": {},
   "outputs": [
    {
     "name": "stdin",
     "output_type": "stream",
     "text": [
      "Enter the value 10\n"
     ]
    },
    {
     "name": "stdout",
     "output_type": "stream",
     "text": [
      "<class 'str'>\n"
     ]
    }
   ],
   "source": [
    "x=input(\"Enter the value\")\n",
    "print(type(x))"
   ]
  },
  {
   "cell_type": "code",
   "execution_count": 4,
   "id": "634e44b5-f508-4410-aa13-a87841433eb2",
   "metadata": {},
   "outputs": [
    {
     "name": "stdin",
     "output_type": "stream",
     "text": [
      "enter the value 10+5j\n"
     ]
    },
    {
     "name": "stdout",
     "output_type": "stream",
     "text": [
      "<class 'str'>\n"
     ]
    }
   ],
   "source": [
    "x=input(\"enter the value\")\n",
    "print(type(x))"
   ]
  },
  {
   "cell_type": "code",
   "execution_count": 5,
   "id": "4aa7a00a-3b8d-4ffb-9b3f-7dd7aca20a93",
   "metadata": {},
   "outputs": [
    {
     "name": "stdin",
     "output_type": "stream",
     "text": [
      "enter first number 20\n",
      "enter second number 20\n"
     ]
    },
    {
     "name": "stdout",
     "output_type": "stream",
     "text": [
      "the sum: 40\n"
     ]
    }
   ],
   "source": [
    "x=input(\"enter first number\")\n",
    "y=input(\"enter second number\")\n",
    "i=int(x)\n",
    "j=int(y)\n",
    "print(\"the sum:\",i+j)"
   ]
  },
  {
   "cell_type": "code",
   "execution_count": 10,
   "id": "50e8559c-336b-4679-a209-852d91c50068",
   "metadata": {},
   "outputs": [
    {
     "name": "stdin",
     "output_type": "stream",
     "text": [
      "enter employee number.: 3\n",
      "enter employee name rakesh\n",
      "enter employee salary: 20000\n",
      "employee working or not?: True\n"
     ]
    },
    {
     "name": "stdout",
     "output_type": "stream",
     "text": [
      "employee no: 3\n",
      "employee name: rakesh\n",
      "employee salary: 20000.0\n",
      "employee status: True\n"
     ]
    }
   ],
   "source": [
    "eno=int(input(\"enter employee number.:\"))\n",
    "ename=input(\"enter employee name\")\n",
    "esal=float(input(\"enter employee salary:\"))\n",
    "estatus=bool(input(\"employee working or not?:\"))\n",
    "\n",
    "print(\"employee no:\",eno)\n",
    "print(\"employee name:\",ename)\n",
    "print(\"employee salary:\",esal)\n",
    "print(\"employee status:\",   estatus)    "
   ]
  },
  {
   "cell_type": "code",
   "execution_count": 13,
   "id": "c8a5b33d-9265-4e28-a8bb-58d442b6ebee",
   "metadata": {},
   "outputs": [
    {
     "name": "stdin",
     "output_type": "stream",
     "text": [
      "enter 2 numbers: 3 4\n"
     ]
    },
    {
     "name": "stdout",
     "output_type": "stream",
     "text": [
      "the product of 2 numbers: 12\n"
     ]
    }
   ],
   "source": [
    "a,b=[int(x) for x in input(\"enter 2 numbers:\").split()]\n",
    "print(\"the product of 2 numbers:\",a*b)"
   ]
  },
  {
   "cell_type": "code",
   "execution_count": 16,
   "id": "34249bba-6579-4246-bc35-d9f85619abbf",
   "metadata": {},
   "outputs": [
    {
     "name": "stdin",
     "output_type": "stream",
     "text": [
      "enter 3 numbers: 2,3,4\n"
     ]
    },
    {
     "name": "stdout",
     "output_type": "stream",
     "text": [
      "the product of 2 numbers: 24\n"
     ]
    }
   ],
   "source": [
    "a,b,c=[int(x) for x in input(\"enter 3 numbers:\").split(',')]\n",
    "print(\"the product of 2 numbers:\",a*b*c)"
   ]
  },
  {
   "cell_type": "code",
   "execution_count": 18,
   "id": "bbbb9455-31da-4676-bde7-c6c8817e5dce",
   "metadata": {},
   "outputs": [
    {
     "name": "stdout",
     "output_type": "stream",
     "text": [
      "14\n"
     ]
    }
   ],
   "source": [
    "x=eval('10+4')\n",
    "print(x)       "
   ]
  },
  {
   "cell_type": "code",
   "execution_count": 20,
   "id": "889fc960-e302-4601-a0b3-8d9faa2c1a8b",
   "metadata": {},
   "outputs": [
    {
     "name": "stdout",
     "output_type": "stream",
     "text": [
      "14.0\n"
     ]
    }
   ],
   "source": [
    "y=eval(\"10/5+4*3\")\n",
    "print(y)"
   ]
  },
  {
   "cell_type": "code",
   "execution_count": 22,
   "id": "37a2b894-163d-4482-97b5-9290851d88e6",
   "metadata": {},
   "outputs": [
    {
     "name": "stdin",
     "output_type": "stream",
     "text": [
      "enter the function: x*(x+1)*(x+2)\n",
      "enter the value of x: 2\n"
     ]
    },
    {
     "name": "stdout",
     "output_type": "stream",
     "text": [
      "value of y is: 24\n"
     ]
    }
   ],
   "source": [
    "def fun_creator():\n",
    "    expr=input(\"enter the function:\")\n",
    "    x=int(input(\"enter the value of x:\"))\n",
    "    y=eval(expr)\n",
    "    print(\"value of y is:\",y)\n",
    "fun_creator()"
   ]
  },
  {
   "cell_type": "code",
   "execution_count": 28,
   "id": "2f8b6399-c8a2-4928-b1ca-6df7d8045c24",
   "metadata": {},
   "outputs": [
    {
     "name": "stdout",
     "output_type": "stream",
     "text": [
      "rakesh kumar\n",
      "rakesh\tkumar\n",
      "rakesh\n",
      "kumar\n",
      "rakesh kumarrakesh kumar\n"
     ]
    }
   ],
   "source": [
    "print(\"rakesh kumar\")\n",
    "print(\"rakesh\\tkumar\")\n",
    "print(\"rakesh\\nkumar\")\n",
    "print(\"rakesh kumar\"*2)"
   ]
  },
  {
   "cell_type": "code",
   "execution_count": 30,
   "id": "3fa53a60-7973-4844-bacf-5e901b621b00",
   "metadata": {},
   "outputs": [
    {
     "name": "stdout",
     "output_type": "stream",
     "text": [
      "the values are: 10 20 30\n",
      "the values are:,10,20,30\n",
      "the values are:?10?20?30\n"
     ]
    }
   ],
   "source": [
    "a,b,c=10,20,30\n",
    "print(\"the values are:\",a,b,c)\n",
    "print(\"the values are:\",a,b,c,sep=\",\")\n",
    "print(\"the values are:\",a,b,c,sep=\"?\")"
   ]
  },
  {
   "cell_type": "code",
   "execution_count": 33,
   "id": "fe9492d0-10e5-48ae-b0c8-659adc2ecab8",
   "metadata": {},
   "outputs": [
    {
     "name": "stdout",
     "output_type": "stream",
     "text": [
      "rakeshkumar    yarlagadda\n"
     ]
    }
   ],
   "source": [
    "print(\"rakesh\",end='')\n",
    "print(\"kumar\",end='    ')\n",
    "print(\"yarlagadda\")"
   ]
  },
  {
   "cell_type": "code",
   "execution_count": 36,
   "id": "20d50e88-f01a-49b0-b444-a2aef5d67ed3",
   "metadata": {},
   "outputs": [
    {
     "name": "stdout",
     "output_type": "stream",
     "text": [
      "a value is 10\n",
      "b value is 20 and c value is 30\n"
     ]
    }
   ],
   "source": [
    "a,b,c=10,20,30\n",
    "print(\"a value is %i\"%a)\n",
    "print(\"b value is %i and c value is %i\"%(b,c))"
   ]
  },
  {
   "cell_type": "code",
   "execution_count": 38,
   "id": "c8d47eba-abcc-4575-a40d-e23df27f520a",
   "metadata": {},
   "outputs": [
    {
     "name": "stdout",
     "output_type": "stream",
     "text": [
      "hi i am rakesh and full name is rakesh kumar\n"
     ]
    }
   ],
   "source": [
    "r=\"rakesh\"\n",
    "k=\"rakesh kumar\"\n",
    "print(\"hi i am %s and full name is %s\" %(r,k))"
   ]
  },
  {
   "cell_type": "code",
   "execution_count": 39,
   "id": "ea6c21f0-d0fc-4ec4-b6e6-4db6aefc4179",
   "metadata": {},
   "outputs": [
    {
     "name": "stdin",
     "output_type": "stream",
     "text": [
      "enter name:  rakesh\n",
      "enter your age:  24\n",
      "enter you salary:  20000\n"
     ]
    },
    {
     "name": "stdout",
     "output_type": "stream",
     "text": [
      "Employee deatils are:\n"
     ]
    }
   ],
   "source": [
    "name=input(\"enter name: \")\n",
    "age=int(input(\"enter your age: \"))\n",
    "salary=float(input(\"enter you salary: \"))\n",
    "\n",
    "print(\"Employee deatils are:\")"
   ]
  },
  {
   "cell_type": "code",
   "execution_count": 40,
   "id": "0e3e5cb0-3345-4a69-9a35-7775eaf7fc9c",
   "metadata": {},
   "outputs": [
    {
     "name": "stdout",
     "output_type": "stream",
     "text": [
      "employee name is rakesh and age is 24 and his salary is 20000.0\n"
     ]
    }
   ],
   "source": [
    "print(\"employee name is {0} and age is {1} and his salary is {2}\".format(name,age,salary))"
   ]
  },
  {
   "cell_type": "code",
   "execution_count": null,
   "id": "fe4bb6e2-94d8-4a55-9970-60cbdfb6e458",
   "metadata": {},
   "outputs": [],
   "source": []
  },
  {
   "cell_type": "code",
   "execution_count": null,
   "id": "245cac8a-2aba-432a-92c5-d31ff4007aea",
   "metadata": {},
   "outputs": [],
   "source": []
  },
  {
   "cell_type": "code",
   "execution_count": null,
   "id": "c9967e88-98ca-4196-b19c-c1e7aa62d1a8",
   "metadata": {},
   "outputs": [],
   "source": []
  },
  {
   "cell_type": "code",
   "execution_count": null,
   "id": "899c7bf3-b323-4ffb-b2f5-656e9961a0f0",
   "metadata": {},
   "outputs": [],
   "source": []
  },
  {
   "cell_type": "code",
   "execution_count": null,
   "id": "6a1d9f96-265a-4499-a096-192a0c5d0bd5",
   "metadata": {},
   "outputs": [],
   "source": []
  }
 ],
 "metadata": {
  "kernelspec": {
   "display_name": "Python 3 (ipykernel)",
   "language": "python",
   "name": "python3"
  },
  "language_info": {
   "codemirror_mode": {
    "name": "ipython",
    "version": 3
   },
   "file_extension": ".py",
   "mimetype": "text/x-python",
   "name": "python",
   "nbconvert_exporter": "python",
   "pygments_lexer": "ipython3",
   "version": "3.11.4"
  }
 },
 "nbformat": 4,
 "nbformat_minor": 5
}
