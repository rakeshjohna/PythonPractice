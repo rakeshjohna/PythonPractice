{
 "cells": [
  {
   "cell_type": "markdown",
   "id": "22a56449-169e-4bd6-89b3-1b889c0c2dcb",
   "metadata": {},
   "source": [
    "### Generators Concept"
   ]
  },
  {
   "cell_type": "markdown",
   "id": "a3d302a7-aa1b-4021-9262-f42aa602369e",
   "metadata": {},
   "source": [
    "#category1 : store all products and sell to customers(shop size large)\r",
    "#\n",
    "category2 : they'll sell to customers on order(only one table)"
   ]
  },
  {
   "cell_type": "markdown",
   "id": "59461b44-98c2-4385-9b20-55fbb1c83f49",
   "metadata": {},
   "source": [
    "### Normal Collection vs Generators wrt memory utilization"
   ]
  },
  {
   "cell_type": "code",
   "execution_count": 1,
   "id": "29922cb8-1dc1-473a-818b-84f8c23a3481",
   "metadata": {},
   "outputs": [
    {
     "name": "stdout",
     "output_type": "stream",
     "text": [
      "0\n"
     ]
    }
   ],
   "source": [
    "l=[x*x for x in range(100)]     # all the 100 values are stored in memory\n",
    "print(l[0])"
   ]
  },
  {
   "cell_type": "code",
   "execution_count": 5,
   "id": "6ac484fa-21c9-44e8-9357-1e74e4da3ea4",
   "metadata": {},
   "outputs": [
    {
     "ename": "KeyboardInterrupt",
     "evalue": "",
     "output_type": "error",
     "traceback": [
      "\u001b[1;31m---------------------------------------------------------------------------\u001b[0m",
      "\u001b[1;31mKeyboardInterrupt\u001b[0m                         Traceback (most recent call last)",
      "Cell \u001b[1;32mIn[5], line 1\u001b[0m\n\u001b[1;32m----> 1\u001b[0m l\u001b[38;5;241m=\u001b[39m\u001b[43m[\u001b[49m\u001b[43mx\u001b[49m\u001b[38;5;241;43m*\u001b[39;49m\u001b[43mx\u001b[49m\u001b[43m \u001b[49m\u001b[38;5;28;43;01mfor\u001b[39;49;00m\u001b[43m \u001b[49m\u001b[43mx\u001b[49m\u001b[43m \u001b[49m\u001b[38;5;129;43;01min\u001b[39;49;00m\u001b[43m \u001b[49m\u001b[38;5;28;43mrange\u001b[39;49m\u001b[43m(\u001b[49m\u001b[38;5;241;43m10000000000000000000000\u001b[39;49m\u001b[43m)\u001b[49m\u001b[43m]\u001b[49m\n\u001b[0;32m      2\u001b[0m \u001b[38;5;28mprint\u001b[39m(l[\u001b[38;5;241m0\u001b[39m])\n",
      "Cell \u001b[1;32mIn[5], line 1\u001b[0m, in \u001b[0;36m<listcomp>\u001b[1;34m(.0)\u001b[0m\n\u001b[1;32m----> 1\u001b[0m l\u001b[38;5;241m=\u001b[39m[x\u001b[38;5;241m*\u001b[39mx \u001b[38;5;28;01mfor\u001b[39;00m x \u001b[38;5;129;01min\u001b[39;00m \u001b[38;5;28mrange\u001b[39m(\u001b[38;5;241m10000000000000000000000\u001b[39m)]\n\u001b[0;32m      2\u001b[0m \u001b[38;5;28mprint\u001b[39m(l[\u001b[38;5;241m0\u001b[39m])\n",
      "\u001b[1;31mKeyboardInterrupt\u001b[0m: "
     ]
    }
   ],
   "source": [
    "#l=[x*x for x in range(10000000000000000000000)]     #memory error\n",
    "#print(l[0])"
   ]
  },
  {
   "cell_type": "markdown",
   "id": "1b3f3d08-2eb1-404f-845f-7413b398375b",
   "metadata": {},
   "source": [
    "In above cell in the line one will get memory error beacuse when we execute it will create all objects and store in the memory at a time. to overcome it we introduce the generator concept"
   ]
  },
  {
   "cell_type": "code",
   "execution_count": 6,
   "id": "2190782b-a593-49d7-8dc6-ad173bc625ea",
   "metadata": {},
   "outputs": [
    {
     "name": "stdout",
     "output_type": "stream",
     "text": [
      "<class 'generator'>\n",
      "0\n"
     ]
    }
   ],
   "source": [
    "#tuple comprehension\n",
    "l2=(x*x for x in range(10))\n",
    "print(type(l2))\n",
    "print(next(l2))"
   ]
  },
  {
   "cell_type": "code",
   "execution_count": 7,
   "id": "11724484-1154-40d6-8159-b4129ab0aad3",
   "metadata": {},
   "outputs": [
    {
     "name": "stdout",
     "output_type": "stream",
     "text": [
      "0\n",
      "1\n",
      "4\n"
     ]
    }
   ],
   "source": [
    "g = (x*x for x in range(100000000000000000))\n",
    "print(next(g))\n",
    "print(next(g))\n",
    "print(next(g))\n",
    "#for i in g:\n",
    "    #print(i)"
   ]
  },
  {
   "cell_type": "code",
   "execution_count": null,
   "id": "94638436-c076-4643-b2cf-c80ca8a0cd2a",
   "metadata": {},
   "outputs": [],
   "source": []
  },
  {
   "cell_type": "code",
   "execution_count": null,
   "id": "ea3ca954-92fc-4320-a3b1-b82cfb07e0b8",
   "metadata": {},
   "outputs": [],
   "source": []
  },
  {
   "cell_type": "code",
   "execution_count": null,
   "id": "90e25a74-2b8c-4b2c-8a91-c84a6771b48a",
   "metadata": {},
   "outputs": [],
   "source": []
  },
  {
   "cell_type": "code",
   "execution_count": null,
   "id": "83761af2-47c6-4467-9200-b8aff9fc42bb",
   "metadata": {},
   "outputs": [],
   "source": []
  },
  {
   "cell_type": "code",
   "execution_count": null,
   "id": "344755f2-1a34-43ca-a519-5ee2d375439b",
   "metadata": {},
   "outputs": [],
   "source": []
  },
  {
   "cell_type": "code",
   "execution_count": null,
   "id": "7e1b58d8-3dcc-4085-9e73-8adb97a62e88",
   "metadata": {},
   "outputs": [],
   "source": []
  },
  {
   "cell_type": "code",
   "execution_count": null,
   "id": "7b8ee610-9e90-423b-bda7-bead8c351d00",
   "metadata": {},
   "outputs": [],
   "source": []
  }
 ],
 "metadata": {
  "kernelspec": {
   "display_name": "Python 3 (ipykernel)",
   "language": "python",
   "name": "python3"
  },
  "language_info": {
   "codemirror_mode": {
    "name": "ipython",
    "version": 3
   },
   "file_extension": ".py",
   "mimetype": "text/x-python",
   "name": "python",
   "nbconvert_exporter": "python",
   "pygments_lexer": "ipython3",
   "version": "3.11.4"
  }
 },
 "nbformat": 4,
 "nbformat_minor": 5
}
