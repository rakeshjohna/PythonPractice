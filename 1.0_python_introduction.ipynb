{
 "cells": [
  {
   "cell_type": "code",
   "execution_count": 1,
   "id": "0ecea246-de65-4bfb-b2d5-e18974f42a2b",
   "metadata": {},
   "outputs": [
    {
     "name": "stdout",
     "output_type": "stream",
     "text": [
      "30\n"
     ]
    }
   ],
   "source": [
    "a=10\n",
    "b=20\n",
    "print(a+b)"
   ]
  },
  {
   "cell_type": "code",
   "execution_count": 3,
   "id": "14a076d3-53df-4844-82f5-55d7f61d0d08",
   "metadata": {},
   "outputs": [
    {
     "name": "stdout",
     "output_type": "stream",
     "text": [
      "10\n",
      "<class 'int'>\n",
      "140727006520392\n"
     ]
    }
   ],
   "source": [
    "a=10\n",
    "print(a)\n",
    "print(type(a))\n",
    "print(id(a))"
   ]
  },
  {
   "cell_type": "code",
   "execution_count": 2,
   "id": "e3cc8472-3521-4edd-b772-2680899e99fc",
   "metadata": {},
   "outputs": [
    {
     "data": {
      "text/plain": [
       "20"
      ]
     },
     "execution_count": 2,
     "metadata": {},
     "output_type": "execute_result"
    }
   ],
   "source": [
    "a=20\n",
    "a"
   ]
  },
  {
   "cell_type": "code",
   "execution_count": 3,
   "id": "6bab1508-5d1f-4d85-9476-4f9159458c03",
   "metadata": {},
   "outputs": [
    {
     "data": {
      "text/plain": [
       "20"
      ]
     },
     "execution_count": 3,
     "metadata": {},
     "output_type": "execute_result"
    }
   ],
   "source": [
    "a"
   ]
  },
  {
   "cell_type": "code",
   "execution_count": 3,
   "id": "4df40e24-d958-4580-bead-d1cf61b7011d",
   "metadata": {},
   "outputs": [
    {
     "name": "stdout",
     "output_type": "stream",
     "text": [
      "['False', 'None', 'True', 'and', 'as', 'assert', 'async', 'await', 'break', 'class', 'continue', 'def', 'del', 'elif', 'else', 'except', 'finally', 'for', 'from', 'global', 'if', 'import', 'in', 'is', 'lambda', 'nonlocal', 'not', 'or', 'pass', 'raise', 'return', 'try', 'while', 'with', 'yield']\n"
     ]
    }
   ],
   "source": [
    "from keyword import kwlist\n",
    "print(kwlist)"
   ]
  },
  {
   "cell_type": "code",
   "execution_count": 5,
   "id": "e3c23a01-89a0-4193-aa8f-bd71314ed497",
   "metadata": {},
   "outputs": [
    {
     "name": "stdout",
     "output_type": "stream",
     "text": [
      "10\n",
      "140722982216776\n"
     ]
    }
   ],
   "source": [
    "a=10\n",
    "print(a)\n",
    "print(id(a))"
   ]
  },
  {
   "cell_type": "code",
   "execution_count": 6,
   "id": "f680d5f1-1cee-4da2-acb3-7489bac3206d",
   "metadata": {},
   "outputs": [
    {
     "name": "stdout",
     "output_type": "stream",
     "text": [
      "10\n",
      "140722982216776\n"
     ]
    }
   ],
   "source": [
    "b=10\n",
    "print(b)\n",
    "print(id(b))"
   ]
  },
  {
   "cell_type": "code",
   "execution_count": 7,
   "id": "27e7aba4-916e-4880-8d0b-f1eeb5c7f23a",
   "metadata": {},
   "outputs": [
    {
     "name": "stdout",
     "output_type": "stream",
     "text": [
      "20\n",
      "140722982217096\n",
      "<class 'int'>\n"
     ]
    }
   ],
   "source": [
    "a=20\n",
    "print(a)\n",
    "print(id(a))\n",
    "print(type(a))"
   ]
  },
  {
   "cell_type": "code",
   "execution_count": 29,
   "id": "96ed2231-c629-456a-a93b-d04db59280ed",
   "metadata": {},
   "outputs": [
    {
     "name": "stdin",
     "output_type": "stream",
     "text": [
      "enter the value 10\n"
     ]
    },
    {
     "name": "stdout",
     "output_type": "stream",
     "text": [
      "10\n",
      "<class 'int'>\n",
      "10\n",
      "True\n",
      "(10+0j)\n"
     ]
    }
   ],
   "source": [
    "a=int(input(\"enter the value\"))\n",
    "print(a)\n",
    "print(type(a))\n",
    "print(str(a))\n",
    "print(bool(a))\n",
    "print(complex(a))\n",
    "#fundamental datatypes bsfci----->boolean,string,float,complex,integer"
   ]
  },
  {
   "cell_type": "code",
   "execution_count": 25,
   "id": "079c55f8-6f47-4f78-9b81-9893b54740c4",
   "metadata": {},
   "outputs": [
    {
     "name": "stdin",
     "output_type": "stream",
     "text": [
      "enter the value 10\n"
     ]
    },
    {
     "name": "stdout",
     "output_type": "stream",
     "text": [
      "10\n",
      "<class 'str'>\n",
      "10.0\n"
     ]
    }
   ],
   "source": [
    "a=input(\"enter the value\")\n",
    "print(a)\n",
    "print(type(a))\n",
    "print(float(a))"
   ]
  },
  {
   "cell_type": "code",
   "execution_count": 7,
   "id": "ffeff0c3-1b24-4ebb-afdb-49b59066a656",
   "metadata": {},
   "outputs": [
    {
     "name": "stdin",
     "output_type": "stream",
     "text": [
      "enter number 7\n"
     ]
    },
    {
     "name": "stdout",
     "output_type": "stream",
     "text": [
      "go to ground floor\n"
     ]
    }
   ],
   "source": [
    "a=int(input(\"enter number\"))\n",
    "if a==1:\n",
    "    print(\"go to 1st floor\")\n",
    "elif a==2:\n",
    "    print(\"go to 2nd floor\")\n",
    "elif a==3:\n",
    "    print(\"go to 3rd floor\")\n",
    "else:\n",
    "    print(\"go to ground floor\")"
   ]
  },
  {
   "cell_type": "code",
   "execution_count": 12,
   "id": "6b4db776-1c93-40f7-a1a5-b51d02379f3a",
   "metadata": {},
   "outputs": [
    {
     "ename": "NameError",
     "evalue": "name 'b' is not defined",
     "output_type": "error",
     "traceback": [
      "\u001b[1;31m---------------------------------------------------------------------------\u001b[0m",
      "\u001b[1;31mNameError\u001b[0m                                 Traceback (most recent call last)",
      "Cell \u001b[1;32mIn[12], line 3\u001b[0m\n\u001b[0;32m      1\u001b[0m a\u001b[38;5;241m=\u001b[39m\u001b[38;5;241m10\u001b[39m\n\u001b[0;32m      2\u001b[0m \u001b[38;5;28mstr\u001b[39m(a)\n\u001b[1;32m----> 3\u001b[0m \u001b[38;5;28mprint\u001b[39m(\u001b[43mb\u001b[49m)\n",
      "\u001b[1;31mNameError\u001b[0m: name 'b' is not defined"
     ]
    }
   ],
   "source": [
    "a=10\n",
    "str(a)\n",
    "print(b)"
   ]
  },
  {
   "cell_type": "code",
   "execution_count": 5,
   "id": "996d7b88-21e0-4279-8423-9cc1ce4a74e3",
   "metadata": {},
   "outputs": [
    {
     "name": "stdout",
     "output_type": "stream",
     "text": [
      "3\n",
      "<class 'int'>\n"
     ]
    }
   ],
   "source": [
    "f1=3\n",
    "print(f1)\n",
    "print(type(f1))"
   ]
  },
  {
   "cell_type": "code",
   "execution_count": 22,
   "id": "8fb929bf-f088-4de4-9dd6-1181277533bc",
   "metadata": {},
   "outputs": [
    {
     "name": "stdout",
     "output_type": "stream",
     "text": [
      "8.9\n",
      "8\n"
     ]
    }
   ],
   "source": [
    "f2=8.9\n",
    "print(f2)\n",
    "print(int(f2))"
   ]
  },
  {
   "cell_type": "code",
   "execution_count": 15,
   "id": "b8426708-8360-4882-a548-8869f04d7ebd",
   "metadata": {},
   "outputs": [
    {
     "name": "stdout",
     "output_type": "stream",
     "text": [
      "(3+5j)\n",
      "<class 'complex'>\n"
     ]
    }
   ],
   "source": [
    "c1=3+5J\n",
    "print(c1)\n",
    "print(type(c1))"
   ]
  },
  {
   "cell_type": "code",
   "execution_count": 18,
   "id": "7179f68c-6dac-4b40-87e9-e572ee3f4a31",
   "metadata": {},
   "outputs": [
    {
     "name": "stdout",
     "output_type": "stream",
     "text": [
      "3.0\n"
     ]
    }
   ],
   "source": [
    "print(c1.real)"
   ]
  },
  {
   "cell_type": "code",
   "execution_count": 19,
   "id": "15351097-6d92-48a8-b43a-4c44c8ccb480",
   "metadata": {},
   "outputs": [
    {
     "name": "stdout",
     "output_type": "stream",
     "text": [
      "5.0\n"
     ]
    }
   ],
   "source": [
    "print(c1.imag)"
   ]
  },
  {
   "cell_type": "code",
   "execution_count": 20,
   "id": "941ed23c-4404-4e3d-986a-bfc4ebc61a13",
   "metadata": {},
   "outputs": [
    {
     "name": "stdout",
     "output_type": "stream",
     "text": [
      "True\n",
      "<class 'bool'>\n"
     ]
    }
   ],
   "source": [
    "b1=True\n",
    "print(b1)\n",
    "print(type(b1))"
   ]
  },
  {
   "cell_type": "code",
   "execution_count": 30,
   "id": "f4c9ee18-577b-46e5-a455-4a1bdcabbe53",
   "metadata": {},
   "outputs": [
    {
     "data": {
      "text/plain": [
       "2"
      ]
     },
     "execution_count": 30,
     "metadata": {},
     "output_type": "execute_result"
    }
   ],
   "source": [
    "True+True"
   ]
  },
  {
   "cell_type": "code",
   "execution_count": 31,
   "id": "00956b06-0636-4e1f-b2ca-ee619dc71068",
   "metadata": {},
   "outputs": [
    {
     "data": {
      "text/plain": [
       "1"
      ]
     },
     "execution_count": 31,
     "metadata": {},
     "output_type": "execute_result"
    }
   ],
   "source": [
    "False+True"
   ]
  },
  {
   "cell_type": "code",
   "execution_count": 33,
   "id": "37675744-ef9b-483c-bb7a-9b67b424811f",
   "metadata": {},
   "outputs": [
    {
     "data": {
      "text/plain": [
       "0"
      ]
     },
     "execution_count": 33,
     "metadata": {},
     "output_type": "execute_result"
    }
   ],
   "source": [
    "False+False"
   ]
  },
  {
   "cell_type": "code",
   "execution_count": 34,
   "id": "98741f86-aff4-427f-880e-707bc4b09964",
   "metadata": {},
   "outputs": [
    {
     "name": "stdout",
     "output_type": "stream",
     "text": [
      "True\n"
     ]
    }
   ],
   "source": [
    "a=10\n",
    "b=10\n",
    "print(a is b)"
   ]
  },
  {
   "cell_type": "code",
   "execution_count": 35,
   "id": "78ac1104-39b2-4783-8f08-01fbd11be0ad",
   "metadata": {},
   "outputs": [
    {
     "name": "stdout",
     "output_type": "stream",
     "text": [
      "False\n"
     ]
    }
   ],
   "source": [
    "a=10\n",
    "b=20\n",
    "print(a is b)"
   ]
  },
  {
   "cell_type": "code",
   "execution_count": 39,
   "id": "b4f318bd-fd52-411d-96f6-63a3ffdda304",
   "metadata": {},
   "outputs": [
    {
     "name": "stdout",
     "output_type": "stream",
     "text": [
      "<class 'str'>\n",
      "rakesh\n",
      "6\n",
      "r\n"
     ]
    }
   ],
   "source": [
    "s1=\"rakesh\"\n",
    "print(type(s1))\n",
    "print(s1)\n",
    "print(len(s1))\n",
    "print(s1[0])"
   ]
  },
  {
   "cell_type": "code",
   "execution_count": 38,
   "id": "28e570c5-a537-4f51-aaaa-684051f1e6e3",
   "metadata": {},
   "outputs": [
    {
     "name": "stdout",
     "output_type": "stream",
     "text": [
      "rakesh is a good boy\n",
      "is from rjy who is\n",
      "working as a engineer in hyd\n"
     ]
    }
   ],
   "source": [
    "s2=\"\"\"rakesh is a good boy\n",
    "is from rjy who is\n",
    "working as a engineer in hyd\"\"\"\n",
    "print(s2)"
   ]
  },
  {
   "cell_type": "code",
   "execution_count": 41,
   "id": "0812e39b-c97e-4256-94ef-e6e467d309f2",
   "metadata": {},
   "outputs": [
    {
     "name": "stdout",
     "output_type": "stream",
     "text": [
      "k\n",
      "a\n",
      "kum\n"
     ]
    }
   ],
   "source": [
    "s3=\"kumar\"\n",
    "print(s3[0])\n",
    "print(s3[3])\n",
    "print(s3[0:3])"
   ]
  },
  {
   "cell_type": "code",
   "execution_count": 43,
   "id": "ec2eec3f-7b14-41b6-99e3-552c5ad84dda",
   "metadata": {},
   "outputs": [
    {
     "name": "stdout",
     "output_type": "stream",
     "text": [
      "rakeshkumar\n",
      "rakeshrakeshrakesh\n"
     ]
    }
   ],
   "source": [
    "print(s1+s3)\n",
    "print(s1*3)"
   ]
  },
  {
   "cell_type": "code",
   "execution_count": 47,
   "id": "14d4fc9a-0c37-4d6a-91e0-bd451eec49e5",
   "metadata": {},
   "outputs": [
    {
     "name": "stdout",
     "output_type": "stream",
     "text": [
      "r\n",
      "r\n",
      "e\n",
      "rakesh \n",
      "k\n",
      "ramuk hsekar\n",
      "rmk\n",
      "r\n"
     ]
    }
   ],
   "source": [
    "s4=\"rakesh kumar\"\n",
    "print(s4[0])\n",
    "print(s4[-1])\n",
    "print(s4[3])\n",
    "print(s4[0:7:])\n",
    "print(s4[-5])\n",
    "print(s4[::-1])\n",
    "print(s4[-1:-7:-2])\n",
    "print(s4[0])"
   ]
  },
  {
   "cell_type": "code",
   "execution_count": 48,
   "id": "76d4686f-4e5a-47dd-b479-0272bf4c237d",
   "metadata": {},
   "outputs": [
    {
     "name": "stdout",
     "output_type": "stream",
     "text": [
      "0\n",
      "1\n",
      "2\n",
      "3\n",
      "4\n"
     ]
    }
   ],
   "source": [
    "for i in range(5):\n",
    "    print(i)"
   ]
  },
  {
   "cell_type": "code",
   "execution_count": 49,
   "id": "7a547095-f309-4a56-892c-e30ca8b8b62f",
   "metadata": {},
   "outputs": [
    {
     "name": "stdout",
     "output_type": "stream",
     "text": [
      "10\n",
      "12\n",
      "14\n",
      "16\n",
      "18\n"
     ]
    }
   ],
   "source": [
    "for i in range(5,10):\n",
    "    print(i*2)"
   ]
  },
  {
   "cell_type": "code",
   "execution_count": 50,
   "id": "c14d140e-1a2c-4e4b-85bd-6cbdbe02e3f0",
   "metadata": {},
   "outputs": [
    {
     "name": "stdout",
     "output_type": "stream",
     "text": [
      "10\n",
      "14\n",
      "18\n"
     ]
    }
   ],
   "source": [
    "for i in range(5,10,2):\n",
    "    print(i*2)"
   ]
  },
  {
   "cell_type": "code",
   "execution_count": 51,
   "id": "463aaaa1-ae57-4a79-8207-3db119dbf8d2",
   "metadata": {},
   "outputs": [
    {
     "name": "stdout",
     "output_type": "stream",
     "text": [
      "5\n"
     ]
    }
   ],
   "source": [
    "r=range(5,10)\n",
    "print(r[0])"
   ]
  },
  {
   "cell_type": "code",
   "execution_count": 52,
   "id": "bcc210ac-638c-4f60-b9ba-217edf056d66",
   "metadata": {},
   "outputs": [
    {
     "ename": "TypeError",
     "evalue": "'range' object does not support item assignment",
     "output_type": "error",
     "traceback": [
      "\u001b[1;31m---------------------------------------------------------------------------\u001b[0m",
      "\u001b[1;31mTypeError\u001b[0m                                 Traceback (most recent call last)",
      "Cell \u001b[1;32mIn[52], line 1\u001b[0m\n\u001b[1;32m----> 1\u001b[0m \u001b[43mr\u001b[49m\u001b[43m[\u001b[49m\u001b[38;5;241;43m1\u001b[39;49m\u001b[43m]\u001b[49m\u001b[38;5;241m=\u001b[39m\u001b[38;5;241m20\u001b[39m\n",
      "\u001b[1;31mTypeError\u001b[0m: 'range' object does not support item assignment"
     ]
    }
   ],
   "source": [
    "r[1]=20"
   ]
  },
  {
   "cell_type": "code",
   "execution_count": null,
   "id": "28986983-1001-4432-acf7-47e4c5182951",
   "metadata": {},
   "outputs": [],
   "source": [
    "#tsdlf---->immutable,mutable,mutable,mutable,immutable"
   ]
  },
  {
   "cell_type": "code",
   "execution_count": null,
   "id": "31055b59-4c02-49e5-88ab-360b13e6b204",
   "metadata": {},
   "outputs": [],
   "source": [
    "# list:"
   ]
  },
  {
   "cell_type": "code",
   "execution_count": 1,
   "id": "a40813a8-6942-431f-a37d-060aa309a6e1",
   "metadata": {},
   "outputs": [
    {
     "data": {
      "text/plain": [
       "[10, 20.5, True, 'rakesh']"
      ]
     },
     "execution_count": 1,
     "metadata": {},
     "output_type": "execute_result"
    }
   ],
   "source": [
    "l1=[10,20.5,True,\"rakesh\"]\n",
    "l1\n"
   ]
  },
  {
   "cell_type": "code",
   "execution_count": 6,
   "id": "5649d27a-9a52-4d43-a392-66e4895881c1",
   "metadata": {},
   "outputs": [
    {
     "name": "stdout",
     "output_type": "stream",
     "text": [
      "10\n",
      "rakesh\n",
      "[20.5, True, 'rakesh']\n"
     ]
    }
   ],
   "source": [
    "print(l1[0])\n",
    "print(l1[-1])\n",
    "print(l1[1:4])"
   ]
  },
  {
   "cell_type": "code",
   "execution_count": 7,
   "id": "018e97be-38cd-424f-bd8f-d7faa152376a",
   "metadata": {},
   "outputs": [
    {
     "name": "stdout",
     "output_type": "stream",
     "text": [
      "10\n",
      "20.5\n",
      "True\n",
      "rakesh\n"
     ]
    }
   ],
   "source": [
    "for i in l1:\n",
    "    print(i)"
   ]
  },
  {
   "cell_type": "code",
   "execution_count": 20,
   "id": "e43a3769-6dc6-4a28-a913-1198b94d7561",
   "metadata": {},
   "outputs": [
    {
     "name": "stdout",
     "output_type": "stream",
     "text": [
      "[20.5, True, 'rakesh', 'kumar', 'kumar', 'kumar', 'kumar', 'kumar', 'kumar', 'kumar', 'kumar', 'kumar', 'kumar', 'kumar', 'kumar', 'kumar']\n"
     ]
    },
    {
     "ename": "ValueError",
     "evalue": "list.remove(x): x not in list",
     "output_type": "error",
     "traceback": [
      "\u001b[1;31m---------------------------------------------------------------------------\u001b[0m",
      "\u001b[1;31mValueError\u001b[0m                                Traceback (most recent call last)",
      "Cell \u001b[1;32mIn[20], line 3\u001b[0m\n\u001b[0;32m      1\u001b[0m l1\u001b[38;5;241m.\u001b[39mappend(\u001b[38;5;124m\"\u001b[39m\u001b[38;5;124mkumar\u001b[39m\u001b[38;5;124m\"\u001b[39m)\n\u001b[0;32m      2\u001b[0m \u001b[38;5;28mprint\u001b[39m(l1)\n\u001b[1;32m----> 3\u001b[0m \u001b[43ml1\u001b[49m\u001b[38;5;241;43m.\u001b[39;49m\u001b[43mremove\u001b[49m\u001b[43m(\u001b[49m\u001b[38;5;241;43m20\u001b[39;49m\u001b[38;5;241;43m/\u001b[39;49m\u001b[38;5;241;43m5\u001b[39;49m\u001b[43m)\u001b[49m\n\u001b[0;32m      4\u001b[0m \u001b[38;5;28mprint\u001b[39m(l1)\n",
      "\u001b[1;31mValueError\u001b[0m: list.remove(x): x not in list"
     ]
    }
   ],
   "source": [
    "l1.append(\"kumar\")\n",
    "print(l1)\n",
    "l1.remove(20/5)\n",
    "print(l1)"
   ]
  },
  {
   "cell_type": "code",
   "execution_count": null,
   "id": "ff0f8302-fe77-41d3-b61b-021f51e0dd56",
   "metadata": {},
   "outputs": [],
   "source": [
    "#TUPLE:"
   ]
  },
  {
   "cell_type": "code",
   "execution_count": 23,
   "id": "923156c5-4741-4ffe-8896-9d7547e085d6",
   "metadata": {},
   "outputs": [
    {
     "name": "stdout",
     "output_type": "stream",
     "text": [
      "(10, 20, 40, 60)\n"
     ]
    }
   ],
   "source": [
    "t=(10,20,40,60)\n",
    "print(t)"
   ]
  },
  {
   "cell_type": "code",
   "execution_count": 24,
   "id": "fc5758e9-e535-4b93-83cc-e7834a862875",
   "metadata": {},
   "outputs": [
    {
     "ename": "TypeError",
     "evalue": "'tuple' object does not support item assignment",
     "output_type": "error",
     "traceback": [
      "\u001b[1;31m---------------------------------------------------------------------------\u001b[0m",
      "\u001b[1;31mTypeError\u001b[0m                                 Traceback (most recent call last)",
      "Cell \u001b[1;32mIn[24], line 1\u001b[0m\n\u001b[1;32m----> 1\u001b[0m \u001b[43mt\u001b[49m\u001b[43m[\u001b[49m\u001b[38;5;241;43m0\u001b[39;49m\u001b[43m]\u001b[49m\u001b[38;5;241m=\u001b[39m\u001b[38;5;241m90\u001b[39m\n\u001b[0;32m      2\u001b[0m t\n",
      "\u001b[1;31mTypeError\u001b[0m: 'tuple' object does not support item assignment"
     ]
    }
   ],
   "source": [
    "t[0]=90\n",
    "t"
   ]
  },
  {
   "cell_type": "code",
   "execution_count": null,
   "id": "0b8e0dcf-7b1e-4865-9a61-5fc2db63d5f6",
   "metadata": {},
   "outputs": [],
   "source": [
    "#SET:"
   ]
  },
  {
   "cell_type": "code",
   "execution_count": 25,
   "id": "8f2b1931-745e-42b9-b36c-a341525c71fe",
   "metadata": {},
   "outputs": [
    {
     "data": {
      "text/plain": [
       "{(5+4j), 10, 7.8, True, 'rakesh'}"
      ]
     },
     "execution_count": 25,
     "metadata": {},
     "output_type": "execute_result"
    }
   ],
   "source": [
    "s1={10,7.8,5+4j,True,\"rakesh\"}\n",
    "s1"
   ]
  },
  {
   "cell_type": "code",
   "execution_count": 26,
   "id": "2d4514f8-4484-48e5-a120-114cf7aa59fa",
   "metadata": {},
   "outputs": [
    {
     "ename": "TypeError",
     "evalue": "'set' object is not subscriptable",
     "output_type": "error",
     "traceback": [
      "\u001b[1;31m---------------------------------------------------------------------------\u001b[0m",
      "\u001b[1;31mTypeError\u001b[0m                                 Traceback (most recent call last)",
      "Cell \u001b[1;32mIn[26], line 1\u001b[0m\n\u001b[1;32m----> 1\u001b[0m \u001b[43ms1\u001b[49m\u001b[43m[\u001b[49m\u001b[38;5;241;43m0\u001b[39;49m\u001b[43m]\u001b[49m\n",
      "\u001b[1;31mTypeError\u001b[0m: 'set' object is not subscriptable"
     ]
    }
   ],
   "source": [
    "s1[0]"
   ]
  },
  {
   "cell_type": "code",
   "execution_count": 27,
   "id": "c95e8f45-2a03-4bdc-a8e6-e45e5704f72f",
   "metadata": {},
   "outputs": [
    {
     "data": {
      "text/plain": [
       "{(5+4j), 10, 30, 7.8, True, 'rakesh'}"
      ]
     },
     "execution_count": 27,
     "metadata": {},
     "output_type": "execute_result"
    }
   ],
   "source": [
    "s1.add(30)\n",
    "s1"
   ]
  },
  {
   "cell_type": "code",
   "execution_count": 29,
   "id": "d7ad3147-dcc9-4400-b16f-c6955aacdc22",
   "metadata": {},
   "outputs": [
    {
     "data": {
      "text/plain": [
       "{(5+4j), 10, 30, True, 'rakesh'}"
      ]
     },
     "execution_count": 29,
     "metadata": {},
     "output_type": "execute_result"
    }
   ],
   "source": [
    "s1.remove(7.8)\n",
    "s1"
   ]
  },
  {
   "cell_type": "code",
   "execution_count": null,
   "id": "3dd8b5ed-1d0d-4cdd-80ec-18afc12ac9ee",
   "metadata": {},
   "outputs": [],
   "source": [
    "#FROZENSET"
   ]
  },
  {
   "cell_type": "code",
   "execution_count": 32,
   "id": "1282e6fb-b15c-467f-b093-72c2ec93e126",
   "metadata": {},
   "outputs": [
    {
     "name": "stdout",
     "output_type": "stream",
     "text": [
      "<class 'set'>\n",
      "48\n",
      "50\n",
      "12\n",
      "39\n"
     ]
    }
   ],
   "source": [
    "frozenset={12,39,50,48}\n",
    "frozenset\n",
    "print(type(frozenset))\n",
    "for i in frozenset:print(i)"
   ]
  },
  {
   "cell_type": "code",
   "execution_count": null,
   "id": "8a06ba2e-4f8e-4fa8-a34f-cb07f62c90e3",
   "metadata": {},
   "outputs": [],
   "source": []
  },
  {
   "cell_type": "code",
   "execution_count": null,
   "id": "9a4b1b31-badd-4824-93e4-a44fb1407d25",
   "metadata": {},
   "outputs": [],
   "source": []
  },
  {
   "cell_type": "code",
   "execution_count": null,
   "id": "ba16842b-a4cf-4112-a4a5-1eecd619e690",
   "metadata": {},
   "outputs": [],
   "source": []
  },
  {
   "cell_type": "code",
   "execution_count": null,
   "id": "a76d3f6d-c448-4ce1-8a53-a41b65de4de5",
   "metadata": {},
   "outputs": [],
   "source": []
  },
  {
   "cell_type": "code",
   "execution_count": null,
   "id": "d61be767-bf65-4721-a109-611e51e0b26b",
   "metadata": {},
   "outputs": [],
   "source": []
  },
  {
   "cell_type": "code",
   "execution_count": null,
   "id": "11ca5782-f5c3-47f4-8d9e-79d72050d255",
   "metadata": {},
   "outputs": [],
   "source": []
  }
 ],
 "metadata": {
  "kernelspec": {
   "display_name": "Python 3 (ipykernel)",
   "language": "python",
   "name": "python3"
  },
  "language_info": {
   "codemirror_mode": {
    "name": "ipython",
    "version": 3
   },
   "file_extension": ".py",
   "mimetype": "text/x-python",
   "name": "python",
   "nbconvert_exporter": "python",
   "pygments_lexer": "ipython3",
   "version": "3.11.4"
  }
 },
 "nbformat": 4,
 "nbformat_minor": 5
}
