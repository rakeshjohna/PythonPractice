{
 "cells": [
  {
   "cell_type": "code",
   "execution_count": 4,
   "id": "8ce5bd8c-64ba-46d5-a740-24b7b1a062fd",
   "metadata": {},
   "outputs": [
    {
     "name": "stdout",
     "output_type": "stream",
     "text": [
      "parent class m1() method\n",
      "parent class m2() method\n",
      "parent class m3() method\n"
     ]
    }
   ],
   "source": [
    "class X:\n",
    "    def m1(self):\n",
    "        print(\"parent class m1() method\")\n",
    "    def m2(self):\n",
    "        print(\"parent class m2() method\")\n",
    "    def m3(self):\n",
    "        print(\"parent class m3() method\")\n",
    "#here Y class HAS-A X reference\n",
    "class Y:\n",
    "    x=X()\n",
    "    x.m1()\n",
    "    x.m2()\n",
    "    x.m3()"
   ]
  },
  {
   "cell_type": "code",
   "execution_count": 5,
   "id": "d452dc90-b420-4355-bc1c-2a5e3bcacf01",
   "metadata": {},
   "outputs": [
    {
     "name": "stdout",
     "output_type": "stream",
     "text": [
      "car class using engine functionality\n",
      "10\n",
      "20\n",
      "engine speciftc functionality\n"
     ]
    }
   ],
   "source": [
    "class Engine:\n",
    "    a=10\n",
    "\n",
    "    def __init__(self):\n",
    "        self.b=20\n",
    "    def m1(self):\n",
    "        print(\"engine speciftc functionality\")\n",
    "class car:\n",
    "    def __init__(self):\n",
    "        self.engine=Engine()\n",
    "\n",
    "    def m2(self):\n",
    "        print(\"car class using engine functionality\")\n",
    "        print(self.engine.a)\n",
    "        print(self.engine.b)\n",
    "        self.engine.m1()\n",
    "c=car()\n",
    "c.m2()"
   ]
  },
  {
   "cell_type": "code",
   "execution_count": 9,
   "id": "ea91f41e-ac9f-4881-8a37-5d49dc6640b9",
   "metadata": {},
   "outputs": [
    {
     "name": "stdout",
     "output_type": "stream",
     "text": [
      "Employee name: pawan\n",
      "Employee salary: 10000\n",
      "Emp car Info:\n",
      "Car name:Benz 4matic,color is:Navy Blue,model is:350d\n"
     ]
    }
   ],
   "source": [
    "class Car():\n",
    "    def __init__(self,name,color,model):\n",
    "        self.name=name\n",
    "        self.color=color\n",
    "        self.model=model\n",
    "        \n",
    "    def getInfo(self):\n",
    "        print(\"Car name:{},color is:{},model is:{}\".format(self.name,self.color,self.model))\n",
    "\n",
    "class Employee():\n",
    "    def __init__(self,name,sal,car):\n",
    "        self.name=name\n",
    "        self.sal=sal\n",
    "        self.car=car\n",
    "\n",
    "    def empInfo(self):\n",
    "        print(\"Employee name:\",self.name)\n",
    "        print(\"Employee salary:\",self.sal)\n",
    "        print(\"Emp car Info:\")\n",
    "        self.car.getInfo()\n",
    "\n",
    "c=Car(\"Benz 4matic\",\"Navy Blue\",\"350d\") # first we have to create car obj later pass the car obj to employee\n",
    "e=Employee(\"pawan\",10000,c)\n",
    "e.empInfo()"
   ]
  },
  {
   "cell_type": "code",
   "execution_count": 3,
   "id": "fb6fbb09-64ad-49bf-954f-42ef7c732114",
   "metadata": {},
   "outputs": [
    {
     "name": "stdout",
     "output_type": "stream",
     "text": [
      "10\n",
      "20\n",
      "m1 method of x class\n",
      "30\n",
      "40\n",
      "m2 method of y class\n",
      "m3 method of y class\n"
     ]
    }
   ],
   "source": [
    "class X:\n",
    "    a=10\n",
    "    def __init__(self):\n",
    "        self.b=20\n",
    "    def m1(self):\n",
    "        print(\"m1 method of x class\")\n",
    "\n",
    "class Y:\n",
    "    c=30\n",
    "    def __init__(self):\n",
    "        self.d=40\n",
    "    def m2(self):\n",
    "        print(\"m2 method of y class\")\n",
    "    def m3(self):\n",
    "        x=X()\n",
    "        print(x.a)\n",
    "        print(x.b)\n",
    "        x.m1()\n",
    "\n",
    "        print(Y.c)\n",
    "        print(self.d)\n",
    "        self.m2()\n",
    "        print(\"m3 method of y class\")\n",
    "\n",
    "y1=Y()\n",
    "y1.m3()"
   ]
  },
  {
   "cell_type": "markdown",
   "id": "f16a9dd7-a415-4f52-a912-67c0ca1383b9",
   "metadata": {},
   "source": [
    "# 3.Inheritance(Is-a Relation)"
   ]
  },
  {
   "cell_type": "code",
   "execution_count": 11,
   "id": "90236814-83d7-4d8f-a6da-cfc9abaebbb0",
   "metadata": {},
   "outputs": [
    {
     "name": "stdout",
     "output_type": "stream",
     "text": [
      "10\n",
      "20\n",
      "parent class instance method\n",
      "parent class class method\n",
      "parent class static method\n"
     ]
    }
   ],
   "source": [
    "#Example3\n",
    "class Parent():\n",
    "    a=10\n",
    "    def __init__(self):\n",
    "        self.b=20\n",
    "\n",
    "    def m1(self):\n",
    "        print(\"parent class instance method\")\n",
    "\n",
    "    @classmethod\n",
    "    def m2(cls):\n",
    "        print(\"parent class class method\")\n",
    "\n",
    "    @staticmethod\n",
    "    def m3():\n",
    "        print(\"parent class static method\")\n",
    "\n",
    "class child(Parent):\n",
    "    pass\n",
    "\n",
    "c=child()\n",
    "print(c.a)\n",
    "print(c.b)\n",
    "c.m1()\n",
    "c.m2()\n",
    "c.m3()"
   ]
  },
  {
   "cell_type": "code",
   "execution_count": 14,
   "id": "ce0eab65-83b9-4d66-b025-828f08aae08c",
   "metadata": {},
   "outputs": [
    {
     "name": "stdout",
     "output_type": "stream",
     "text": [
      "parent class method.....\n",
      "child class method\n"
     ]
    }
   ],
   "source": [
    "class P:\n",
    "    def m1(self):\n",
    "        print(\"parent class method.....\")\n",
    "\n",
    "class child(P):\n",
    "    def m2(self):\n",
    "        print(\"child class method\")\n",
    "\n",
    "c=child()\n",
    "c.m1()\n",
    "c.m2()"
   ]
  },
  {
   "cell_type": "code",
   "execution_count": 18,
   "id": "e027c37c-f781-42a0-8128-8af2347287f0",
   "metadata": {},
   "outputs": [
    {
     "name": "stdout",
     "output_type": "stream",
     "text": [
      "parent class m1() method\n",
      "parent class m2() method\n",
      "parent class m3() method\n"
     ]
    }
   ],
   "source": [
    "class X:\n",
    "    def m1(self):\n",
    "        print(\"parent class m1() method\")\n",
    "    def m2(self):\n",
    "        print(\"parent class m2() method\")\n",
    "    def m3(self):\n",
    "        print(\"parent class m3() method\")\n",
    "\n",
    "class Y(X):\n",
    "    pass\n",
    "\n",
    "y=Y()\n",
    "y.m1()\n",
    "y.m2()\n",
    "y.m3()"
   ]
  },
  {
   "cell_type": "code",
   "execution_count": null,
   "id": "277c2c4f-b04d-4ff2-a17c-0bc397fed978",
   "metadata": {},
   "outputs": [],
   "source": []
  },
  {
   "cell_type": "code",
   "execution_count": 23,
   "id": "2aeddedc-9ece-4510-a598-035e8562de6c",
   "metadata": {},
   "outputs": [
    {
     "ename": "TypeError",
     "evalue": "descriptor '__init__' of 'super' object needs an argument",
     "output_type": "error",
     "traceback": [
      "\u001b[1;31m---------------------------------------------------------------------------\u001b[0m",
      "\u001b[1;31mTypeError\u001b[0m                                 Traceback (most recent call last)",
      "Cell \u001b[1;32mIn[23], line 12\u001b[0m\n\u001b[0;32m      9\u001b[0m         \u001b[38;5;28msuper\u001b[39m\u001b[38;5;241m.\u001b[39m\u001b[38;5;21m__init__\u001b[39m()\n\u001b[0;32m     10\u001b[0m         \u001b[38;5;28mself\u001b[39m\u001b[38;5;241m.\u001b[39md\u001b[38;5;241m=\u001b[39m\u001b[38;5;241m444\u001b[39m\n\u001b[1;32m---> 12\u001b[0m child\u001b[38;5;241m=\u001b[39m\u001b[43mC\u001b[49m\u001b[43m(\u001b[49m\u001b[43m)\u001b[49m\n\u001b[0;32m     13\u001b[0m \u001b[38;5;28mprint\u001b[39m(child\u001b[38;5;241m.\u001b[39ma,child\u001b[38;5;241m.\u001b[39mb,child\u001b[38;5;241m.\u001b[39mc,child\u001b[38;5;241m.\u001b[39md)\n",
      "Cell \u001b[1;32mIn[23], line 9\u001b[0m, in \u001b[0;36mC.__init__\u001b[1;34m(self)\u001b[0m\n\u001b[0;32m      8\u001b[0m \u001b[38;5;28;01mdef\u001b[39;00m \u001b[38;5;21m__init__\u001b[39m(\u001b[38;5;28mself\u001b[39m):\n\u001b[1;32m----> 9\u001b[0m     \u001b[38;5;28;43msuper\u001b[39;49m\u001b[38;5;241;43m.\u001b[39;49m\u001b[38;5;21;43m__init__\u001b[39;49m\u001b[43m(\u001b[49m\u001b[43m)\u001b[49m\n\u001b[0;32m     10\u001b[0m     \u001b[38;5;28mself\u001b[39m\u001b[38;5;241m.\u001b[39md\u001b[38;5;241m=\u001b[39m\u001b[38;5;241m444\u001b[39m\n",
      "\u001b[1;31mTypeError\u001b[0m: descriptor '__init__' of 'super' object needs an argument"
     ]
    }
   ],
   "source": [
    "class P:\n",
    "    a=111\n",
    "    def __init__(self):\n",
    "        self.b=222\n",
    "\n",
    "class C(P):\n",
    "    c=333\n",
    "    def __init__(self):\n",
    "        super.__init__()\n",
    "        self.d=444\n",
    "\n",
    "child=C()\n",
    "print(child.a,child.b,child.c,child.d)"
   ]
  },
  {
   "cell_type": "code",
   "execution_count": 26,
   "id": "ce2d15e8-2d2c-4c2d-94a4-7095b248d963",
   "metadata": {},
   "outputs": [
    {
     "name": "stdout",
     "output_type": "stream",
     "text": [
      "111 222 333 444\n"
     ]
    }
   ],
   "source": [
    "class P:\n",
    "    a = 111\n",
    "    def __init__(self):\n",
    "        self.b = 222\n",
    "        \n",
    "class C(P):\n",
    "    c = 333\n",
    "    def __init__(self):\n",
    "        super().__init__()  #this will invoke parent class constructor method if we comment this line then AttributeError: 'C' object has no attribute 'b'\n",
    "        self.d = 444\n",
    "        \n",
    "child = C()\n",
    "print(child.a, child.b, child.c, child.d)"
   ]
  },
  {
   "cell_type": "markdown",
   "id": "36f76a49-07b2-4483-87f8-965263817f6d",
   "metadata": {},
   "source": [
    "## Example5"
   ]
  },
  {
   "cell_type": "code",
   "execution_count": 32,
   "id": "598054bb-1ddd-4f80-91ac-ee39625d3d1f",
   "metadata": {},
   "outputs": [
    {
     "name": "stdout",
     "output_type": "stream",
     "text": [
      "1.eating and sleeping.....\n",
      "2.Gym and Yoga\n",
      "Student name: pawan\n",
      "Student age: 24\n",
      "Student qual: mechanical\n",
      "Student phone: 8143\n"
     ]
    }
   ],
   "source": [
    "class Person:\n",
    "    def __init__(self,name,age):\n",
    "        self.name=name\n",
    "        self.age=age\n",
    "\n",
    "    def dowork(self):\n",
    "        print(\"1.eating and sleeping.....\")\n",
    "class student(Person):\n",
    "    def __init__(self,name,age,qual,phone):\n",
    "        super().__init__(name,age)\n",
    "        self.qual=qual\n",
    "        self.phone=phone\n",
    "\n",
    "    def hobbies(self):\n",
    "        print(\"2.Gym and Yoga\")\n",
    "\n",
    "    def studInfo(self):\n",
    "        print(\"Student name:\",self.name)\n",
    "        print(\"Student age:\",self.age)\n",
    "        print(\"Student qual:\",self.qual)\n",
    "        print(\"Student phone:\",self.phone)\n",
    "\n",
    "s = student(\"pawan\",24,\"mechanical\",8143)\n",
    "s.dowork()\n",
    "s.hobbies()\n",
    "s.studInfo()"
   ]
  },
  {
   "cell_type": "code",
   "execution_count": 33,
   "id": "cd4fb1ed-5e4a-4cdd-9e4c-b9257d4a9f2c",
   "metadata": {},
   "outputs": [
    {
     "name": "stdout",
     "output_type": "stream",
     "text": [
      "9177\n",
      "2565\n",
      "child class Instance method\n",
      "child class class method\n",
      "child class static method\n"
     ]
    }
   ],
   "source": [
    "class Parent():\n",
    "    a=10\n",
    "    def __init__(self):\n",
    "        self.b=20\n",
    "        \n",
    "    def m1(self):\n",
    "        print(\"parent class Instance method\")\n",
    "    \n",
    "    @classmethod\n",
    "    def m2(cls):\n",
    "        print(\"parent class class method\")\n",
    "        \n",
    "    @staticmethod\n",
    "    def m3():\n",
    "        print(\"parent class static method\")\n",
    "        \n",
    "    def __del__(self):\n",
    "        print(\"parent class destructor\")\n",
    "        \n",
    "class Child(Parent):\n",
    "    a=9177\n",
    "    def __init__(self):\n",
    "        self.b=2565\n",
    "    \n",
    "    def m1(self):\n",
    "        print(\"child class Instance method\")\n",
    "        \n",
    "    @classmethod\n",
    "    def m2(cls):\n",
    "        print(\"child class class method\")\n",
    "        \n",
    "    @staticmethod\n",
    "    def m3():\n",
    "        print(\"child class static method\")\n",
    "        \n",
    "c=Child()\n",
    "print(c.a)\n",
    "print(c.b)\n",
    "c.m1()\n",
    "c.m2()\n",
    "c.m3()"
   ]
  },
  {
   "cell_type": "markdown",
   "id": "8e1c9e4b-ada5-4194-85fc-2cf15adfa758",
   "metadata": {},
   "source": [
    "## 4. Has-A Vs Is-A Relationship"
   ]
  },
  {
   "cell_type": "code",
   "execution_count": 2,
   "id": "06dc4813-3dbd-4681-834a-4500b2cea2ca",
   "metadata": {},
   "outputs": [
    {
     "name": "stdout",
     "output_type": "stream",
     "text": [
      "3.developing an application...\n",
      "4.Name of the employee: pawan age is: 26 salary is: 10000 working on: python\n",
      "5.Employee car Info:\n",
      "1.car name:benz 4matic,color is:navy blue,model is:350d\n",
      "2.dress code according to age\n"
     ]
    }
   ],
   "source": [
    "class Car:\n",
    "    def __init__(self,name,color,model):\n",
    "        self.name=name\n",
    "        self.color=color\n",
    "        self.model=model\n",
    "\n",
    "    def getInfo(self):\n",
    "        print(\"1.car name:{},color is:{},model is:{}\".format(self.name,self.color,self.model))\n",
    "\n",
    "class Person:\n",
    "    def __init__(self,name,age):\n",
    "            self.name=name\n",
    "            self.age=age\n",
    "\n",
    "    def uniform(self):\n",
    "            print(\"2.dress code according to age\")\n",
    "\n",
    "class Employee(Person):\n",
    "    def __init__(self,name,age,sal,tech,car):\n",
    "        super().__init__(name,age)\n",
    "        self.sal=sal\n",
    "        self.tech=tech\n",
    "        self.car=car\n",
    "\n",
    "    def work(self):\n",
    "        print(\"3.developing an application...\")\n",
    "\n",
    "    def displayInfo(self):\n",
    "        print(\"4.Name of the employee:\",self.name,\"age is:\",self.age,\"salary is:\",self.sal,\"working on:\",self.tech)\n",
    "        print(\"5.Employee car Info:\")\n",
    "        self.car.getInfo()\n",
    "\n",
    "c=Car(\"benz 4matic\",\"navy blue\",\"350d\")\n",
    "e=Employee(\"pawan\",26,10000,\"python\",c) \n",
    "e.work()\n",
    "e.displayInfo()\n",
    "e.uniform()"
   ]
  },
  {
   "cell_type": "markdown",
   "id": "eec793ec-3b38-4465-bb63-de4d541538c0",
   "metadata": {},
   "source": [
    "## Example 6"
   ]
  },
  {
   "cell_type": "code",
   "execution_count": 4,
   "id": "a9ea499f-1d8d-4d5d-980c-5c021d13b2da",
   "metadata": {},
   "outputs": [
    {
     "name": "stdout",
     "output_type": "stream",
     "text": [
      "Vishnu Institute of Technology\n",
      "pawan\n"
     ]
    }
   ],
   "source": [
    "class Student:\n",
    "    college_name=\"Vishnu Institute of Technology\"\n",
    "    def __init__(self,name):\n",
    "        self.name=name\n",
    "\n",
    "print(Student.college_name)\n",
    "\n",
    "s=Student(\"pawan\")\n",
    "print(s.name)"
   ]
  },
  {
   "cell_type": "markdown",
   "id": "06b1d215-8a64-44a8-a112-ce05f97f7b18",
   "metadata": {},
   "source": [
    "### Note: Whenever we are creating child class object then child class constructor will be executed. If the child class does not contain constructor then parent class constructor will be executed, but parent object won't be created."
   ]
  },
  {
   "cell_type": "code",
   "execution_count": 6,
   "id": "97dde2d2-05e2-4ee0-b7dd-3b762d898bae",
   "metadata": {},
   "outputs": [
    {
     "name": "stdout",
     "output_type": "stream",
     "text": [
      "2251508710800\n",
      "2251508710800\n"
     ]
    }
   ],
   "source": [
    "class P:\n",
    "    def __init__(self):\n",
    "        print(id(self))\n",
    "\n",
    "class C(P):\n",
    "    pass\n",
    "\n",
    "c=C()\n",
    "print(id(c))"
   ]
  },
  {
   "cell_type": "code",
   "execution_count": 8,
   "id": "08ecbddf-2964-4a9d-8aff-e111cc8b6d15",
   "metadata": {},
   "outputs": [
    {
     "name": "stdout",
     "output_type": "stream",
     "text": [
      "Name=Pawan\n",
      "Age=24\n",
      "Rollno=46\n",
      "Marks=94\n"
     ]
    }
   ],
   "source": [
    "class Person:\n",
    "    def __init__(self,name,age):\n",
    "        self.name=name\n",
    "        self.age=age\n",
    "\n",
    "class Student(Person):\n",
    "    def __init__(self,name,age,rollno,marks):\n",
    "        super().__init__(name,age)\n",
    "        self.rollno=rollno\n",
    "        self.marks=marks\n",
    "\n",
    "    def __str__(self):\n",
    "        return 'Name={}\\nAge={}\\nRollno={}\\nMarks={}'.format(self.name,self.age,self.rollno,self.marks)\n",
    "\n",
    "s=Student(\"Pawan\",24,46,94)\n",
    "print(s)"
   ]
  },
  {
   "cell_type": "markdown",
   "id": "a743270d-e3f2-43f7-8611-13264a2430b5",
   "metadata": {},
   "source": [
    "### Note: In the above example when ever we are creating child class object both parent and child class constructors got executed to perform initialization of child object"
   ]
  },
  {
   "cell_type": "markdown",
   "id": "ab7570ff-bca4-406c-bfc9-c376144a54f2",
   "metadata": {},
   "source": [
    "### 6. Types of Inheritance"
   ]
  },
  {
   "cell_type": "code",
   "execution_count": 10,
   "id": "e88c7922-8504-4f15-8588-e0ff607f57cc",
   "metadata": {},
   "outputs": [
    {
     "name": "stdout",
     "output_type": "stream",
     "text": [
      "parent class m1 method\n",
      "child class m2 method\n"
     ]
    }
   ],
   "source": [
    "# single inheritance\n",
    "class Parent():\n",
    "    def m1(self):\n",
    "        print(\"parent class m1 method\")\n",
    "\n",
    "class Child(Parent):\n",
    "    def m2(self):\n",
    "        print(\"child class m2 method\")\n",
    "\n",
    "\n",
    "c=Child()\n",
    "c.m1()\n",
    "c.m2()"
   ]
  },
  {
   "cell_type": "code",
   "execution_count": 12,
   "id": "2a271930-f887-4c21-9529-99019b07f9a3",
   "metadata": {},
   "outputs": [
    {
     "name": "stdout",
     "output_type": "stream",
     "text": [
      "parent m1\n",
      "child  m2\n",
      "children m3\n"
     ]
    }
   ],
   "source": [
    "# multi-level inheritance\n",
    "class A:\n",
    "    def m1(self):\n",
    "        print(\"parent m1\")\n",
    "\n",
    "class B(A):\n",
    "    def m2(self):\n",
    "        print(\"child  m2\")\n",
    "\n",
    "class C(B):\n",
    "    def m3(self):\n",
    "        print(\"children m3\")\n",
    "\n",
    "c=C()\n",
    "c.m1()\n",
    "c.m2()\n",
    "c.m3()"
   ]
  },
  {
   "cell_type": "code",
   "execution_count": 13,
   "id": "cd55a77d-3fc6-42be-a2b4-47cf9634be24",
   "metadata": {},
   "outputs": [
    {
     "name": "stdout",
     "output_type": "stream",
     "text": [
      "A class m1\n",
      "C class m3\n",
      "**********\n",
      "A class m1\n",
      "B class m2\n"
     ]
    }
   ],
   "source": [
    "##hierarchial inheritance\n",
    "class A:\n",
    "   def m1(self):\n",
    "       print(\"A class m1\")\n",
    "\n",
    "class B(A):\n",
    "    def m2(self):\n",
    "        print(\"B class m2\")\n",
    "\n",
    "class C(A):\n",
    "    def m3(self):\n",
    "        print(\"C class m3\")\n",
    "        \n",
    "c=C()\n",
    "c.m1()\n",
    "c.m3()\n",
    "print(\"**********\")\n",
    "b=B()\n",
    "b.m1()\n",
    "b.m2()"
   ]
  },
  {
   "cell_type": "code",
   "execution_count": 14,
   "id": "bfed08aa-db07-4d81-a22b-c41d401b4f2b",
   "metadata": {},
   "outputs": [
    {
     "name": "stdout",
     "output_type": "stream",
     "text": [
      "Parent1 class m1\n",
      "Parent2 class m2\n",
      "Child class m3\n"
     ]
    }
   ],
   "source": [
    "#multiple inheritance\n",
    "class Parent1:\n",
    "    def m1(self):\n",
    "        print(\"Parent1 class m1\")\n",
    "        \n",
    "class Parent2:\n",
    "    def m2(self):\n",
    "        print(\"Parent2 class m2\")\n",
    "        \n",
    "class C(Parent1,Parent2):\n",
    "    def m3(self):\n",
    "        print(\"Child class m3\")\n",
    "        \n",
    "c=C()\n",
    "c.m1()\n",
    "c.m2()\n",
    "c.m3()"
   ]
  },
  {
   "cell_type": "markdown",
   "id": "92d4a5f7-8c0f-44bc-b378-cc6b3ecde93b",
   "metadata": {},
   "source": [
    "#### if parent class contains both same methods then according to order it calls the method"
   ]
  },
  {
   "cell_type": "markdown",
   "id": "803be82a-2e8d-4f2d-9bf1-2266a37259dc",
   "metadata": {},
   "source": [
    "class Parent1:\n",
    "    def m1(self):\n",
    "        print(\"Parent1 class m1\")\n",
    "        \n",
    "class Parent2:\n",
    "    def m1(self):\n",
    "        print(\"Parent2 class m1\")\n",
    "        \n",
    "class Child(Parent2,Parent1):\n",
    "    def m3(self):\n",
    "        print(\"Child class m3\")\n",
    "        \n",
    "c=Child()\n",
    "c.m1()\n",
    "c.m3() "
   ]
  },
  {
   "cell_type": "markdown",
   "id": "e15361f1-7fe8-4c58-af23-ef36031f7bdb",
   "metadata": {},
   "source": [
    "### 5. Hybrid Inheritance:\r\n",
    "Combination of Single, Multi level, multiple and Hierarchical inheritance is known as Hybrid Inheritance."
   ]
  },
  {
   "cell_type": "markdown",
   "id": "5c5e84fa-71ce-4516-a550-66ec8ca279f0",
   "metadata": {},
   "source": [
    "### 6. Cyclic Inheritance:\r\n",
    "The concept of inheriting properties from one class to another class in cyclic way, is called Cyclic inheritance.Python won't support for Cyclic Inheritance of course it is really not required."
   ]
  },
  {
   "cell_type": "code",
   "execution_count": 17,
   "id": "0284cd73-3b58-43dc-9ea4-710013816a3d",
   "metadata": {},
   "outputs": [],
   "source": [
    "class A(A):\n",
    "    pass    #o/p: - NameError: name 'A' is not defined"
   ]
  },
  {
   "cell_type": "code",
   "execution_count": 18,
   "id": "63362396-4643-469e-9c8d-40a8b71d1f4b",
   "metadata": {},
   "outputs": [],
   "source": [
    "class A(B):\n",
    "    pass\n",
    "class B(A):\n",
    "    pass     #o/p:-  NameError: name 'B' is not defined"
   ]
  },
  {
   "cell_type": "markdown",
   "id": "9cbd2789-c9f5-4259-a935-59d2f7dd2026",
   "metadata": {},
   "source": [
    "# 7. Method Resolution Order (MRO):\r\n",
    "In Hybrid Inheritance the method resolution order is decided based on MRO algorithm.\r\n",
    "This algorithm is also known as C3 algorithm. Samuele Pedroni proposed this algorithm.\r\n",
    "It follows DLR (Depth First Left to Right)\r\n",
    "i.e Child will get more priority than Parent. Left Parent will get more priority than Right Parent"
   ]
  },
  {
   "cell_type": "code",
   "execution_count": 21,
   "id": "f12069c6-f902-479c-9473-778897422e21",
   "metadata": {},
   "outputs": [
    {
     "name": "stdout",
     "output_type": "stream",
     "text": [
      "[<class '__main__.A'>, <class 'object'>]\n",
      "[<class '__main__.B'>, <class '__main__.A'>, <class 'object'>]\n",
      "[<class '__main__.C'>, <class '__main__.A'>, <class 'object'>]\n",
      "[<class '__main__.D'>, <class '__main__.B'>, <class '__main__.C'>, <class '__main__.A'>, <class 'object'>]\n"
     ]
    }
   ],
   "source": [
    "class A:\n",
    "    pass\n",
    "class B(A):\n",
    "    pass\n",
    "class C(A):\n",
    "    pass\n",
    "class D(B,C):\n",
    "    pass\n",
    "\n",
    "print(A.mro())\n",
    "print(B.mro())\n",
    "print(C.mro())\n",
    "print(D.mro())"
   ]
  },
  {
   "cell_type": "code",
   "execution_count": 22,
   "id": "cb0de861-90e3-41ca-8427-455fbae5d169",
   "metadata": {},
   "outputs": [
    {
     "name": "stdout",
     "output_type": "stream",
     "text": [
      "A class m1 method\n"
     ]
    }
   ],
   "source": [
    "class A:\n",
    "    def m1(self):\n",
    "        print(\"A class m1 method\")\n",
    "class B(A):pass\n",
    "    #def m1(self):\n",
    "        #print(\"B class m1 method\")\n",
    "class C(A):pass\n",
    "    #def m1(self):\n",
    "        #print(\"C class m1 method\")\n",
    "class D(B,C):pass\n",
    "    #def m1(self):\n",
    "        #print(\"D class m1 method\")\n",
    "\n",
    "d = D()\n",
    "d.m1()"
   ]
  },
  {
   "cell_type": "code",
   "execution_count": 23,
   "id": "167bd8b4-8a32-4440-b7ac-1fbec3a93c25",
   "metadata": {},
   "outputs": [
    {
     "name": "stdout",
     "output_type": "stream",
     "text": [
      "[<class '__main__.A'>, <class 'object'>]\n",
      "[<class '__main__.B'>, <class 'object'>]\n",
      "[<class '__main__.C'>, <class 'object'>]\n",
      "[<class '__main__.X'>, <class '__main__.A'>, <class '__main__.B'>, <class 'object'>]\n",
      "[<class '__main__.Y'>, <class '__main__.B'>, <class '__main__.C'>, <class 'object'>]\n",
      "[<class '__main__.P'>, <class '__main__.X'>, <class '__main__.A'>, <class '__main__.Y'>, <class '__main__.B'>, <class '__main__.C'>, <class 'object'>]\n"
     ]
    }
   ],
   "source": [
    "class A:\n",
    "    pass\n",
    "class B:\n",
    "    pass\n",
    "class C:\n",
    "    pass\n",
    "class X(A,B):\n",
    "    pass\n",
    "class Y(B,C):\n",
    "    pass\n",
    "class P(X,Y,C):\n",
    "    pass\n",
    "\n",
    "print(A.mro())\n",
    "print(B.mro())\n",
    "print(C.mro())\n",
    "print(X.mro())\n",
    "print(Y.mro())\n",
    "print(P.mro())"
   ]
  },
  {
   "cell_type": "code",
   "execution_count": 24,
   "id": "163dae3e-935d-466a-9ea7-1f3c497e6705",
   "metadata": {},
   "outputs": [
    {
     "name": "stdout",
     "output_type": "stream",
     "text": [
      "P class m1 method\n"
     ]
    }
   ],
   "source": [
    "class A:\n",
    "    def m1(self):\n",
    "        print(\"A class m1 method\")\n",
    "class B:\n",
    "    def m1(self):\n",
    "        print(\"B class m1 method\")\n",
    "class C:\n",
    "    def m1(self):\n",
    "        print(\"C class m1 method\")\n",
    "class X(A,B):\n",
    "    def m1(self):\n",
    "        print(\"X class m1 method\")\n",
    "class Y(B,C):\n",
    "    def m1(self):\n",
    "        print(\"Y class m1 method\")\n",
    "class P(X,Y,C):\n",
    "    def m1(self):\n",
    "        print(\"P class m1 method\")\n",
    "\n",
    "p = P()\n",
    "p.m1()"
   ]
  },
  {
   "cell_type": "markdown",
   "id": "1ac6e4b6-9e30-430f-8b3b-c5fa4233cbf5",
   "metadata": {},
   "source": [
    "# Demo 3"
   ]
  },
  {
   "cell_type": "code",
   "execution_count": 25,
   "id": "16fa4dbb-1ea9-4f71-863c-cd22e1e4e20a",
   "metadata": {},
   "outputs": [
    {
     "name": "stdout",
     "output_type": "stream",
     "text": [
      "[<class '__main__.D'>, <class 'object'>]\n",
      "[<class '__main__.E'>, <class 'object'>]\n",
      "[<class '__main__.F'>, <class 'object'>]\n",
      "[<class '__main__.B'>, <class '__main__.D'>, <class '__main__.E'>, <class 'object'>]\n",
      "[<class '__main__.C'>, <class '__main__.D'>, <class '__main__.F'>, <class 'object'>]\n",
      "[<class '__main__.A'>, <class '__main__.B'>, <class '__main__.C'>, <class '__main__.D'>, <class '__main__.E'>, <class '__main__.F'>, <class 'object'>]\n"
     ]
    }
   ],
   "source": [
    "class D:\n",
    "    pass\n",
    "class E:\n",
    "    pass\n",
    "class F:\n",
    "    pass\n",
    "class B(D,E):\n",
    "    pass\n",
    "class C(D,F):\n",
    "    pass\n",
    "class A(B,C):\n",
    "    pass\n",
    "\n",
    "print(D.mro())\n",
    "print(E.mro())\n",
    "print(F.mro())\n",
    "print(B.mro())\n",
    "print(C.mro())\n",
    "print(A.mro())"
   ]
  },
  {
   "cell_type": "markdown",
   "id": "62643801-fa08-4cce-8756-6370f6babff6",
   "metadata": {},
   "source": [
    "## super(): it is a built-in method which is useful to call the super class constructors,variables and methods from the child class."
   ]
  },
  {
   "cell_type": "code",
   "execution_count": 28,
   "id": "cc142dcb-7a3f-41b6-b19c-d84e626484e1",
   "metadata": {},
   "outputs": [
    {
     "name": "stdout",
     "output_type": "stream",
     "text": [
      "Name: pawan\n",
      "Age: 25\n",
      "sal: 50\n",
      "phone 81\n"
     ]
    }
   ],
   "source": [
    "class Person:\n",
    "    def __init__(self,name,age):\n",
    "        self.name=name\n",
    "        self.age=age\n",
    "\n",
    "    def personInfo(self):\n",
    "        print(\"Name:\",self.name)\n",
    "        print(\"Age:\",self.age)\n",
    "\n",
    "class Employee(Person):\n",
    "    def __init__(self,name,age,sal,phone):\n",
    "        super().__init__(name,age)\n",
    "        self.sal=sal\n",
    "        self.phone=phone\n",
    "\n",
    "    def personInfo(self):\n",
    "        super().personInfo()\n",
    "        print(\"sal:\",self.sal)\n",
    "        print(\"phone\",self.phone)\n",
    "\n",
    "\n",
    "e=Employee(\"pawan\",25,50,81)\n",
    "e.personInfo()"
   ]
  },
  {
   "cell_type": "code",
   "execution_count": null,
   "id": "7bb59d50-a61d-4a48-b131-ff3c160d84eb",
   "metadata": {},
   "outputs": [],
   "source": []
  },
  {
   "cell_type": "code",
   "execution_count": null,
   "id": "25661f03-289e-4235-9322-75708940f7fc",
   "metadata": {},
   "outputs": [],
   "source": []
  },
  {
   "cell_type": "code",
   "execution_count": null,
   "id": "816e1a3b-7db6-4ebb-881e-3c129177b17f",
   "metadata": {},
   "outputs": [],
   "source": []
  },
  {
   "cell_type": "code",
   "execution_count": null,
   "id": "dc746c01-b423-4bc3-abfa-5762fba561dc",
   "metadata": {},
   "outputs": [],
   "source": []
  },
  {
   "cell_type": "code",
   "execution_count": null,
   "id": "733f4498-863c-4634-bbe4-0239f44732aa",
   "metadata": {},
   "outputs": [],
   "source": []
  },
  {
   "cell_type": "code",
   "execution_count": null,
   "id": "0a44ada0-99b9-4d51-a9e6-51c629418b97",
   "metadata": {},
   "outputs": [],
   "source": []
  }
 ],
 "metadata": {
  "kernelspec": {
   "display_name": "Python 3 (ipykernel)",
   "language": "python",
   "name": "python3"
  },
  "language_info": {
   "codemirror_mode": {
    "name": "ipython",
    "version": 3
   },
   "file_extension": ".py",
   "mimetype": "text/x-python",
   "name": "python",
   "nbconvert_exporter": "python",
   "pygments_lexer": "ipython3",
   "version": "3.11.4"
  }
 },
 "nbformat": 4,
 "nbformat_minor": 5
}
