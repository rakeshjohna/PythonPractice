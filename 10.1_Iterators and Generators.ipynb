{
 "cells": [
  {
   "cell_type": "markdown",
   "id": "cc64e2ab-db69-485d-b618-75f1fbcae1c3",
   "metadata": {},
   "source": [
    "Every iterator is also an iterable but not every iterable is an iterator.\r\n",
    "#\n",
    "Ex: A List is iterable(iterable object (a set, a string, a list etc.)) but a List is not Iterato.\n",
    "\n",
    "A process that is repeated more than one time by applying the same logic is called an Iteration.  In programming languages like python, a loop is created with few conditions to perform iteration till it exceeds the limit. If the loop is executed 6 times continuously, then we could say the particular block has iterated 6 times. r"
   ]
  },
  {
   "cell_type": "code",
   "execution_count": 2,
   "id": "8402ce2f-7528-48bd-84f7-dc6fea5aa6ac",
   "metadata": {},
   "outputs": [
    {
     "name": "stdout",
     "output_type": "stream",
     "text": [
      "0 is an Even Number\n",
      "5 is an Odd Number\n",
      "10 is an Even Number\n",
      "15 is an Odd Number\n",
      "20 is an Even Number\n"
     ]
    }
   ],
   "source": [
    "a(#iterator) = [0, 5, 10, 15, 20](#iterables) \n",
    "for i in a: \n",
    "    if i % 2 == 0: \n",
    "        print(str(i)+' is an Even Number') \n",
    "    else: \n",
    "        print(str(i)+' is an Odd Number') "
   ]
  },
  {
   "cell_type": "markdown",
   "id": "8bb5ba2f-6189-4aee-833a-90c6659aec70",
   "metadata": {},
   "source": [
    "Iterator\r\n",
    "An iterator is an object which contains a countable number of values and it is used to iterate over iterable objects like list, tuples, sets, etc. Iterators are implemented using a class and a local variable for iterating is not required here, It follows lazy evaluation where the evaluation of the expression will be on hold and stored in the memory until the item is called specifically which helps us to avoid repeated evaluation. As lazy evaluation is implemented, it requires only 1 memory location to process the value and when we are using a large dataset then, wastage of RAM space will be reduced the need to load the entire dataset at the same time will not be there.\r\n",
    "\r\n",
    "Using an iterator-\r\n",
    "\r\n",
    "iter() keyword is used to create an iterator containing an iterable object.\r\n",
    "next() keyword is used to call the next element in the iterable object.\r\n",
    "After the iterable object is completed, to use them again reassign them to the same object."
   ]
  },
  {
   "cell_type": "code",
   "execution_count": 5,
   "id": "7c66ee32-cdcf-4908-8cc6-7aaf7413a5b4",
   "metadata": {},
   "outputs": [
    {
     "name": "stdout",
     "output_type": "stream",
     "text": [
      "Geeks\n",
      "For\n",
      "Geeks\n"
     ]
    }
   ],
   "source": [
    "iter_list = iter(['Geeks', 'For', 'Geeks']) \n",
    "print(next(iter_list)) \n",
    "print(next(iter_list))\n",
    "print(next(iter_list))"
   ]
  },
  {
   "cell_type": "markdown",
   "id": "a78bc317-ca5c-4a9f-af87-e73e69ca4aee",
   "metadata": {},
   "source": [
    "Generators\r\n",
    "It is another way of creating iterators in a simple way where it uses the keyword “yield” instead of returning it in a defined function. Generators are implemented using a function. Just as iterators, generators also follow lazy evaluation. Here, the yield function returns the data without affecting or exiting the function. It will return a sequence of data in an iterable format where we need to iterate over the sequence to use the data as they won’t store the entire sequence in the memory."
   ]
  },
  {
   "cell_type": "code",
   "execution_count": 6,
   "id": "6c12e0d5-7ef1-4feb-9162-5dae5e5790dd",
   "metadata": {},
   "outputs": [
    {
     "name": "stdout",
     "output_type": "stream",
     "text": [
      "The square of numbers 1,2,3 are : \n",
      "1\n",
      "4\n",
      "9\n"
     ]
    }
   ],
   "source": [
    "def sq_numbers(n): \n",
    "    for i in range(1, n+1): \n",
    "        yield i*i \n",
    "  \n",
    "  \n",
    "a = sq_numbers(3) \n",
    "  \n",
    "print(\"The square of numbers 1,2,3 are : \") \n",
    "print(next(a)) \n",
    "print(next(a)) \n",
    "print(next(a)) "
   ]
  },
  {
   "cell_type": "markdown",
   "id": "3ba0f187-fd64-4a25-85a8-7f28c288a33a",
   "metadata": {},
   "source": [
    "terator\t                                                   Generator\r\n",
    "Class is used to implement an iterato        \n",
    "\r\n",
    "Function is used to implement a generator.\r\n",
    "\r\n",
    "Local Variables aren’t used here.           \r\n",
    "\r\n",
    "All the local variables before the yield function are stored. \r\n",
    "\r\n",
    "Iterators are used mostly to it      Generators are mostly used in loops to generate an iterator \n",
    "                                                by returning all the values in the loop without affecting the iteration of the loop\n",
    "erate or convert other objects to an itera\n",
    "or using iter() function.                                         the loop\r\n",
    "Iterator uses iter() and next()        unctions \tGenerateld keyword.  \n",
    "Every iterator is not a generator.               Every generator is an iteratoror uses yi"
   ]
  },
  {
   "cell_type": "code",
   "execution_count": 8,
   "id": "f644ab63-b6c6-4cb8-91f6-13f325c84891",
   "metadata": {},
   "outputs": [
    {
     "name": "stdout",
     "output_type": "stream",
     "text": [
      "r\n",
      "a\n",
      "k\n",
      "e\n",
      "s\n",
      "h\n"
     ]
    },
    {
     "ename": "StopIteration",
     "evalue": "",
     "output_type": "error",
     "traceback": [
      "\u001b[1;31m---------------------------------------------------------------------------\u001b[0m",
      "\u001b[1;31mStopIteration\u001b[0m                             Traceback (most recent call last)",
      "Cell \u001b[1;32mIn[8], line 9\u001b[0m\n\u001b[0;32m      7\u001b[0m \u001b[38;5;28mprint\u001b[39m(\u001b[38;5;28mnext\u001b[39m(iter_object))\n\u001b[0;32m      8\u001b[0m \u001b[38;5;28mprint\u001b[39m(\u001b[38;5;28mnext\u001b[39m(iter_object))\n\u001b[1;32m----> 9\u001b[0m \u001b[38;5;28mprint\u001b[39m(\u001b[38;5;28;43mnext\u001b[39;49m\u001b[43m(\u001b[49m\u001b[43miter_object\u001b[49m\u001b[43m)\u001b[49m)\n",
      "\u001b[1;31mStopIteration\u001b[0m: "
     ]
    }
   ],
   "source": [
    "s=\"rakesh\"\n",
    "iter_object=iter(s)\n",
    "print(next(iter_object))\n",
    "print(next(iter_object))\n",
    "print(next(iter_object))\n",
    "print(next(iter_object))\n",
    "print(next(iter_object))\n",
    "print(next(iter_object))\n",
    "print(next(iter_object))"
   ]
  },
  {
   "cell_type": "code",
   "execution_count": 17,
   "id": "92ab8e5e-a83d-4333-be0d-b59c2b198d16",
   "metadata": {},
   "outputs": [],
   "source": [
    "#for i in 346:\n",
    "#    print(i)          #TypeError: 'int' object is not iterable"
   ]
  },
  {
   "cell_type": "code",
   "execution_count": 18,
   "id": "d5fd0133-61c5-4355-b8bf-5bdd75ade4cf",
   "metadata": {},
   "outputs": [],
   "source": [
    "#next(\"pawan\")         #TypeError: 'str' object is not an iterator"
   ]
  },
  {
   "cell_type": "code",
   "execution_count": 9,
   "id": "a9f61d35-4602-4fd5-b82c-afa213c324cc",
   "metadata": {},
   "outputs": [
    {
     "name": "stdout",
     "output_type": "stream",
     "text": [
      "Berlin\n",
      "newyork\n",
      "vienna\n",
      "LasVegas\n",
      "Bhimavaram\n"
     ]
    }
   ],
   "source": [
    "cities=[\"Berlin\",\"newyork\",\"vienna\",\"LasVegas\",\"Bhimavaram\"]\n",
    "for i in cities:\n",
    "    print(i)"
   ]
  },
  {
   "cell_type": "code",
   "execution_count": 10,
   "id": "11cebf66-8b14-4a1c-b5f2-7d2f34bc3300",
   "metadata": {},
   "outputs": [
    {
     "name": "stdout",
     "output_type": "stream",
     "text": [
      "Berlin\n",
      "newyork\n",
      "vienna\n",
      "LasVegas\n",
      "Bhimavaram\n"
     ]
    }
   ],
   "source": [
    "#internal working of for loop\n",
    "cities = [\"Berlin\",\"newyork\",\"vienna\",\"LasVegas\",\"Bhimavaram\"]\n",
    "iterator_obj = iter(cities)              #to convert iterable object into iterator\n",
    "print(next(iterator_obj))\n",
    "print(next(iterator_obj))\n",
    "print(next(iterator_obj))\n",
    "print(next(iterator_obj))\n",
    "print(next(iterator_obj))\n",
    "#print(next(iterator_obj))   #StopIteration  "
   ]
  },
  {
   "cell_type": "markdown",
   "id": "351e7301-d690-4767-a5c2-07009901cd15",
   "metadata": {},
   "source": [
    "Customize range function"
   ]
  },
  {
   "cell_type": "code",
   "execution_count": 11,
   "id": "d2bc8fab-872a-4c6e-8561-77b235a59063",
   "metadata": {},
   "outputs": [],
   "source": [
    "class my_iter:\n",
    "    def __init__(self,max=0):\n",
    "        self.max = max\n",
    "        \n",
    "    def __iter__(self):\n",
    "        self.n = 0\n",
    "        return self\n",
    "    \n",
    "    def __next__(self):\n",
    "        if self.n <= self.max:\n",
    "            result = 2 ** self.n\n",
    "            self.n += 1\n",
    "            return result\n",
    "        else:\n",
    "            raise StopIteration"
   ]
  },
  {
   "cell_type": "code",
   "execution_count": 12,
   "id": "5f335ec1-9d1a-49b9-a4d9-0e121bb9dbd0",
   "metadata": {},
   "outputs": [
    {
     "name": "stdout",
     "output_type": "stream",
     "text": [
      "1\n",
      "2\n",
      "4\n",
      "8\n",
      "16\n",
      "32\n"
     ]
    }
   ],
   "source": [
    "for i in my_iter(5):\n",
    "    print(i)"
   ]
  },
  {
   "cell_type": "code",
   "execution_count": 13,
   "id": "8a028dba-90f6-4fe5-a484-93e7cb180dec",
   "metadata": {},
   "outputs": [
    {
     "data": {
      "text/plain": [
       "range(0, 5)"
      ]
     },
     "execution_count": 13,
     "metadata": {},
     "output_type": "execute_result"
    }
   ],
   "source": [
    "range(5)    #range is not  iterator"
   ]
  },
  {
   "cell_type": "code",
   "execution_count": 15,
   "id": "8aba2d05-47af-4b25-9aa4-93a1b6d83687",
   "metadata": {},
   "outputs": [
    {
     "name": "stdout",
     "output_type": "stream",
     "text": [
      "0\n",
      "1\n",
      "2\n",
      "3\n",
      "4\n"
     ]
    }
   ],
   "source": [
    "for i in range(5):       #by using for loop we can iterate\n",
    "    print(i)"
   ]
  },
  {
   "cell_type": "code",
   "execution_count": 16,
   "id": "9840d385-c7b5-4e1c-8cff-217a16d3b963",
   "metadata": {},
   "outputs": [
    {
     "data": {
      "text/plain": [
       "0"
      ]
     },
     "execution_count": 16,
     "metadata": {},
     "output_type": "execute_result"
    }
   ],
   "source": [
    "a=iter(range(5))\n",
    "next(a)"
   ]
  },
  {
   "cell_type": "code",
   "execution_count": null,
   "id": "5da07d13-5a4d-4532-9994-95b3891d5fb1",
   "metadata": {},
   "outputs": [],
   "source": [
    "#next(range(5))   #TypeError: 'range' object is not an iterator"
   ]
  },
  {
   "cell_type": "code",
   "execution_count": null,
   "id": "3a82f3ff-cff3-4ac8-8019-1c50f67a242a",
   "metadata": {},
   "outputs": [],
   "source": []
  },
  {
   "cell_type": "code",
   "execution_count": null,
   "id": "8ccadf26-3619-4dd5-931c-48342bdbc8ed",
   "metadata": {},
   "outputs": [],
   "source": []
  }
 ],
 "metadata": {
  "kernelspec": {
   "display_name": "Python 3 (ipykernel)",
   "language": "python",
   "name": "python3"
  },
  "language_info": {
   "codemirror_mode": {
    "name": "ipython",
    "version": 3
   },
   "file_extension": ".py",
   "mimetype": "text/x-python",
   "name": "python",
   "nbconvert_exporter": "python",
   "pygments_lexer": "ipython3",
   "version": "3.11.4"
  }
 },
 "nbformat": 4,
 "nbformat_minor": 5
}
