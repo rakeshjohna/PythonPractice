{
 "cells": [
  {
   "cell_type": "markdown",
   "id": "4ee3054f-fd8e-43f5-83cb-c2c5e1184a84",
   "metadata": {},
   "source": [
    "1.Abstract Method\n",
    "2.Abstract class\n",
    "3.Interface\n",
    "4.Public,Private and Protected Members\n",
    "5._str__() method\n",
    "6.Difference between str() and repr() functions\n",
    "7.Small Banking Application"
   ]
  },
  {
   "cell_type": "markdown",
   "id": "d6f5a1ce-55b2-4b61-a279-bf6a5e1d21a9",
   "metadata": {},
   "source": [
    "## 1.Abstract method"
   ]
  },
  {
   "cell_type": "markdown",
   "id": "dc405211-98c5-4856-9ea7-bdd0e0e657e8",
   "metadata": {},
   "source": [
    "1.Sometimes we don't know about implementation,still we can declare a method. Such type of methods are called abstract methods.i.e abstract method has only declaration but not implementation.\n",
    "2.In python we can declare abstract method by using @abstractmethod decorator as follows."
   ]
  },
  {
   "cell_type": "code",
   "execution_count": 3,
   "id": "878571ed-aa77-49f7-8798-e15d852595b9",
   "metadata": {},
   "outputs": [],
   "source": [
    "from abc import *\n",
    "\n",
    "class Vehicle:\n",
    "    @abstractmethod\n",
    "    def power_wheels(self):     ## without knowing the type of vehicle how can we say that it is two power wheels or\n",
    "        pass"
   ]
  },
  {
   "cell_type": "markdown",
   "id": "90edf8d3-874a-4347-9238-78d244d075ed",
   "metadata": {},
   "source": [
    "3.@abstractmethod decorator present in abc module. Hence compulsory we should import abc module,otherwise we will get NameError: name 'abstractmethod' is not defined\r",
    "4.\n",
    "abc==>abstract base class module"
   ]
  },
  {
   "cell_type": "code",
   "execution_count": 5,
   "id": "8e946775-0be6-4318-8066-52e07fc79ba8",
   "metadata": {},
   "outputs": [],
   "source": [
    "from abc import *\n",
    "\n",
    "class Fruit:\n",
    "    @abstractmethod\n",
    "    def taste(self):\n",
    "        pass"
   ]
  },
  {
   "cell_type": "markdown",
   "id": "42c52ea7-c73c-4a26-be61-109b1d3ee526",
   "metadata": {},
   "source": [
    "#### NOTE: Child classes are responsible to provide implemention for parent class abstract methods."
   ]
  },
  {
   "cell_type": "markdown",
   "id": "916e04f2-e85d-4c7c-9063-041486eb31f1",
   "metadata": {},
   "source": [
    "#### what happens when we provide the implementation in parent class ?\r\n",
    "we won't get any error it is consider as dummy implementation."
   ]
  },
  {
   "cell_type": "markdown",
   "id": "6343e346-6338-40be-b3d2-7847e495073e",
   "metadata": {},
   "source": [
    "# 2. Abstract class:"
   ]
  },
  {
   "cell_type": "markdown",
   "id": "e2c91ce7-2f95-442b-a4d2-92f4b5185324",
   "metadata": {},
   "source": [
    "1.Some times implementation of a class is not complete,such type of partially implementation classes are called abstract classes.\r",
    "2.\n",
    "Every abstract class in Python should be derived from ABC class which is present in abc module."
   ]
  },
  {
   "cell_type": "code",
   "execution_count": 6,
   "id": "07a4e8f7-92de-4b9e-8e83-2dc7a452a6ec",
   "metadata": {},
   "outputs": [],
   "source": [
    "from abc import *\n",
    "class Test:\n",
    "    pass\n",
    "\n",
    "t=Test()"
   ]
  },
  {
   "cell_type": "markdown",
   "id": "31a1fca8-964f-4c00-ad0e-3f66a54dfa16",
   "metadata": {},
   "source": [
    "1.In the above code we can create object for Test class b'z it is concrete class and it does not conatin any abstract method."
   ]
  },
  {
   "cell_type": "code",
   "execution_count": 7,
   "id": "df6dd3ff-2464-4d9a-b3df-bb7f04b13ec0",
   "metadata": {},
   "outputs": [],
   "source": [
    "from abc import *\n",
    "class Test(ABC):\n",
    "    pass\n",
    "\n",
    "t=Test()"
   ]
  },
  {
   "cell_type": "markdown",
   "id": "e3fbbfba-dd8b-47cf-8bf4-7975aba6ac00",
   "metadata": {},
   "source": [
    "*In the above code we can create object,even it is derived from ABC class,b'z it does not contain any abstract method"
   ]
  },
  {
   "cell_type": "code",
   "execution_count": null,
   "id": "bae2a71b-34bc-49c0-897f-2432bb022a4a",
   "metadata": {},
   "outputs": [],
   "source": []
  },
  {
   "cell_type": "code",
   "execution_count": null,
   "id": "c6d1aa36-6182-43c5-884e-f706460487a4",
   "metadata": {},
   "outputs": [],
   "source": []
  },
  {
   "cell_type": "code",
   "execution_count": null,
   "id": "a066efed-ebbd-45b8-a428-8a38206d5338",
   "metadata": {},
   "outputs": [],
   "source": []
  },
  {
   "cell_type": "code",
   "execution_count": null,
   "id": "37bd061d-1ec4-43a2-912b-9390f2ef2ca4",
   "metadata": {},
   "outputs": [],
   "source": []
  },
  {
   "cell_type": "code",
   "execution_count": null,
   "id": "ab14a35e-6b6b-4a96-9c82-53855d863006",
   "metadata": {},
   "outputs": [],
   "source": []
  },
  {
   "cell_type": "code",
   "execution_count": null,
   "id": "35ea2e3d-ca2a-41eb-85b2-646a7dc84035",
   "metadata": {},
   "outputs": [],
   "source": []
  },
  {
   "cell_type": "code",
   "execution_count": null,
   "id": "d529c4e6-26b3-4e04-beff-f7d435095fe4",
   "metadata": {},
   "outputs": [],
   "source": []
  },
  {
   "cell_type": "code",
   "execution_count": null,
   "id": "a1953308-d78e-4b24-924b-8d9f6051586e",
   "metadata": {},
   "outputs": [],
   "source": []
  },
  {
   "cell_type": "code",
   "execution_count": null,
   "id": "0a8a4723-127f-43d8-8e46-bdd9dcc1c43a",
   "metadata": {},
   "outputs": [],
   "source": []
  }
 ],
 "metadata": {
  "kernelspec": {
   "display_name": "Python 3 (ipykernel)",
   "language": "python",
   "name": "python3"
  },
  "language_info": {
   "codemirror_mode": {
    "name": "ipython",
    "version": 3
   },
   "file_extension": ".py",
   "mimetype": "text/x-python",
   "name": "python",
   "nbconvert_exporter": "python",
   "pygments_lexer": "ipython3",
   "version": "3.11.4"
  }
 },
 "nbformat": 4,
 "nbformat_minor": 5
}
