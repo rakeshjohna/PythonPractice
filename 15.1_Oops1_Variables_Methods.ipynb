{
 "cells": [
  {
   "cell_type": "code",
   "execution_count": 1,
   "id": "faf399d1-9de0-44f2-bb04-703505ce3671",
   "metadata": {},
   "outputs": [],
   "source": [
    "class Employee:\n",
    "    def __init__(self):\n",
    "        self.a=100\n",
    "        self.b=\"rakesh\"\n",
    "    def m1(self):\n",
    "        self.c=10000"
   ]
  },
  {
   "cell_type": "code",
   "execution_count": 2,
   "id": "b4a64fd1-9a80-473e-b156-71adee7123b5",
   "metadata": {},
   "outputs": [
    {
     "data": {
      "text/plain": [
       "{'a': 100, 'b': 'rakesh'}"
      ]
     },
     "execution_count": 2,
     "metadata": {},
     "output_type": "execute_result"
    }
   ],
   "source": [
    "e=Employee()\n",
    "e.__dict__"
   ]
  },
  {
   "cell_type": "code",
   "execution_count": 4,
   "id": "e36215b0-82d9-47d6-a930-1b6378fddfe0",
   "metadata": {},
   "outputs": [
    {
     "data": {
      "text/plain": [
       "{'a': 100, 'b': 'rakesh', 'c': 10000}"
      ]
     },
     "execution_count": 4,
     "metadata": {},
     "output_type": "execute_result"
    }
   ],
   "source": [
    "e.m1()\n",
    "e.__dict__"
   ]
  },
  {
   "cell_type": "code",
   "execution_count": 5,
   "id": "073b5e20-5992-44dd-9662-34ae14388541",
   "metadata": {},
   "outputs": [
    {
     "data": {
      "text/plain": [
       "{'a': 100, 'b': 'rakesh', 'c': 10000, 'd': 190}"
      ]
     },
     "execution_count": 5,
     "metadata": {},
     "output_type": "execute_result"
    }
   ],
   "source": [
    "e.d=190\n",
    "e.__dict__"
   ]
  },
  {
   "cell_type": "code",
   "execution_count": 6,
   "id": "58bbf072-f062-4bea-b70e-b331a8cfaebb",
   "metadata": {},
   "outputs": [],
   "source": [
    "class Employee:\n",
    "    def __init__(self):\n",
    "        self.a=100\n",
    "        self.b=\"rakesh\"\n",
    "    def m1(self):\n",
    "        print(self.a)\n",
    "        print(self.b)"
   ]
  },
  {
   "cell_type": "code",
   "execution_count": 7,
   "id": "51ca61d0-47de-4514-8983-dc37881a6d53",
   "metadata": {},
   "outputs": [
    {
     "name": "stdout",
     "output_type": "stream",
     "text": [
      "100\n",
      "rakesh\n"
     ]
    }
   ],
   "source": [
    "e=Employee()\n",
    "e.m1()"
   ]
  },
  {
   "cell_type": "code",
   "execution_count": 8,
   "id": "12330b6a-74d5-453c-871d-319d693cf0c5",
   "metadata": {},
   "outputs": [
    {
     "name": "stdout",
     "output_type": "stream",
     "text": [
      "100\n",
      "rakesh\n"
     ]
    }
   ],
   "source": [
    "print(e.a)\n",
    "print(e.b)"
   ]
  },
  {
   "cell_type": "code",
   "execution_count": 10,
   "id": "5bdabb80-d48a-4eb6-b26e-7a7012e96d52",
   "metadata": {},
   "outputs": [
    {
     "name": "stdout",
     "output_type": "stream",
     "text": [
      "Object `e.delete` not found.\n"
     ]
    }
   ],
   "source": [
    "e.delete?"
   ]
  },
  {
   "cell_type": "code",
   "execution_count": 21,
   "id": "6befc715-1fec-48c9-aacc-0118a9a6b847",
   "metadata": {},
   "outputs": [
    {
     "name": "stdout",
     "output_type": "stream",
     "text": [
      "bmw\n",
      "red\n",
      "10000\n"
     ]
    }
   ],
   "source": [
    "class car:\n",
    "    def __init__(self,a,b,c):\n",
    "        self.a=a\n",
    "        self.b=b\n",
    "        self.c=c\n",
    "    def m1(self):\n",
    "        print(self.a)\n",
    "        print(self.b)\n",
    "        print(self.c)\n",
    "c1=car(\"bmw\",\"red\",10000)\n",
    "c1.m1()"
   ]
  },
  {
   "cell_type": "code",
   "execution_count": 23,
   "id": "c4aacc05-96de-4074-b16b-4eb2f41a573e",
   "metadata": {},
   "outputs": [
    {
     "name": "stdout",
     "output_type": "stream",
     "text": [
      "bmw\n",
      "red\n",
      "10000\n"
     ]
    }
   ],
   "source": [
    "print(c1.a)\n",
    "print(c1.b)\n",
    "print(c1.c)"
   ]
  },
  {
   "cell_type": "code",
   "execution_count": 26,
   "id": "59da3830-fa0e-4f33-8bbe-47e607d68401",
   "metadata": {},
   "outputs": [],
   "source": [
    "class Employee:\n",
    "    def __init__(self):\n",
    "        self.a=100\n",
    "        self.b=\"rakesh\"\n",
    "        self.c=\"kumar\"\n",
    "        self.d=\"rjy\"\n",
    "    def m1(self):\n",
    "        del self.d"
   ]
  },
  {
   "cell_type": "code",
   "execution_count": 29,
   "id": "a932b04c-bcbd-45c6-b9d9-2334168c86b3",
   "metadata": {},
   "outputs": [
    {
     "name": "stdout",
     "output_type": "stream",
     "text": [
      "{'a': 100, 'b': 'rakesh', 'c': 'kumar', 'd': 'rjy'}\n",
      "{'a': 100, 'b': 'rakesh', 'c': 'kumar'}\n"
     ]
    }
   ],
   "source": [
    "e=Employee()\n",
    "print(e.__dict__)\n",
    "e.m1()\n",
    "print(e.__dict__)"
   ]
  },
  {
   "cell_type": "code",
   "execution_count": 30,
   "id": "fb69a03e-c7a5-4ebe-a043-a36aaaedbc4d",
   "metadata": {},
   "outputs": [],
   "source": [
    "class Test:\n",
    "    def __init__(self):\n",
    "        self.id=10\n",
    "        self.name=\"rakesh\"\n",
    "        self.age=24\n",
    "        self.college=\"VIT\""
   ]
  },
  {
   "cell_type": "code",
   "execution_count": 31,
   "id": "baf13a7c-47b1-43b2-a2eb-60f192cf7dfd",
   "metadata": {},
   "outputs": [
    {
     "data": {
      "text/plain": [
       "{'id': 10, 'name': 'rakesh', 'age': 24, 'college': 'VIT'}"
      ]
     },
     "execution_count": 31,
     "metadata": {},
     "output_type": "execute_result"
    }
   ],
   "source": [
    "t=Test()\n",
    "t.__dict__"
   ]
  },
  {
   "cell_type": "code",
   "execution_count": 32,
   "id": "a2000f00-317d-4580-99e3-7b0fbb217efd",
   "metadata": {},
   "outputs": [
    {
     "data": {
      "text/plain": [
       "{'id': 10, 'name': 'rakesh', 'age': 24}"
      ]
     },
     "execution_count": 32,
     "metadata": {},
     "output_type": "execute_result"
    }
   ],
   "source": [
    "del t.college\n",
    "t.__dict__"
   ]
  },
  {
   "cell_type": "code",
   "execution_count": 33,
   "id": "2f12ef5d-c22f-40a1-8ce8-86f0c6582e9a",
   "metadata": {},
   "outputs": [
    {
     "data": {
      "text/plain": [
       "{'id': 10, 'name': 'rakesh', 'age': 24, 'college': 'VIT'}"
      ]
     },
     "execution_count": 33,
     "metadata": {},
     "output_type": "execute_result"
    }
   ],
   "source": [
    "t1=Test()\n",
    "t1.__dict__"
   ]
  },
  {
   "cell_type": "code",
   "execution_count": 35,
   "id": "6e4a77ca-4203-48bb-8821-9a99127b7456",
   "metadata": {},
   "outputs": [],
   "source": [
    "class Test:\n",
    "    def __init__(self):\n",
    "        self.id=10\n",
    "        self.name=\"rakesh\"\n",
    "        self.company=\"verzion\""
   ]
  },
  {
   "cell_type": "code",
   "execution_count": 36,
   "id": "fe1b227d-f469-4154-841e-adbf44236f5a",
   "metadata": {},
   "outputs": [
    {
     "data": {
      "text/plain": [
       "{'id': 10, 'name': 'rakesh', 'company': 'verzion'}"
      ]
     },
     "execution_count": 36,
     "metadata": {},
     "output_type": "execute_result"
    }
   ],
   "source": [
    "t=Test()\n",
    "t.__dict__"
   ]
  },
  {
   "cell_type": "code",
   "execution_count": 37,
   "id": "1800db9c-9b65-4b04-b828-ddb879864f7b",
   "metadata": {},
   "outputs": [
    {
     "data": {
      "text/plain": [
       "{'id': 111, 'name': 'rakesh', 'company': 'hitachi'}"
      ]
     },
     "execution_count": 37,
     "metadata": {},
     "output_type": "execute_result"
    }
   ],
   "source": [
    "t.id=111\n",
    "t.company=\"hitachi\"\n",
    "t.__dict__"
   ]
  },
  {
   "cell_type": "code",
   "execution_count": 38,
   "id": "6ec1ab31-1977-417f-95c8-9c1aba8f5c7b",
   "metadata": {},
   "outputs": [
    {
     "data": {
      "text/plain": [
       "{'id': 10, 'name': 'rakesh', 'company': 'verzion'}"
      ]
     },
     "execution_count": 38,
     "metadata": {},
     "output_type": "execute_result"
    }
   ],
   "source": [
    "t1=Test()\n",
    "t1.__dict__"
   ]
  },
  {
   "cell_type": "code",
   "execution_count": 40,
   "id": "e189d0f8-95b9-4eea-b838-bc7e9ef47e24",
   "metadata": {},
   "outputs": [],
   "source": [
    "# static variable"
   ]
  },
  {
   "cell_type": "code",
   "execution_count": 42,
   "id": "4767ad16-af50-4c25-8bb4-ce667d9cb7e3",
   "metadata": {},
   "outputs": [],
   "source": [
    "class Test:\n",
    "    a=10\n",
    "    def __init__(self):\n",
    "        Test.b=20\n",
    "    def m1(self):\n",
    "        Test.c=30\n",
    "\n",
    "    @classmethod\n",
    "    def m2(cls):\n",
    "        cls.d1=40\n",
    "        Test.d2=400\n",
    "\n",
    "    @staticmethod\n",
    "    def m3():\n",
    "        Test.e=50"
   ]
  },
  {
   "cell_type": "code",
   "execution_count": 44,
   "id": "a62fb864-7955-445e-9857-eed09e6a1e62",
   "metadata": {},
   "outputs": [
    {
     "name": "stdout",
     "output_type": "stream",
     "text": [
      "{'__module__': '__main__', 'a': 10, '__init__': <function Test.__init__ at 0x000002568DF51DA0>, 'm1': <function Test.m1 at 0x000002568DF50B80>, 'm2': <classmethod(<function Test.m2 at 0x000002568DF51A80>)>, 'm3': <staticmethod(<function Test.m3 at 0x000002568DF516C0>)>, '__dict__': <attribute '__dict__' of 'Test' objects>, '__weakref__': <attribute '__weakref__' of 'Test' objects>, '__doc__': None}\n"
     ]
    }
   ],
   "source": [
    "print(Test.__dict__)"
   ]
  },
  {
   "cell_type": "code",
   "execution_count": 45,
   "id": "ded97190-9e62-4a25-b721-1a866d8e6641",
   "metadata": {},
   "outputs": [
    {
     "name": "stdout",
     "output_type": "stream",
     "text": [
      "{'__module__': '__main__', 'a': 10, '__init__': <function Test.__init__ at 0x000002568DF51DA0>, 'm1': <function Test.m1 at 0x000002568DF50B80>, 'm2': <classmethod(<function Test.m2 at 0x000002568DF51A80>)>, 'm3': <staticmethod(<function Test.m3 at 0x000002568DF516C0>)>, '__dict__': <attribute '__dict__' of 'Test' objects>, '__weakref__': <attribute '__weakref__' of 'Test' objects>, '__doc__': None, 'b': 20}\n"
     ]
    }
   ],
   "source": [
    "t=Test()\n",
    "print(Test.__dict__)"
   ]
  },
  {
   "cell_type": "code",
   "execution_count": 46,
   "id": "89cabc75-053e-43a8-9692-a25c03fcbdd5",
   "metadata": {},
   "outputs": [
    {
     "name": "stdout",
     "output_type": "stream",
     "text": [
      "{'__module__': '__main__', 'a': 10, '__init__': <function Test.__init__ at 0x000002568DF51DA0>, 'm1': <function Test.m1 at 0x000002568DF50B80>, 'm2': <classmethod(<function Test.m2 at 0x000002568DF51A80>)>, 'm3': <staticmethod(<function Test.m3 at 0x000002568DF516C0>)>, '__dict__': <attribute '__dict__' of 'Test' objects>, '__weakref__': <attribute '__weakref__' of 'Test' objects>, '__doc__': None, 'b': 20, 'c': 30}\n"
     ]
    }
   ],
   "source": [
    "t.m1()\n",
    "print(Test.__dict__)"
   ]
  },
  {
   "cell_type": "code",
   "execution_count": null,
   "id": "a469286c-d638-44ae-bd7d-19d5310631d1",
   "metadata": {},
   "outputs": [],
   "source": [
    "Test.m2()\n",
    "print("
   ]
  },
  {
   "cell_type": "code",
   "execution_count": null,
   "id": "3038cf40-4ff3-4ce0-a48e-0fb26a9df804",
   "metadata": {},
   "outputs": [],
   "source": []
  },
  {
   "cell_type": "code",
   "execution_count": null,
   "id": "514172e6-b80c-4432-ba1a-e2b363d09479",
   "metadata": {},
   "outputs": [],
   "source": []
  },
  {
   "cell_type": "code",
   "execution_count": null,
   "id": "122a52d6-124c-4f87-9eb4-fb6d132e5c61",
   "metadata": {},
   "outputs": [],
   "source": []
  },
  {
   "cell_type": "code",
   "execution_count": null,
   "id": "b8c72e03-d52b-4667-9fc4-fd3bce45fc48",
   "metadata": {},
   "outputs": [],
   "source": []
  }
 ],
 "metadata": {
  "kernelspec": {
   "display_name": "Python 3 (ipykernel)",
   "language": "python",
   "name": "python3"
  },
  "language_info": {
   "codemirror_mode": {
    "name": "ipython",
    "version": 3
   },
   "file_extension": ".py",
   "mimetype": "text/x-python",
   "name": "python",
   "nbconvert_exporter": "python",
   "pygments_lexer": "ipython3",
   "version": "3.11.4"
  }
 },
 "nbformat": 4,
 "nbformat_minor": 5
}
