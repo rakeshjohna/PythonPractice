{
 "cells": [
  {
   "cell_type": "code",
   "execution_count": 1,
   "id": "14bfce3e-03be-4d80-9207-540df1873ed6",
   "metadata": {},
   "outputs": [
    {
     "name": "stdout",
     "output_type": "stream",
     "text": [
      "addition: 12\n",
      "subtraction: 8\n",
      "multiplication: 20\n",
      "modulo(remainder): 0\n",
      "division: 5.0\n",
      "floor division: 5\n",
      "exponential: 100\n"
     ]
    }
   ],
   "source": [
    "a=10\n",
    "b=2\n",
    "print(\"addition:\",a+b)\n",
    "print(\"subtraction:\",a-b)\n",
    "print(\"multiplication:\",a*b)\n",
    "print(\"modulo(remainder):\",a%b)\n",
    "print(\"division:\",a/b)\n",
    "print(\"floor division:\",a//b)\n",
    "print(\"exponential:\",a**b)"
   ]
  },
  {
   "cell_type": "code",
   "execution_count": 6,
   "id": "c02f8df7-142d-4675-8858-5828893f1dcb",
   "metadata": {},
   "outputs": [
    {
     "data": {
      "text/plain": [
       "2.0"
      ]
     },
     "execution_count": 6,
     "metadata": {},
     "output_type": "execute_result"
    }
   ],
   "source": [
    "6/3"
   ]
  },
  {
   "cell_type": "code",
   "execution_count": 7,
   "id": "8ab2c1b8-bc53-4089-a974-1362b863a84b",
   "metadata": {},
   "outputs": [
    {
     "data": {
      "text/plain": [
       "5.0"
      ]
     },
     "execution_count": 7,
     "metadata": {},
     "output_type": "execute_result"
    }
   ],
   "source": [
    "10/2"
   ]
  },
  {
   "cell_type": "code",
   "execution_count": 8,
   "id": "27a24748-8a60-4949-975e-055898c97313",
   "metadata": {},
   "outputs": [
    {
     "data": {
      "text/plain": [
       "5"
      ]
     },
     "execution_count": 8,
     "metadata": {},
     "output_type": "execute_result"
    }
   ],
   "source": [
    "10//2"
   ]
  },
  {
   "cell_type": "code",
   "execution_count": 1,
   "id": "752472e6-a6a6-4e95-93c0-a5c5aa39fe13",
   "metadata": {},
   "outputs": [
    {
     "name": "stdout",
     "output_type": "stream",
     "text": [
      "a is greater than b: True\n",
      "a is greater than b: False\n",
      "a is greater than or equal b: True\n",
      "a is greater than or equal to b: False\n"
     ]
    }
   ],
   "source": [
    "a=10\n",
    "b=5\n",
    "print(\"a is greater than b:\",a>b)\n",
    "print(\"a is greater than b:\",a<b)\n",
    "print(\"a is greater than or equal b:\",a>=b)\n",
    "print(\"a is greater than or equal to b:\",a<=b)"
   ]
  },
  {
   "cell_type": "code",
   "execution_count": 3,
   "id": "bed0e182-ff68-4691-9bf3-9b2cd73aad4f",
   "metadata": {},
   "outputs": [
    {
     "name": "stdin",
     "output_type": "stream",
     "text": [
      "enter first value 8\n",
      "enter second value 2\n"
     ]
    },
    {
     "name": "stdout",
     "output_type": "stream",
     "text": [
      "a is greater than b: True\n",
      "a is greater than b: False\n",
      "a is greater than or equal b: True\n",
      "a is greater than or equal to b: False\n"
     ]
    }
   ],
   "source": [
    "a=int(input(\"enter first value\"))\n",
    "b=int(input(\"enter second value\"))\n",
    "print(\"a is greater than b:\",a>b)\n",
    "print(\"a is greater than b:\",a<b)\n",
    "print(\"a is greater than or equal b:\",a>=b)\n",
    "print(\"a is greater than or equal to b:\",a<=b)"
   ]
  },
  {
   "cell_type": "code",
   "execution_count": 4,
   "id": "82611aef-e386-4489-ab35-72c4c8d04c43",
   "metadata": {},
   "outputs": [
    {
     "name": "stdout",
     "output_type": "stream",
     "text": [
      "a is greater than b: True\n",
      "a is greater than b: False\n",
      "a is greater than or equal b: True\n",
      "a is greater than or equal to b: False\n"
     ]
    }
   ],
   "source": [
    "a=\"rakesh\"\n",
    "b=\"kumar\"\n",
    "print(\"a is greater than b:\",a>b)\n",
    "print(\"a is greater than b:\",a<b)\n",
    "print(\"a is greater than or equal b:\",a>=b)\n",
    "print(\"a is greater than or equal to b:\",a<=b)"
   ]
  },
  {
   "cell_type": "code",
   "execution_count": 14,
   "id": "1c45bc79-0992-4e9a-8f12-e4a980a5ebd0",
   "metadata": {},
   "outputs": [
    {
     "name": "stdout",
     "output_type": "stream",
     "text": [
      "False\n",
      "True\n",
      "False\n",
      "True\n"
     ]
    },
    {
     "ename": "TypeError",
     "evalue": "'>' not supported between instances of 'int' and 'str'",
     "output_type": "error",
     "traceback": [
      "\u001b[1;31m---------------------------------------------------------------------------\u001b[0m",
      "\u001b[1;31mTypeError\u001b[0m                                 Traceback (most recent call last)",
      "Cell \u001b[1;32mIn[14], line 5\u001b[0m\n\u001b[0;32m      3\u001b[0m \u001b[38;5;28mprint\u001b[39m(\u001b[38;5;28;01mFalse\u001b[39;00m\u001b[38;5;241m>\u001b[39m\u001b[38;5;28;01mTrue\u001b[39;00m)\n\u001b[0;32m      4\u001b[0m \u001b[38;5;28mprint\u001b[39m(\u001b[38;5;241m10\u001b[39m\u001b[38;5;241m>\u001b[39m\u001b[38;5;28;01mTrue\u001b[39;00m)\n\u001b[1;32m----> 5\u001b[0m \u001b[38;5;28mprint\u001b[39m(\u001b[38;5;241;43m10\u001b[39;49m\u001b[38;5;241;43m>\u001b[39;49m\u001b[38;5;124;43m\"\u001b[39;49m\u001b[38;5;124;43mrakesh\u001b[39;49m\u001b[38;5;124;43m\"\u001b[39;49m)\n\u001b[0;32m      6\u001b[0m \u001b[38;5;28mprint\u001b[39m(\u001b[38;5;241m10\u001b[39m\u001b[38;5;241m>\u001b[39m\u001b[38;5;241m2\u001b[39m)\n",
      "\u001b[1;31mTypeError\u001b[0m: '>' not supported between instances of 'int' and 'str'"
     ]
    }
   ],
   "source": [
    "print(True>True)\n",
    "print(True>False)\n",
    "print(False>True)\n",
    "print(10>True)\n",
    "print(10>\"rakesh\")\n",
    "print(10>2)"
   ]
  },
  {
   "cell_type": "code",
   "execution_count": 16,
   "id": "e1460dd0-187f-4539-9be7-37476ce6ceed",
   "metadata": {},
   "outputs": [
    {
     "name": "stdout",
     "output_type": "stream",
     "text": [
      "a is not greater than b\n"
     ]
    }
   ],
   "source": [
    "a=10\n",
    "b=20\n",
    "if a>b:\n",
    "    print(\"a is greater than b\")\n",
    "elif a==b:\n",
    "    print(\"a is equal to b\")\n",
    "else:\n",
    "    print(\"a is not greater than b\")"
   ]
  },
  {
   "cell_type": "code",
   "execution_count": 17,
   "id": "dbad3046-002d-4d16-85f0-b191d5248959",
   "metadata": {},
   "outputs": [
    {
     "name": "stdout",
     "output_type": "stream",
     "text": [
      "False\n"
     ]
    }
   ],
   "source": [
    "print(10<20<30<15)"
   ]
  },
  {
   "cell_type": "code",
   "execution_count": 21,
   "id": "1b413568-3215-4368-b165-96151e3276e1",
   "metadata": {},
   "outputs": [
    {
     "name": "stdout",
     "output_type": "stream",
     "text": [
      "True\n",
      "True\n",
      "True\n",
      "True\n",
      "True\n",
      "True\n"
     ]
    }
   ],
   "source": [
    "print(10!=20)\n",
    "print(10==10)\n",
    "print(\"rakesh\"==\"rakesh\")\n",
    "print(\"kumar\"==\"kumar\")\n",
    "print(10.7!=10.6)\n",
    "print(\"rakesh\"!=10)"
   ]
  },
  {
   "cell_type": "code",
   "execution_count": 22,
   "id": "b2674d1f-debd-41df-8acd-f1ece31adaff",
   "metadata": {},
   "outputs": [
    {
     "name": "stdout",
     "output_type": "stream",
     "text": [
      "False\n",
      "False\n"
     ]
    }
   ],
   "source": [
    "print(10==20==30==40)\n",
    "print(70==60==50==10)"
   ]
  },
  {
   "cell_type": "code",
   "execution_count": 27,
   "id": "fa8dc08c-794a-4b39-84f1-185f8d3e48d3",
   "metadata": {},
   "outputs": [
    {
     "name": "stdout",
     "output_type": "stream",
     "text": [
      "False\n",
      "True\n",
      "True\n"
     ]
    }
   ],
   "source": [
    "print(10>5 and 20<5)\n",
    "print(5==5 and 2==2)\n",
    "print(not 3==2)"
   ]
  },
  {
   "cell_type": "code",
   "execution_count": 30,
   "id": "6efecc6d-2b75-4392-bd31-3632e1803f2d",
   "metadata": {},
   "outputs": [
    {
     "name": "stdin",
     "output_type": "stream",
     "text": [
      "enter a number: -10\n"
     ]
    },
    {
     "name": "stdout",
     "output_type": "stream",
     "text": [
      "False\n"
     ]
    }
   ],
   "source": [
    "num=int(input(\"enter a number:\"))\n",
    "if num<-20:\n",
    "    print(\"True\")\n",
    "elif num>20:\n",
    "    print(\"True\")\n",
    "else:\n",
    "    print(\"False\")"
   ]
  },
  {
   "cell_type": "code",
   "execution_count": 33,
   "id": "43a90e66-f911-4754-ba98-da72cdcc88c6",
   "metadata": {},
   "outputs": [
    {
     "name": "stdin",
     "output_type": "stream",
     "text": [
      "enter a number 30\n"
     ]
    },
    {
     "name": "stdout",
     "output_type": "stream",
     "text": [
      "True\n"
     ]
    }
   ],
   "source": [
    "num=int(input(\"enter a number\"))\n",
    "if(num<-20 or num>20):\n",
    "    print(\"True\")\n",
    "else:\n",
    "    print(\"False\")"
   ]
  },
  {
   "cell_type": "code",
   "execution_count": 39,
   "id": "11913028-334e-4607-80d0-79dca2e0154d",
   "metadata": {},
   "outputs": [
    {
     "name": "stdin",
     "output_type": "stream",
     "text": [
      "enter student name rakesh\n",
      "enter course name btech\n"
     ]
    },
    {
     "name": "stdout",
     "output_type": "stream",
     "text": [
      "congrats....you are eligible for this test\n"
     ]
    }
   ],
   "source": [
    "name=input(\"enter student name\")\n",
    "course=input(\"enter course name\")\n",
    "if (course==\"btech\" or course==\"mtech\"):\n",
    "    print(\"congrats....you are eligible for this test\")\n",
    "else:\n",
    "    print(\"you are not eligible\")"
   ]
  },
  {
   "cell_type": "code",
   "execution_count": 42,
   "id": "2199e988-6f3d-40fc-995b-038bba0f7395",
   "metadata": {},
   "outputs": [
    {
     "name": "stdin",
     "output_type": "stream",
     "text": [
      "Enter a number 0\n",
      "enter another number 0\n"
     ]
    },
    {
     "name": "stdout",
     "output_type": "stream",
     "text": [
      "0\n"
     ]
    }
   ],
   "source": [
    "num1=int(input(\"Enter a number\"))\n",
    "num2=int(input(\"enter another number\"))\n",
    "print(num1 or num2)"
   ]
  },
  {
   "cell_type": "code",
   "execution_count": 43,
   "id": "07e33577-f9d0-4034-88cb-1ee87464ee0f",
   "metadata": {},
   "outputs": [
    {
     "name": "stdin",
     "output_type": "stream",
     "text": [
      "Enter first number 3\n",
      "enter second number 5\n",
      "enter third number 6\n"
     ]
    },
    {
     "name": "stdout",
     "output_type": "stream",
     "text": [
      "3\n"
     ]
    }
   ],
   "source": [
    "num1=int(input(\"Enter first number\"))\n",
    "num2=int(input(\"enter second number\"))\n",
    "num3=int(input(\"enter third number\"))\n",
    "print(num1 or num2 or num3)"
   ]
  },
  {
   "cell_type": "code",
   "execution_count": 45,
   "id": "619ea2f0-5949-474c-83e1-e4fc09e85e9b",
   "metadata": {},
   "outputs": [
    {
     "name": "stdout",
     "output_type": "stream",
     "text": [
      "-3\n"
     ]
    }
   ],
   "source": [
    "print(~2)"
   ]
  },
  {
   "cell_type": "code",
   "execution_count": 48,
   "id": "ad298bb8-1bea-4748-93bb-a426f4eab5a1",
   "metadata": {},
   "outputs": [
    {
     "name": "stdout",
     "output_type": "stream",
     "text": [
      "0\n",
      "30\n",
      "-13\n",
      "40\n",
      "5\n",
      "13\n"
     ]
    }
   ],
   "source": [
    "print(10 &5)\n",
    "print(10 | 20)\n",
    "print(~12)\n",
    "print(10<<2)\n",
    "print(10>>1)\n",
    "print(25^20)"
   ]
  },
  {
   "cell_type": "code",
   "execution_count": 49,
   "id": "25c8d17e-b1f9-4fb3-bd84-86c001aaefa4",
   "metadata": {},
   "outputs": [
    {
     "data": {
      "text/plain": [
       "5"
      ]
     },
     "execution_count": 49,
     "metadata": {},
     "output_type": "execute_result"
    }
   ],
   "source": [
    "a=10\n",
    "a-=5\n",
    "a"
   ]
  },
  {
   "cell_type": "code",
   "execution_count": 50,
   "id": "1cb78b85-8ffb-49d5-92cc-7d29d1031004",
   "metadata": {},
   "outputs": [
    {
     "name": "stdout",
     "output_type": "stream",
     "text": [
      "a is lesser\n"
     ]
    }
   ],
   "source": [
    "#tcf\n",
    "a=10\n",
    "b=20\n",
    "x=(\"a is greater\") if a>b else (\"a is lesser\")\n",
    "print(x)"
   ]
  },
  {
   "cell_type": "code",
   "execution_count": 57,
   "id": "e0a05196-1666-4175-bfea-a877bb77fe15",
   "metadata": {},
   "outputs": [
    {
     "name": "stdout",
     "output_type": "stream",
     "text": [
      "a is divisible by 2\n"
     ]
    }
   ],
   "source": [
    "a=20\n",
    "b=2\n",
    "c=(\"a is divisible by 2\") if a%b==0 else (\"a is not divisible by 2\")\n",
    "print(c)"
   ]
  },
  {
   "cell_type": "code",
   "execution_count": 59,
   "id": "5d2b97ae-908e-4c10-b359-bc229ff28bd6",
   "metadata": {},
   "outputs": [
    {
     "name": "stdin",
     "output_type": "stream",
     "text": [
      "enter 1 number 5\n",
      "enter 2 number 10\n"
     ]
    },
    {
     "name": "stdout",
     "output_type": "stream",
     "text": [
      "5\n"
     ]
    }
   ],
   "source": [
    "a=int(input(\"enter 1 number\"))\n",
    "b=int(input(\"enter 2 number\"))\n",
    "min=a if a<b else b\n",
    "print(min)"
   ]
  },
  {
   "cell_type": "markdown",
   "id": "4fca1e82-8f34-4816-ae37-adea89b1cf97",
   "metadata": {
    "jp-MarkdownHeadingCollapsed": true
   },
   "source": [
    "a=int(input(\"enter 1 number\"))\n",
    "b=int(input(\"enter 2 number\"))\n",
    "c=int(input(\"enter 3 number\"))\n",
    "min={} if a<b and a<c else {} if b<c else {}.format(a,b,c)\n",
    "print(min)"
   ]
  },
  {
   "cell_type": "code",
   "execution_count": 68,
   "id": "568b3beb-5642-45f6-a6b1-33bf986c84d6",
   "metadata": {},
   "outputs": [
    {
     "name": "stdin",
     "output_type": "stream",
     "text": [
      "enter 1 number 10\n",
      "enter 2 number 2\n",
      "enter 3 number 20\n"
     ]
    },
    {
     "name": "stdout",
     "output_type": "stream",
     "text": [
      "10 if a<b and a<c else 2 if b<c else 20\n"
     ]
    }
   ],
   "source": [
    "a=int(input(\"enter 1 number\"))\n",
    "b=int(input(\"enter 2 number\"))\n",
    "c=int(input(\"enter 3 number\"))\n",
    "min=\"{} if a<b and a<c else {} if b<c else {}\".format(a,b,c)\n",
    "print(min)"
   ]
  },
  {
   "cell_type": "code",
   "execution_count": 69,
   "id": "8fceb771-8529-49d4-b785-5eb25da6dd2e",
   "metadata": {},
   "outputs": [
    {
     "name": "stdin",
     "output_type": "stream",
     "text": [
      "enter first number 10\n",
      "enter second number 20\n"
     ]
    },
    {
     "data": {
      "text/plain": [
       "'a is not greater than b'"
      ]
     },
     "execution_count": 69,
     "metadata": {},
     "output_type": "execute_result"
    }
   ],
   "source": [
    "a=int(input(\"enter first number\"))\n",
    "b=int(input(\"enter second number\"))\n",
    "(\"both are equal\") if a==b else (\"a is greater then b\") if a>b else (\"a is not greater than b\")"
   ]
  },
  {
   "cell_type": "code",
   "execution_count": 71,
   "id": "3a074696-9cbb-437a-b8cc-931441038af1",
   "metadata": {},
   "outputs": [
    {
     "name": "stdout",
     "output_type": "stream",
     "text": [
      "True\n"
     ]
    }
   ],
   "source": [
    "a=10\n",
    "b=20\n",
    "print(a is not b)"
   ]
  },
  {
   "cell_type": "code",
   "execution_count": 72,
   "id": "385639b3-65ee-4991-a465-ca8befc081ca",
   "metadata": {},
   "outputs": [
    {
     "name": "stdout",
     "output_type": "stream",
     "text": [
      "True\n"
     ]
    }
   ],
   "source": [
    "a=3\n",
    "b=3\n",
    "print(a is b)"
   ]
  },
  {
   "cell_type": "code",
   "execution_count": 73,
   "id": "02140c12-360f-4bd0-a04e-e1f5b2e4db28",
   "metadata": {},
   "outputs": [
    {
     "name": "stdout",
     "output_type": "stream",
     "text": [
      "140728623162216\n",
      "140728623162216\n"
     ]
    }
   ],
   "source": [
    "print(id(a))\n",
    "print(id(b))"
   ]
  },
  {
   "cell_type": "code",
   "execution_count": 76,
   "id": "3b81bdb7-9b81-415e-ab85-722b4700760a",
   "metadata": {},
   "outputs": [
    {
     "name": "stdout",
     "output_type": "stream",
     "text": [
      "140728621636456\n",
      "140728621636456\n",
      "True\n",
      "False\n"
     ]
    }
   ],
   "source": [
    "#these are used for address comparision\n",
    "x=True\n",
    "y=True\n",
    "print(id(x))\n",
    "print(id(y))\n",
    "print(x is y)\n",
    "print(x is not y)"
   ]
  },
  {
   "cell_type": "code",
   "execution_count": 77,
   "id": "8fe1e0ba-be67-4ddf-ac51-414c4d8dc9eb",
   "metadata": {},
   "outputs": [
    {
     "name": "stdout",
     "output_type": "stream",
     "text": [
      "True\n",
      "False\n",
      "False\n"
     ]
    }
   ],
   "source": [
    "x=\"i am from Bhimavaram\"\n",
    "print(\"i\" in x)\n",
    "print(\"aM\" in x)\n",
    "print(\"from\" not in x)"
   ]
  },
  {
   "cell_type": "code",
   "execution_count": 80,
   "id": "f074c12c-4552-4b50-b9a6-6de82c649061",
   "metadata": {},
   "outputs": [
    {
     "name": "stdout",
     "output_type": "stream",
     "text": [
      "False\n",
      "True\n"
     ]
    }
   ],
   "source": [
    "y=[\"rakesh\",\"kumar\",\"yarlagadda\"]\n",
    "print(\"rakesh\" not in y)\n",
    "print(\"kumar\" in y)"
   ]
  },
  {
   "cell_type": "code",
   "execution_count": null,
   "id": "0f08562b-30ff-4666-a599-63a3af4d9cf1",
   "metadata": {},
   "outputs": [],
   "source": [
    "import math"
   ]
  },
  {
   "cell_type": "code",
   "execution_count": null,
   "id": "3ef210f1-c227-41f7-b7ce-1dd1ee23a955",
   "metadata": {},
   "outputs": [],
   "source": []
  },
  {
   "cell_type": "code",
   "execution_count": null,
   "id": "ffeeb0ba-6a4f-4709-83cf-d795ff299555",
   "metadata": {},
   "outputs": [],
   "source": []
  },
  {
   "cell_type": "code",
   "execution_count": null,
   "id": "5c01ef99-a17e-4aec-a02e-88a873fff2f8",
   "metadata": {},
   "outputs": [],
   "source": []
  },
  {
   "cell_type": "code",
   "execution_count": null,
   "id": "0f980f82-8eda-4122-bdda-b450dae1c657",
   "metadata": {},
   "outputs": [],
   "source": []
  }
 ],
 "metadata": {
  "kernelspec": {
   "display_name": "Python 3 (ipykernel)",
   "language": "python",
   "name": "python3"
  },
  "language_info": {
   "codemirror_mode": {
    "name": "ipython",
    "version": 3
   },
   "file_extension": ".py",
   "mimetype": "text/x-python",
   "name": "python",
   "nbconvert_exporter": "python",
   "pygments_lexer": "ipython3",
   "version": "3.11.4"
  }
 },
 "nbformat": 4,
 "nbformat_minor": 5
}
