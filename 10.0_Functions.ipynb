{
 "cells": [
  {
   "cell_type": "code",
   "execution_count": 6,
   "id": "13684315-0e14-4948-bd4c-9a7392515035",
   "metadata": {},
   "outputs": [
    {
     "name": "stdout",
     "output_type": "stream",
     "text": [
      "good morning rakesh 10\n"
     ]
    }
   ],
   "source": [
    "def wish(a):\n",
    "    print(\"good morning rakesh\",a)\n",
    "wish(a=10)"
   ]
  },
  {
   "cell_type": "code",
   "execution_count": 8,
   "id": "bcf84d7a-b5c7-4113-8b8a-ce84fba44790",
   "metadata": {},
   "outputs": [
    {
     "name": "stdout",
     "output_type": "stream",
     "text": [
      "good morning rakesh 20\n"
     ]
    }
   ],
   "source": [
    "wish(20)"
   ]
  },
  {
   "cell_type": "code",
   "execution_count": 17,
   "id": "06ffe481-58e9-4259-879f-eaafdcd5f160",
   "metadata": {},
   "outputs": [
    {
     "data": {
      "text/plain": [
       "('good morning', 'rakesh', 'your room no is', 20)"
      ]
     },
     "execution_count": 17,
     "metadata": {},
     "output_type": "execute_result"
    }
   ],
   "source": [
    "def wish(name,number):\n",
    "    return(\"good morning\",name,\"your room no is\",number)\n",
    "wish(\"rakesh\",20)"
   ]
  },
  {
   "cell_type": "code",
   "execution_count": 23,
   "id": "97c33e71-9f84-4663-b81f-ef87fc01fd62",
   "metadata": {},
   "outputs": [
    {
     "name": "stdout",
     "output_type": "stream",
     "text": [
      "your dinner time is: 9\n"
     ]
    },
    {
     "data": {
      "text/plain": [
       "('good morning', 'rakesh', 'your room no is', 20)"
      ]
     },
     "execution_count": 23,
     "metadata": {},
     "output_type": "execute_result"
    }
   ],
   "source": [
    "def dinner(time):\n",
    "    print(\"your dinner time is:\",time)\n",
    "dinner(9)\n",
    "wish(\"rakesh\",20)"
   ]
  },
  {
   "cell_type": "code",
   "execution_count": 24,
   "id": "f4a626e3-42e6-4444-8b6d-733623aa8f63",
   "metadata": {},
   "outputs": [
    {
     "name": "stdout",
     "output_type": "stream",
     "text": [
      "square of number is: 81\n"
     ]
    }
   ],
   "source": [
    "def squareit(num):\n",
    "    print(\"square of number is:\",num*num)\n",
    "squareit(9)"
   ]
  },
  {
   "cell_type": "code",
   "execution_count": 25,
   "id": "0bbbfedf-e48e-4b27-b8f5-4e90f4921376",
   "metadata": {},
   "outputs": [
    {
     "data": {
      "text/plain": [
       "11"
      ]
     },
     "execution_count": 25,
     "metadata": {},
     "output_type": "execute_result"
    }
   ],
   "source": [
    "def add(x,y):\n",
    "    return x+y\n",
    "add(5,6)"
   ]
  },
  {
   "cell_type": "code",
   "execution_count": 27,
   "id": "c849a261-ca8f-4f76-8850-e90e28e55eae",
   "metadata": {},
   "outputs": [
    {
     "name": "stdout",
     "output_type": "stream",
     "text": [
      "hello\n"
     ]
    }
   ],
   "source": [
    "def f1():\n",
    "    print(\"hello\")\n",
    "f1()"
   ]
  },
  {
   "cell_type": "code",
   "execution_count": 30,
   "id": "bf9a44de-a1f5-42f9-92c1-0d7882001b06",
   "metadata": {},
   "outputs": [
    {
     "name": "stdout",
     "output_type": "stream",
     "text": [
      "it is a even number\n"
     ]
    }
   ],
   "source": [
    "def even_odd(num):\n",
    "    if num%2==0:\n",
    "        print(\"it is a even number\")\n",
    "    else:\n",
    "        print(\"it is odd number\")\n",
    "even_odd(10)"
   ]
  },
  {
   "cell_type": "code",
   "execution_count": 31,
   "id": "95c6e3b2-35bc-448f-b211-9b50c2fdecd1",
   "metadata": {},
   "outputs": [
    {
     "data": {
      "text/plain": [
       "120"
      ]
     },
     "execution_count": 31,
     "metadata": {},
     "output_type": "execute_result"
    }
   ],
   "source": [
    "def fact(num):\n",
    "    result=1\n",
    "    while num>=1:\n",
    "        result=result*num\n",
    "        num=num-1\n",
    "    return result\n",
    "fact(5)"
   ]
  },
  {
   "cell_type": "code",
   "execution_count": 32,
   "id": "2737418b-424e-4895-bccd-69f9e719a8f1",
   "metadata": {},
   "outputs": [
    {
     "name": "stdout",
     "output_type": "stream",
     "text": [
      "30 -10\n"
     ]
    }
   ],
   "source": [
    "def sum_sub(x,y):\n",
    "    sum=x+y\n",
    "    sub=x-y\n",
    "    print(sum,sub)\n",
    "sum_sub(10,20)"
   ]
  },
  {
   "cell_type": "code",
   "execution_count": 33,
   "id": "f8ce9f06-f41c-4272-b7aa-2f223f1954bc",
   "metadata": {},
   "outputs": [
    {
     "name": "stdout",
     "output_type": "stream",
     "text": [
      "(30, 10, 200, 2.0)\n",
      "<class 'tuple'>\n",
      "[30, 10, 200, 2.0]\n"
     ]
    }
   ],
   "source": [
    "def calc(x,y):\n",
    "    add=x+y\n",
    "    sub=x-y\n",
    "    mul=x*y\n",
    "    div=x/y\n",
    "    return add,sub,mul,div\n",
    "t=calc(20,10)\n",
    "print(t)\n",
    "print(type(t))\n",
    "l=list(t)\n",
    "print(l)"
   ]
  },
  {
   "cell_type": "markdown",
   "id": "dc2b92eb-a10e-4bd7-9c4b-6aee5304f8a9",
   "metadata": {},
   "source": [
    "PKDV"
   ]
  },
  {
   "cell_type": "code",
   "execution_count": 1,
   "id": "5aceae04-66d8-4f38-a2f9-389dc5694206",
   "metadata": {},
   "outputs": [],
   "source": [
    "def func(a,b):   #formal arguments\n",
    "    pass\n",
    "func(10,20)     # actual arguments"
   ]
  },
  {
   "cell_type": "code",
   "execution_count": 2,
   "id": "63d9c489-a7f0-4c60-8df6-cda61f0347f6",
   "metadata": {},
   "outputs": [
    {
     "data": {
      "text/plain": [
       "10"
      ]
     },
     "execution_count": 2,
     "metadata": {},
     "output_type": "execute_result"
    }
   ],
   "source": [
    "def sub(a,b):\n",
    "    return a-b     #positional arguments\n",
    "sub(20,10)"
   ]
  },
  {
   "cell_type": "code",
   "execution_count": 3,
   "id": "d210d4b2-e83a-4075-9417-d1f92c6d04d3",
   "metadata": {},
   "outputs": [
    {
     "data": {
      "text/plain": [
       "-10"
      ]
     },
     "execution_count": 3,
     "metadata": {},
     "output_type": "execute_result"
    }
   ],
   "source": [
    "sub(10,20)"
   ]
  },
  {
   "cell_type": "code",
   "execution_count": 4,
   "id": "477730d3-25c5-4737-bcbb-85892126a37f",
   "metadata": {},
   "outputs": [
    {
     "data": {
      "text/plain": [
       "-1"
      ]
     },
     "execution_count": 4,
     "metadata": {},
     "output_type": "execute_result"
    }
   ],
   "source": [
    "sub(1,2)"
   ]
  },
  {
   "cell_type": "code",
   "execution_count": 5,
   "id": "e3f7547d-dfcb-4391-ba61-70c03fb06b88",
   "metadata": {},
   "outputs": [
    {
     "data": {
      "text/plain": [
       "4"
      ]
     },
     "execution_count": 5,
     "metadata": {},
     "output_type": "execute_result"
    }
   ],
   "source": [
    "sub(9,5)"
   ]
  },
  {
   "cell_type": "code",
   "execution_count": 6,
   "id": "ab34b73b-1ee1-485f-972e-1999d28ee8fa",
   "metadata": {},
   "outputs": [
    {
     "name": "stdout",
     "output_type": "stream",
     "text": [
      "my name is: rakesh age is: 24\n"
     ]
    }
   ],
   "source": [
    "def wish(name,age):\n",
    "    print(\"my name is:\",name,\"age is:\",age)\n",
    "wish(\"rakesh\",24)"
   ]
  },
  {
   "cell_type": "code",
   "execution_count": null,
   "id": "5e4a06c3-6efc-446b-80f8-c867b7921e4e",
   "metadata": {},
   "outputs": [],
   "source": []
  },
  {
   "cell_type": "code",
   "execution_count": null,
   "id": "f077ce74-54ba-4271-96e5-aedb79d49ecb",
   "metadata": {},
   "outputs": [],
   "source": []
  },
  {
   "cell_type": "code",
   "execution_count": null,
   "id": "4122e390-987c-49ed-bfcb-b432c421a367",
   "metadata": {},
   "outputs": [],
   "source": []
  },
  {
   "cell_type": "code",
   "execution_count": null,
   "id": "2845c797-45be-436f-88c5-fd1cbbbaa186",
   "metadata": {},
   "outputs": [],
   "source": []
  },
  {
   "cell_type": "code",
   "execution_count": null,
   "id": "0c9a36e0-565a-4828-88b7-44cb100245ee",
   "metadata": {},
   "outputs": [],
   "source": []
  },
  {
   "cell_type": "code",
   "execution_count": null,
   "id": "1c5f9280-86dd-4ce1-90de-86cb41121700",
   "metadata": {},
   "outputs": [],
   "source": []
  },
  {
   "cell_type": "code",
   "execution_count": null,
   "id": "7bdc6d61-f840-4d02-bc31-f2a0cf6388db",
   "metadata": {},
   "outputs": [],
   "source": []
  },
  {
   "cell_type": "code",
   "execution_count": null,
   "id": "1073a1ff-a3d2-42c7-88c7-cc071d420273",
   "metadata": {},
   "outputs": [],
   "source": []
  },
  {
   "cell_type": "code",
   "execution_count": null,
   "id": "5a4726aa-1367-4e12-89f4-671525a29292",
   "metadata": {},
   "outputs": [],
   "source": []
  }
 ],
 "metadata": {
  "kernelspec": {
   "display_name": "Python 3 (ipykernel)",
   "language": "python",
   "name": "python3"
  },
  "language_info": {
   "codemirror_mode": {
    "name": "ipython",
    "version": 3
   },
   "file_extension": ".py",
   "mimetype": "text/x-python",
   "name": "python",
   "nbconvert_exporter": "python",
   "pygments_lexer": "ipython3",
   "version": "3.11.4"
  }
 },
 "nbformat": 4,
 "nbformat_minor": 5
}
