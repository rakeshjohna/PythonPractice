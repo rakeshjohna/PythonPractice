{
 "cells": [
  {
   "cell_type": "code",
   "execution_count": 6,
   "id": "13684315-0e14-4948-bd4c-9a7392515035",
   "metadata": {},
   "outputs": [
    {
     "name": "stdout",
     "output_type": "stream",
     "text": [
      "good morning rakesh 10\n"
     ]
    }
   ],
   "source": [
    "def wish(a):\n",
    "    print(\"good morning rakesh\",a)\n",
    "wish(a=10)"
   ]
  },
  {
   "cell_type": "code",
   "execution_count": 8,
   "id": "bcf84d7a-b5c7-4113-8b8a-ce84fba44790",
   "metadata": {},
   "outputs": [
    {
     "name": "stdout",
     "output_type": "stream",
     "text": [
      "good morning rakesh 20\n"
     ]
    }
   ],
   "source": [
    "wish(20)"
   ]
  },
  {
   "cell_type": "code",
   "execution_count": 17,
   "id": "06ffe481-58e9-4259-879f-eaafdcd5f160",
   "metadata": {},
   "outputs": [
    {
     "data": {
      "text/plain": [
       "('good morning', 'rakesh', 'your room no is', 20)"
      ]
     },
     "execution_count": 17,
     "metadata": {},
     "output_type": "execute_result"
    }
   ],
   "source": [
    "def wish(name,number):\n",
    "    return(\"good morning\",name,\"your room no is\",number)\n",
    "wish(\"rakesh\",20)"
   ]
  },
  {
   "cell_type": "code",
   "execution_count": 23,
   "id": "97c33e71-9f84-4663-b81f-ef87fc01fd62",
   "metadata": {},
   "outputs": [
    {
     "name": "stdout",
     "output_type": "stream",
     "text": [
      "your dinner time is: 9\n"
     ]
    },
    {
     "data": {
      "text/plain": [
       "('good morning', 'rakesh', 'your room no is', 20)"
      ]
     },
     "execution_count": 23,
     "metadata": {},
     "output_type": "execute_result"
    }
   ],
   "source": [
    "def dinner(time):\n",
    "    print(\"your dinner time is:\",time)\n",
    "dinner(9)\n",
    "wish(\"rakesh\",20)"
   ]
  },
  {
   "cell_type": "code",
   "execution_count": 24,
   "id": "f4a626e3-42e6-4444-8b6d-733623aa8f63",
   "metadata": {},
   "outputs": [
    {
     "name": "stdout",
     "output_type": "stream",
     "text": [
      "square of number is: 81\n"
     ]
    }
   ],
   "source": [
    "def squareit(num):\n",
    "    print(\"square of number is:\",num*num)\n",
    "squareit(9)"
   ]
  },
  {
   "cell_type": "code",
   "execution_count": 25,
   "id": "0bbbfedf-e48e-4b27-b8f5-4e90f4921376",
   "metadata": {},
   "outputs": [
    {
     "data": {
      "text/plain": [
       "11"
      ]
     },
     "execution_count": 25,
     "metadata": {},
     "output_type": "execute_result"
    }
   ],
   "source": [
    "def add(x,y):\n",
    "    return x+y\n",
    "add(5,6)"
   ]
  },
  {
   "cell_type": "code",
   "execution_count": 27,
   "id": "c849a261-ca8f-4f76-8850-e90e28e55eae",
   "metadata": {},
   "outputs": [
    {
     "name": "stdout",
     "output_type": "stream",
     "text": [
      "hello\n"
     ]
    }
   ],
   "source": [
    "def f1():\n",
    "    print(\"hello\")\n",
    "f1()"
   ]
  },
  {
   "cell_type": "code",
   "execution_count": 30,
   "id": "bf9a44de-a1f5-42f9-92c1-0d7882001b06",
   "metadata": {},
   "outputs": [
    {
     "name": "stdout",
     "output_type": "stream",
     "text": [
      "it is a even number\n"
     ]
    }
   ],
   "source": [
    "def even_odd(num):\n",
    "    if num%2==0:\n",
    "        print(\"it is a even number\")\n",
    "    else:\n",
    "        print(\"it is odd number\")\n",
    "even_odd(10)"
   ]
  },
  {
   "cell_type": "code",
   "execution_count": 31,
   "id": "95c6e3b2-35bc-448f-b211-9b50c2fdecd1",
   "metadata": {},
   "outputs": [
    {
     "data": {
      "text/plain": [
       "120"
      ]
     },
     "execution_count": 31,
     "metadata": {},
     "output_type": "execute_result"
    }
   ],
   "source": [
    "def fact(num):\n",
    "    result=1\n",
    "    while num>=1:\n",
    "        result=result*num\n",
    "        num=num-1\n",
    "    return result\n",
    "fact(5)"
   ]
  },
  {
   "cell_type": "code",
   "execution_count": 32,
   "id": "2737418b-424e-4895-bccd-69f9e719a8f1",
   "metadata": {},
   "outputs": [
    {
     "name": "stdout",
     "output_type": "stream",
     "text": [
      "30 -10\n"
     ]
    }
   ],
   "source": [
    "def sum_sub(x,y):\n",
    "    sum=x+y\n",
    "    sub=x-y\n",
    "    print(sum,sub)\n",
    "sum_sub(10,20)"
   ]
  },
  {
   "cell_type": "code",
   "execution_count": 33,
   "id": "f8ce9f06-f41c-4272-b7aa-2f223f1954bc",
   "metadata": {},
   "outputs": [
    {
     "name": "stdout",
     "output_type": "stream",
     "text": [
      "(30, 10, 200, 2.0)\n",
      "<class 'tuple'>\n",
      "[30, 10, 200, 2.0]\n"
     ]
    }
   ],
   "source": [
    "def calc(x,y):\n",
    "    add=x+y\n",
    "    sub=x-y\n",
    "    mul=x*y\n",
    "    div=x/y\n",
    "    return add,sub,mul,div\n",
    "t=calc(20,10)\n",
    "print(t)\n",
    "print(type(t))\n",
    "l=list(t)\n",
    "print(l)"
   ]
  },
  {
   "cell_type": "markdown",
   "id": "dc2b92eb-a10e-4bd7-9c4b-6aee5304f8a9",
   "metadata": {},
   "source": [
    "PKDV"
   ]
  },
  {
   "cell_type": "code",
   "execution_count": 1,
   "id": "5aceae04-66d8-4f38-a2f9-389dc5694206",
   "metadata": {},
   "outputs": [],
   "source": [
    "def func(a,b):   #formal arguments\n",
    "    pass\n",
    "func(10,20)     # actual arguments"
   ]
  },
  {
   "cell_type": "code",
   "execution_count": 2,
   "id": "63d9c489-a7f0-4c60-8df6-cda61f0347f6",
   "metadata": {},
   "outputs": [
    {
     "data": {
      "text/plain": [
       "10"
      ]
     },
     "execution_count": 2,
     "metadata": {},
     "output_type": "execute_result"
    }
   ],
   "source": [
    "def sub(a,b):\n",
    "    return a-b     #positional arguments\n",
    "sub(20,10)"
   ]
  },
  {
   "cell_type": "code",
   "execution_count": 3,
   "id": "d210d4b2-e83a-4075-9417-d1f92c6d04d3",
   "metadata": {},
   "outputs": [
    {
     "data": {
      "text/plain": [
       "-10"
      ]
     },
     "execution_count": 3,
     "metadata": {},
     "output_type": "execute_result"
    }
   ],
   "source": [
    "sub(10,20)"
   ]
  },
  {
   "cell_type": "code",
   "execution_count": 4,
   "id": "477730d3-25c5-4737-bcbb-85892126a37f",
   "metadata": {},
   "outputs": [
    {
     "data": {
      "text/plain": [
       "-1"
      ]
     },
     "execution_count": 4,
     "metadata": {},
     "output_type": "execute_result"
    }
   ],
   "source": [
    "sub(1,2)"
   ]
  },
  {
   "cell_type": "code",
   "execution_count": 5,
   "id": "e3f7547d-dfcb-4391-ba61-70c03fb06b88",
   "metadata": {},
   "outputs": [
    {
     "data": {
      "text/plain": [
       "4"
      ]
     },
     "execution_count": 5,
     "metadata": {},
     "output_type": "execute_result"
    }
   ],
   "source": [
    "sub(9,5)"
   ]
  },
  {
   "cell_type": "code",
   "execution_count": 6,
   "id": "ab34b73b-1ee1-485f-972e-1999d28ee8fa",
   "metadata": {},
   "outputs": [
    {
     "name": "stdout",
     "output_type": "stream",
     "text": [
      "my name is: rakesh age is: 24\n"
     ]
    }
   ],
   "source": [
    "def wish(name,age):\n",
    "    print(\"my name is:\",name,\"age is:\",age)\n",
    "wish(\"rakesh\",24)"
   ]
  },
  {
   "cell_type": "code",
   "execution_count": 1,
   "id": "5e4a06c3-6efc-446b-80f8-c867b7921e4e",
   "metadata": {},
   "outputs": [
    {
     "name": "stdout",
     "output_type": "stream",
     "text": [
      "Student name: ram\n",
      "Student Marks: 34\n",
      "qualification: inter\n",
      "message: Good Morning\n"
     ]
    }
   ],
   "source": [
    "def wish(name,age,qual=\"btech\",msg=\"Good Morning\"):\n",
    "    print(\"Student name:\",name)\n",
    "    print(\"Student Marks:\",age)\n",
    "    print(\"qualification:\",qual)\n",
    "    print(\"message:\",msg)\n",
    "    \n",
    "#wish(\"pawan\",25)               #positional\n",
    "#wish(age=26,name=\"Kumar\")      #keyword\n",
    "#wish(\"Puppala\",age=27)         #p,k\n",
    "wish(\"ram\",age=34,qual=\"inter\") #p,k,d"
   ]
  },
  {
   "cell_type": "code",
   "execution_count": 4,
   "id": "f077ce74-54ba-4271-96e5-aedb79d49ecb",
   "metadata": {},
   "outputs": [
    {
     "name": "stdout",
     "output_type": "stream",
     "text": [
      "he passed: degree\n"
     ]
    }
   ],
   "source": [
    "def status(qual=\"btech\"):\n",
    "    print(\"he passed:\",qual)\n",
    "status(qual=\"degree\")"
   ]
  },
  {
   "cell_type": "code",
   "execution_count": 24,
   "id": "4122e390-987c-49ed-bfcb-b432c421a367",
   "metadata": {},
   "outputs": [
    {
     "name": "stdout",
     "output_type": "stream",
     "text": [
      "0\n",
      "3\n",
      "6\n"
     ]
    }
   ],
   "source": [
    "def sum(*n):\n",
    "    total=0\n",
    "    for i in n:\n",
    "        total=total+i\n",
    "    print(total)\n",
    "sum()\n",
    "sum(1,2)\n",
    "sum(1,3,2)"
   ]
  },
  {
   "cell_type": "code",
   "execution_count": 25,
   "id": "2845c797-45be-436f-88c5-fd1cbbbaa186",
   "metadata": {},
   "outputs": [
    {
     "name": "stdout",
     "output_type": "stream",
     "text": [
      "10\n",
      "10\n",
      "20\n",
      "30\n",
      "40\n",
      "10\n",
      "A\n",
      "20\n",
      "B\n"
     ]
    }
   ],
   "source": [
    "def f1(n1,*s):\n",
    "    print(n1)\n",
    "    for s1 in s:\n",
    "        print(s1)\n",
    "f1(10)\n",
    "f1(10,20,30,40)\n",
    "f1(10,'A',20,'B')"
   ]
  },
  {
   "cell_type": "code",
   "execution_count": 26,
   "id": "0f2aed41-5b63-46de-8bf2-900c5d134a7f",
   "metadata": {},
   "outputs": [
    {
     "name": "stdout",
     "output_type": "stream",
     "text": [
      "the sum by rakesh : 0\n",
      "the sum by kumar : 30\n"
     ]
    }
   ],
   "source": [
    "def sum(*n,name):\n",
    "    result=0\n",
    "    for x in n:\n",
    "        result=result+x\n",
    "    print(\"the sum by\",name,\":\",result)\n",
    "sum(name=\"rakesh\")\n",
    "sum(10,20,name=\"kumar\")"
   ]
  },
  {
   "cell_type": "code",
   "execution_count": 31,
   "id": "c9e0a949-80f4-4666-af37-b1ec8e5a17f2",
   "metadata": {},
   "outputs": [
    {
     "name": "stdout",
     "output_type": "stream",
     "text": [
      "10 20 3 4\n",
      "10 20 30 40\n",
      "50 60 70 4\n",
      "1 3 3 4\n"
     ]
    }
   ],
   "source": [
    "def func(arg1,arg2,arg3=3,arg4=4):\n",
    "    print(arg1,arg2,arg3,arg4)\n",
    "func(10,20)\n",
    "func(10,20,30,40)\n",
    "func(50,60,arg3=70)\n",
    "func(arg4=4,arg1=1,arg2=3)\n",
    "#func()                         #TypeError: func() missing 2 required positional arguments: 'arg1' and 'arg2'\n",
    "#func(arg3=300,arg4=400,30,40)  #SyntaxError: positional argument follows keyword argument\n",
    "#func(4,5,arg2=6)               #TypeError: func() got multiple values for argument 'arg2'\n",
    "#func(4,5,arg3=500,arg5=600)    #TypeError: func() got an unexpected keyword argument 'arg5'"
   ]
  },
  {
   "cell_type": "code",
   "execution_count": null,
   "id": "98b04b3d-fe1d-4625-b311-bfb4e74c04ee",
   "metadata": {},
   "outputs": [],
   "source": []
  },
  {
   "cell_type": "code",
   "execution_count": null,
   "id": "01924713-3c20-47e6-bf69-31d9ed0e5f5f",
   "metadata": {},
   "outputs": [],
   "source": []
  },
  {
   "cell_type": "code",
   "execution_count": null,
   "id": "33ef92d9-7a37-4916-ab21-26167e80d75b",
   "metadata": {},
   "outputs": [],
   "source": []
  },
  {
   "cell_type": "raw",
   "id": "33a74ae7-721e-467c-a747-984ad638edef",
   "metadata": {},
   "source": []
  },
  {
   "cell_type": "code",
   "execution_count": null,
   "id": "6c8bb2c1-dee8-48a8-9e88-ee7b1aa4d04f",
   "metadata": {},
   "outputs": [],
   "source": []
  },
  {
   "cell_type": "code",
   "execution_count": null,
   "id": "4e52e8e0-8928-46b0-a167-d0434744f324",
   "metadata": {},
   "outputs": [],
   "source": []
  },
  {
   "cell_type": "code",
   "execution_count": 1,
   "id": "c435510d-f47b-423e-8c54-6368b845da56",
   "metadata": {},
   "outputs": [
    {
     "name": "stdout",
     "output_type": "stream",
     "text": [
      "10\n",
      "10\n"
     ]
    }
   ],
   "source": [
    "a=10\n",
    "def f1():\n",
    "    print(a)\n",
    "def f2():\n",
    "    print(a)\n",
    "f1()\n",
    "f2()"
   ]
  },
  {
   "cell_type": "code",
   "execution_count": 5,
   "id": "e9c174d2-295c-41e3-97a4-e05e45f0a69d",
   "metadata": {},
   "outputs": [
    {
     "name": "stdout",
     "output_type": "stream",
     "text": [
      "12\n"
     ]
    },
    {
     "ename": "NameError",
     "evalue": "name 'b' is not defined",
     "output_type": "error",
     "traceback": [
      "\u001b[1;31m---------------------------------------------------------------------------\u001b[0m",
      "\u001b[1;31mNameError\u001b[0m                                 Traceback (most recent call last)",
      "Cell \u001b[1;32mIn[5], line 7\u001b[0m\n\u001b[0;32m      5\u001b[0m     \u001b[38;5;28mprint\u001b[39m(b)\n\u001b[0;32m      6\u001b[0m f3()\n\u001b[1;32m----> 7\u001b[0m \u001b[43mf4\u001b[49m\u001b[43m(\u001b[49m\u001b[43m)\u001b[49m\n",
      "Cell \u001b[1;32mIn[5], line 5\u001b[0m, in \u001b[0;36mf4\u001b[1;34m()\u001b[0m\n\u001b[0;32m      4\u001b[0m \u001b[38;5;28;01mdef\u001b[39;00m \u001b[38;5;21mf4\u001b[39m():\n\u001b[1;32m----> 5\u001b[0m     \u001b[38;5;28mprint\u001b[39m(\u001b[43mb\u001b[49m)\n",
      "\u001b[1;31mNameError\u001b[0m: name 'b' is not defined"
     ]
    }
   ],
   "source": [
    "def f3():\n",
    "    b=12\n",
    "    print(b)\n",
    "def f4():\n",
    "    print(b)\n",
    "f3()\n",
    "f4()"
   ]
  },
  {
   "cell_type": "code",
   "execution_count": 7,
   "id": "dfa72785-da6c-4221-97b1-0031a4413f23",
   "metadata": {},
   "outputs": [
    {
     "name": "stdout",
     "output_type": "stream",
     "text": [
      "777\n",
      "10\n"
     ]
    }
   ],
   "source": [
    "g=10\n",
    "def f5():\n",
    "    g=777\n",
    "    print(g)\n",
    "def f6():\n",
    "    print(g)\n",
    "f5()\n",
    "f6()"
   ]
  },
  {
   "cell_type": "code",
   "execution_count": 8,
   "id": "96ba8968-b426-4118-a427-799e19de0f1a",
   "metadata": {},
   "outputs": [
    {
     "name": "stdout",
     "output_type": "stream",
     "text": [
      "888\n",
      "888\n"
     ]
    }
   ],
   "source": [
    "g=20\n",
    "def f7():\n",
    "    global g\n",
    "    g=888\n",
    "    print(g)\n",
    "def f8():\n",
    "    print(g)\n",
    "f7()\n",
    "f8()"
   ]
  },
  {
   "cell_type": "code",
   "execution_count": 9,
   "id": "6a3e6fb8-aab4-493a-bc98-53bb5acfdad0",
   "metadata": {},
   "outputs": [
    {
     "name": "stdout",
     "output_type": "stream",
     "text": [
      "30\n",
      "30\n"
     ]
    }
   ],
   "source": [
    "def f9():\n",
    "    global l\n",
    "    l=30\n",
    "    print(l)\n",
    "def f10():\n",
    "    print(l)\n",
    "f9()\n",
    "f10()"
   ]
  },
  {
   "cell_type": "code",
   "execution_count": 10,
   "id": "a3f024b3-a1d1-4506-ae60-4b9abbefbf86",
   "metadata": {},
   "outputs": [
    {
     "name": "stdout",
     "output_type": "stream",
     "text": [
      "locasl variable: 777\n",
      "global variable: 100\n"
     ]
    }
   ],
   "source": [
    "a=100\n",
    "def f1():\n",
    "    a=777\n",
    "    print(\"locasl variable:\",a)\n",
    "    print(\"global variable:\",globals()[\"a\"])\n",
    "f1()"
   ]
  },
  {
   "cell_type": "code",
   "execution_count": 15,
   "id": "88f19d99-c9d0-4c1a-9eee-12d5dd710d5b",
   "metadata": {},
   "outputs": [],
   "source": [
    "bank = \"SBI\"\n",
    "ifsc = \"SBIN00005366\"\n",
    "place = \"Bhimavaram\"\n",
    "pincode = 534202\n",
    "def customer1(credit):\n",
    "    bal=10000\n",
    "    total=bal+credit\n",
    "\n",
    "    global branch\n",
    "    branch=\"ADB\"\n",
    "\n",
    "    pincode=534201\n",
    "\n",
    "    print(\"total amount in account:\",total)\n",
    "    print(place)\n",
    "    print(ifsc)\n",
    "    print(\"customer pincode:\",pincode)\n",
    "    print(\"bank pincode:\",globals()[\"pincode\"])\n",
    "\n",
    "def customer2():\n",
    "    print(total)\n",
    "    print(branch)"
   ]
  },
  {
   "cell_type": "code",
   "execution_count": 17,
   "id": "b836ff9e-94a2-475f-aa25-498b840ac851",
   "metadata": {},
   "outputs": [
    {
     "name": "stdout",
     "output_type": "stream",
     "text": [
      "total amount in account: 30000\n",
      "Bhimavaram\n",
      "SBIN00005366\n",
      "customer pincode: 534201\n",
      "bank pincode: 534202\n"
     ]
    }
   ],
   "source": [
    "customer1(20000)"
   ]
  },
  {
   "cell_type": "code",
   "execution_count": 18,
   "id": "ca7ed29d-969e-48dc-8691-4e1df8334cf1",
   "metadata": {},
   "outputs": [
    {
     "data": {
      "text/plain": [
       "120"
      ]
     },
     "execution_count": 18,
     "metadata": {},
     "output_type": "execute_result"
    }
   ],
   "source": [
    "def fact(num):\n",
    "    result=1\n",
    "    while num>=1:\n",
    "        result=result*num\n",
    "        num=num-1\n",
    "    return result\n",
    "fact(5)"
   ]
  },
  {
   "cell_type": "code",
   "execution_count": 19,
   "id": "9b02e70b-6ccc-4a16-bc7b-890966c2fa3d",
   "metadata": {},
   "outputs": [
    {
     "data": {
      "text/plain": [
       "25"
      ]
     },
     "execution_count": 19,
     "metadata": {},
     "output_type": "execute_result"
    }
   ],
   "source": [
    "def squareit(n):      #normal function\n",
    "    return n*n\n",
    "squareit(5)"
   ]
  },
  {
   "cell_type": "code",
   "execution_count": 21,
   "id": "f8bd30fe-f28d-4c59-99be-cd71d96a3fef",
   "metadata": {},
   "outputs": [
    {
     "data": {
      "text/plain": [
       "16"
      ]
     },
     "execution_count": 21,
     "metadata": {},
     "output_type": "execute_result"
    }
   ],
   "source": [
    "# lambda function\n",
    "\n",
    "s=lambda n:n*n\n",
    "s(4)"
   ]
  },
  {
   "cell_type": "code",
   "execution_count": 22,
   "id": "bd77a737-3cd0-4506-abb1-2ba011a1b4af",
   "metadata": {},
   "outputs": [
    {
     "data": {
      "text/plain": [
       "30"
      ]
     },
     "execution_count": 22,
     "metadata": {},
     "output_type": "execute_result"
    }
   ],
   "source": [
    "k=lambda a,b:a+b\n",
    "k(10,20)"
   ]
  },
  {
   "cell_type": "code",
   "execution_count": 23,
   "id": "394f7249-452e-4cfd-82aa-33f977e1d42f",
   "metadata": {},
   "outputs": [
    {
     "name": "stdout",
     "output_type": "stream",
     "text": [
      "20\n"
     ]
    }
   ],
   "source": [
    "a=10\n",
    "b=20\n",
    "if a>b:\n",
    "    print(a)\n",
    "else:\n",
    "    print(b)"
   ]
  },
  {
   "cell_type": "code",
   "execution_count": 24,
   "id": "255ff5fe-bcb7-4322-a171-0ec35969bbce",
   "metadata": {},
   "outputs": [
    {
     "data": {
      "text/plain": [
       "20"
      ]
     },
     "execution_count": 24,
     "metadata": {},
     "output_type": "execute_result"
    }
   ],
   "source": [
    "s=lambda a,b:a if a>b else b\n",
    "s(10,20)"
   ]
  },
  {
   "cell_type": "code",
   "execution_count": 25,
   "id": "1140d52e-ae45-4760-84f5-0d9ec0f83b5d",
   "metadata": {},
   "outputs": [
    {
     "name": "stdout",
     "output_type": "stream",
     "text": [
      "20\n"
     ]
    }
   ],
   "source": [
    "a,b=10,20\n",
    "print(a) if a>b else print(b)"
   ]
  },
  {
   "cell_type": "code",
   "execution_count": 26,
   "id": "2e7a4137-8e4a-4a3c-a1cc-4be44d1b59d1",
   "metadata": {},
   "outputs": [],
   "source": [
    "#map function\n",
    "\n",
    "def multi(x):\n",
    "    return 2*x"
   ]
  },
  {
   "cell_type": "code",
   "execution_count": 28,
   "id": "d165ec13-5d96-491a-9d83-ebe9cfe2a42f",
   "metadata": {},
   "outputs": [
    {
     "data": {
      "text/plain": [
       "[2, 4, 6, 8, 10]"
      ]
     },
     "execution_count": 28,
     "metadata": {},
     "output_type": "execute_result"
    }
   ],
   "source": [
    "l=[1,2,3,4,5]\n",
    "new=[]\n",
    "for i in l:\n",
    "    new.append(multi(i))\n",
    "new"
   ]
  },
  {
   "cell_type": "code",
   "execution_count": 29,
   "id": "4abd1697-5510-4ef4-810d-66e892070640",
   "metadata": {},
   "outputs": [
    {
     "data": {
      "text/plain": [
       "[2, 4, 6, 8, 10]"
      ]
     },
     "execution_count": 29,
     "metadata": {},
     "output_type": "execute_result"
    }
   ],
   "source": [
    "list(map(multi,l))"
   ]
  },
  {
   "cell_type": "code",
   "execution_count": 30,
   "id": "339bc123-fd11-4017-aa35-819e1cfe09a2",
   "metadata": {},
   "outputs": [
    {
     "data": {
      "text/plain": [
       "[2, 4, 6, 8, 12]"
      ]
     },
     "execution_count": 30,
     "metadata": {},
     "output_type": "execute_result"
    }
   ],
   "source": [
    "l=[1,2,3,4,6]\n",
    "list(map(lambda x:2*x,l))"
   ]
  },
  {
   "cell_type": "code",
   "execution_count": 31,
   "id": "caf93760-01b8-4f0f-a25a-63014882ab7e",
   "metadata": {},
   "outputs": [
    {
     "ename": "SyntaxError",
     "evalue": "unterminated string literal (detected at line 3) (1967722766.py, line 3)",
     "output_type": "error",
     "traceback": [
      "\u001b[1;36m  Cell \u001b[1;32mIn[31], line 3\u001b[1;36m\u001b[0m\n\u001b[1;33m    l=[\"\u001b[0m\n\u001b[1;37m       ^\u001b[0m\n\u001b[1;31mSyntaxError\u001b[0m\u001b[1;31m:\u001b[0m unterminated string literal (detected at line 3)\n"
     ]
    }
   ],
   "source": [
    "#converting lower case list into upper case list\n",
    "\n",
    "l=[\"rakesh\",\"kumar\",\"yarlagaddda\"]\n",
    "k=[]\n"
   ]
  },
  {
   "cell_type": "code",
   "execution_count": 1,
   "id": "9afa4fd5-eb6e-4135-81e9-490886da983c",
   "metadata": {},
   "outputs": [
    {
     "name": "stdout",
     "output_type": "stream",
     "text": [
      "c is maximum\n"
     ]
    }
   ],
   "source": [
    "#1. Write a Python function to find the maximum of three numbers.\n",
    "\n",
    "def max_of_3(a,b,c):\n",
    "    if a>b>c:\n",
    "        print(\"a is maximum\")\n",
    "    elif b>c>a:\n",
    "        print(\"b is maximum\")\n",
    "    else:\n",
    "        print(\"c is maximum\")\n",
    "max_of_3(10,20,30)"
   ]
  },
  {
   "cell_type": "code",
   "execution_count": 5,
   "id": "a8385422-fc08-409f-907b-1f3b3404ba5a",
   "metadata": {},
   "outputs": [
    {
     "name": "stdout",
     "output_type": "stream",
     "text": [
      "6\n"
     ]
    }
   ],
   "source": [
    "def max_of_2(x,y):\n",
    "    if x>y:\n",
    "        return x\n",
    "    return y\n",
    "def max_of_3(x,y,z):\n",
    "    return max_of_2(x,max_of_2(y,z))\n",
    "print(max_of_3(3,6,-5))"
   ]
  },
  {
   "cell_type": "code",
   "execution_count": 13,
   "id": "b2082b34-a36c-4cd8-b92a-07c463af9e6a",
   "metadata": {},
   "outputs": [
    {
     "data": {
      "text/plain": [
       "20"
      ]
     },
     "execution_count": 13,
     "metadata": {},
     "output_type": "execute_result"
    }
   ],
   "source": [
    "#2. Write a Python function to sum all the numbers in a list.\n",
    "#Sample List : (8, 2, 3, 0, 7)\n",
    "#Expected Output : 20\n",
    "\n",
    "def sum(numbers):\n",
    "    total=0\n",
    "    for x in numbers:\n",
    "        total+=x\n",
    "    return total\n",
    "sum((8,2,3,0,7))"
   ]
  },
  {
   "cell_type": "code",
   "execution_count": 18,
   "id": "05cdd8cc-04f0-4439-b5bf-3a6a1fd5385e",
   "metadata": {},
   "outputs": [
    {
     "data": {
      "text/plain": [
       "0"
      ]
     },
     "execution_count": 18,
     "metadata": {},
     "output_type": "execute_result"
    }
   ],
   "source": [
    "#3. Write a Python function to multiply all the numbers in a list.\n",
    "#Sample List : (8, 2, 3, -1, 7)\n",
    "#Expected Output : -336\n",
    "\n",
    "def multiply(numbers):\n",
    "    total=0\n",
    "    for x in numbers:\n",
    "        total*=x\n",
    "    return total\n",
    "multiply((8,2,3,-1,7))"
   ]
  },
  {
   "cell_type": "code",
   "execution_count": 23,
   "id": "bae1b1f9-a649-4407-8a4b-c00b7b11c0a3",
   "metadata": {},
   "outputs": [
    {
     "data": {
      "text/plain": [
       "'dcba4321'"
      ]
     },
     "execution_count": 23,
     "metadata": {},
     "output_type": "execute_result"
    }
   ],
   "source": [
    "#4. Write a Python program to reverse a string.\n",
    "#Sample String : \"1234abcd\"\n",
    "#Expected Output : \"dcba4321\"\n",
    "\n",
    "def string_reverse(str1):\n",
    "    rstr=''\n",
    "    index=len(str1)\n",
    "    while index>0:\n",
    "        rstr+=str1[index -1]\n",
    "        index=index-1\n",
    "    return rstr\n",
    "string_reverse(('1234abcd'))"
   ]
  },
  {
   "cell_type": "code",
   "execution_count": 3,
   "id": "240883e9-b545-435f-a71a-11e3b664e2d1",
   "metadata": {},
   "outputs": [
    {
     "name": "stdout",
     "output_type": "stream",
     "text": [
      "first value: 3\n",
      "second value: 5\n",
      "addition of 2 values: 8\n"
     ]
    }
   ],
   "source": [
    "#DECORATORS\n",
    "\n",
    "def elaborate(add):\n",
    "    def inner(a,b):\n",
    "        print(\"first value:\",a)\n",
    "        print(\"second value:\",b)\n",
    "        print(\"addition of 2 values:\",a+b)\n",
    "    return inner\n",
    "@elaborate\n",
    "def add(a,b):\n",
    "    print(a+b)\n",
    "add(3,5)"
   ]
  },
  {
   "cell_type": "code",
   "execution_count": 6,
   "id": "0c9a36e0-565a-4828-88b7-44cb100245ee",
   "metadata": {},
   "outputs": [
    {
     "name": "stdout",
     "output_type": "stream",
     "text": [
      "power coating is done\n",
      "car wiring is done\n",
      "car dpprs are fixed\n",
      "engine is installed\n",
      "car chassis is ready\n"
     ]
    }
   ],
   "source": [
    "def assemble(car):\n",
    "    def inner(part):\n",
    "        print(\"power coating is done\")\n",
    "        print(\"car wiring is done\")\n",
    "        print(\"car dpprs are fixed\")\n",
    "        print(\"engine is installed\")\n",
    "        car(part)\n",
    "    return inner    \n",
    "@assemble\n",
    "def car(part):\n",
    "    print(\"car\",part,\"is ready\")\n",
    "car(\"chassis\")"
   ]
  },
  {
   "cell_type": "code",
   "execution_count": 3,
   "id": "1c5f9280-86dd-4ce1-90de-86cb41121700",
   "metadata": {},
   "outputs": [
    {
     "name": "stdout",
     "output_type": "stream",
     "text": [
      "hello rakesh how are you?\n",
      "you are aiuthorized person\n",
      "you are allowed into string room\n"
     ]
    }
   ],
   "source": [
    "def decor_name(func):\n",
    "    def inner(name):\n",
    "        if name==\"rakesh\":\n",
    "            print(\"hello\",name,\"how are you?\")\n",
    "            print(\"you are aiuthorized person\")\n",
    "            print(\"you are allowed into string room\")\n",
    "        else:\n",
    "            func(name)\n",
    "    return inner\n",
    "@decor_name\n",
    "def wish(name):\n",
    "    print(\"hi\",name,\"good morning\")\n",
    "wish(\"rakesh\")"
   ]
  },
  {
   "cell_type": "code",
   "execution_count": null,
   "id": "7bdc6d61-f840-4d02-bc31-f2a0cf6388db",
   "metadata": {},
   "outputs": [],
   "source": []
  },
  {
   "cell_type": "code",
   "execution_count": null,
   "id": "1073a1ff-a3d2-42c7-88c7-cc071d420273",
   "metadata": {},
   "outputs": [],
   "source": []
  },
  {
   "cell_type": "code",
   "execution_count": null,
   "id": "5a4726aa-1367-4e12-89f4-671525a29292",
   "metadata": {},
   "outputs": [],
   "source": []
  },
  {
   "cell_type": "code",
   "execution_count": null,
   "id": "de11952d-51dc-4175-8aac-2fb6e7a9ac43",
   "metadata": {},
   "outputs": [],
   "source": []
  },
  {
   "cell_type": "code",
   "execution_count": null,
   "id": "b62ec12f-0399-4608-983b-7e1a627ca7c4",
   "metadata": {},
   "outputs": [],
   "source": []
  },
  {
   "cell_type": "code",
   "execution_count": null,
   "id": "215cd4ad-73a3-4652-8a04-16b5151f2c09",
   "metadata": {},
   "outputs": [],
   "source": []
  },
  {
   "cell_type": "code",
   "execution_count": null,
   "id": "74cdd0c0-5e3f-43b3-bb56-7863f31eea21",
   "metadata": {},
   "outputs": [],
   "source": []
  }
 ],
 "metadata": {
  "kernelspec": {
   "display_name": "Python 3 (ipykernel)",
   "language": "python",
   "name": "python3"
  },
  "language_info": {
   "codemirror_mode": {
    "name": "ipython",
    "version": 3
   },
   "file_extension": ".py",
   "mimetype": "text/x-python",
   "name": "python",
   "nbconvert_exporter": "python",
   "pygments_lexer": "ipython3",
   "version": "3.11.4"
  }
 },
 "nbformat": 4,
 "nbformat_minor": 5
}
