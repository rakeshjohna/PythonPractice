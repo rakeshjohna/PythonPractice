{
 "cells": [
  {
   "cell_type": "code",
   "execution_count": 2,
   "id": "8535212e-cea3-4d05-8bfb-7af612d3f167",
   "metadata": {},
   "outputs": [
    {
     "name": "stdout",
     "output_type": "stream",
     "text": [
      "<class 'dict'>\n"
     ]
    }
   ],
   "source": [
    "d={}\n",
    "d\n",
    "print(type(d))"
   ]
  },
  {
   "cell_type": "code",
   "execution_count": 3,
   "id": "6b62126b-4f09-4116-a45d-790a445b60f5",
   "metadata": {},
   "outputs": [],
   "source": [
    "d[1]=\"rakesh\"\n",
    "d[2]=\"kumar\"\n",
    "d[3]=\"yarlagadda\""
   ]
  },
  {
   "cell_type": "code",
   "execution_count": 4,
   "id": "a6784053-3337-4f0c-8e36-5ff6b9933f32",
   "metadata": {},
   "outputs": [
    {
     "data": {
      "text/plain": [
       "{1: 'rakesh', 2: 'kumar', 3: 'yarlagadda'}"
      ]
     },
     "execution_count": 4,
     "metadata": {},
     "output_type": "execute_result"
    }
   ],
   "source": [
    "d"
   ]
  },
  {
   "cell_type": "code",
   "execution_count": 5,
   "id": "1fe357f1-b761-4cd5-8d6c-b5ea0ed26e19",
   "metadata": {},
   "outputs": [
    {
     "name": "stdout",
     "output_type": "stream",
     "text": [
      "{1: 'rakesh', 2: 'kumar', 3: 'yarlagadda', 'last': 'enough'}\n",
      "<class 'dict'>\n"
     ]
    }
   ],
   "source": [
    "d={1:\"rakesh\",2:\"kumar\",3:\"yarlagadda\",\"last\":\"enough\"}\n",
    "print(d)\n",
    "print(type(d))"
   ]
  },
  {
   "cell_type": "code",
   "execution_count": 6,
   "id": "3a7f0de9-5638-4078-b8bd-62d9b2c28904",
   "metadata": {},
   "outputs": [
    {
     "data": {
      "text/plain": [
       "'rakesh'"
      ]
     },
     "execution_count": 6,
     "metadata": {},
     "output_type": "execute_result"
    }
   ],
   "source": [
    "d={1:\"rakesh\",2:\"kumar\",3:\"yarlagadda\",\"last\":\"enough\"}\n",
    "d[1]"
   ]
  },
  {
   "cell_type": "code",
   "execution_count": 7,
   "id": "2756c0dd-a901-4cbf-834d-73ae61d74d0c",
   "metadata": {},
   "outputs": [
    {
     "data": {
      "text/plain": [
       "{1: 'rakesh', 2: 'kumar', 3: 'yarlagadda', 'last': 'kalyan'}"
      ]
     },
     "execution_count": 7,
     "metadata": {},
     "output_type": "execute_result"
    }
   ],
   "source": [
    "d[\"last\"]=\"kalyan\"\n",
    "d"
   ]
  },
  {
   "cell_type": "code",
   "execution_count": 8,
   "id": "71fd9b53-a45c-4253-9258-8875370bfe87",
   "metadata": {},
   "outputs": [
    {
     "data": {
      "text/plain": [
       "'rakesh'"
      ]
     },
     "execution_count": 8,
     "metadata": {},
     "output_type": "execute_result"
    }
   ],
   "source": [
    "d[1]"
   ]
  },
  {
   "cell_type": "code",
   "execution_count": 12,
   "id": "7b5be91b-9d91-41b3-9720-cff9605b1bcd",
   "metadata": {},
   "outputs": [
    {
     "ename": "KeyError",
     "evalue": "2",
     "output_type": "error",
     "traceback": [
      "\u001b[1;31m---------------------------------------------------------------------------\u001b[0m",
      "\u001b[1;31mKeyError\u001b[0m                                  Traceback (most recent call last)",
      "Cell \u001b[1;32mIn[12], line 1\u001b[0m\n\u001b[1;32m----> 1\u001b[0m \u001b[38;5;28;01mdel\u001b[39;00m \u001b[43md\u001b[49m\u001b[43m[\u001b[49m\u001b[38;5;241;43m2\u001b[39;49m\u001b[43m]\u001b[49m\n",
      "\u001b[1;31mKeyError\u001b[0m: 2"
     ]
    }
   ],
   "source": [
    "del d[2]"
   ]
  },
  {
   "cell_type": "code",
   "execution_count": 15,
   "id": "857eac66-a23c-4e20-902d-4bf99d8b9613",
   "metadata": {},
   "outputs": [],
   "source": [
    "l=[(1,\"one\"),(2,\"two\"),(3,\"three\")]"
   ]
  },
  {
   "cell_type": "code",
   "execution_count": 16,
   "id": "83058d21-be14-4166-8c02-ac72f0648e3b",
   "metadata": {},
   "outputs": [
    {
     "data": {
      "text/plain": [
       "{1: 'one', 2: 'two', 3: 'three'}"
      ]
     },
     "execution_count": 16,
     "metadata": {},
     "output_type": "execute_result"
    }
   ],
   "source": [
    "d=dict(l)\n",
    "d"
   ]
  },
  {
   "cell_type": "code",
   "execution_count": 17,
   "id": "be909fea-3f9e-4994-a06e-065fceba6c3b",
   "metadata": {},
   "outputs": [
    {
     "data": {
      "text/plain": [
       "3"
      ]
     },
     "execution_count": 17,
     "metadata": {},
     "output_type": "execute_result"
    }
   ],
   "source": [
    "len(d)"
   ]
  },
  {
   "cell_type": "code",
   "execution_count": 18,
   "id": "0ad0d378-b8ba-48ee-964a-b97e00374ba4",
   "metadata": {},
   "outputs": [
    {
     "data": {
      "text/plain": [
       "{}"
      ]
     },
     "execution_count": 18,
     "metadata": {},
     "output_type": "execute_result"
    }
   ],
   "source": [
    "d.clear()\n",
    "d"
   ]
  },
  {
   "cell_type": "code",
   "execution_count": 20,
   "id": "35885ff5-b67b-4e4b-a2ec-060ce6c2d3e6",
   "metadata": {},
   "outputs": [
    {
     "data": {
      "text/plain": [
       "'rakesh'"
      ]
     },
     "execution_count": 20,
     "metadata": {},
     "output_type": "execute_result"
    }
   ],
   "source": [
    "d2={1:\"rakesh\",2:\"kumar\",3:\"yarlagadda\"}\n",
    "d2\n",
    "d2.get(1)"
   ]
  },
  {
   "cell_type": "code",
   "execution_count": 22,
   "id": "2890be6c-99ad-46c4-956d-c2901e7754d2",
   "metadata": {},
   "outputs": [
    {
     "data": {
      "text/plain": [
       "'yarlagadda'"
      ]
     },
     "execution_count": 22,
     "metadata": {},
     "output_type": "execute_result"
    }
   ],
   "source": [
    "d2.get(3,\"yarlagadda\")"
   ]
  },
  {
   "cell_type": "code",
   "execution_count": 23,
   "id": "b058f70a-79dc-471a-80d3-80896be484d2",
   "metadata": {},
   "outputs": [
    {
     "data": {
      "text/plain": [
       "{1: 'rakesh', 3: 'yarlagadda'}"
      ]
     },
     "execution_count": 23,
     "metadata": {},
     "output_type": "execute_result"
    }
   ],
   "source": [
    "d2.pop(2)\n",
    "d2"
   ]
  },
  {
   "cell_type": "code",
   "execution_count": 24,
   "id": "4363d807-ae76-408d-9dcc-46dedb938ba5",
   "metadata": {},
   "outputs": [
    {
     "data": {
      "text/plain": [
       "{1: 'rahsh', 2: 'cvbn', 3: 'sdfgh', 4: 'qazxc'}"
      ]
     },
     "execution_count": 24,
     "metadata": {},
     "output_type": "execute_result"
    }
   ],
   "source": [
    "d3={1:\"rahsh\",2:\"cvbn\",3:\"sdfgh\",4:\"qazxc\"}\n",
    "d3"
   ]
  },
  {
   "cell_type": "code",
   "execution_count": 1,
   "id": "990cdf06-9a4d-4401-b6f9-a4bc54efb749",
   "metadata": {},
   "outputs": [
    {
     "name": "stdout",
     "output_type": "stream",
     "text": [
      "original dictionary: {1: 2, 3: 4, 4: 3, 2: 1, 0: 0}\n",
      "dictionary in ascending order by value: [(0, 0), (2, 1), (1, 2), (4, 3), (3, 4)]\n",
      "dictionary in descending order by value: {3: 4, 4: 3, 1: 2, 2: 1, 0: 0}\n"
     ]
    }
   ],
   "source": [
    "#1. Write a Python script to sort (ascending and descending) a dictionary by value.\n",
    "\n",
    "import operator\n",
    "d={1:2,3:4,4:3,2:1,0:0}\n",
    "print(\"original dictionary:\",d)\n",
    "sorted_d=sorted(d.items(),key=operator.itemgetter(1))\n",
    "print(\"dictionary in ascending order by value:\",sorted_d)\n",
    "sorted_d=dict(sorted(d.items(),key=operator.itemgetter(1),reverse=True))\n",
    "print(\"dictionary in descending order by value:\",sorted_d)"
   ]
  },
  {
   "cell_type": "code",
   "execution_count": 2,
   "id": "c57312e9-fd7a-4822-a5ab-f78de1d3e91d",
   "metadata": {},
   "outputs": [
    {
     "name": "stdout",
     "output_type": "stream",
     "text": [
      "{0: 10, 1: 20}\n",
      "{0: 10, 1: 20, 2: 30}\n"
     ]
    }
   ],
   "source": [
    "#2.Write a Python script to add a key to a dictionary.\n",
    "#Sample Dictionary : {0: 10, 1: 20}\n",
    "#Expected Result : {0: 10, 1: 20, 2: 30}\n",
    "\n",
    "d={0:10,1:20}\n",
    "print(d)\n",
    "d.update({2:30})\n",
    "print(d)"
   ]
  },
  {
   "cell_type": "code",
   "execution_count": 13,
   "id": "70e40917-e79e-46a5-910b-404b2bacbd1a",
   "metadata": {},
   "outputs": [
    {
     "name": "stdout",
     "output_type": "stream",
     "text": [
      "{1: 10, 2: 20, 3: 30, 4: 40, 5: 50, 6: 60}\n"
     ]
    }
   ],
   "source": [
    "#3.Write a Python script to concatenate the following dictionaries to create a new one.\n",
    "#Sample Dictionary :\n",
    "#dic1={1:10, 2:20}\n",
    "#dic2={3:30, 4:40}\n",
    "#dic3={5:50,6:60}\n",
    "#Expected Result : {1: 10, 2: 20, 3: 30, 4: 40, 5: 50, 6: 60}\n",
    "\n",
    "dic1={1:10,2:20}\n",
    "dic2={3:30,4:40}\n",
    "dic3={5:50,6:60}\n",
    "dic4={}\n",
    "for i in (dic1,dic2,dic3):\n",
    "    dic4.update(i)\n",
    "print(dic4)"
   ]
  },
  {
   "cell_type": "code",
   "execution_count": 17,
   "id": "e7a556d3-bc7a-46d9-81de-afbc7df6479a",
   "metadata": {},
   "outputs": [
    {
     "name": "stdout",
     "output_type": "stream",
     "text": [
      "key present in dictionary\n",
      "key is not present in dictionary\n"
     ]
    }
   ],
   "source": [
    "#4. Write a Python script to check whether a given key already exists in a dictionary.\n",
    "\n",
    "d={1:10,2:20,3:30,4:40,5:50,6:60}\n",
    "def is_key_present(x):\n",
    "    if x in d:\n",
    "       print(\"key present in dictionary\") \n",
    "    else:\n",
    "        print(\"key is not present in dictionary\")\n",
    "is_key_present(5)\n",
    "is_key_present(9)"
   ]
  },
  {
   "cell_type": "code",
   "execution_count": 21,
   "id": "b2cf0449-8e07-46f8-a419-561222fa85d4",
   "metadata": {},
   "outputs": [
    {
     "name": "stdout",
     "output_type": "stream",
     "text": [
      "1 --> 10\n",
      "2 --> 20\n",
      "3 --> 30\n",
      "4 --> 40\n",
      "5 --> 50\n"
     ]
    }
   ],
   "source": [
    "#5. Write a Python program to iterate over dictionaries using for loops.\n",
    "\n",
    "d={1:10,2:20,3:30,4:40,5:50}\n",
    "for dict_key,dict_value in d.items():\n",
    "    print(dict_key,\"-->\",dict_value)"
   ]
  },
  {
   "cell_type": "code",
   "execution_count": 24,
   "id": "eab10bad-4fe2-4007-966f-61a7f2b623b2",
   "metadata": {},
   "outputs": [
    {
     "name": "stdin",
     "output_type": "stream",
     "text": [
      "enter a number 7\n"
     ]
    },
    {
     "name": "stdout",
     "output_type": "stream",
     "text": [
      "{1: 1, 2: 4, 3: 9, 4: 16, 5: 25, 6: 36, 7: 49}\n"
     ]
    }
   ],
   "source": [
    "#6. Write a Python script to generate and print a dictionary that contains a number (between 1 and n) in the form (x, x*x).\n",
    "#Sample Dictionary ( n = 5) :\n",
    "#Expected Output : {1: 1, 2: 4, 3: 9, 4: 16, 5: 25}\n",
    "\n",
    "n=int(input(\"enter a number\"))\n",
    "d=dict()\n",
    "for x in range(1,n+1):\n",
    "    d[x]=x*x\n",
    "print(d)    "
   ]
  },
  {
   "cell_type": "code",
   "execution_count": 26,
   "id": "e27993cc-3666-4dbd-b995-b3f3ef92ae38",
   "metadata": {},
   "outputs": [
    {
     "name": "stdin",
     "output_type": "stream",
     "text": [
      "enter a number 15\n"
     ]
    },
    {
     "name": "stdout",
     "output_type": "stream",
     "text": [
      "{1: 1, 2: 4, 3: 9, 4: 16, 5: 25, 6: 36, 7: 49, 8: 64, 9: 81, 10: 100, 11: 121, 12: 144, 13: 169, 14: 196, 15: 225}\n"
     ]
    }
   ],
   "source": [
    "#7.Write a Python script to print a dictionary where the keys are numbers between 1 and 15 (both included) and the values are the square of the keys.\n",
    "#Sample Dictionary\n",
    "#{1: 1, 2: 4, 3: 9, 4: 16, 5: 25, 6: 36, 7: 49, 8: 64, 9: 81, 10: 100, 11: 121, 12: 144, 13: 169, 14: 196, 15: 225}\n",
    "\n",
    "n=int(input(\"enter a number\"))\n",
    "d=dict()\n",
    "for x in range(1,n+1):\n",
    "    d[x]=x**2\n",
    "print(d)"
   ]
  },
  {
   "cell_type": "code",
   "execution_count": 27,
   "id": "0fe0f049-919a-4443-9f9f-dcf0b9f4376d",
   "metadata": {},
   "outputs": [
    {
     "name": "stdout",
     "output_type": "stream",
     "text": [
      "{'a': 100, 'b': 200, 'x': 300, 'y': 200}\n"
     ]
    }
   ],
   "source": [
    "#8.Write a Python script to merge two Python dictionaries.\n",
    "\n",
    "d1 = {'a': 100, 'b': 200}\n",
    "d2 = {'x': 300, 'y': 200}\n",
    "d = d1.copy()\n",
    "d.update(d2)\n",
    "print(d)"
   ]
  },
  {
   "cell_type": "code",
   "execution_count": 28,
   "id": "643cce5e-0db6-4f25-8c39-bd6b3426d955",
   "metadata": {},
   "outputs": [
    {
     "name": "stdout",
     "output_type": "stream",
     "text": [
      "Red corresponds to  1\n",
      "Green corresponds to  2\n",
      "Blue corresponds to  3\n"
     ]
    }
   ],
   "source": [
    "#9.Write a Python program to iterate over dictionaries using for loops.\n",
    "\n",
    "d = {'Red': 1, 'Green': 2, 'Blue': 3} \n",
    "for color_key, value in d.items():\n",
    "     print(color_key, 'corresponds to ', d[color_key]) "
   ]
  },
  {
   "cell_type": "code",
   "execution_count": 29,
   "id": "cc656043-39d8-4435-b30f-095a81c343dc",
   "metadata": {},
   "outputs": [
    {
     "name": "stdout",
     "output_type": "stream",
     "text": [
      "293\n"
     ]
    }
   ],
   "source": [
    "#10.Write a Python program to sum all the items in a dictionary.\n",
    "\n",
    "my_dict = {'data1':100,'data2':-54,'data3':247}\n",
    "print(sum(my_dict.values()))"
   ]
  },
  {
   "cell_type": "code",
   "execution_count": 30,
   "id": "aff3e981-adb5-4bf5-8a28-d7967ea7a4e4",
   "metadata": {},
   "outputs": [
    {
     "name": "stdout",
     "output_type": "stream",
     "text": [
      "-1333800\n"
     ]
    }
   ],
   "source": [
    "#11. Write a Python program to multiply all the items in a dictionary. \n",
    "\n",
    "my_dict = {'data1':100,'data2':-54,'data3':247}\n",
    "result=1\n",
    "for key in my_dict:    \n",
    "    result=result * my_dict[key]\n",
    "\n",
    "print(result)"
   ]
  },
  {
   "cell_type": "code",
   "execution_count": 32,
   "id": "060e364c-fe3c-4178-8e67-627dd1929693",
   "metadata": {},
   "outputs": [
    {
     "name": "stdout",
     "output_type": "stream",
     "text": [
      "{'a': 1, 'b': 2, 'c': 3, 'd': 4}\n",
      "{'b': 2, 'c': 3, 'd': 4}\n"
     ]
    }
   ],
   "source": [
    "#12. Write a Python program to remove a key from a dictionary.\n",
    "\n",
    "myDict = {'a':1,'b':2,'c':3,'d':4}\n",
    "print(myDict) \n",
    "del myDict['a']\n",
    "print(myDict)"
   ]
  },
  {
   "cell_type": "code",
   "execution_count": 38,
   "id": "1e2db29b-46c7-4ae3-a703-a70de30cb535",
   "metadata": {},
   "outputs": [
    {
     "name": "stdout",
     "output_type": "stream",
     "text": [
      "{'red': '#FF0000', 'green': '#008000', 'blue': '#0000FF'}\n"
     ]
    }
   ],
   "source": [
    "#13. Write a Python program to map two lists into a dictionary.\n",
    "\n",
    "keys = ['red', 'green', 'blue']\n",
    "values = ['#FF0000','#008000', '#0000FF']\n",
    "color_dictionary = dict(zip(keys, values))\n",
    "print(color_dictionary)"
   ]
  },
  {
   "cell_type": "code",
   "execution_count": null,
   "id": "b7d59d1b-133c-4288-a926-bca58858532c",
   "metadata": {},
   "outputs": [],
   "source": []
  },
  {
   "cell_type": "code",
   "execution_count": null,
   "id": "90e510de-9bdd-460f-85a8-f19deb5571a0",
   "metadata": {},
   "outputs": [],
   "source": []
  },
  {
   "cell_type": "code",
   "execution_count": null,
   "id": "08314515-5a65-423e-a58a-786f3f9a711e",
   "metadata": {},
   "outputs": [],
   "source": []
  },
  {
   "cell_type": "code",
   "execution_count": null,
   "id": "84e5f94b-deb7-4dde-bc1c-b3871842dfba",
   "metadata": {},
   "outputs": [],
   "source": []
  },
  {
   "cell_type": "code",
   "execution_count": null,
   "id": "bf2fd666-e998-482f-99ac-da32eb90c5d6",
   "metadata": {},
   "outputs": [],
   "source": []
  },
  {
   "cell_type": "code",
   "execution_count": null,
   "id": "258b1a1e-dade-4a3d-b5bb-9019a0f87956",
   "metadata": {},
   "outputs": [],
   "source": []
  },
  {
   "cell_type": "code",
   "execution_count": null,
   "id": "18d55844-f468-43a9-9d6e-f9652515fd06",
   "metadata": {},
   "outputs": [],
   "source": []
  },
  {
   "cell_type": "code",
   "execution_count": null,
   "id": "e965e8b5-3f4a-4bb8-9a8d-4c45f098d38e",
   "metadata": {},
   "outputs": [],
   "source": []
  }
 ],
 "metadata": {
  "kernelspec": {
   "display_name": "Python 3 (ipykernel)",
   "language": "python",
   "name": "python3"
  },
  "language_info": {
   "codemirror_mode": {
    "name": "ipython",
    "version": 3
   },
   "file_extension": ".py",
   "mimetype": "text/x-python",
   "name": "python",
   "nbconvert_exporter": "python",
   "pygments_lexer": "ipython3",
   "version": "3.11.4"
  }
 },
 "nbformat": 4,
 "nbformat_minor": 5
}
