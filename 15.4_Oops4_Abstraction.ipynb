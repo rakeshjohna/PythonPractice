{
 "cells": [
  {
   "cell_type": "markdown",
   "id": "06350d2f-0ef4-45d4-bacf-988b2d818148",
   "metadata": {},
   "source": [
    "# Data Abstraction in python:"
   ]
  },
  {
   "cell_type": "code",
   "execution_count": null,
   "id": "adedd954-9d12-4750-87d9-860f04b75669",
   "metadata": {},
   "outputs": [],
   "source": [
    "Data abstraction is one of the most essential concepts of Python OOPs which is used to hide irrelevant details from the user and show the details that are relevant to the users. For example, the readers of geeksforgeeks only know that a writer can write an article on geeksforgeeks, and when it gets published readers can read the articles but the reader is not aware of the background process of publishing the article.\n",
    "\n",
    "A simple example of this can be a car. A car has an accelerator, clutch, and break and we all know that pressing an accelerator will increase the speed of the car and applying the brake can stop the car but we don’t the internal mechanism of the car and how these functionalities can work this detail hiding is known as data abstraction.\n",
    "\n",
    "To understand data abstraction we should be aware of the below basic concepts:\n",
    "\n",
    "OOP concepts in Python\n",
    "Classes in Python\n",
    "Abstract classes in Python"
   ]
  },
  {
   "cell_type": "markdown",
   "id": "ada58928-202d-420a-893e-7e103642e901",
   "metadata": {},
   "source": [
    "# Importance of Data Abstraction"
   ]
  },
  {
   "cell_type": "code",
   "execution_count": null,
   "id": "9e7d4857-1a92-4143-8237-425d0585cf71",
   "metadata": {},
   "outputs": [],
   "source": [
    "It enables programmers to hide complex implementation details while just showing users the most crucial data and functions. \n",
    "This abstraction makes it easier to design modular and well-organized code, makes it simpler to understand and maintain, promotes code reuse, and improves developer collaboration.\n"
   ]
  },
  {
   "cell_type": "markdown",
   "id": "93ee4fe4-c57d-4ee7-9f70-c1f2d2b86bd7",
   "metadata": {},
   "source": [
    "# Data Abstraction in Python"
   ]
  },
  {
   "cell_type": "code",
   "execution_count": null,
   "id": "8cbdca57-47ae-4591-a1d3-947634ce7cc0",
   "metadata": {},
   "outputs": [],
   "source": [
    "Data abstraction in Python is a programming concept that hides complex implementation details while exposing only essential information and functionalities to users. \n",
    "In Python, we can achieve data abstraction by using abstract classes and abstract classes can be created using abc (abstract base class) module and abstractmethod of abc module."
   ]
  },
  {
   "cell_type": "markdown",
   "id": "f1a97209-b6b2-4bfe-a16c-9997d8f8467e",
   "metadata": {},
   "source": [
    "# Abstraction classes in Python"
   ]
  },
  {
   "cell_type": "code",
   "execution_count": null,
   "id": "0d4ca827-3116-4b2e-966e-9aa4444ed0bc",
   "metadata": {},
   "outputs": [],
   "source": [
    "Abstract class is a class in which one or more abstract methods are defined. \n",
    "When a method is declared inside the class without its implementation is known as abstract method."
   ]
  },
  {
   "cell_type": "markdown",
   "id": "da001523-2f32-4c0d-a062-372084cacaa2",
   "metadata": {},
   "source": [
    "### Abstract Method"
   ]
  },
  {
   "cell_type": "code",
   "execution_count": null,
   "id": "4ee54bd8-7804-4d62-9eff-9bd0bbe93878",
   "metadata": {},
   "outputs": [],
   "source": [
    "In Python, abstract method feature is not a default feature as in Java. \n",
    "To create abstract method and abstract classes we have to import the “ABC” and “abstractmethod” classes from abc (Abstract Base Class) library. \n",
    "Abstract method of base class force its child class to write the implementation of the all abstract methods defined in base class. \n",
    "If we do not implement the abstract methods of base class in the child class then our code will give error. \n",
    "In the below code method_1 is a abstract method created using @abstractmethod decorator."
   ]
  },
  {
   "cell_type": "code",
   "execution_count": 1,
   "id": "d83c8719-8651-449e-951f-ec0d2009f177",
   "metadata": {},
   "outputs": [],
   "source": [
    "from abc import ABC, abstractmethod\n",
    "class BaseClass(ABC):\n",
    "    @abstractmethod\n",
    "    def method_1(self):\n",
    "         #empty body\n",
    "         pass"
   ]
  },
  {
   "cell_type": "markdown",
   "id": "5f3eb990-25bd-4962-866f-21ff33588fe9",
   "metadata": {},
   "source": [
    "# Concrete Method:"
   ]
  },
  {
   "cell_type": "code",
   "execution_count": null,
   "id": "9f36d49e-b07b-498e-839b-366228c220bc",
   "metadata": {},
   "outputs": [],
   "source": [
    "Concrete methods are the methods defined in an abstract base class with their complete implementation. \n",
    "Concrete methods are required to avoid reprication of code in subclasses. \n",
    "For example, in abstract base class there may be a method that implementation is to be same in all its subclasses, so we write the implementation of that method in abstract base class after which we do not need to write implementation of the concrete method again and again in every subclass. \n",
    "In the below code startEngine is a concrete method."
   ]
  },
  {
   "cell_type": "code",
   "execution_count": 2,
   "id": "d89657da-7aa4-4256-9a17-404765002efa",
   "metadata": {},
   "outputs": [],
   "source": [
    "class Car(ABC):\n",
    "    def __init__(self, brand, model, year):\n",
    "        self.brand = brand\n",
    "        self.model = model\n",
    "        self.year = year\n",
    "        self.engine_started = True\n",
    "\n",
    "    def startEngine(self):\n",
    "        if not self.engine_started:\n",
    "            print(f\"Starting the {self.model}'s engine.\")\n",
    "            self.engine_started = True\n",
    "        else:\n",
    "            print(\"Engine is already running.\")"
   ]
  },
  {
   "cell_type": "markdown",
   "id": "f7dc42b8-70d4-420b-9e1f-b6d37a503786",
   "metadata": {},
   "source": [
    "# Steps to Create Abstract Base Class and Abstract Method:"
   ]
  },
  {
   "cell_type": "code",
   "execution_count": null,
   "id": "57d2e527-c7cc-4cfb-8387-e4e1306e48cc",
   "metadata": {},
   "outputs": [],
   "source": [
    "Firstly, we import ABC and abstractmethod class from abc (Abstract Base Class) library.\n",
    "Create a BaseClass that inherits from the ABC class. In Python, when a class inherits from ABC, it indicates that the class is intended to be an abstract base class.\n",
    "Inside BaseClass we declare an abstract method named “method_1” by using “abstractmethod” decorater. \n",
    "Any subclass derived from BaseClass must implement this method_1 method. \n",
    "We write pass in this method which indicates that there is no code or logic in this method."
   ]
  },
  {
   "cell_type": "code",
   "execution_count": 3,
   "id": "2c4ee534-dc3f-4884-9fea-463434d98647",
   "metadata": {},
   "outputs": [],
   "source": [
    "from abc import ABC, abstractmethod\n",
    "class BaseClass(ABC):\n",
    "    @abstractmethod\n",
    "    def method_1(self):\n",
    "         #empty body\n",
    "         pass"
   ]
  },
  {
   "cell_type": "markdown",
   "id": "3f7a48e5-2130-463d-ae8b-74c9b6bc8cd9",
   "metadata": {},
   "source": [
    "# Implementation of Data Abstraction in Python"
   ]
  },
  {
   "cell_type": "code",
   "execution_count": null,
   "id": "72db8405-ce40-42ff-9582-0322fda44ef4",
   "metadata": {},
   "outputs": [],
   "source": [
    "In the below code, we have implemented data abstraction using abstract class and method. \n",
    "Firstly, we import the required modules or classes from abc library then we create a base class ‘Car’ that inherited from ‘ABC’ class that we have imported. \n",
    "Inside base class we create init function, abstract function and non-abstract functions. \n",
    "To declare abstract function printDetails we use “@abstractmethod” decorator. \n",
    "After that we create child class hatchback and suv. \n",
    "Since, these child classes inherited from abstract class so, we need to write the implementation of all abstract function declared in the base class. \n",
    "We write the implementation of abstract method in both child class. \n",
    "We create an instance of a child class and call the printDetails method. \n",
    "In this way we can achieve the data abstraction."
   ]
  },
  {
   "cell_type": "code",
   "execution_count": 28,
   "id": "de156e16-f329-4736-9797-7583a34faa29",
   "metadata": {},
   "outputs": [
    {
     "ename": "IndentationError",
     "evalue": "unindent does not match any outer indentation level (<tokenize>, line 28)",
     "output_type": "error",
     "traceback": [
      "\u001b[1;36m  File \u001b[1;32m<tokenize>:28\u001b[1;36m\u001b[0m\n\u001b[1;33m    def Sunroof(self):\u001b[0m\n\u001b[1;37m    ^\u001b[0m\n\u001b[1;31mIndentationError\u001b[0m\u001b[1;31m:\u001b[0m unindent does not match any outer indentation level\n"
     ]
    }
   ],
   "source": [
    "# Import required modules\n",
    "from abc import ABC,abstractmethod\n",
    "# Create Abstract base class\n",
    "class Car(ABC):\n",
    "    def __init__(self,brand,model,year):\n",
    "        self.brand=brand\n",
    "        self.model=model\n",
    "        self.year=year\n",
    "\n",
    "    # Create abstract method \n",
    "    @abstractmethod\n",
    "    def printDetails(self):\n",
    "        pass\n",
    "\n",
    "    # Create concrete method\n",
    "    def accelerate(self):\n",
    "        print(\"speed up.....\")\n",
    "\n",
    "    def break_applied(self):\n",
    "        print(\"car stop......\")\n",
    "# Create a child class\n",
    "class Hatchback(Car):\n",
    "     def printDetails(self):\n",
    "        print(\"Brand:\", self.brand);\n",
    "        print(\"Model:\", self.model);\n",
    "        print(\"Year:\", self.year);\n",
    "   \n",
    "  def Sunroof(self):\n",
    "    print(\"Not having this feature\")\n",
    "# Create a child class\n",
    "class Suv(Car):\n",
    "   \n",
    "  def printDetails(self):\n",
    "    print(\"Brand:\", self.brand);\n",
    "    print(\"Model:\", self.model);\n",
    "    print(\"Year:\", self.year);\n",
    "   \n",
    "  def Sunroof(self):\n",
    "    print(\"Available\")\n",
    " \n",
    "Car1=Hatchback(\"Maruti\",\"Aulto\",\"2022\")\n",
    "Car1.printDetails()\n",
    "Car1.acceletrate()"
   ]
  },
  {
   "cell_type": "markdown",
   "id": "47abc6d4-a191-4cde-96b0-7e28e90bba62",
   "metadata": {},
   "source": [
    "# TELSUKO"
   ]
  },
  {
   "cell_type": "code",
   "execution_count": 3,
   "id": "b647b766-fb91-46d0-b397-82bea514235f",
   "metadata": {},
   "outputs": [],
   "source": [
    "from abc import ABC,abstractmethod\n",
    "class Computer(ABC):\n",
    "    def process(self):\n",
    "        pass\n",
    "\n",
    "c1=Computer()"
   ]
  },
  {
   "cell_type": "code",
   "execution_count": null,
   "id": "a20e98d1-d471-4372-8676-dddfcc4f6aee",
   "metadata": {},
   "outputs": [],
   "source": []
  },
  {
   "cell_type": "code",
   "execution_count": null,
   "id": "b8561bf2-b565-4d1d-a1e5-2d90f3254ec7",
   "metadata": {},
   "outputs": [],
   "source": []
  },
  {
   "cell_type": "code",
   "execution_count": null,
   "id": "1d73c20c-abf1-4ff6-bcdb-57e5b5454652",
   "metadata": {},
   "outputs": [],
   "source": []
  },
  {
   "cell_type": "code",
   "execution_count": null,
   "id": "7ebec94f-75c9-4aa3-85c1-c709bb99ce3e",
   "metadata": {},
   "outputs": [],
   "source": []
  },
  {
   "cell_type": "code",
   "execution_count": null,
   "id": "1d980c3f-3d47-4339-804e-4aa6cd660d4c",
   "metadata": {},
   "outputs": [],
   "source": []
  },
  {
   "cell_type": "code",
   "execution_count": null,
   "id": "dc0ab309-8f2b-4cb8-bdf3-abeaed750b33",
   "metadata": {},
   "outputs": [],
   "source": []
  },
  {
   "cell_type": "code",
   "execution_count": null,
   "id": "7d82f830-8d15-4a29-ba87-280326abce42",
   "metadata": {},
   "outputs": [],
   "source": []
  },
  {
   "cell_type": "code",
   "execution_count": null,
   "id": "45f66c9f-e632-4c9d-abbe-ba608d1df5f9",
   "metadata": {},
   "outputs": [],
   "source": []
  },
  {
   "cell_type": "code",
   "execution_count": null,
   "id": "0fb723c2-848a-43f3-805b-dba5b6234553",
   "metadata": {},
   "outputs": [],
   "source": []
  }
 ],
 "metadata": {
  "kernelspec": {
   "display_name": "Python 3 (ipykernel)",
   "language": "python",
   "name": "python3"
  },
  "language_info": {
   "codemirror_mode": {
    "name": "ipython",
    "version": 3
   },
   "file_extension": ".py",
   "mimetype": "text/x-python",
   "name": "python",
   "nbconvert_exporter": "python",
   "pygments_lexer": "ipython3",
   "version": "3.11.4"
  }
 },
 "nbformat": 4,
 "nbformat_minor": 5
}
