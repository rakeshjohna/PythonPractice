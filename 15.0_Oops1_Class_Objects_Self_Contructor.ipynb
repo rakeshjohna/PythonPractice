{
 "cells": [
  {
   "cell_type": "code",
   "execution_count": 2,
   "id": "0aaa1fc0-1bde-4124-9908-b3ec34c90505",
   "metadata": {},
   "outputs": [
    {
     "name": "stdout",
     "output_type": "stream",
     "text": [
      "<class 'int'>\n",
      "<class 'int'>\n",
      "<class 'function'>\n"
     ]
    }
   ],
   "source": [
    "x=46\n",
    "print(type(x))\n",
    "y=23\n",
    "print(type(y))\n",
    "def func(p):\n",
    "    return p+1\n",
    "print(type(func))"
   ]
  },
  {
   "cell_type": "code",
   "execution_count": 3,
   "id": "ce2614e7-96c0-4042-98ca-d46790f848a5",
   "metadata": {},
   "outputs": [
    {
     "name": "stdout",
     "output_type": "stream",
     "text": [
      "<class 'module'>\n"
     ]
    }
   ],
   "source": [
    "import math\n",
    "math.sqrt(25)\n",
    "print(type(math))"
   ]
  },
  {
   "cell_type": "code",
   "execution_count": 4,
   "id": "415e59b6-475d-45a9-89cb-5708072ffac9",
   "metadata": {},
   "outputs": [],
   "source": [
    "class student:\n",
    "    pass"
   ]
  },
  {
   "cell_type": "code",
   "execution_count": 5,
   "id": "6e68a901-de29-4749-841d-f26aacacc57c",
   "metadata": {},
   "outputs": [],
   "source": [
    "class a:\n",
    "    \"rgdfghdfgegfhj\""
   ]
  },
  {
   "cell_type": "code",
   "execution_count": 6,
   "id": "7a751cd1-b39f-433f-a89b-b6eac9a99e18",
   "metadata": {},
   "outputs": [
    {
     "name": "stdout",
     "output_type": "stream",
     "text": [
      "rgdfghdfgegfhj\n"
     ]
    }
   ],
   "source": [
    "print(a.__doc__)"
   ]
  },
  {
   "cell_type": "code",
   "execution_count": 9,
   "id": "fb6fa5a5-4843-432c-bb67-cd2a60aa4aad",
   "metadata": {},
   "outputs": [
    {
     "name": "stdout",
     "output_type": "stream",
     "text": [
      "hi pawan\n",
      "my age is 25\n",
      "my qualification is: btech\n"
     ]
    }
   ],
   "source": [
    "class latamflow:\n",
    "    \"\"\"latarflow contains trader details of the trader\"\"\"\n",
    "    def __init__(self):\n",
    "        self.name=\"pawan\"\n",
    "        self.age=25\n",
    "        self.qual=\"btech\"\n",
    "    def details(self):\n",
    "        print(\"hi\",self.name)\n",
    "        print(\"my age is\",self.age)\n",
    "        print(\"my qualification is:\",self.qual)\n",
    "l=latamflow()\n",
    "l.details()"
   ]
  },
  {
   "cell_type": "code",
   "execution_count": 10,
   "id": "cf7fd0b8-6d90-4400-9df4-2c3fd0637c40",
   "metadata": {},
   "outputs": [
    {
     "name": "stdout",
     "output_type": "stream",
     "text": [
      "pavan 25 btech\n",
      "rakesh 30 degree\n"
     ]
    }
   ],
   "source": [
    "class student:\n",
    "    def __init__(self,x,y,z):\n",
    "        self.name=x\n",
    "        self.age=y\n",
    "        self.qual=z\n",
    "s1=student(\"pavan\",25,\"btech\")\n",
    "print(s1.name,s1.age,s1.qual)\n",
    "\n",
    "s2=student(\"rakesh\",30,\"degree\")\n",
    "print(s2.name,s2.age,s2.qual)"
   ]
  },
  {
   "cell_type": "code",
   "execution_count": 11,
   "id": "8d2d8edd-a078-4d44-9f32-ada0142d9af4",
   "metadata": {},
   "outputs": [
    {
     "ename": "TypeError",
     "evalue": "student.__init__() missing 3 required positional arguments: 'x', 'y', and 'z'",
     "output_type": "error",
     "traceback": [
      "\u001b[1;31m---------------------------------------------------------------------------\u001b[0m",
      "\u001b[1;31mTypeError\u001b[0m                                 Traceback (most recent call last)",
      "Cell \u001b[1;32mIn[11], line 1\u001b[0m\n\u001b[1;32m----> 1\u001b[0m s\u001b[38;5;241m=\u001b[39m\u001b[43mstudent\u001b[49m\u001b[43m(\u001b[49m\u001b[43m)\u001b[49m\n\u001b[0;32m      2\u001b[0m s1\u001b[38;5;241m=\u001b[39mstudent()\n\u001b[0;32m      3\u001b[0m s2\u001b[38;5;241m=\u001b[39mstudent()\n",
      "\u001b[1;31mTypeError\u001b[0m: student.__init__() missing 3 required positional arguments: 'x', 'y', and 'z'"
     ]
    }
   ],
   "source": [
    "s=student()\n",
    "s1=student()\n",
    "s2=student()\n",
    "s3=student()"
   ]
  },
  {
   "cell_type": "code",
   "execution_count": 12,
   "id": "33bf7a22-75e3-4fc4-8a14-a8123921a39b",
   "metadata": {},
   "outputs": [
    {
     "name": "stdout",
     "output_type": "stream",
     "text": [
      "practicing python\n"
     ]
    }
   ],
   "source": [
    "class student:\n",
    "    def read(self):\n",
    "        print(\"practicing python\")\n",
    "s=student()\n",
    "s.read()"
   ]
  },
  {
   "cell_type": "code",
   "execution_count": 13,
   "id": "d0a3f096-6a94-4463-9ef8-bc0d0b22eea8",
   "metadata": {},
   "outputs": [
    {
     "name": "stdout",
     "output_type": "stream",
     "text": [
      "hi  pawan\n",
      "my age is: 24\n",
      "I'VE DONE MY btech\n"
     ]
    }
   ],
   "source": [
    "class LatamFlow:\n",
    "    \"\"\"lataflow trader contains trade details of a trader\"\"\"\n",
    "    def __init__(self,n,a,q):\n",
    "        self.name=n\n",
    "        self.age=a\n",
    "        self.qual=q\n",
    "        \n",
    "    def details(self):\n",
    "        print(\"hi \",self.name)\n",
    "        print(\"my age is:\",self.age)\n",
    "        print(\"I'VE DONE MY\",self.qual)\n",
    "    \n",
    "s = LatamFlow(\"pawan\",24,\"btech\")\n",
    "s.details()"
   ]
  },
  {
   "cell_type": "code",
   "execution_count": null,
   "id": "626eb82d-a1b4-465e-af78-a0b7d8c2f413",
   "metadata": {},
   "outputs": [],
   "source": [
    "class student:\n",
    "    def __init__(self,n,a,q):\n",
    "        self.name=n\n",
    "        self.age=a\n",
    "        self.qual=q"
   ]
  },
  {
   "cell_type": "code",
   "execution_count": 14,
   "id": "ee0b836f-1c68-4a97-96b2-8a9eda4aa099",
   "metadata": {},
   "outputs": [
    {
     "name": "stdout",
     "output_type": "stream",
     "text": [
      "hi \n",
      "marks 0\n",
      "hi rakesh\n",
      "marks 80\n"
     ]
    }
   ],
   "source": [
    "class student:\n",
    "    def __init__(self,m=\"\",n=0):\n",
    "        self.name=m\n",
    "        self.marks=n\n",
    "    def display(self):\n",
    "        print(\"hi\",self.name)\n",
    "        print(\"marks\",self.marks)\n",
    "s1=student()\n",
    "s1.display()\n",
    "\n",
    "s2=student(\"rakesh\",80)\n",
    "s2.display()"
   ]
  },
  {
   "cell_type": "code",
   "execution_count": 15,
   "id": "83792d0e-9ffb-4dae-918e-0d88c2512568",
   "metadata": {},
   "outputs": [
    {
     "name": "stdout",
     "output_type": "stream",
     "text": [
      "my name is pawan\n",
      "my age is 25\n",
      "my qual is Mech\n",
      "my name is kumar\n",
      "my age is 25\n",
      "my qual is CSE\n"
     ]
    }
   ],
   "source": [
    "class Student:\n",
    "    def __init__(self,x,y,z):\n",
    "        self.name=x\n",
    "        self.age=y\n",
    "        self.qual=z\n",
    "        \n",
    "    def talk(self):\n",
    "        print(\"my name is\",self.name)\n",
    "        print(\"my age is\",self.age)\n",
    "        print(\"my qual is\",self.qual)\n",
    "        \n",
    "s1=Student(\"pawan\",25,\"Mech\")\n",
    "s1.talk()\n",
    "\n",
    "s2=Student(\"kumar\",25,\"CSE\")\n",
    "s2.talk()"
   ]
  },
  {
   "cell_type": "code",
   "execution_count": 16,
   "id": "f36b77fe-508a-4b8a-b9e4-a5c729eb0ed0",
   "metadata": {},
   "outputs": [
    {
     "name": "stdout",
     "output_type": "stream",
     "text": [
      "calling constructor\n",
      "calling constructor\n",
      "calling constructor\n",
      "calling method\n"
     ]
    }
   ],
   "source": [
    "class Test:\n",
    "    def __init__(self):\n",
    "        print(\"calling constructor\")\n",
    "    def details(self):\n",
    "        print(\"calling method\")\n",
    "t1=Test()\n",
    "t2=Test()\n",
    "t3=Test()\n",
    "t1.details()"
   ]
  },
  {
   "cell_type": "code",
   "execution_count": 20,
   "id": "1d20331e-e6c6-4b2d-a7ff-b59a93fdb49b",
   "metadata": {},
   "outputs": [
    {
     "name": "stdout",
     "output_type": "stream",
     "text": [
      "constructor execution\n",
      "1884768319120\n",
      "1884768319120\n",
      "constructor execution\n",
      "1884768319120\n",
      "constructor execution\n",
      "1884768319120\n"
     ]
    }
   ],
   "source": [
    "class Constructor:\n",
    "    def __init__(self):\n",
    "        print(\"constructor execution\")\n",
    "        print(id(self))           # proof of self poining to current class object \n",
    "c=Constructor()\n",
    "print(id(c))\n",
    "c.__init__()                     ## calling constructor explicitly\n",
    "c.__init__()"
   ]
  },
  {
   "cell_type": "code",
   "execution_count": 21,
   "id": "c9bea8b3-e6eb-4f3b-a78f-71d8c67f9c73",
   "metadata": {},
   "outputs": [
    {
     "name": "stdout",
     "output_type": "stream",
     "text": [
      "construtor execution.. 10\n",
      "construtor execution.. 100\n"
     ]
    }
   ],
   "source": [
    "class Constructor:\n",
    "    def __init__(self,x):\n",
    "        print(\"construtor execution..\",x)\n",
    "        \n",
    "c = Constructor(10)\n",
    "c.__init__(100)    "
   ]
  },
  {
   "cell_type": "code",
   "execution_count": 22,
   "id": "15f3755b-2a7d-4763-a7d2-14cf3937d2cb",
   "metadata": {},
   "outputs": [
    {
     "name": "stdout",
     "output_type": "stream",
     "text": [
      "two-arg constructor execution.. 10 20\n"
     ]
    }
   ],
   "source": [
    "class Constructor:\n",
    "    def __init__(self):\n",
    "        print(\"no arg construtor execution..\")\n",
    "        \n",
    "    def __init__(self,x):\n",
    "        print(\"one-arg constructor execution..\",x)\n",
    "        \n",
    "    def __init__(self,x,y):\n",
    "        print(\"two-arg constructor execution..\",x,y)\n",
    "        \n",
    "#c = Constructor()\n",
    "#c = Constructor(10)\n",
    "c = Constructor(10,20)"
   ]
  },
  {
   "cell_type": "code",
   "execution_count": 23,
   "id": "2c7a0abb-1b91-4b83-ae8d-868b365479af",
   "metadata": {},
   "outputs": [
    {
     "name": "stdout",
     "output_type": "stream",
     "text": [
      "HI i am pawan my emp id is 25 my sal is 2600\n",
      "HI i am swamy my emp id is 100125 my sal is 32000\n"
     ]
    }
   ],
   "source": [
    "class Employee:\n",
    "    def __init__(self,x,y,z):\n",
    "        self.eid = x\n",
    "        self.ename=y\n",
    "        self.esal =z\n",
    "    \n",
    "    def emp_Details(self):\n",
    "        #print(\"HI i am\",self.ename,\"my emp id is\",self.eid,\"my sal is\",self.esal)\n",
    "        #print(\"HI i am {} my emp id is {} my sal is {}\".format(self.eid,self.ename,self.esal))\n",
    "        print(\"HI i am {1} my emp id is {0} my sal is {2}\".format(self.eid,self.ename,self.esal))   #foramttig of ouputs\n",
    "        \n",
    "e1 = Employee(25,\"pawan\",2600)\n",
    "e1.emp_Details()\n",
    "\n",
    "e2 = Employee(100125,\"swamy\",32000)\n",
    "e2.emp_Details()"
   ]
  },
  {
   "cell_type": "code",
   "execution_count": null,
   "id": "8e22cd9f-a8b9-4f8b-a416-98bf25ba9f09",
   "metadata": {},
   "outputs": [],
   "source": []
  },
  {
   "cell_type": "code",
   "execution_count": null,
   "id": "a4caba72-c0d3-46a9-bcb7-6a9d5797aae4",
   "metadata": {},
   "outputs": [],
   "source": []
  },
  {
   "cell_type": "code",
   "execution_count": null,
   "id": "2a1070e4-a861-42c4-93e1-18cd99ddaa40",
   "metadata": {},
   "outputs": [],
   "source": []
  },
  {
   "cell_type": "code",
   "execution_count": null,
   "id": "07de1f89-4cd3-48d3-85c7-e591cef4781a",
   "metadata": {},
   "outputs": [],
   "source": []
  },
  {
   "cell_type": "code",
   "execution_count": null,
   "id": "f13ef094-4899-4323-abb0-55f3ab688cb0",
   "metadata": {},
   "outputs": [],
   "source": []
  },
  {
   "cell_type": "code",
   "execution_count": null,
   "id": "b6515f67-1ea9-4d61-a799-500e4f056781",
   "metadata": {},
   "outputs": [],
   "source": []
  },
  {
   "cell_type": "code",
   "execution_count": null,
   "id": "35ddc350-3b92-41db-9387-6023d6279ba2",
   "metadata": {},
   "outputs": [],
   "source": []
  },
  {
   "cell_type": "code",
   "execution_count": null,
   "id": "a614c1c6-b648-4fbd-a097-d387268ee144",
   "metadata": {},
   "outputs": [],
   "source": []
  }
 ],
 "metadata": {
  "kernelspec": {
   "display_name": "Python 3 (ipykernel)",
   "language": "python",
   "name": "python3"
  },
  "language_info": {
   "codemirror_mode": {
    "name": "ipython",
    "version": 3
   },
   "file_extension": ".py",
   "mimetype": "text/x-python",
   "name": "python",
   "nbconvert_exporter": "python",
   "pygments_lexer": "ipython3",
   "version": "3.11.4"
  }
 },
 "nbformat": 4,
 "nbformat_minor": 5
}
