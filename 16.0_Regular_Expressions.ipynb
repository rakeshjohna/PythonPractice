{
 "cells": [
  {
   "cell_type": "code",
   "execution_count": 9,
   "id": "8b270ae9-647c-405b-91c2-a681e73b0194",
   "metadata": {},
   "outputs": [
    {
     "name": "stdout",
     "output_type": "stream",
     "text": [
      "<re.Match object; span=(0, 3), match='rak'>\n"
     ]
    }
   ],
   "source": [
    "import re\n",
    "pattern=\"rak\"\n",
    "text=\"rakesh is good raket\"\n",
    "match=re.search(pattern,text)\n",
    "print(match)"
   ]
  },
  {
   "cell_type": "code",
   "execution_count": 11,
   "id": "f5aed776-990a-4f44-b4b5-6ddb2ae04c2f",
   "metadata": {},
   "outputs": [
    {
     "name": "stdout",
     "output_type": "stream",
     "text": [
      "<re.Match object; span=(9, 16), match='Ayclone'>\n"
     ]
    }
   ],
   "source": [
    "import re\n",
    "pattern=r\"[A-Z]yclone\"\n",
    "text=\"There is Ayclone and Ayclone in the zyclone\"\n",
    "match=re.search(pattern,text)\n",
    "print(match)"
   ]
  },
  {
   "cell_type": "code",
   "execution_count": 6,
   "id": "eef52a36-b20c-4245-8fab-e97ece1e73b7",
   "metadata": {},
   "outputs": [
    {
     "name": "stdout",
     "output_type": "stream",
     "text": [
      "<re.Match object; span=(9, 16), match='Ayclone'>\n",
      "<re.Match object; span=(21, 28), match='Cyclone'>\n",
      "<re.Match object; span=(36, 43), match='Dyclone'>\n"
     ]
    }
   ],
   "source": [
    "pattern=r\"[A-Z]+yclone\"\n",
    "text=\"There is Ayclone and Cyclone in the Dyclone\"\n",
    "matches=re.finditer(pattern,text)\n",
    "for match in matches:\n",
    "    print(match)"
   ]
  },
  {
   "cell_type": "code",
   "execution_count": 3,
   "id": "d2c17f0f-8385-445d-9b58-3af8087a6813",
   "metadata": {},
   "outputs": [
    {
     "name": "stdout",
     "output_type": "stream",
     "text": [
      "<re.Match object; span=(0, 1), match='A'>\n"
     ]
    }
   ],
   "source": [
    "import re\n",
    "pattern=\"[A-Z]\"\n",
    "text=\"Abs Dty Tfgh Yghj Nghjk Mhj\"\n",
    "match=re.search(pattern,text)\n",
    "print(match)"
   ]
  },
  {
   "cell_type": "code",
   "execution_count": 5,
   "id": "42fc0941-0f4a-42ac-aea3-2cf05f3d32bd",
   "metadata": {},
   "outputs": [
    {
     "name": "stdout",
     "output_type": "stream",
     "text": [
      "<re.Match object; span=(0, 1), match='A'>\n",
      "<re.Match object; span=(4, 5), match='D'>\n",
      "<re.Match object; span=(8, 9), match='T'>\n",
      "<re.Match object; span=(13, 14), match='Y'>\n",
      "<re.Match object; span=(18, 19), match='N'>\n",
      "<re.Match object; span=(24, 25), match='M'>\n"
     ]
    }
   ],
   "source": [
    "import re\n",
    "pattern=\"[A-Z]\"      #CHARACTER SET:matches any character which is in the set.\n",
    "text=\"Abs Dty Tfgh Yghj Nghjk Mhj\"\n",
    "matches=re.finditer(pattern,text)\n",
    "for match in matches:\n",
    "    print(match)"
   ]
  },
  {
   "cell_type": "code",
   "execution_count": 6,
   "id": "738f919c-3bf9-4e01-970d-759d7197c8d4",
   "metadata": {},
   "outputs": [
    {
     "name": "stdout",
     "output_type": "stream",
     "text": [
      "<re.Match object; span=(0, 1), match='A'>\n",
      "<re.Match object; span=(1, 2), match='b'>\n",
      "<re.Match object; span=(2, 3), match='s'>\n",
      "<re.Match object; span=(3, 4), match=' '>\n",
      "<re.Match object; span=(4, 5), match='D'>\n",
      "<re.Match object; span=(5, 6), match='t'>\n",
      "<re.Match object; span=(6, 7), match='y'>\n",
      "<re.Match object; span=(7, 8), match=' '>\n",
      "<re.Match object; span=(8, 9), match='T'>\n",
      "<re.Match object; span=(9, 10), match='f'>\n",
      "<re.Match object; span=(10, 11), match='g'>\n",
      "<re.Match object; span=(11, 12), match='h'>\n",
      "<re.Match object; span=(12, 13), match=' '>\n",
      "<re.Match object; span=(13, 14), match='Y'>\n",
      "<re.Match object; span=(14, 15), match='g'>\n",
      "<re.Match object; span=(15, 16), match='h'>\n",
      "<re.Match object; span=(16, 17), match='j'>\n",
      "<re.Match object; span=(17, 18), match=' '>\n",
      "<re.Match object; span=(18, 19), match='N'>\n",
      "<re.Match object; span=(19, 20), match='g'>\n",
      "<re.Match object; span=(20, 21), match='h'>\n",
      "<re.Match object; span=(21, 22), match='j'>\n",
      "<re.Match object; span=(22, 23), match='k'>\n",
      "<re.Match object; span=(23, 24), match=' '>\n",
      "<re.Match object; span=(24, 25), match='M'>\n",
      "<re.Match object; span=(25, 26), match='h'>\n",
      "<re.Match object; span=(26, 27), match='j'>\n"
     ]
    }
   ],
   "source": [
    "import re\n",
    "pattern=\"[^aeiou]\"      #NEGATED SET:matches any character which is not in the set.\n",
    "text=\"Abs Dty Tfgh Yghj Nghjk Mhj\"\n",
    "matches=re.finditer(pattern,text)\n",
    "for match in matches:\n",
    "    print(match)"
   ]
  },
  {
   "cell_type": "code",
   "execution_count": 7,
   "id": "db34c00e-3a92-476d-981a-b3012ade638a",
   "metadata": {},
   "outputs": [
    {
     "name": "stdout",
     "output_type": "stream",
     "text": [
      "<re.Match object; span=(2, 3), match='s'>\n",
      "<re.Match object; span=(10, 11), match='g'>\n",
      "<re.Match object; span=(11, 12), match='h'>\n",
      "<re.Match object; span=(14, 15), match='g'>\n",
      "<re.Match object; span=(15, 16), match='h'>\n",
      "<re.Match object; span=(16, 17), match='j'>\n",
      "<re.Match object; span=(19, 20), match='g'>\n",
      "<re.Match object; span=(20, 21), match='h'>\n",
      "<re.Match object; span=(21, 22), match='j'>\n",
      "<re.Match object; span=(22, 23), match='k'>\n",
      "<re.Match object; span=(25, 26), match='h'>\n",
      "<re.Match object; span=(26, 27), match='j'>\n"
     ]
    }
   ],
   "source": [
    "import re\n",
    "pattern=\"[g-s]\"      #RANGE:Matches a character having a character code between the two specified characters inclusive.\n",
    "text=\"Abs Dty Tfgh Yghj Nghjk Mhj\"\n",
    "matches=re.finditer(pattern,text)\n",
    "for match in matches:\n",
    "    print(match)"
   ]
  },
  {
   "cell_type": "code",
   "execution_count": 9,
   "id": "fce585bc-d3c8-409d-a5bf-241731bea4e3",
   "metadata": {},
   "outputs": [
    {
     "name": "stdout",
     "output_type": "stream",
     "text": [
      "<re.Match object; span=(2, 4), match='sD'>\n",
      "<re.Match object; span=(9, 11), match='gh'>\n",
      "<re.Match object; span=(13, 15), match='gh'>\n",
      "<re.Match object; span=(15, 17), match='j '>\n",
      "<re.Match object; span=(18, 20), match='gh'>\n",
      "<re.Match object; span=(20, 22), match='jk'>\n",
      "<re.Match object; span=(24, 26), match='hj'>\n"
     ]
    }
   ],
   "source": [
    "import re\n",
    "pattern=\"[g-s].\"     #DOT:it matched 2 objects from the text     \n",
    "text=\"AbsDty Tfgh Yghj Nghjk Mhj\"\n",
    "matches=re.finditer(pattern,text)\n",
    "for match in matches:\n",
    "    print(match)"
   ]
  },
  {
   "cell_type": "code",
   "execution_count": 18,
   "id": "821013ab-b3cf-46e1-86e2-5ed578692a9e",
   "metadata": {},
   "outputs": [
    {
     "name": "stdout",
     "output_type": "stream",
     "text": [
      "<re.Match object; span=(0, 1), match='a'>\n",
      "<re.Match object; span=(1, 2), match='b'>\n",
      "<re.Match object; span=(2, 3), match='s'>\n",
      "<re.Match object; span=(3, 4), match='d'>\n",
      "<re.Match object; span=(4, 5), match='t'>\n",
      "<re.Match object; span=(5, 6), match='y'>\n",
      "<re.Match object; span=(6, 7), match='t'>\n",
      "<re.Match object; span=(7, 8), match='f'>\n",
      "<re.Match object; span=(8, 9), match='g'>\n",
      "<re.Match object; span=(9, 10), match='h'>\n",
      "<re.Match object; span=(10, 11), match='y'>\n",
      "<re.Match object; span=(11, 12), match='g'>\n",
      "<re.Match object; span=(12, 13), match='h'>\n",
      "<re.Match object; span=(13, 14), match='j'>\n",
      "<re.Match object; span=(14, 15), match='n'>\n",
      "<re.Match object; span=(15, 16), match='g'>\n",
      "<re.Match object; span=(16, 17), match='h'>\n",
      "<re.Match object; span=(17, 18), match='j'>\n",
      "<re.Match object; span=(18, 19), match='k'>\n",
      "<re.Match object; span=(19, 20), match='m'>\n",
      "<re.Match object; span=(20, 21), match='h'>\n",
      "<re.Match object; span=(21, 22), match='j'>\n"
     ]
    }
   ],
   "source": [
    "pattern=\"[\\s\\S]\"      #A character set that can be used to match any character, including line breaks, without the dotall flag (s).\n",
    "                                        #An alternative is [^], but it is not supported in all browsers.\n",
    "text=\"absdtytfghyghjnghjkmhj\"\n",
    "matches=re.finditer(pattern,text)\n",
    "for match in matches:\n",
    "    print(match)"
   ]
  },
  {
   "cell_type": "code",
   "execution_count": 16,
   "id": "5d102ffd-7e3b-4203-88cc-a3aad0f3617b",
   "metadata": {},
   "outputs": [
    {
     "name": "stdout",
     "output_type": "stream",
     "text": [
      "<re.Match object; span=(0, 2), match='ab'>\n",
      "<re.Match object; span=(2, 4), match='sd'>\n",
      "<re.Match object; span=(4, 6), match='ty'>\n",
      "<re.Match object; span=(6, 8), match='tf'>\n",
      "<re.Match object; span=(8, 10), match='gh'>\n",
      "<re.Match object; span=(10, 12), match='yg'>\n",
      "<re.Match object; span=(12, 14), match='hj'>\n",
      "<re.Match object; span=(14, 16), match='ng'>\n",
      "<re.Match object; span=(16, 18), match='hj'>\n",
      "<re.Match object; span=(18, 20), match='km'>\n",
      "<re.Match object; span=(20, 22), match='hj'>\n"
     ]
    }
   ],
   "source": [
    "pattern=\"[\\s\\S].\"      #it matches 2 objects from the text\n",
    "text=\"absdtytfghyghjnghjkmhj\"    \n",
    "matches=re.finditer(pattern,text)\n",
    "for match in matches:\n",
    "    print(match)"
   ]
  },
  {
   "cell_type": "code",
   "execution_count": 17,
   "id": "fda07b54-d0f2-4b65-9f70-2c8e247e2f73",
   "metadata": {},
   "outputs": [
    {
     "name": "stdout",
     "output_type": "stream",
     "text": [
      "<re.Match object; span=(0, 3), match='abs'>\n",
      "<re.Match object; span=(3, 6), match='dty'>\n",
      "<re.Match object; span=(6, 9), match='tfg'>\n",
      "<re.Match object; span=(9, 12), match='hyg'>\n",
      "<re.Match object; span=(12, 15), match='hjn'>\n",
      "<re.Match object; span=(15, 18), match='ghj'>\n",
      "<re.Match object; span=(18, 21), match='kmh'>\n"
     ]
    }
   ],
   "source": [
    "pattern=\"[\\s\\S]..\"      #it matches 3 objects from the text\n",
    "text=\"absdtytfghyghjnghjkmhj\"\n",
    "matches=re.finditer(pattern,text)\n",
    "for match in matches:\n",
    "    print(match)"
   ]
  },
  {
   "cell_type": "code",
   "execution_count": 21,
   "id": "b25f1aab-c1eb-4b0a-9507-023c9e7ad879",
   "metadata": {},
   "outputs": [
    {
     "name": "stdout",
     "output_type": "stream",
     "text": [
      "<re.Match object; span=(0, 1), match='a'>\n",
      "<re.Match object; span=(1, 2), match='b'>\n",
      "<re.Match object; span=(2, 3), match='s'>\n",
      "<re.Match object; span=(3, 4), match='d'>\n",
      "<re.Match object; span=(4, 5), match='5'>\n",
      "<re.Match object; span=(5, 6), match='6'>\n",
      "<re.Match object; span=(6, 7), match='7'>\n",
      "<re.Match object; span=(7, 8), match='8'>\n",
      "<re.Match object; span=(8, 9), match='9'>\n",
      "<re.Match object; span=(9, 10), match='t'>\n",
      "<re.Match object; span=(10, 11), match='y'>\n",
      "<re.Match object; span=(11, 12), match='t'>\n",
      "<re.Match object; span=(12, 13), match='f'>\n",
      "<re.Match object; span=(13, 14), match='g'>\n",
      "<re.Match object; span=(14, 15), match='h'>\n",
      "<re.Match object; span=(15, 16), match='y'>\n",
      "<re.Match object; span=(16, 17), match='g'>\n",
      "<re.Match object; span=(17, 18), match='h'>\n",
      "<re.Match object; span=(18, 19), match='j'>\n",
      "<re.Match object; span=(19, 20), match='n'>\n",
      "<re.Match object; span=(20, 21), match='g'>\n",
      "<re.Match object; span=(21, 22), match='h'>\n",
      "<re.Match object; span=(22, 23), match='j'>\n",
      "<re.Match object; span=(23, 24), match='k'>\n",
      "<re.Match object; span=(24, 25), match='m'>\n",
      "<re.Match object; span=(25, 26), match='h'>\n",
      "<re.Match object; span=(26, 27), match='j'>\n"
     ]
    }
   ],
   "source": [
    "pattern=\"[\\w]\"      #NOT WORD:matches any word character (alphanumeric & underscore). Only matches low-ascii characters (no accented or non-roman characters). Equivalent to [A-Za-z0-9_]\n",
    "text=\"absd56789tytfghyghjnghjkmhj\"\n",
    "matches=re.finditer(pattern,text)\n",
    "for match in matches:\n",
    "    print(match)"
   ]
  },
  {
   "cell_type": "code",
   "execution_count": 26,
   "id": "db0aeb7f-8b6d-4d01-8da8-20e92974309d",
   "metadata": {},
   "outputs": [
    {
     "name": "stdout",
     "output_type": "stream",
     "text": [
      "<re.Match object; span=(9, 10), match='.'>\n",
      "<re.Match object; span=(10, 11), match='.'>\n",
      "<re.Match object; span=(13, 14), match=','>\n",
      "<re.Match object; span=(14, 15), match=','>\n",
      "<re.Match object; span=(15, 16), match=','>\n"
     ]
    }
   ],
   "source": [
    "pattern=\"[\\W]\"      #WORD:matches any chracter that is not a word character (alphanumeric & underscore). Only matches low-ascii characters (no accented or non-roman characters). Equivalent to [A-Za-z0-9_]\n",
    "text=\"absd56789..ty,,,tfghyghjnghjkmhj\"\n",
    "matches=re.finditer(pattern,text)\n",
    "for match in matches:\n",
    "    print(match)"
   ]
  },
  {
   "cell_type": "code",
   "execution_count": 29,
   "id": "ea38bdd0-0e81-4fa2-ab23-3dba459a0350",
   "metadata": {},
   "outputs": [
    {
     "name": "stdout",
     "output_type": "stream",
     "text": [
      "<re.Match object; span=(4, 5), match='5'>\n",
      "<re.Match object; span=(5, 6), match='6'>\n",
      "<re.Match object; span=(6, 7), match='7'>\n",
      "<re.Match object; span=(7, 8), match='8'>\n",
      "<re.Match object; span=(8, 9), match='9'>\n"
     ]
    }
   ],
   "source": [
    "pattern=\"[\\d]\"      #DIGIT:Matches any digit character (0-9). Equivalent to [0-9].\n",
    "text=\"absd56789..ty,,,tfghyghjnghjkmhj\"\n",
    "matches=re.finditer(pattern,text)\n",
    "for match in matches:\n",
    "    print(match)"
   ]
  },
  {
   "cell_type": "code",
   "execution_count": 30,
   "id": "af69ff60-4cf4-4ed9-bbf7-1520aca7cb03",
   "metadata": {},
   "outputs": [
    {
     "name": "stdout",
     "output_type": "stream",
     "text": [
      "<re.Match object; span=(0, 1), match='a'>\n",
      "<re.Match object; span=(1, 2), match='b'>\n",
      "<re.Match object; span=(2, 3), match='s'>\n",
      "<re.Match object; span=(3, 4), match='d'>\n",
      "<re.Match object; span=(9, 10), match='.'>\n",
      "<re.Match object; span=(10, 11), match='.'>\n",
      "<re.Match object; span=(11, 12), match='t'>\n",
      "<re.Match object; span=(12, 13), match='y'>\n",
      "<re.Match object; span=(13, 14), match=','>\n",
      "<re.Match object; span=(14, 15), match=','>\n",
      "<re.Match object; span=(15, 16), match=','>\n",
      "<re.Match object; span=(16, 17), match='t'>\n",
      "<re.Match object; span=(17, 18), match='f'>\n",
      "<re.Match object; span=(18, 19), match='g'>\n",
      "<re.Match object; span=(19, 20), match='h'>\n",
      "<re.Match object; span=(20, 21), match='y'>\n",
      "<re.Match object; span=(21, 22), match='g'>\n",
      "<re.Match object; span=(22, 23), match='h'>\n",
      "<re.Match object; span=(23, 24), match='j'>\n",
      "<re.Match object; span=(24, 25), match='n'>\n",
      "<re.Match object; span=(25, 26), match='g'>\n",
      "<re.Match object; span=(26, 27), match='h'>\n",
      "<re.Match object; span=(27, 28), match='j'>\n",
      "<re.Match object; span=(28, 29), match='k'>\n",
      "<re.Match object; span=(29, 30), match='m'>\n",
      "<re.Match object; span=(30, 31), match='h'>\n",
      "<re.Match object; span=(31, 32), match='j'>\n"
     ]
    }
   ],
   "source": [
    "pattern=\"[\\D]\"      #NOT DIGIT:dont Matches any digit character (0-9). Equivalent to [0-9].\n",
    "text=\"absd56789..ty,,,tfghyghjnghjkmhj\"\n",
    "matches=re.finditer(pattern,text)\n",
    "for match in matches:\n",
    "    print(match)"
   ]
  },
  {
   "cell_type": "code",
   "execution_count": 34,
   "id": "d36805e3-ded4-4c03-b951-794532fef605",
   "metadata": {},
   "outputs": [
    {
     "name": "stdout",
     "output_type": "stream",
     "text": [
      "<re.Match object; span=(0, 1), match='a'>\n",
      "<re.Match object; span=(1, 2), match='b'>\n",
      "<re.Match object; span=(2, 3), match='s'>\n",
      "<re.Match object; span=(3, 4), match='d'>\n",
      "<re.Match object; span=(4, 5), match='5'>\n",
      "<re.Match object; span=(5, 6), match='6'>\n",
      "<re.Match object; span=(6, 7), match='7'>\n",
      "<re.Match object; span=(7, 8), match='8'>\n",
      "<re.Match object; span=(8, 9), match='9'>\n",
      "<re.Match object; span=(9, 10), match='.'>\n",
      "<re.Match object; span=(10, 11), match='.'>\n",
      "<re.Match object; span=(13, 14), match='t'>\n",
      "<re.Match object; span=(14, 15), match='y'>\n",
      "<re.Match object; span=(15, 16), match=','>\n",
      "<re.Match object; span=(16, 17), match=','>\n",
      "<re.Match object; span=(17, 18), match=','>\n",
      "<re.Match object; span=(18, 19), match='t'>\n",
      "<re.Match object; span=(19, 20), match='f'>\n",
      "<re.Match object; span=(20, 21), match='g'>\n",
      "<re.Match object; span=(21, 22), match='h'>\n",
      "<re.Match object; span=(24, 25), match='y'>\n",
      "<re.Match object; span=(25, 26), match='g'>\n",
      "<re.Match object; span=(26, 27), match='h'>\n",
      "<re.Match object; span=(27, 28), match='j'>\n",
      "<re.Match object; span=(28, 29), match='n'>\n",
      "<re.Match object; span=(29, 30), match='g'>\n",
      "<re.Match object; span=(30, 31), match='h'>\n",
      "<re.Match object; span=(31, 32), match='j'>\n",
      "<re.Match object; span=(32, 33), match='k'>\n",
      "<re.Match object; span=(33, 34), match='m'>\n",
      "<re.Match object; span=(34, 35), match='h'>\n",
      "<re.Match object; span=(35, 36), match='j'>\n"
     ]
    }
   ],
   "source": [
    "pattern=\"[\\S]\"      #Whitespace(\\S):Matches any character that is not a whitespace character (spaces, tabs, line breaks).\n",
    "text=\"absd56789..  ty,,,tfgh  yghjnghjkmhj\"\n",
    "matches=re.finditer(pattern,text)\n",
    "for match in matches:\n",
    "    print(match)"
   ]
  },
  {
   "cell_type": "code",
   "execution_count": 35,
   "id": "f1b356ef-6643-4724-8947-7f95346a86cd",
   "metadata": {},
   "outputs": [
    {
     "name": "stdout",
     "output_type": "stream",
     "text": [
      "<re.Match object; span=(11, 12), match=' '>\n",
      "<re.Match object; span=(12, 13), match=' '>\n",
      "<re.Match object; span=(22, 23), match=' '>\n",
      "<re.Match object; span=(23, 24), match=' '>\n"
     ]
    }
   ],
   "source": [
    "pattern=\"[\\s]\"      #Whitespace(\\s):Matches any whitespace character (spaces, tabs, line breaks).\n",
    "text=\"absd56789..  ty,,,tfgh  yghjnghjkmhj\"\n",
    "matches=re.finditer(pattern,text)\n",
    "for match in matches:\n",
    "    print(match)"
   ]
  },
  {
   "cell_type": "code",
   "execution_count": 36,
   "id": "53067b33-d17b-4a56-8f4b-dc0d7e8a51da",
   "metadata": {},
   "outputs": [
    {
     "name": "stdout",
     "output_type": "stream",
     "text": [
      "<re.Match object; span=(0, 1), match='a'>\n",
      "<re.Match object; span=(1, 2), match='b'>\n",
      "<re.Match object; span=(2, 3), match='s'>\n",
      "<re.Match object; span=(3, 4), match='d'>\n",
      "<re.Match object; span=(4, 5), match='5'>\n",
      "<re.Match object; span=(5, 6), match='6'>\n",
      "<re.Match object; span=(6, 7), match='7'>\n",
      "<re.Match object; span=(7, 8), match='8'>\n",
      "<re.Match object; span=(8, 9), match='9'>\n",
      "<re.Match object; span=(9, 10), match='.'>\n",
      "<re.Match object; span=(10, 11), match='.'>\n",
      "<re.Match object; span=(13, 14), match='t'>\n",
      "<re.Match object; span=(14, 15), match='y'>\n",
      "<re.Match object; span=(15, 16), match=','>\n",
      "<re.Match object; span=(16, 17), match=','>\n",
      "<re.Match object; span=(17, 18), match=','>\n",
      "<re.Match object; span=(18, 19), match='t'>\n",
      "<re.Match object; span=(19, 20), match='f'>\n",
      "<re.Match object; span=(20, 21), match='g'>\n",
      "<re.Match object; span=(21, 22), match='h'>\n",
      "<re.Match object; span=(24, 25), match='y'>\n",
      "<re.Match object; span=(25, 26), match='g'>\n",
      "<re.Match object; span=(26, 27), match='h'>\n",
      "<re.Match object; span=(27, 28), match='j'>\n",
      "<re.Match object; span=(28, 29), match='n'>\n",
      "<re.Match object; span=(29, 30), match='g'>\n",
      "<re.Match object; span=(30, 31), match='h'>\n",
      "<re.Match object; span=(31, 32), match='j'>\n",
      "<re.Match object; span=(32, 33), match='k'>\n",
      "<re.Match object; span=(33, 34), match='m'>\n",
      "<re.Match object; span=(34, 35), match='h'>\n",
      "<re.Match object; span=(35, 36), match='j'>\n"
     ]
    }
   ],
   "source": [
    "pattern=\"[\\S]\"      #Whitespace(\\S):Dont Matches any whitespace character (spaces, tabs, line breaks).\n",
    "text=\"absd56789..  ty,,,tfgh  yghjnghjkmhj\"\n",
    "matches=re.finditer(pattern,text)\n",
    "for match in matches:\n",
    "    print(match)"
   ]
  },
  {
   "cell_type": "code",
   "execution_count": 45,
   "id": "d4f117d7-ec8b-4bf9-b362-7d1c1080a69a",
   "metadata": {},
   "outputs": [
    {
     "ename": "error",
     "evalue": "bad escape \\p at position 1",
     "output_type": "error",
     "traceback": [
      "\u001b[1;31m---------------------------------------------------------------------------\u001b[0m",
      "\u001b[1;31merror\u001b[0m                                     Traceback (most recent call last)",
      "Cell \u001b[1;32mIn[45], line 3\u001b[0m\n\u001b[0;32m      1\u001b[0m pattern\u001b[38;5;241m=\u001b[39m\u001b[38;5;124m\"\u001b[39m\u001b[38;5;124m[\u001b[39m\u001b[38;5;124m\\\u001b[39m\u001b[38;5;124mp\u001b[39m\u001b[38;5;132;01m{L}\u001b[39;00m\u001b[38;5;124m]\u001b[39m\u001b[38;5;124m\"\u001b[39m      \u001b[38;5;66;03m#Unicode character(\\p{L}):Matches a character in the specified unicode category. For example, \\p{Ll} will match any lowercase letter.\u001b[39;00m\n\u001b[0;32m      2\u001b[0m text\u001b[38;5;241m=\u001b[39m\u001b[38;5;124m\"\u001b[39m\u001b[38;5;124mabsd56789..  ty,,,tfgh  yghjnghjkmhj\u001b[39m\u001b[38;5;124m\"\u001b[39m\n\u001b[1;32m----> 3\u001b[0m matches\u001b[38;5;241m=\u001b[39m\u001b[43mre\u001b[49m\u001b[38;5;241;43m.\u001b[39;49m\u001b[43mfinditer\u001b[49m\u001b[43m(\u001b[49m\u001b[43mpattern\u001b[49m\u001b[43m,\u001b[49m\u001b[43mtext\u001b[49m\u001b[43m)\u001b[49m\n\u001b[0;32m      4\u001b[0m \u001b[38;5;28;01mfor\u001b[39;00m match \u001b[38;5;129;01min\u001b[39;00m matches:\n\u001b[0;32m      5\u001b[0m     \u001b[38;5;28mprint\u001b[39m(match)\n",
      "File \u001b[1;32m~\\AppData\\Local\\Programs\\Python\\Python311\\Lib\\re\\__init__.py:223\u001b[0m, in \u001b[0;36mfinditer\u001b[1;34m(pattern, string, flags)\u001b[0m\n\u001b[0;32m    218\u001b[0m \u001b[38;5;28;01mdef\u001b[39;00m \u001b[38;5;21mfinditer\u001b[39m(pattern, string, flags\u001b[38;5;241m=\u001b[39m\u001b[38;5;241m0\u001b[39m):\n\u001b[0;32m    219\u001b[0m \u001b[38;5;250m    \u001b[39m\u001b[38;5;124;03m\"\"\"Return an iterator over all non-overlapping matches in the\u001b[39;00m\n\u001b[0;32m    220\u001b[0m \u001b[38;5;124;03m    string.  For each match, the iterator returns a Match object.\u001b[39;00m\n\u001b[0;32m    221\u001b[0m \n\u001b[0;32m    222\u001b[0m \u001b[38;5;124;03m    Empty matches are included in the result.\"\"\"\u001b[39;00m\n\u001b[1;32m--> 223\u001b[0m     \u001b[38;5;28;01mreturn\u001b[39;00m \u001b[43m_compile\u001b[49m\u001b[43m(\u001b[49m\u001b[43mpattern\u001b[49m\u001b[43m,\u001b[49m\u001b[43m \u001b[49m\u001b[43mflags\u001b[49m\u001b[43m)\u001b[49m\u001b[38;5;241m.\u001b[39mfinditer(string)\n",
      "File \u001b[1;32m~\\AppData\\Local\\Programs\\Python\\Python311\\Lib\\re\\__init__.py:294\u001b[0m, in \u001b[0;36m_compile\u001b[1;34m(pattern, flags)\u001b[0m\n\u001b[0;32m    288\u001b[0m     \u001b[38;5;28;01mimport\u001b[39;00m \u001b[38;5;21;01mwarnings\u001b[39;00m\n\u001b[0;32m    289\u001b[0m     warnings\u001b[38;5;241m.\u001b[39mwarn(\u001b[38;5;124m\"\u001b[39m\u001b[38;5;124mThe re.TEMPLATE/re.T flag is deprecated \u001b[39m\u001b[38;5;124m\"\u001b[39m\n\u001b[0;32m    290\u001b[0m               \u001b[38;5;124m\"\u001b[39m\u001b[38;5;124mas it is an undocumented flag \u001b[39m\u001b[38;5;124m\"\u001b[39m\n\u001b[0;32m    291\u001b[0m               \u001b[38;5;124m\"\u001b[39m\u001b[38;5;124mwithout an obvious purpose. \u001b[39m\u001b[38;5;124m\"\u001b[39m\n\u001b[0;32m    292\u001b[0m               \u001b[38;5;124m\"\u001b[39m\u001b[38;5;124mDon\u001b[39m\u001b[38;5;124m'\u001b[39m\u001b[38;5;124mt use it.\u001b[39m\u001b[38;5;124m\"\u001b[39m,\n\u001b[0;32m    293\u001b[0m               \u001b[38;5;167;01mDeprecationWarning\u001b[39;00m)\n\u001b[1;32m--> 294\u001b[0m p \u001b[38;5;241m=\u001b[39m \u001b[43m_compiler\u001b[49m\u001b[38;5;241;43m.\u001b[39;49m\u001b[43mcompile\u001b[49m\u001b[43m(\u001b[49m\u001b[43mpattern\u001b[49m\u001b[43m,\u001b[49m\u001b[43m \u001b[49m\u001b[43mflags\u001b[49m\u001b[43m)\u001b[49m\n\u001b[0;32m    295\u001b[0m \u001b[38;5;28;01mif\u001b[39;00m \u001b[38;5;129;01mnot\u001b[39;00m (flags \u001b[38;5;241m&\u001b[39m DEBUG):\n\u001b[0;32m    296\u001b[0m     \u001b[38;5;28;01mif\u001b[39;00m \u001b[38;5;28mlen\u001b[39m(_cache) \u001b[38;5;241m>\u001b[39m\u001b[38;5;241m=\u001b[39m _MAXCACHE:\n\u001b[0;32m    297\u001b[0m         \u001b[38;5;66;03m# Drop the oldest item\u001b[39;00m\n",
      "File \u001b[1;32m~\\AppData\\Local\\Programs\\Python\\Python311\\Lib\\re\\_compiler.py:743\u001b[0m, in \u001b[0;36mcompile\u001b[1;34m(p, flags)\u001b[0m\n\u001b[0;32m    741\u001b[0m \u001b[38;5;28;01mif\u001b[39;00m isstring(p):\n\u001b[0;32m    742\u001b[0m     pattern \u001b[38;5;241m=\u001b[39m p\n\u001b[1;32m--> 743\u001b[0m     p \u001b[38;5;241m=\u001b[39m \u001b[43m_parser\u001b[49m\u001b[38;5;241;43m.\u001b[39;49m\u001b[43mparse\u001b[49m\u001b[43m(\u001b[49m\u001b[43mp\u001b[49m\u001b[43m,\u001b[49m\u001b[43m \u001b[49m\u001b[43mflags\u001b[49m\u001b[43m)\u001b[49m\n\u001b[0;32m    744\u001b[0m \u001b[38;5;28;01melse\u001b[39;00m:\n\u001b[0;32m    745\u001b[0m     pattern \u001b[38;5;241m=\u001b[39m \u001b[38;5;28;01mNone\u001b[39;00m\n",
      "File \u001b[1;32m~\\AppData\\Local\\Programs\\Python\\Python311\\Lib\\re\\_parser.py:980\u001b[0m, in \u001b[0;36mparse\u001b[1;34m(str, flags, state)\u001b[0m\n\u001b[0;32m    977\u001b[0m state\u001b[38;5;241m.\u001b[39mflags \u001b[38;5;241m=\u001b[39m flags\n\u001b[0;32m    978\u001b[0m state\u001b[38;5;241m.\u001b[39mstr \u001b[38;5;241m=\u001b[39m \u001b[38;5;28mstr\u001b[39m\n\u001b[1;32m--> 980\u001b[0m p \u001b[38;5;241m=\u001b[39m \u001b[43m_parse_sub\u001b[49m\u001b[43m(\u001b[49m\u001b[43msource\u001b[49m\u001b[43m,\u001b[49m\u001b[43m \u001b[49m\u001b[43mstate\u001b[49m\u001b[43m,\u001b[49m\u001b[43m \u001b[49m\u001b[43mflags\u001b[49m\u001b[43m \u001b[49m\u001b[38;5;241;43m&\u001b[39;49m\u001b[43m \u001b[49m\u001b[43mSRE_FLAG_VERBOSE\u001b[49m\u001b[43m,\u001b[49m\u001b[43m \u001b[49m\u001b[38;5;241;43m0\u001b[39;49m\u001b[43m)\u001b[49m\n\u001b[0;32m    981\u001b[0m p\u001b[38;5;241m.\u001b[39mstate\u001b[38;5;241m.\u001b[39mflags \u001b[38;5;241m=\u001b[39m fix_flags(\u001b[38;5;28mstr\u001b[39m, p\u001b[38;5;241m.\u001b[39mstate\u001b[38;5;241m.\u001b[39mflags)\n\u001b[0;32m    983\u001b[0m \u001b[38;5;28;01mif\u001b[39;00m source\u001b[38;5;241m.\u001b[39mnext \u001b[38;5;129;01mis\u001b[39;00m \u001b[38;5;129;01mnot\u001b[39;00m \u001b[38;5;28;01mNone\u001b[39;00m:\n",
      "File \u001b[1;32m~\\AppData\\Local\\Programs\\Python\\Python311\\Lib\\re\\_parser.py:455\u001b[0m, in \u001b[0;36m_parse_sub\u001b[1;34m(source, state, verbose, nested)\u001b[0m\n\u001b[0;32m    453\u001b[0m start \u001b[38;5;241m=\u001b[39m source\u001b[38;5;241m.\u001b[39mtell()\n\u001b[0;32m    454\u001b[0m \u001b[38;5;28;01mwhile\u001b[39;00m \u001b[38;5;28;01mTrue\u001b[39;00m:\n\u001b[1;32m--> 455\u001b[0m     itemsappend(\u001b[43m_parse\u001b[49m\u001b[43m(\u001b[49m\u001b[43msource\u001b[49m\u001b[43m,\u001b[49m\u001b[43m \u001b[49m\u001b[43mstate\u001b[49m\u001b[43m,\u001b[49m\u001b[43m \u001b[49m\u001b[43mverbose\u001b[49m\u001b[43m,\u001b[49m\u001b[43m \u001b[49m\u001b[43mnested\u001b[49m\u001b[43m \u001b[49m\u001b[38;5;241;43m+\u001b[39;49m\u001b[43m \u001b[49m\u001b[38;5;241;43m1\u001b[39;49m\u001b[43m,\u001b[49m\n\u001b[0;32m    456\u001b[0m \u001b[43m                       \u001b[49m\u001b[38;5;129;43;01mnot\u001b[39;49;00m\u001b[43m \u001b[49m\u001b[43mnested\u001b[49m\u001b[43m \u001b[49m\u001b[38;5;129;43;01mand\u001b[39;49;00m\u001b[43m \u001b[49m\u001b[38;5;129;43;01mnot\u001b[39;49;00m\u001b[43m \u001b[49m\u001b[43mitems\u001b[49m\u001b[43m)\u001b[49m)\n\u001b[0;32m    457\u001b[0m     \u001b[38;5;28;01mif\u001b[39;00m \u001b[38;5;129;01mnot\u001b[39;00m sourcematch(\u001b[38;5;124m\"\u001b[39m\u001b[38;5;124m|\u001b[39m\u001b[38;5;124m\"\u001b[39m):\n\u001b[0;32m    458\u001b[0m         \u001b[38;5;28;01mbreak\u001b[39;00m\n",
      "File \u001b[1;32m~\\AppData\\Local\\Programs\\Python\\Python311\\Lib\\re\\_parser.py:568\u001b[0m, in \u001b[0;36m_parse\u001b[1;34m(source, state, verbose, nested, first)\u001b[0m\n\u001b[0;32m    566\u001b[0m     \u001b[38;5;28;01mbreak\u001b[39;00m\n\u001b[0;32m    567\u001b[0m \u001b[38;5;28;01melif\u001b[39;00m this[\u001b[38;5;241m0\u001b[39m] \u001b[38;5;241m==\u001b[39m \u001b[38;5;124m\"\u001b[39m\u001b[38;5;130;01m\\\\\u001b[39;00m\u001b[38;5;124m\"\u001b[39m:\n\u001b[1;32m--> 568\u001b[0m     code1 \u001b[38;5;241m=\u001b[39m \u001b[43m_class_escape\u001b[49m\u001b[43m(\u001b[49m\u001b[43msource\u001b[49m\u001b[43m,\u001b[49m\u001b[43m \u001b[49m\u001b[43mthis\u001b[49m\u001b[43m)\u001b[49m\n\u001b[0;32m    569\u001b[0m \u001b[38;5;28;01melse\u001b[39;00m:\n\u001b[0;32m    570\u001b[0m     \u001b[38;5;28;01mif\u001b[39;00m \u001b[38;5;28mset\u001b[39m \u001b[38;5;129;01mand\u001b[39;00m this \u001b[38;5;129;01min\u001b[39;00m \u001b[38;5;124m'\u001b[39m\u001b[38;5;124m-&~|\u001b[39m\u001b[38;5;124m'\u001b[39m \u001b[38;5;129;01mand\u001b[39;00m source\u001b[38;5;241m.\u001b[39mnext \u001b[38;5;241m==\u001b[39m this:\n",
      "File \u001b[1;32m~\\AppData\\Local\\Programs\\Python\\Python311\\Lib\\re\\_parser.py:361\u001b[0m, in \u001b[0;36m_class_escape\u001b[1;34m(source, escape)\u001b[0m\n\u001b[0;32m    359\u001b[0m     \u001b[38;5;28;01mif\u001b[39;00m \u001b[38;5;28mlen\u001b[39m(escape) \u001b[38;5;241m==\u001b[39m \u001b[38;5;241m2\u001b[39m:\n\u001b[0;32m    360\u001b[0m         \u001b[38;5;28;01mif\u001b[39;00m c \u001b[38;5;129;01min\u001b[39;00m ASCIILETTERS:\n\u001b[1;32m--> 361\u001b[0m             \u001b[38;5;28;01mraise\u001b[39;00m source\u001b[38;5;241m.\u001b[39merror(\u001b[38;5;124m'\u001b[39m\u001b[38;5;124mbad escape \u001b[39m\u001b[38;5;132;01m%s\u001b[39;00m\u001b[38;5;124m'\u001b[39m \u001b[38;5;241m%\u001b[39m escape, \u001b[38;5;28mlen\u001b[39m(escape))\n\u001b[0;32m    362\u001b[0m         \u001b[38;5;28;01mreturn\u001b[39;00m LITERAL, \u001b[38;5;28mord\u001b[39m(escape[\u001b[38;5;241m1\u001b[39m])\n\u001b[0;32m    363\u001b[0m \u001b[38;5;28;01mexcept\u001b[39;00m \u001b[38;5;167;01mValueError\u001b[39;00m:\n",
      "\u001b[1;31merror\u001b[0m: bad escape \\p at position 1"
     ]
    }
   ],
   "source": [
    "pattern=\"[\\p{L}]\"      #Unicode character(\\p{L}):Matches a character in the specified unicode category. For example, \\p{Ll} will match any lowercase letter.\n",
    "text=\"absd56789..  ty,,,tfgh  yghjnghjkmhj\"\n",
    "matches=re.finditer(pattern,text)\n",
    "for match in matches:\n",
    "    print(match)"
   ]
  },
  {
   "cell_type": "code",
   "execution_count": 46,
   "id": "45de2325-0804-4b3b-a8c2-a57b7fc1d075",
   "metadata": {},
   "outputs": [
    {
     "ename": "error",
     "evalue": "bad escape \\P at position 1",
     "output_type": "error",
     "traceback": [
      "\u001b[1;31m---------------------------------------------------------------------------\u001b[0m",
      "\u001b[1;31merror\u001b[0m                                     Traceback (most recent call last)",
      "Cell \u001b[1;32mIn[46], line 3\u001b[0m\n\u001b[0;32m      1\u001b[0m pattern\u001b[38;5;241m=\u001b[39m\u001b[38;5;124m\"\u001b[39m\u001b[38;5;124m[\u001b[39m\u001b[38;5;124m\\\u001b[39m\u001b[38;5;124mP\u001b[39m\u001b[38;5;132;01m{L}\u001b[39;00m\u001b[38;5;124m]\u001b[39m\u001b[38;5;124m\"\u001b[39m      \u001b[38;5;66;03m#Not Unicode character(\\p{L}):Matches a character that is not in the specified unicode category. For example, \\p{Ll} will match any lowercase letter.\u001b[39;00m\n\u001b[0;32m      2\u001b[0m text\u001b[38;5;241m=\u001b[39m\u001b[38;5;124m\"\u001b[39m\u001b[38;5;124mabsd56789..  ty,,,tfgh  yghjnghjkmhj\u001b[39m\u001b[38;5;124m\"\u001b[39m\n\u001b[1;32m----> 3\u001b[0m matches\u001b[38;5;241m=\u001b[39m\u001b[43mre\u001b[49m\u001b[38;5;241;43m.\u001b[39;49m\u001b[43mfinditer\u001b[49m\u001b[43m(\u001b[49m\u001b[43mpattern\u001b[49m\u001b[43m,\u001b[49m\u001b[43mtext\u001b[49m\u001b[43m)\u001b[49m\n\u001b[0;32m      4\u001b[0m \u001b[38;5;28;01mfor\u001b[39;00m match \u001b[38;5;129;01min\u001b[39;00m matches:\n\u001b[0;32m      5\u001b[0m     \u001b[38;5;28mprint\u001b[39m(match)\n",
      "File \u001b[1;32m~\\AppData\\Local\\Programs\\Python\\Python311\\Lib\\re\\__init__.py:223\u001b[0m, in \u001b[0;36mfinditer\u001b[1;34m(pattern, string, flags)\u001b[0m\n\u001b[0;32m    218\u001b[0m \u001b[38;5;28;01mdef\u001b[39;00m \u001b[38;5;21mfinditer\u001b[39m(pattern, string, flags\u001b[38;5;241m=\u001b[39m\u001b[38;5;241m0\u001b[39m):\n\u001b[0;32m    219\u001b[0m \u001b[38;5;250m    \u001b[39m\u001b[38;5;124;03m\"\"\"Return an iterator over all non-overlapping matches in the\u001b[39;00m\n\u001b[0;32m    220\u001b[0m \u001b[38;5;124;03m    string.  For each match, the iterator returns a Match object.\u001b[39;00m\n\u001b[0;32m    221\u001b[0m \n\u001b[0;32m    222\u001b[0m \u001b[38;5;124;03m    Empty matches are included in the result.\"\"\"\u001b[39;00m\n\u001b[1;32m--> 223\u001b[0m     \u001b[38;5;28;01mreturn\u001b[39;00m \u001b[43m_compile\u001b[49m\u001b[43m(\u001b[49m\u001b[43mpattern\u001b[49m\u001b[43m,\u001b[49m\u001b[43m \u001b[49m\u001b[43mflags\u001b[49m\u001b[43m)\u001b[49m\u001b[38;5;241m.\u001b[39mfinditer(string)\n",
      "File \u001b[1;32m~\\AppData\\Local\\Programs\\Python\\Python311\\Lib\\re\\__init__.py:294\u001b[0m, in \u001b[0;36m_compile\u001b[1;34m(pattern, flags)\u001b[0m\n\u001b[0;32m    288\u001b[0m     \u001b[38;5;28;01mimport\u001b[39;00m \u001b[38;5;21;01mwarnings\u001b[39;00m\n\u001b[0;32m    289\u001b[0m     warnings\u001b[38;5;241m.\u001b[39mwarn(\u001b[38;5;124m\"\u001b[39m\u001b[38;5;124mThe re.TEMPLATE/re.T flag is deprecated \u001b[39m\u001b[38;5;124m\"\u001b[39m\n\u001b[0;32m    290\u001b[0m               \u001b[38;5;124m\"\u001b[39m\u001b[38;5;124mas it is an undocumented flag \u001b[39m\u001b[38;5;124m\"\u001b[39m\n\u001b[0;32m    291\u001b[0m               \u001b[38;5;124m\"\u001b[39m\u001b[38;5;124mwithout an obvious purpose. \u001b[39m\u001b[38;5;124m\"\u001b[39m\n\u001b[0;32m    292\u001b[0m               \u001b[38;5;124m\"\u001b[39m\u001b[38;5;124mDon\u001b[39m\u001b[38;5;124m'\u001b[39m\u001b[38;5;124mt use it.\u001b[39m\u001b[38;5;124m\"\u001b[39m,\n\u001b[0;32m    293\u001b[0m               \u001b[38;5;167;01mDeprecationWarning\u001b[39;00m)\n\u001b[1;32m--> 294\u001b[0m p \u001b[38;5;241m=\u001b[39m \u001b[43m_compiler\u001b[49m\u001b[38;5;241;43m.\u001b[39;49m\u001b[43mcompile\u001b[49m\u001b[43m(\u001b[49m\u001b[43mpattern\u001b[49m\u001b[43m,\u001b[49m\u001b[43m \u001b[49m\u001b[43mflags\u001b[49m\u001b[43m)\u001b[49m\n\u001b[0;32m    295\u001b[0m \u001b[38;5;28;01mif\u001b[39;00m \u001b[38;5;129;01mnot\u001b[39;00m (flags \u001b[38;5;241m&\u001b[39m DEBUG):\n\u001b[0;32m    296\u001b[0m     \u001b[38;5;28;01mif\u001b[39;00m \u001b[38;5;28mlen\u001b[39m(_cache) \u001b[38;5;241m>\u001b[39m\u001b[38;5;241m=\u001b[39m _MAXCACHE:\n\u001b[0;32m    297\u001b[0m         \u001b[38;5;66;03m# Drop the oldest item\u001b[39;00m\n",
      "File \u001b[1;32m~\\AppData\\Local\\Programs\\Python\\Python311\\Lib\\re\\_compiler.py:743\u001b[0m, in \u001b[0;36mcompile\u001b[1;34m(p, flags)\u001b[0m\n\u001b[0;32m    741\u001b[0m \u001b[38;5;28;01mif\u001b[39;00m isstring(p):\n\u001b[0;32m    742\u001b[0m     pattern \u001b[38;5;241m=\u001b[39m p\n\u001b[1;32m--> 743\u001b[0m     p \u001b[38;5;241m=\u001b[39m \u001b[43m_parser\u001b[49m\u001b[38;5;241;43m.\u001b[39;49m\u001b[43mparse\u001b[49m\u001b[43m(\u001b[49m\u001b[43mp\u001b[49m\u001b[43m,\u001b[49m\u001b[43m \u001b[49m\u001b[43mflags\u001b[49m\u001b[43m)\u001b[49m\n\u001b[0;32m    744\u001b[0m \u001b[38;5;28;01melse\u001b[39;00m:\n\u001b[0;32m    745\u001b[0m     pattern \u001b[38;5;241m=\u001b[39m \u001b[38;5;28;01mNone\u001b[39;00m\n",
      "File \u001b[1;32m~\\AppData\\Local\\Programs\\Python\\Python311\\Lib\\re\\_parser.py:980\u001b[0m, in \u001b[0;36mparse\u001b[1;34m(str, flags, state)\u001b[0m\n\u001b[0;32m    977\u001b[0m state\u001b[38;5;241m.\u001b[39mflags \u001b[38;5;241m=\u001b[39m flags\n\u001b[0;32m    978\u001b[0m state\u001b[38;5;241m.\u001b[39mstr \u001b[38;5;241m=\u001b[39m \u001b[38;5;28mstr\u001b[39m\n\u001b[1;32m--> 980\u001b[0m p \u001b[38;5;241m=\u001b[39m \u001b[43m_parse_sub\u001b[49m\u001b[43m(\u001b[49m\u001b[43msource\u001b[49m\u001b[43m,\u001b[49m\u001b[43m \u001b[49m\u001b[43mstate\u001b[49m\u001b[43m,\u001b[49m\u001b[43m \u001b[49m\u001b[43mflags\u001b[49m\u001b[43m \u001b[49m\u001b[38;5;241;43m&\u001b[39;49m\u001b[43m \u001b[49m\u001b[43mSRE_FLAG_VERBOSE\u001b[49m\u001b[43m,\u001b[49m\u001b[43m \u001b[49m\u001b[38;5;241;43m0\u001b[39;49m\u001b[43m)\u001b[49m\n\u001b[0;32m    981\u001b[0m p\u001b[38;5;241m.\u001b[39mstate\u001b[38;5;241m.\u001b[39mflags \u001b[38;5;241m=\u001b[39m fix_flags(\u001b[38;5;28mstr\u001b[39m, p\u001b[38;5;241m.\u001b[39mstate\u001b[38;5;241m.\u001b[39mflags)\n\u001b[0;32m    983\u001b[0m \u001b[38;5;28;01mif\u001b[39;00m source\u001b[38;5;241m.\u001b[39mnext \u001b[38;5;129;01mis\u001b[39;00m \u001b[38;5;129;01mnot\u001b[39;00m \u001b[38;5;28;01mNone\u001b[39;00m:\n",
      "File \u001b[1;32m~\\AppData\\Local\\Programs\\Python\\Python311\\Lib\\re\\_parser.py:455\u001b[0m, in \u001b[0;36m_parse_sub\u001b[1;34m(source, state, verbose, nested)\u001b[0m\n\u001b[0;32m    453\u001b[0m start \u001b[38;5;241m=\u001b[39m source\u001b[38;5;241m.\u001b[39mtell()\n\u001b[0;32m    454\u001b[0m \u001b[38;5;28;01mwhile\u001b[39;00m \u001b[38;5;28;01mTrue\u001b[39;00m:\n\u001b[1;32m--> 455\u001b[0m     itemsappend(\u001b[43m_parse\u001b[49m\u001b[43m(\u001b[49m\u001b[43msource\u001b[49m\u001b[43m,\u001b[49m\u001b[43m \u001b[49m\u001b[43mstate\u001b[49m\u001b[43m,\u001b[49m\u001b[43m \u001b[49m\u001b[43mverbose\u001b[49m\u001b[43m,\u001b[49m\u001b[43m \u001b[49m\u001b[43mnested\u001b[49m\u001b[43m \u001b[49m\u001b[38;5;241;43m+\u001b[39;49m\u001b[43m \u001b[49m\u001b[38;5;241;43m1\u001b[39;49m\u001b[43m,\u001b[49m\n\u001b[0;32m    456\u001b[0m \u001b[43m                       \u001b[49m\u001b[38;5;129;43;01mnot\u001b[39;49;00m\u001b[43m \u001b[49m\u001b[43mnested\u001b[49m\u001b[43m \u001b[49m\u001b[38;5;129;43;01mand\u001b[39;49;00m\u001b[43m \u001b[49m\u001b[38;5;129;43;01mnot\u001b[39;49;00m\u001b[43m \u001b[49m\u001b[43mitems\u001b[49m\u001b[43m)\u001b[49m)\n\u001b[0;32m    457\u001b[0m     \u001b[38;5;28;01mif\u001b[39;00m \u001b[38;5;129;01mnot\u001b[39;00m sourcematch(\u001b[38;5;124m\"\u001b[39m\u001b[38;5;124m|\u001b[39m\u001b[38;5;124m\"\u001b[39m):\n\u001b[0;32m    458\u001b[0m         \u001b[38;5;28;01mbreak\u001b[39;00m\n",
      "File \u001b[1;32m~\\AppData\\Local\\Programs\\Python\\Python311\\Lib\\re\\_parser.py:568\u001b[0m, in \u001b[0;36m_parse\u001b[1;34m(source, state, verbose, nested, first)\u001b[0m\n\u001b[0;32m    566\u001b[0m     \u001b[38;5;28;01mbreak\u001b[39;00m\n\u001b[0;32m    567\u001b[0m \u001b[38;5;28;01melif\u001b[39;00m this[\u001b[38;5;241m0\u001b[39m] \u001b[38;5;241m==\u001b[39m \u001b[38;5;124m\"\u001b[39m\u001b[38;5;130;01m\\\\\u001b[39;00m\u001b[38;5;124m\"\u001b[39m:\n\u001b[1;32m--> 568\u001b[0m     code1 \u001b[38;5;241m=\u001b[39m \u001b[43m_class_escape\u001b[49m\u001b[43m(\u001b[49m\u001b[43msource\u001b[49m\u001b[43m,\u001b[49m\u001b[43m \u001b[49m\u001b[43mthis\u001b[49m\u001b[43m)\u001b[49m\n\u001b[0;32m    569\u001b[0m \u001b[38;5;28;01melse\u001b[39;00m:\n\u001b[0;32m    570\u001b[0m     \u001b[38;5;28;01mif\u001b[39;00m \u001b[38;5;28mset\u001b[39m \u001b[38;5;129;01mand\u001b[39;00m this \u001b[38;5;129;01min\u001b[39;00m \u001b[38;5;124m'\u001b[39m\u001b[38;5;124m-&~|\u001b[39m\u001b[38;5;124m'\u001b[39m \u001b[38;5;129;01mand\u001b[39;00m source\u001b[38;5;241m.\u001b[39mnext \u001b[38;5;241m==\u001b[39m this:\n",
      "File \u001b[1;32m~\\AppData\\Local\\Programs\\Python\\Python311\\Lib\\re\\_parser.py:361\u001b[0m, in \u001b[0;36m_class_escape\u001b[1;34m(source, escape)\u001b[0m\n\u001b[0;32m    359\u001b[0m     \u001b[38;5;28;01mif\u001b[39;00m \u001b[38;5;28mlen\u001b[39m(escape) \u001b[38;5;241m==\u001b[39m \u001b[38;5;241m2\u001b[39m:\n\u001b[0;32m    360\u001b[0m         \u001b[38;5;28;01mif\u001b[39;00m c \u001b[38;5;129;01min\u001b[39;00m ASCIILETTERS:\n\u001b[1;32m--> 361\u001b[0m             \u001b[38;5;28;01mraise\u001b[39;00m source\u001b[38;5;241m.\u001b[39merror(\u001b[38;5;124m'\u001b[39m\u001b[38;5;124mbad escape \u001b[39m\u001b[38;5;132;01m%s\u001b[39;00m\u001b[38;5;124m'\u001b[39m \u001b[38;5;241m%\u001b[39m escape, \u001b[38;5;28mlen\u001b[39m(escape))\n\u001b[0;32m    362\u001b[0m         \u001b[38;5;28;01mreturn\u001b[39;00m LITERAL, \u001b[38;5;28mord\u001b[39m(escape[\u001b[38;5;241m1\u001b[39m])\n\u001b[0;32m    363\u001b[0m \u001b[38;5;28;01mexcept\u001b[39;00m \u001b[38;5;167;01mValueError\u001b[39;00m:\n",
      "\u001b[1;31merror\u001b[0m: bad escape \\P at position 1"
     ]
    }
   ],
   "source": [
    "pattern=\"[\\P{L}]\"      #Not Unicode character(\\p{L}):Matches a character that is not in the specified unicode category. For example, \\p{Ll} will match any lowercase letter.\n",
    "text=\"absd56789..  ty,,,tfgh  yghjnghjkmhj\"\n",
    "matches=re.finditer(pattern,text)\n",
    "for match in matches:\n",
    "    print(match)"
   ]
  },
  {
   "cell_type": "code",
   "execution_count": 47,
   "id": "5cd20909-3b79-44ac-8c44-f82cbd2cafca",
   "metadata": {},
   "outputs": [
    {
     "ename": "error",
     "evalue": "bad escape \\P at position 1",
     "output_type": "error",
     "traceback": [
      "\u001b[1;31m---------------------------------------------------------------------------\u001b[0m",
      "\u001b[1;31merror\u001b[0m                                     Traceback (most recent call last)",
      "Cell \u001b[1;32mIn[47], line 3\u001b[0m\n\u001b[0;32m      1\u001b[0m pattern\u001b[38;5;241m=\u001b[39m\u001b[38;5;124m\"\u001b[39m\u001b[38;5;124m[\u001b[39m\u001b[38;5;124m\\\u001b[39m\u001b[38;5;124mP\u001b[39m\u001b[38;5;132;01m{Han}\u001b[39;00m\u001b[38;5;124m]\u001b[39m\u001b[38;5;124m\"\u001b[39m      \u001b[38;5;66;03m#Not Unicode character(\\p{L}):Matches a character that is not in the specified unicode category. For example, \\p{Ll} will match any lowercase letter.\u001b[39;00m\n\u001b[0;32m      2\u001b[0m text\u001b[38;5;241m=\u001b[39m\u001b[38;5;124m\"\u001b[39m\u001b[38;5;124mabsd56789..  ty,,,tfgh  yghjnghjkmhj\u001b[39m\u001b[38;5;124m\"\u001b[39m\n\u001b[1;32m----> 3\u001b[0m matches\u001b[38;5;241m=\u001b[39m\u001b[43mre\u001b[49m\u001b[38;5;241;43m.\u001b[39;49m\u001b[43mfinditer\u001b[49m\u001b[43m(\u001b[49m\u001b[43mpattern\u001b[49m\u001b[43m,\u001b[49m\u001b[43mtext\u001b[49m\u001b[43m)\u001b[49m\n\u001b[0;32m      4\u001b[0m \u001b[38;5;28;01mfor\u001b[39;00m match \u001b[38;5;129;01min\u001b[39;00m matches:\n\u001b[0;32m      5\u001b[0m     \u001b[38;5;28mprint\u001b[39m(match)\n",
      "File \u001b[1;32m~\\AppData\\Local\\Programs\\Python\\Python311\\Lib\\re\\__init__.py:223\u001b[0m, in \u001b[0;36mfinditer\u001b[1;34m(pattern, string, flags)\u001b[0m\n\u001b[0;32m    218\u001b[0m \u001b[38;5;28;01mdef\u001b[39;00m \u001b[38;5;21mfinditer\u001b[39m(pattern, string, flags\u001b[38;5;241m=\u001b[39m\u001b[38;5;241m0\u001b[39m):\n\u001b[0;32m    219\u001b[0m \u001b[38;5;250m    \u001b[39m\u001b[38;5;124;03m\"\"\"Return an iterator over all non-overlapping matches in the\u001b[39;00m\n\u001b[0;32m    220\u001b[0m \u001b[38;5;124;03m    string.  For each match, the iterator returns a Match object.\u001b[39;00m\n\u001b[0;32m    221\u001b[0m \n\u001b[0;32m    222\u001b[0m \u001b[38;5;124;03m    Empty matches are included in the result.\"\"\"\u001b[39;00m\n\u001b[1;32m--> 223\u001b[0m     \u001b[38;5;28;01mreturn\u001b[39;00m \u001b[43m_compile\u001b[49m\u001b[43m(\u001b[49m\u001b[43mpattern\u001b[49m\u001b[43m,\u001b[49m\u001b[43m \u001b[49m\u001b[43mflags\u001b[49m\u001b[43m)\u001b[49m\u001b[38;5;241m.\u001b[39mfinditer(string)\n",
      "File \u001b[1;32m~\\AppData\\Local\\Programs\\Python\\Python311\\Lib\\re\\__init__.py:294\u001b[0m, in \u001b[0;36m_compile\u001b[1;34m(pattern, flags)\u001b[0m\n\u001b[0;32m    288\u001b[0m     \u001b[38;5;28;01mimport\u001b[39;00m \u001b[38;5;21;01mwarnings\u001b[39;00m\n\u001b[0;32m    289\u001b[0m     warnings\u001b[38;5;241m.\u001b[39mwarn(\u001b[38;5;124m\"\u001b[39m\u001b[38;5;124mThe re.TEMPLATE/re.T flag is deprecated \u001b[39m\u001b[38;5;124m\"\u001b[39m\n\u001b[0;32m    290\u001b[0m               \u001b[38;5;124m\"\u001b[39m\u001b[38;5;124mas it is an undocumented flag \u001b[39m\u001b[38;5;124m\"\u001b[39m\n\u001b[0;32m    291\u001b[0m               \u001b[38;5;124m\"\u001b[39m\u001b[38;5;124mwithout an obvious purpose. \u001b[39m\u001b[38;5;124m\"\u001b[39m\n\u001b[0;32m    292\u001b[0m               \u001b[38;5;124m\"\u001b[39m\u001b[38;5;124mDon\u001b[39m\u001b[38;5;124m'\u001b[39m\u001b[38;5;124mt use it.\u001b[39m\u001b[38;5;124m\"\u001b[39m,\n\u001b[0;32m    293\u001b[0m               \u001b[38;5;167;01mDeprecationWarning\u001b[39;00m)\n\u001b[1;32m--> 294\u001b[0m p \u001b[38;5;241m=\u001b[39m \u001b[43m_compiler\u001b[49m\u001b[38;5;241;43m.\u001b[39;49m\u001b[43mcompile\u001b[49m\u001b[43m(\u001b[49m\u001b[43mpattern\u001b[49m\u001b[43m,\u001b[49m\u001b[43m \u001b[49m\u001b[43mflags\u001b[49m\u001b[43m)\u001b[49m\n\u001b[0;32m    295\u001b[0m \u001b[38;5;28;01mif\u001b[39;00m \u001b[38;5;129;01mnot\u001b[39;00m (flags \u001b[38;5;241m&\u001b[39m DEBUG):\n\u001b[0;32m    296\u001b[0m     \u001b[38;5;28;01mif\u001b[39;00m \u001b[38;5;28mlen\u001b[39m(_cache) \u001b[38;5;241m>\u001b[39m\u001b[38;5;241m=\u001b[39m _MAXCACHE:\n\u001b[0;32m    297\u001b[0m         \u001b[38;5;66;03m# Drop the oldest item\u001b[39;00m\n",
      "File \u001b[1;32m~\\AppData\\Local\\Programs\\Python\\Python311\\Lib\\re\\_compiler.py:743\u001b[0m, in \u001b[0;36mcompile\u001b[1;34m(p, flags)\u001b[0m\n\u001b[0;32m    741\u001b[0m \u001b[38;5;28;01mif\u001b[39;00m isstring(p):\n\u001b[0;32m    742\u001b[0m     pattern \u001b[38;5;241m=\u001b[39m p\n\u001b[1;32m--> 743\u001b[0m     p \u001b[38;5;241m=\u001b[39m \u001b[43m_parser\u001b[49m\u001b[38;5;241;43m.\u001b[39;49m\u001b[43mparse\u001b[49m\u001b[43m(\u001b[49m\u001b[43mp\u001b[49m\u001b[43m,\u001b[49m\u001b[43m \u001b[49m\u001b[43mflags\u001b[49m\u001b[43m)\u001b[49m\n\u001b[0;32m    744\u001b[0m \u001b[38;5;28;01melse\u001b[39;00m:\n\u001b[0;32m    745\u001b[0m     pattern \u001b[38;5;241m=\u001b[39m \u001b[38;5;28;01mNone\u001b[39;00m\n",
      "File \u001b[1;32m~\\AppData\\Local\\Programs\\Python\\Python311\\Lib\\re\\_parser.py:980\u001b[0m, in \u001b[0;36mparse\u001b[1;34m(str, flags, state)\u001b[0m\n\u001b[0;32m    977\u001b[0m state\u001b[38;5;241m.\u001b[39mflags \u001b[38;5;241m=\u001b[39m flags\n\u001b[0;32m    978\u001b[0m state\u001b[38;5;241m.\u001b[39mstr \u001b[38;5;241m=\u001b[39m \u001b[38;5;28mstr\u001b[39m\n\u001b[1;32m--> 980\u001b[0m p \u001b[38;5;241m=\u001b[39m \u001b[43m_parse_sub\u001b[49m\u001b[43m(\u001b[49m\u001b[43msource\u001b[49m\u001b[43m,\u001b[49m\u001b[43m \u001b[49m\u001b[43mstate\u001b[49m\u001b[43m,\u001b[49m\u001b[43m \u001b[49m\u001b[43mflags\u001b[49m\u001b[43m \u001b[49m\u001b[38;5;241;43m&\u001b[39;49m\u001b[43m \u001b[49m\u001b[43mSRE_FLAG_VERBOSE\u001b[49m\u001b[43m,\u001b[49m\u001b[43m \u001b[49m\u001b[38;5;241;43m0\u001b[39;49m\u001b[43m)\u001b[49m\n\u001b[0;32m    981\u001b[0m p\u001b[38;5;241m.\u001b[39mstate\u001b[38;5;241m.\u001b[39mflags \u001b[38;5;241m=\u001b[39m fix_flags(\u001b[38;5;28mstr\u001b[39m, p\u001b[38;5;241m.\u001b[39mstate\u001b[38;5;241m.\u001b[39mflags)\n\u001b[0;32m    983\u001b[0m \u001b[38;5;28;01mif\u001b[39;00m source\u001b[38;5;241m.\u001b[39mnext \u001b[38;5;129;01mis\u001b[39;00m \u001b[38;5;129;01mnot\u001b[39;00m \u001b[38;5;28;01mNone\u001b[39;00m:\n",
      "File \u001b[1;32m~\\AppData\\Local\\Programs\\Python\\Python311\\Lib\\re\\_parser.py:455\u001b[0m, in \u001b[0;36m_parse_sub\u001b[1;34m(source, state, verbose, nested)\u001b[0m\n\u001b[0;32m    453\u001b[0m start \u001b[38;5;241m=\u001b[39m source\u001b[38;5;241m.\u001b[39mtell()\n\u001b[0;32m    454\u001b[0m \u001b[38;5;28;01mwhile\u001b[39;00m \u001b[38;5;28;01mTrue\u001b[39;00m:\n\u001b[1;32m--> 455\u001b[0m     itemsappend(\u001b[43m_parse\u001b[49m\u001b[43m(\u001b[49m\u001b[43msource\u001b[49m\u001b[43m,\u001b[49m\u001b[43m \u001b[49m\u001b[43mstate\u001b[49m\u001b[43m,\u001b[49m\u001b[43m \u001b[49m\u001b[43mverbose\u001b[49m\u001b[43m,\u001b[49m\u001b[43m \u001b[49m\u001b[43mnested\u001b[49m\u001b[43m \u001b[49m\u001b[38;5;241;43m+\u001b[39;49m\u001b[43m \u001b[49m\u001b[38;5;241;43m1\u001b[39;49m\u001b[43m,\u001b[49m\n\u001b[0;32m    456\u001b[0m \u001b[43m                       \u001b[49m\u001b[38;5;129;43;01mnot\u001b[39;49;00m\u001b[43m \u001b[49m\u001b[43mnested\u001b[49m\u001b[43m \u001b[49m\u001b[38;5;129;43;01mand\u001b[39;49;00m\u001b[43m \u001b[49m\u001b[38;5;129;43;01mnot\u001b[39;49;00m\u001b[43m \u001b[49m\u001b[43mitems\u001b[49m\u001b[43m)\u001b[49m)\n\u001b[0;32m    457\u001b[0m     \u001b[38;5;28;01mif\u001b[39;00m \u001b[38;5;129;01mnot\u001b[39;00m sourcematch(\u001b[38;5;124m\"\u001b[39m\u001b[38;5;124m|\u001b[39m\u001b[38;5;124m\"\u001b[39m):\n\u001b[0;32m    458\u001b[0m         \u001b[38;5;28;01mbreak\u001b[39;00m\n",
      "File \u001b[1;32m~\\AppData\\Local\\Programs\\Python\\Python311\\Lib\\re\\_parser.py:568\u001b[0m, in \u001b[0;36m_parse\u001b[1;34m(source, state, verbose, nested, first)\u001b[0m\n\u001b[0;32m    566\u001b[0m     \u001b[38;5;28;01mbreak\u001b[39;00m\n\u001b[0;32m    567\u001b[0m \u001b[38;5;28;01melif\u001b[39;00m this[\u001b[38;5;241m0\u001b[39m] \u001b[38;5;241m==\u001b[39m \u001b[38;5;124m\"\u001b[39m\u001b[38;5;130;01m\\\\\u001b[39;00m\u001b[38;5;124m\"\u001b[39m:\n\u001b[1;32m--> 568\u001b[0m     code1 \u001b[38;5;241m=\u001b[39m \u001b[43m_class_escape\u001b[49m\u001b[43m(\u001b[49m\u001b[43msource\u001b[49m\u001b[43m,\u001b[49m\u001b[43m \u001b[49m\u001b[43mthis\u001b[49m\u001b[43m)\u001b[49m\n\u001b[0;32m    569\u001b[0m \u001b[38;5;28;01melse\u001b[39;00m:\n\u001b[0;32m    570\u001b[0m     \u001b[38;5;28;01mif\u001b[39;00m \u001b[38;5;28mset\u001b[39m \u001b[38;5;129;01mand\u001b[39;00m this \u001b[38;5;129;01min\u001b[39;00m \u001b[38;5;124m'\u001b[39m\u001b[38;5;124m-&~|\u001b[39m\u001b[38;5;124m'\u001b[39m \u001b[38;5;129;01mand\u001b[39;00m source\u001b[38;5;241m.\u001b[39mnext \u001b[38;5;241m==\u001b[39m this:\n",
      "File \u001b[1;32m~\\AppData\\Local\\Programs\\Python\\Python311\\Lib\\re\\_parser.py:361\u001b[0m, in \u001b[0;36m_class_escape\u001b[1;34m(source, escape)\u001b[0m\n\u001b[0;32m    359\u001b[0m     \u001b[38;5;28;01mif\u001b[39;00m \u001b[38;5;28mlen\u001b[39m(escape) \u001b[38;5;241m==\u001b[39m \u001b[38;5;241m2\u001b[39m:\n\u001b[0;32m    360\u001b[0m         \u001b[38;5;28;01mif\u001b[39;00m c \u001b[38;5;129;01min\u001b[39;00m ASCIILETTERS:\n\u001b[1;32m--> 361\u001b[0m             \u001b[38;5;28;01mraise\u001b[39;00m source\u001b[38;5;241m.\u001b[39merror(\u001b[38;5;124m'\u001b[39m\u001b[38;5;124mbad escape \u001b[39m\u001b[38;5;132;01m%s\u001b[39;00m\u001b[38;5;124m'\u001b[39m \u001b[38;5;241m%\u001b[39m escape, \u001b[38;5;28mlen\u001b[39m(escape))\n\u001b[0;32m    362\u001b[0m         \u001b[38;5;28;01mreturn\u001b[39;00m LITERAL, \u001b[38;5;28mord\u001b[39m(escape[\u001b[38;5;241m1\u001b[39m])\n\u001b[0;32m    363\u001b[0m \u001b[38;5;28;01mexcept\u001b[39;00m \u001b[38;5;167;01mValueError\u001b[39;00m:\n",
      "\u001b[1;31merror\u001b[0m: bad escape \\P at position 1"
     ]
    }
   ],
   "source": [
    "pattern=\"[\\p{Han}]\"      #Unicode script:Matches any character in the specified unicode script. For example, \\p{Arabic} will match characters in the Arabic script.\n",
    "text=\"absd56789..  ty,,,tfgh  yghjnghjkmhj\n",
    "matches=re.finditer(pattern,text)\n",
    "for match in matches:\n",
    "    print(match)"
   ]
  },
  {
   "cell_type": "code",
   "execution_count": null,
   "id": "1678c047-5ac0-48ea-8b66-1f4fd55f4944",
   "metadata": {},
   "outputs": [],
   "source": [
    "pattern=\"[\\P{Han}]\"      #Not Unicode script:Matches any character in the specified unicode script. For example, \\p{Arabic} will match characters in the Arabic script.\n",
    "text=\"absd56789..  ty,,,tfgh  yghjnghjkmhj\n",
    "matches=re.finditer(pattern,text)\n",
    "for match in matches:\n",
    "    print(match)"
   ]
  },
  {
   "cell_type": "markdown",
   "id": "14e60cf7-d63f-4825-b46e-02b1299dd8d0",
   "metadata": {},
   "source": [
    "# w3schools"
   ]
  },
  {
   "cell_type": "markdown",
   "id": "8bdce834-de98-4e2f-89be-7a17869fea2a",
   "metadata": {},
   "source": [
    "A RegEx, or Regular Expression, is a sequence of characters that forms a search pattern.\n",
    "RegEx can be used to check if a string contains the specified search pattern."
   ]
  },
  {
   "cell_type": "markdown",
   "id": "b0395b30-496e-429f-a1ef-7ca9146ff6ed",
   "metadata": {},
   "source": [
    "RegEx Module\r\n",
    "Python has a built-in package called re, which can be used to work with Regular Expressions.\n",
    "\r\n",
    "Import the re module:"
   ]
  },
  {
   "cell_type": "code",
   "execution_count": 9,
   "id": "5008bceb-df11-48a8-ba66-48d6674767fd",
   "metadata": {},
   "outputs": [],
   "source": [
    "import re"
   ]
  },
  {
   "cell_type": "markdown",
   "id": "34044865-4924-42a9-aa14-ab7b5deee7f7",
   "metadata": {},
   "source": [
    "RegEx in Python\n",
    "When you have imported the re module, you can start using regular expressions:"
   ]
  },
  {
   "cell_type": "code",
   "execution_count": 12,
   "id": "8f461ec3-a281-4b74-b5ff-a3eb078534a7",
   "metadata": {},
   "outputs": [
    {
     "name": "stdout",
     "output_type": "stream",
     "text": [
      "<callable_iterator object at 0x0000021FE2ED9ED0>\n",
      "yes we have match\n"
     ]
    }
   ],
   "source": [
    "import re\n",
    "pattern=\"the spain\"\n",
    "text=\"the rain in spain\"\n",
    "x=re.finditer(pattern,text)\n",
    "print(x)\n",
    "if x:\n",
    "    print(\"yes we have match\")\n",
    "else:\n",
    "    print(\"No match\")"
   ]
  },
  {
   "cell_type": "code",
   "execution_count": 14,
   "id": "28eee8e7-afdf-475a-b61a-b4fe8cd54a66",
   "metadata": {},
   "outputs": [
    {
     "name": "stdout",
     "output_type": "stream",
     "text": [
      "<re.Match object; span=(0, 3), match='the'>\n",
      "yes we have match\n"
     ]
    }
   ],
   "source": [
    "import re\n",
    "pattern=\"the\"\n",
    "text=\"the rain in spain\"\n",
    "x=re.search(pattern,text)\n",
    "print(x)\n",
    "if x:\n",
    "    print(\"yes we have match\")\n",
    "else:\n",
    "    print(\"No match\")"
   ]
  },
  {
   "cell_type": "markdown",
   "id": "d8103f94-08b8-443e-88f1-2e3d532e89e6",
   "metadata": {},
   "source": [
    "RegEx Functions\r\n",
    "The re module offers a set of functions that allows us to search a string for a match:"
   ]
  },
  {
   "cell_type": "code",
   "execution_count": 16,
   "id": "d24e77f7-cc9e-4963-8094-c9c86b5fb303",
   "metadata": {},
   "outputs": [
    {
     "name": "stdout",
     "output_type": "stream",
     "text": [
      "['is', 'is', 'is', 'is']\n"
     ]
    }
   ],
   "source": [
    "#The findall() Function:\n",
    "#The findall() function returns a list containing all matches\n",
    "\n",
    "txt=\"there is a isn is ismail\"\n",
    "x=re.findall(\"is\",txt)\n",
    "print(x)\n",
    "\n",
    "\n",
    "#The list contains the matches in the order they are found.\n",
    "#If no matches are found, an empty list is returned:"
   ]
  },
  {
   "cell_type": "code",
   "execution_count": 22,
   "id": "25d7b2d9-7942-4fba-971f-cf6b371b09fc",
   "metadata": {},
   "outputs": [
    {
     "name": "stdout",
     "output_type": "stream",
     "text": [
      "[]\n"
     ]
    }
   ],
   "source": [
    "txt=\"there is a rain in simail\"\n",
    "x=re.findall(\"portugal\",txt)\n",
    "print(x)"
   ]
  },
  {
   "cell_type": "code",
   "execution_count": 24,
   "id": "8293483d-cc18-49d0-ae2c-8ecfdb4e3fb4",
   "metadata": {},
   "outputs": [
    {
     "name": "stdout",
     "output_type": "stream",
     "text": [
      "The first white-space character is located in position: 3\n"
     ]
    }
   ],
   "source": [
    "#The search() Function:\n",
    "\n",
    "#The search() function searches the string for a match, and returns a Match object if there is a match.\n",
    "#If there is more than one match, only the first occurrence of the match will be returned:\n",
    "#Search for the first white-space character in the string:\n",
    "#If no matches are found, the value None is returned:\n",
    "\n",
    "txt = \"The rain in Spain\"\n",
    "x = re.search(\"\\s\", txt)\n",
    "\n",
    "print(\"The first white-space character is located in position:\", x.start())"
   ]
  },
  {
   "cell_type": "code",
   "execution_count": 25,
   "id": "1a4864e7-bb1f-4c82-9851-8d3bb9c80cbe",
   "metadata": {},
   "outputs": [
    {
     "name": "stdout",
     "output_type": "stream",
     "text": [
      "['The', 'rain', 'in', 'Spain']\n"
     ]
    }
   ],
   "source": [
    "#The split() Function:\n",
    "#The split() function returns a list where the string has been split at each match:\n",
    "#Split at each white-space character:\n",
    "\n",
    "import re\n",
    "\n",
    "txt = \"The rain in Spain\"\n",
    "x = re.split(\"\\s\", txt)\n",
    "print(x)"
   ]
  },
  {
   "cell_type": "code",
   "execution_count": 30,
   "id": "4f33df3d-123e-4369-a1b8-d766f2166e45",
   "metadata": {},
   "outputs": [
    {
     "name": "stdout",
     "output_type": "stream",
     "text": [
      "['The', 'rain', 'in Spain']\n"
     ]
    }
   ],
   "source": [
    "import re\n",
    "\n",
    "txt = \"The rain in Spain\"\n",
    "x = re.split(\"\\s\", txt,2)\n",
    "print(x)"
   ]
  },
  {
   "cell_type": "code",
   "execution_count": 31,
   "id": "bf9ce66d-a25d-4d76-8c40-12229cd87a50",
   "metadata": {},
   "outputs": [
    {
     "name": "stdout",
     "output_type": "stream",
     "text": [
      "The9rain9in9Spain\n"
     ]
    }
   ],
   "source": [
    "#The sub() Function:\n",
    "#The sub() function replaces the matches with the text of your choice:\n",
    "#Replace every white-space character with the number 9:\n",
    "\n",
    "import re\n",
    "\n",
    "txt = \"The rain in Spain\"\n",
    "x = re.sub(\"\\s\", \"9\", txt)\n",
    "print(x)"
   ]
  },
  {
   "cell_type": "code",
   "execution_count": 35,
   "id": "c074e501-f524-406e-98d1-fe240f521a76",
   "metadata": {},
   "outputs": [
    {
     "name": "stdout",
     "output_type": "stream",
     "text": [
      "The9rain9in9Spain\n"
     ]
    }
   ],
   "source": [
    "import re\n",
    "#You can control the number of replacements by specifying the count parameter:\n",
    "#Replace the first 2 occurrences:\n",
    "txt = \"The rain in Spain\"\n",
    "x = re.sub(\"\\s\", \"9\", txt, 23)\n",
    "print(x)"
   ]
  },
  {
   "cell_type": "code",
   "execution_count": 36,
   "id": "6325c7fd-e3c2-4b74-a674-9259efb7b64a",
   "metadata": {},
   "outputs": [
    {
     "name": "stdout",
     "output_type": "stream",
     "text": [
      "<re.Match object; span=(5, 7), match='ai'>\n"
     ]
    }
   ],
   "source": [
    "#Match Object:\n",
    "#A Match Object is an object containing information about the search and the result.\n",
    "#Note: If there is no match, the value None will be returned, instead of the Match Object.\n",
    "#Do a search that will return a Match Object:\n",
    "\n",
    "import re\n",
    "\n",
    "txt = \"The rain in Spain\"\n",
    "x = re.search(\"ai\", txt)\n",
    "print(x) #this will print an object"
   ]
  },
  {
   "cell_type": "code",
   "execution_count": 37,
   "id": "0ac66a8d-49dd-4c79-8785-3c821b54815c",
   "metadata": {},
   "outputs": [],
   "source": [
    "#The Match object has properties and methods used to retrieve information about the search, and the result:\n",
    "\n",
    "#.span() returns a tuple containing the start-, and end positions of the match.\n",
    "#.string returns the string passed into the function\n",
    "#.group() returns the part of the string where there was a match"
   ]
  },
  {
   "cell_type": "code",
   "execution_count": 39,
   "id": "6e87bf18-d35f-4903-94b6-77691798980e",
   "metadata": {},
   "outputs": [
    {
     "name": "stdout",
     "output_type": "stream",
     "text": [
      "(12, 17)\n"
     ]
    }
   ],
   "source": [
    "#Print the position (start- and end-position) of the first match occurrence.\n",
    "#The regular expression looks for any words that starts with an upper case \"S\":\n",
    "\n",
    "import re\n",
    "\n",
    "txt = \"The rain in Spain\"\n",
    "x = re.search(r\"\\bS\\w+\", txt)\n",
    "print(x.span())"
   ]
  },
  {
   "cell_type": "code",
   "execution_count": 40,
   "id": "7cf5dec8-f0da-44ed-a3b9-d0281ac0de48",
   "metadata": {},
   "outputs": [
    {
     "name": "stdout",
     "output_type": "stream",
     "text": [
      "The rain in Spain\n"
     ]
    }
   ],
   "source": [
    "#Print the string passed into the function:\n",
    "\n",
    "import re\n",
    "\n",
    "txt = \"The rain in Spain\"\n",
    "x = re.search(r\"\\bS\\w+\", txt)\n",
    "print(x.string)"
   ]
  },
  {
   "cell_type": "code",
   "execution_count": 41,
   "id": "4448bf1f-fb44-48de-bd07-4b86b62fb0cd",
   "metadata": {},
   "outputs": [
    {
     "name": "stdout",
     "output_type": "stream",
     "text": [
      "Spain\n"
     ]
    }
   ],
   "source": [
    "#Print the part of the string where there was a match.\n",
    "#The regular expression looks for any words that starts with an upper case \"S\":\n",
    "\n",
    "import re\n",
    "\n",
    "txt = \"The rain in Spain\"\n",
    "x = re.search(r\"\\bS\\w+\", txt)\n",
    "print(x.group())\n"
   ]
  },
  {
   "cell_type": "markdown",
   "id": "d0a66eda-0f57-4d77-ab65-046fb3bc2c97",
   "metadata": {},
   "source": [
    "# GEEKSFORGEEKS"
   ]
  },
  {
   "cell_type": "code",
   "execution_count": 26,
   "id": "46aace76-db2c-4c39-8bb5-0eb1c3c19b1b",
   "metadata": {},
   "outputs": [
    {
     "ename": "SyntaxError",
     "evalue": "'(' was never closed (1426008703.py, line 8)",
     "output_type": "error",
     "traceback": [
      "\u001b[1;36m  Cell \u001b[1;32mIn[26], line 8\u001b[1;36m\u001b[0m\n\u001b[1;33m    print('End Index:', mates.so on\u001b[0m\n\u001b[1;37m         ^\u001b[0m\n\u001b[1;31mSyntaxError\u001b[0m\u001b[1;31m:\u001b[0m '(' was never closed\n"
     ]
    }
   ],
   "source": [
    "import re \r",
    " \r\n",
    "match = re.search(r'portal', 'GeeksforGeeks: A computer science    portal for geeks') \r\n",
    "print(match) \r\n",
    "print(match.grou) \r\n",
    "  \r\n",
    "print('Start Index:', match.start()) \r\n",
    "print('End Index:', mates.so on "
   ]
  },
  {
   "cell_type": "code",
   "execution_count": null,
   "id": "e39727da-3228-4354-ae6d-f4340839f3e1",
   "metadata": {},
   "outputs": [],
   "source": []
  },
  {
   "cell_type": "code",
   "execution_count": null,
   "id": "87a2a0fe-466c-413f-8631-f1440db0e170",
   "metadata": {},
   "outputs": [],
   "source": []
  },
  {
   "cell_type": "code",
   "execution_count": null,
   "id": "c577988a-e47d-4bb1-b3a6-e5252e5f100a",
   "metadata": {},
   "outputs": [],
   "source": []
  },
  {
   "cell_type": "code",
   "execution_count": null,
   "id": "d34e4e71-5b8a-492a-ae46-16d49c0fc73d",
   "metadata": {},
   "outputs": [],
   "source": []
  },
  {
   "cell_type": "code",
   "execution_count": null,
   "id": "efe54cd9-0e57-4504-b616-b0e9b1a60aa1",
   "metadata": {},
   "outputs": [],
   "source": []
  },
  {
   "cell_type": "code",
   "execution_count": null,
   "id": "cdb9b1f1-e326-45aa-abbb-3ebcca5004d0",
   "metadata": {},
   "outputs": [],
   "source": []
  },
  {
   "cell_type": "code",
   "execution_count": null,
   "id": "923263e4-1444-4f2d-b9e8-85115c3f96f1",
   "metadata": {},
   "outputs": [],
   "source": []
  },
  {
   "cell_type": "code",
   "execution_count": null,
   "id": "a5e5b10c-bfdf-4705-b44a-21bc347e40e0",
   "metadata": {},
   "outputs": [],
   "source": []
  },
  {
   "cell_type": "code",
   "execution_count": null,
   "id": "ef05fc08-f713-4aff-b332-cbcc1e73f7be",
   "metadata": {},
   "outputs": [],
   "source": []
  },
  {
   "cell_type": "code",
   "execution_count": null,
   "id": "58cacc0d-7367-4d51-997d-14e3361b8fc2",
   "metadata": {},
   "outputs": [],
   "source": []
  },
  {
   "cell_type": "code",
   "execution_count": null,
   "id": "a3a26525-8b25-4b35-8fe0-eef004d99ede",
   "metadata": {},
   "outputs": [],
   "source": []
  },
  {
   "cell_type": "code",
   "execution_count": null,
   "id": "c8a06660-e078-4a60-9068-769639942471",
   "metadata": {},
   "outputs": [],
   "source": []
  },
  {
   "cell_type": "code",
   "execution_count": null,
   "id": "518d8552-1b41-4bd8-af6e-1f206491f329",
   "metadata": {},
   "outputs": [],
   "source": []
  },
  {
   "cell_type": "code",
   "execution_count": null,
   "id": "c481f52b-cdea-40ec-bb70-907e0e055af2",
   "metadata": {},
   "outputs": [],
   "source": []
  },
  {
   "cell_type": "code",
   "execution_count": null,
   "id": "dfbd9a8e-f28d-4ed5-bfaf-dc5f3c38a8c9",
   "metadata": {},
   "outputs": [],
   "source": []
  },
  {
   "cell_type": "code",
   "execution_count": null,
   "id": "2065b643-b410-48ed-867d-de62265f945e",
   "metadata": {},
   "outputs": [],
   "source": []
  },
  {
   "cell_type": "code",
   "execution_count": null,
   "id": "5567aff3-7d2c-49a0-af2d-672a19ceb8b6",
   "metadata": {},
   "outputs": [],
   "source": []
  },
  {
   "cell_type": "code",
   "execution_count": null,
   "id": "f6e47bdc-1f70-486c-875e-aa1bc5de0932",
   "metadata": {},
   "outputs": [],
   "source": []
  },
  {
   "cell_type": "code",
   "execution_count": null,
   "id": "f2c76b2b-f39a-4e12-8a24-be8984686497",
   "metadata": {},
   "outputs": [],
   "source": []
  },
  {
   "cell_type": "code",
   "execution_count": null,
   "id": "c3990b2b-fd61-4d95-a41b-8517bafa765e",
   "metadata": {},
   "outputs": [],
   "source": []
  },
  {
   "cell_type": "code",
   "execution_count": null,
   "id": "0bac2f67-faf8-4320-8fcd-c1ac5c67381e",
   "metadata": {},
   "outputs": [],
   "source": []
  },
  {
   "cell_type": "code",
   "execution_count": null,
   "id": "061befe4-669d-4850-8c5c-052a381011c5",
   "metadata": {},
   "outputs": [],
   "source": []
  },
  {
   "cell_type": "code",
   "execution_count": null,
   "id": "b06389ea-0d23-4b47-9a69-ba5dac747933",
   "metadata": {},
   "outputs": [],
   "source": []
  },
  {
   "cell_type": "code",
   "execution_count": null,
   "id": "4b2c892b-1213-4ae7-aaee-dc07a3fd6f85",
   "metadata": {},
   "outputs": [],
   "source": []
  },
  {
   "cell_type": "code",
   "execution_count": null,
   "id": "f6dfbff7-7f16-4ac9-bc9e-30ed748cc2ad",
   "metadata": {},
   "outputs": [],
   "source": []
  }
 ],
 "metadata": {
  "kernelspec": {
   "display_name": "Python 3 (ipykernel)",
   "language": "python",
   "name": "python3"
  },
  "language_info": {
   "codemirror_mode": {
    "name": "ipython",
    "version": 3
   },
   "file_extension": ".py",
   "mimetype": "text/x-python",
   "name": "python",
   "nbconvert_exporter": "python",
   "pygments_lexer": "ipython3",
   "version": "3.11.4"
  }
 },
 "nbformat": 4,
 "nbformat_minor": 5
}
